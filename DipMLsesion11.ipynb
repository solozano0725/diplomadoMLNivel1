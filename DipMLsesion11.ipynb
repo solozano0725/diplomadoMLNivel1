{
  "nbformat": 4,
  "nbformat_minor": 0,
  "metadata": {
    "colab": {
      "name": "DipMLsesion11.ipynb",
      "provenance": [],
      "collapsed_sections": [],
      "include_colab_link": true
    },
    "kernelspec": {
      "name": "python3",
      "display_name": "Python 3"
    }
  },
  "cells": [
    {
      "cell_type": "markdown",
      "metadata": {
        "id": "view-in-github",
        "colab_type": "text"
      },
      "source": [
        "<a href=\"https://colab.research.google.com/github/solozano0725/diplomadoMLNivel1/blob/main/DipMLsesion11.ipynb\" target=\"_parent\"><img src=\"https://colab.research.google.com/assets/colab-badge.svg\" alt=\"Open In Colab\"/></a>"
      ]
    },
    {
      "cell_type": "markdown",
      "metadata": {
        "id": "Rgmqg3Ct3y0F"
      },
      "source": [
        "<p><img alt=\"Colaboratory logo\" height=\"140px\" src=\"https://upload.wikimedia.org/wikipedia/commons/archive/f/fb/20161010213812%21Escudo-UdeA.svg\" align=\"left\" hspace=\"10px\" vspace=\"0px\"></p>\n",
        "\n",
        "# **Diplomado de Análisis de datos y Machine Learning en Python**\n",
        "\n",
        "\n",
        "El presente diplomado hace parte del centro de Big Data de la facultad de ciencias exactas y naturales (FCEN) de la Universidad de Antioquia.\n",
        "\n",
        "## **Sesión 11**\n",
        "\n",
        "## **Contenido**\n",
        "\n",
        "- <a href=\"#apr\"> Aprendizaje supervisado</a><br>\n",
        "  - <a href=\"#reg\"> Regresión lineal simple</a><br>\n",
        "- <a href=\"#skl\"> Introducción a Sklearn</a><br>\n",
        "  - <a href=\"#cla\"> Clases </a><br>\n",
        "  - <a href=\"#int\"> Interfaces de Sklearn </a><br>"
      ]
    },
    {
      "cell_type": "markdown",
      "metadata": {
        "id": "9vR0wMwtTe9X"
      },
      "source": [
        "<p><a name=\"apr\"></a></p>\n",
        "\n",
        "# **Aprendizaje supervisado**\n",
        "\n",
        "Existen conceptos clave que sientan las bases para una mejor comprensión del ML. Veamos la nomenclatura (términos estándar) que se utiliza para describir los datos, así como los términos utilizados para describir el aprendizaje y el modelado.\n",
        "\n",
        "La estructura tradicional para los datos en el campo del ML tienen la siguiente forma:\n",
        "\n",
        "![picture](https://3qeqpr26caki16dnhd19sv6by6v-wpengine.netdna-ssl.com/wp-content/uploads/2013/12/Table-of-Data-Showing-an-Instance-Feature-and-Train-Test-Datasets.png)\n",
        "\n",
        "* **Instancia**: A una sola fila de datos se le llama instancia. También se le conoce como una observación, registro o ejemplo.\n",
        "* **Característica**: A una sola columna de datos se le llama característica. Algunas características pueden ser entradas a un modelo, conocidas como predictoras, y otras pueden ser salidas o las características a predecir, conocidas como **etiquetas**.\n",
        "* **Datos de entrenamiento**: Conjunto de datos que introducimos al algoritmo para entrenar el modelo.\n",
        "* **Datos de prueba**: Conjunto de datos que utilizamos para validar la precisión del modelo pero que no se utiliza para entrenarlo.\n",
        "\n",
        "\n",
        "\n",
        "\n"
      ]
    },
    {
      "cell_type": "markdown",
      "metadata": {
        "id": "-nMSEDudwltC"
      },
      "source": [
        "En el aprendizaje supervisado, los datos de entrada con los que alimentamos el algoritmo incluyen las soluciones deseadas (**etiquetas**). Una tarea típica es la de la **regresión**, donde las etiquetas tienen una naturaleza continua."
      ]
    },
    {
      "cell_type": "markdown",
      "metadata": {
        "id": "lsRr6zV11ZF-"
      },
      "source": [
        "<p><a name=\"reg\"></a></p>\n",
        "\n",
        "## **Regresión lineal simple**\n",
        "\n",
        "**Problema**: Predecir las emisiones de CO2 a partir del conjunto de datos `FuelConsumption.csv`"
      ]
    },
    {
      "cell_type": "code",
      "metadata": {
        "id": "hxPOrGriDzgI",
        "colab": {
          "base_uri": "https://localhost:8080/",
          "height": 204
        },
        "outputId": "a864b6c3-bd07-406c-85a7-4d25de65a363"
      },
      "source": [
        "import numpy as np\n",
        "import matplotlib.pyplot as plt\n",
        "import pandas as pd\n",
        "import seaborn as sns\n",
        "sns.set()\n",
        "\n",
        "df = pd.read_csv(\"https://raw.githubusercontent.com/diplomadomludea/nivel_1/master/data/FuelConsumption.csv\")\n",
        "df.head()"
      ],
      "execution_count": null,
      "outputs": [
        {
          "output_type": "execute_result",
          "data": {
            "text/html": [
              "<div>\n",
              "<style scoped>\n",
              "    .dataframe tbody tr th:only-of-type {\n",
              "        vertical-align: middle;\n",
              "    }\n",
              "\n",
              "    .dataframe tbody tr th {\n",
              "        vertical-align: top;\n",
              "    }\n",
              "\n",
              "    .dataframe thead th {\n",
              "        text-align: right;\n",
              "    }\n",
              "</style>\n",
              "<table border=\"1\" class=\"dataframe\">\n",
              "  <thead>\n",
              "    <tr style=\"text-align: right;\">\n",
              "      <th></th>\n",
              "      <th>MODELYEAR</th>\n",
              "      <th>MAKE</th>\n",
              "      <th>MODEL</th>\n",
              "      <th>VEHICLECLASS</th>\n",
              "      <th>ENGINESIZE</th>\n",
              "      <th>CYLINDERS</th>\n",
              "      <th>TRANSMISSION</th>\n",
              "      <th>FUELTYPE</th>\n",
              "      <th>FUELCONSUMPTION_CITY</th>\n",
              "      <th>FUELCONSUMPTION_HWY</th>\n",
              "      <th>FUELCONSUMPTION_COMB</th>\n",
              "      <th>FUELCONSUMPTION_COMB_MPG</th>\n",
              "      <th>CO2EMISSIONS</th>\n",
              "    </tr>\n",
              "  </thead>\n",
              "  <tbody>\n",
              "    <tr>\n",
              "      <th>0</th>\n",
              "      <td>2014</td>\n",
              "      <td>ACURA</td>\n",
              "      <td>ILX</td>\n",
              "      <td>COMPACT</td>\n",
              "      <td>2.0</td>\n",
              "      <td>4</td>\n",
              "      <td>AS5</td>\n",
              "      <td>Z</td>\n",
              "      <td>9.9</td>\n",
              "      <td>6.7</td>\n",
              "      <td>8.5</td>\n",
              "      <td>33</td>\n",
              "      <td>196</td>\n",
              "    </tr>\n",
              "    <tr>\n",
              "      <th>1</th>\n",
              "      <td>2014</td>\n",
              "      <td>ACURA</td>\n",
              "      <td>ILX</td>\n",
              "      <td>COMPACT</td>\n",
              "      <td>2.4</td>\n",
              "      <td>4</td>\n",
              "      <td>M6</td>\n",
              "      <td>Z</td>\n",
              "      <td>11.2</td>\n",
              "      <td>7.7</td>\n",
              "      <td>9.6</td>\n",
              "      <td>29</td>\n",
              "      <td>221</td>\n",
              "    </tr>\n",
              "    <tr>\n",
              "      <th>2</th>\n",
              "      <td>2014</td>\n",
              "      <td>ACURA</td>\n",
              "      <td>ILX HYBRID</td>\n",
              "      <td>COMPACT</td>\n",
              "      <td>1.5</td>\n",
              "      <td>4</td>\n",
              "      <td>AV7</td>\n",
              "      <td>Z</td>\n",
              "      <td>6.0</td>\n",
              "      <td>5.8</td>\n",
              "      <td>5.9</td>\n",
              "      <td>48</td>\n",
              "      <td>136</td>\n",
              "    </tr>\n",
              "    <tr>\n",
              "      <th>3</th>\n",
              "      <td>2014</td>\n",
              "      <td>ACURA</td>\n",
              "      <td>MDX 4WD</td>\n",
              "      <td>SUV - SMALL</td>\n",
              "      <td>3.5</td>\n",
              "      <td>6</td>\n",
              "      <td>AS6</td>\n",
              "      <td>Z</td>\n",
              "      <td>12.7</td>\n",
              "      <td>9.1</td>\n",
              "      <td>11.1</td>\n",
              "      <td>25</td>\n",
              "      <td>255</td>\n",
              "    </tr>\n",
              "    <tr>\n",
              "      <th>4</th>\n",
              "      <td>2014</td>\n",
              "      <td>ACURA</td>\n",
              "      <td>RDX AWD</td>\n",
              "      <td>SUV - SMALL</td>\n",
              "      <td>3.5</td>\n",
              "      <td>6</td>\n",
              "      <td>AS6</td>\n",
              "      <td>Z</td>\n",
              "      <td>12.1</td>\n",
              "      <td>8.7</td>\n",
              "      <td>10.6</td>\n",
              "      <td>27</td>\n",
              "      <td>244</td>\n",
              "    </tr>\n",
              "  </tbody>\n",
              "</table>\n",
              "</div>"
            ],
            "text/plain": [
              "   MODELYEAR   MAKE  ... FUELCONSUMPTION_COMB_MPG CO2EMISSIONS\n",
              "0       2014  ACURA  ...                       33          196\n",
              "1       2014  ACURA  ...                       29          221\n",
              "2       2014  ACURA  ...                       48          136\n",
              "3       2014  ACURA  ...                       25          255\n",
              "4       2014  ACURA  ...                       27          244\n",
              "\n",
              "[5 rows x 13 columns]"
            ]
          },
          "metadata": {
            "tags": []
          },
          "execution_count": 1
        }
      ]
    },
    {
      "cell_type": "code",
      "metadata": {
        "colab": {
          "base_uri": "https://localhost:8080/"
        },
        "id": "gRUTaUkD6v0R",
        "outputId": "007ed990-359e-49c4-f265-134d14911c3b"
      },
      "source": [
        "df.shape"
      ],
      "execution_count": null,
      "outputs": [
        {
          "output_type": "execute_result",
          "data": {
            "text/plain": [
              "(1067, 13)"
            ]
          },
          "metadata": {
            "tags": []
          },
          "execution_count": 2
        }
      ]
    },
    {
      "cell_type": "code",
      "metadata": {
        "colab": {
          "base_uri": "https://localhost:8080/"
        },
        "id": "IXxD5ic1HEmA",
        "outputId": "e75c6f44-650b-41d6-c1bb-5ae125b0affa"
      },
      "source": [
        "df.info()"
      ],
      "execution_count": null,
      "outputs": [
        {
          "output_type": "stream",
          "text": [
            "<class 'pandas.core.frame.DataFrame'>\n",
            "RangeIndex: 1067 entries, 0 to 1066\n",
            "Data columns (total 13 columns):\n",
            " #   Column                    Non-Null Count  Dtype  \n",
            "---  ------                    --------------  -----  \n",
            " 0   MODELYEAR                 1067 non-null   int64  \n",
            " 1   MAKE                      1067 non-null   object \n",
            " 2   MODEL                     1067 non-null   object \n",
            " 3   VEHICLECLASS              1067 non-null   object \n",
            " 4   ENGINESIZE                1067 non-null   float64\n",
            " 5   CYLINDERS                 1067 non-null   int64  \n",
            " 6   TRANSMISSION              1067 non-null   object \n",
            " 7   FUELTYPE                  1067 non-null   object \n",
            " 8   FUELCONSUMPTION_CITY      1067 non-null   float64\n",
            " 9   FUELCONSUMPTION_HWY       1067 non-null   float64\n",
            " 10  FUELCONSUMPTION_COMB      1067 non-null   float64\n",
            " 11  FUELCONSUMPTION_COMB_MPG  1067 non-null   int64  \n",
            " 12  CO2EMISSIONS              1067 non-null   int64  \n",
            "dtypes: float64(4), int64(4), object(5)\n",
            "memory usage: 108.5+ KB\n"
          ],
          "name": "stdout"
        }
      ]
    },
    {
      "cell_type": "markdown",
      "metadata": {
        "id": "AhnGP5L-TpEn"
      },
      "source": [
        "Note que este es un problema de **aprendizaje supervisado**: Los datos de entrada incluyen las *etiquetas*. Como la variable a predecir es una etiqueta continua, entonces la tarea es de regresión.\n",
        "\n",
        "Para resolver el problema podemos construir un modelo lineal simple. En el caso de la regresión lineal, el modelo $\\hat{y}$ es una función lineal de las características predictoras $X$\n",
        "\n",
        "$$\\hat{y}(X) = w_0 + w_1 x_1 + \\cdots + w_n x_n = W^T \\cdot X $$\n",
        "\n",
        "donde \n",
        "\n",
        "$$W =\n",
        " \\begin{pmatrix}\n",
        "  w_0 \\\\\n",
        "  w_1 \\\\\n",
        "  \\vdots \\\\\n",
        "  w_n\n",
        " \\end{pmatrix}$$\n",
        "\n",
        "son los parámetros (pesos) del modelo. De manera más general, un modelo lineal hace una predicción calculando una suma pesada de las características de entrada, más una constante conocida como el término de *sesgo* $w_0$.\n",
        "\n",
        "Para simplificar el problema, utilicemos una única característica predictora:\n",
        "\n",
        "\n",
        "\n",
        "\n",
        "\n"
      ]
    },
    {
      "cell_type": "code",
      "metadata": {
        "id": "a7fyZXsKTnAD",
        "colab": {
          "base_uri": "https://localhost:8080/",
          "height": 285
        },
        "outputId": "4e2bbaf9-755c-490c-c9dc-ebe79522bf6b"
      },
      "source": [
        "sns.scatterplot(data=df, x=\"FUELCONSUMPTION_CITY\", y=\"CO2EMISSIONS\");"
      ],
      "execution_count": null,
      "outputs": [
        {
          "output_type": "display_data",
          "data": {
            "image/png": "[encoded data removed]",
            "text/plain": [
              "<Figure size 432x288 with 1 Axes>"
            ]
          },
          "metadata": {
            "tags": [],
            "needs_background": "light"
          }
        }
      ]
    },
    {
      "cell_type": "markdown",
      "metadata": {
        "id": "ss8nc2fxTz2h"
      },
      "source": [
        "En este caso el modelo toma la forma\n",
        "\n",
        "$$\\hat{y}(x_1) = w_0 + w_1 x_1$$\n",
        "\n",
        "Identificamos esta expresión con una línea recta, donde $w_0$ representa el intercepto y $w_1$ la pendiente. Podemos definir muchos modelos, dependiendo de los valores que tomen estos parámetros"
      ]
    },
    {
      "cell_type": "markdown",
      "metadata": {
        "id": "8kGEtF6WT2y0"
      },
      "source": [
        "<p><img alt=\"Colaboratory logo\" height=\"300px\" src=\"https://i.imgur.com/U3GzGtz.png\" align=\"center\" hspace=\"10px\" vspace=\"0px\"></p> "
      ]
    },
    {
      "cell_type": "markdown",
      "metadata": {
        "id": "xIjJbhV17wUi"
      },
      "source": [
        "¿Cómo elegir los valores de $W$ de tal manera que obtengamos el mejor modelo posible?"
      ]
    },
    {
      "cell_type": "markdown",
      "metadata": {
        "id": "Nmf-C_vcT5U2"
      },
      "source": [
        "**Estadística clásica:**\n",
        "\n",
        "En el caso de la estadística clásica, lo que se hace es minimizar una *test statistics* (u optimizar la verosimilitud)\n",
        "\n",
        "\n",
        "$$\\chi^2 = \\sum_{i=0}^{n} \\frac{\\left(y_i-\\hat{y}\\right)^2}{\\sigma_i}$$\n",
        "\n",
        "donde $y_i$ son los valores observados y $\\sigma_i$ sus varianzas asociadas. \n",
        "\n"
      ]
    },
    {
      "cell_type": "markdown",
      "metadata": {
        "id": "ccMDm7jUT9ym"
      },
      "source": [
        "**ML**\n",
        "\n",
        "En el ML, se realiza un proceso similar, donde la función a minimizar (en este caso el MSE) se conoce generalmente como **función de costo/pérdida**\n",
        "\n",
        "$$J(W) =\\frac{1}{n}\\sum_{i=0}^{n} \\left(y_i-\\hat{y}\\right)^2$$\n",
        "\n",
        "El proceso de optimización que permite encontrar los parámetros $W$ que minimicen la función de costo/pérdida se conoce como **entrenamiento** del modelo. El proceso de optimización (minimización) tiene una solución cerrada conocida como la ecuación normal:\n",
        "\n",
        "\n",
        "\n",
        "\n",
        "\n",
        "\n"
      ]
    },
    {
      "cell_type": "markdown",
      "metadata": {
        "id": "-SyOGXB4J5Xf"
      },
      "source": [
        "$$W=(X^{T}X)^{-1} X^{T}y$$"
      ]
    },
    {
      "cell_type": "markdown",
      "metadata": {
        "id": "YqQqdIc3-MkS"
      },
      "source": [
        "Estos métodos producen el mismo resultado, por lo que se podría suponer que son iguales. ¿Cuál es entonces la diferencia entre ambas aproximaciones al problema? La respuesta está en el propósito y en la forma de validación de los modelos\n",
        "\n",
        "En el caso del ML utilizamos un subconjunto de los datos para el proceso de *entrenamiento* del modelo. Posterior al entrenamiento, se utiliza un subconjunto de los datos diferente, que denominamos como conjunto de prueba/validación, para validar la precisión del modelo. **El objetivo del ML es obtener el mejor rendimiento posible del modelo sobre el conjunto de prueba.**\n",
        "\n",
        "Respecto al propósito, los modelos de ML están diseñados en su mayoría para realizar predicciones: Una vez los modelos son entrenados y validados, pueden ser utilizados para estimar valores de la variable objetivo dados nuevos valores de las variables predictoras. \n",
        "\n",
        "Por otro lado, los modelos estadísticos están diseñados para caracterizar la relación entre los datos (*inferencia estadística*). Sin embargo, todavía podemos usar este modelo estadístico para hacer predicciones, y este puede ser incluso su propósito principal, pero la forma en que se evalúa el modelo no implicará conjuntos de entrenamiento y prueba como en el caso del ML, sino que implicará evaluar la significancia y robustes de los parámetros del modelo mediante diferentes pruebas estadísticas que permitan evaluar la calidad del modelo."
      ]
    },
    {
      "cell_type": "markdown",
      "metadata": {
        "id": "PlIOYeJoUbWC"
      },
      "source": [
        "**Ejercicio**\n",
        "\n",
        "Usar la ecuacion normal\n",
        "\\begin{equation}\n",
        "W = (X^T\\cdot X)^{-1} \\cdot X^T \\cdot y\n",
        "\\end{equation}\n",
        "para hallar los pesos $W$\n"
      ]
    },
    {
      "cell_type": "code",
      "metadata": {
        "id": "zdxcht4_Tx1j",
        "colab": {
          "base_uri": "https://localhost:8080/"
        },
        "outputId": "e8cb89ff-1b40-431f-c8f3-c9330ae5760b"
      },
      "source": [
        "# matriz de caracteristicas\n",
        "X = np.c_[np.ones(len(df)), df[\"FUELCONSUMPTION_CITY\"]]\n",
        "\n",
        "# variable objetivo\n",
        "y = df[\"CO2EMISSIONS\"]\n",
        "\n",
        "# parametros del modelo\n",
        "W = np.linalg.inv(X.T @ X) @ X.T @ y\n",
        "W"
      ],
      "execution_count": null,
      "outputs": [
        {
          "output_type": "execute_result",
          "data": {
            "text/plain": [
              "array([71.7202284 , 13.87643376])"
            ]
          },
          "metadata": {
            "tags": []
          },
          "execution_count": 5
        }
      ]
    },
    {
      "cell_type": "markdown",
      "metadata": {
        "id": "JeaqcT66-yMy"
      },
      "source": [
        "Visualicemos el modelo "
      ]
    },
    {
      "cell_type": "code",
      "metadata": {
        "id": "8hQl_h3sPt8j",
        "colab": {
          "base_uri": "https://localhost:8080/",
          "height": 285
        },
        "outputId": "5e03ce00-f1a0-48b4-b4cb-58dbd55700da"
      },
      "source": [
        "modelo = W[0] + W[1]*X[:,1]\n",
        "\n",
        "plt.plot(X[:,1], modelo, \"r-\", label=\"Modelo\")\n",
        "sns.scatterplot(data=df, x=\"FUELCONSUMPTION_CITY\", y=\"CO2EMISSIONS\", label=\"Observaciones\")\n",
        "plt.legend();"
      ],
      "execution_count": null,
      "outputs": [
        {
          "output_type": "display_data",
          "data": {
            "image/png": "[encoded data removed]",
            "text/plain": [
              "<Figure size 432x288 with 1 Axes>"
            ]
          },
          "metadata": {
            "tags": [],
            "needs_background": "light"
          }
        }
      ]
    },
    {
      "cell_type": "markdown",
      "metadata": {
        "id": "hkbl56PO5I1j"
      },
      "source": [
        "Obtengamos la predicción del modelo para un nuevo valor $X=12$"
      ]
    },
    {
      "cell_type": "code",
      "metadata": {
        "id": "rUTi0XO3Ulcx",
        "colab": {
          "base_uri": "https://localhost:8080/"
        },
        "outputId": "7a73f82f-d16f-4591-aeef-f23c1de60404"
      },
      "source": [
        "X_new = np.array([1, 12])\n",
        "\n",
        "y_pred = W @ X_new\n",
        "y_pred"
      ],
      "execution_count": null,
      "outputs": [
        {
          "output_type": "execute_result",
          "data": {
            "text/plain": [
              "238.23743349481035"
            ]
          },
          "metadata": {
            "tags": []
          },
          "execution_count": 7
        }
      ]
    },
    {
      "cell_type": "markdown",
      "metadata": {
        "id": "Wu5vJ00RUtyi"
      },
      "source": [
        "<p><a name=\"cla\"></a></p>\n",
        "\n",
        "# **Introducción a Sklearn (Sci-kit Learn)**\n",
        "\n",
        "## **Clases**\n",
        "\n",
        "Las clases proporcionan un medio para la agrupación de datos y funcionalidades en un *objeto*. La creación de una nueva clase crea un nuevo tipo de objeto, lo que permite crear nuevas *instancias* de ese objeto. Cada instancia de la clase puede tener sus propios atributos. Las instancias de una clase también pueden tener *métodos* que definen funcionalidades asociadas al objeto.\n",
        "\n",
        "Por ejemplo, cada uno de los elementos del modelo de regresión lineal que hemos construido podríamos integrarlo en un objeto. A este objeto lo podremos dotar de ciertos atributos (parametros del modelo) y métodos (entrenamiento del modelo y predicción).\n",
        "\n",
        "Las clases se crean con la siguiente sintáxis:\n",
        ">\n",
        "    class Nombre:\n",
        "       sentencia(s)\n",
        "\n",
        "Definamos una clase `LinearRegression` cuyos métodos nos permitan entrenar un modelo de regresión lineal (`fit`) y realizar predicciones a partir del modelo entrenado (`predict`). Los métodos toman como primer argumento la referencia del objeto que se está instanciando. Por convención se utiliza el nombre `self` para esta referencia"
      ]
    },
    {
      "cell_type": "code",
      "metadata": {
        "id": "JSJevZ4FUrmh"
      },
      "source": [
        "class LinearRegression:\n",
        "  \n",
        "  def fit(self, X, y):\n",
        "    \"\"\"\n",
        "    Trains the model using the normal equation\n",
        "    \n",
        "    Parameters:\n",
        "\n",
        "    X : array, shape: (n_samples, n_features)\n",
        "      feature matrix\n",
        "    y : array\n",
        "      objective function \n",
        "\n",
        "    Attributes:\n",
        "\n",
        "    W : array\n",
        "      parameters of the linear model\n",
        "    \"\"\"\n",
        "    self.W = np.linalg.inv(X.T @ X) @ X.T @ y\n",
        "    \n",
        "  def predict(self, X_new):\n",
        "    \"\"\"\n",
        "    predicts using the linear model\n",
        "    \n",
        "    Parameters:\n",
        "\n",
        "    X_new : array, shape: (n_samples, n_features)\n",
        "      Samples \n",
        "\n",
        "    Returns:\n",
        "    \n",
        "      Predicted values\n",
        "    \"\"\"\n",
        "    return self.W @ X_new"
      ],
      "execution_count": null,
      "outputs": []
    },
    {
      "cell_type": "code",
      "metadata": {
        "id": "JQPnyfJ8U1gH",
        "colab": {
          "base_uri": "https://localhost:8080/"
        },
        "outputId": "0b098489-3675-4a28-ab57-7e75bf7932bc"
      },
      "source": [
        "# creamos una instancia de la clase\n",
        "model = LinearRegression()\n",
        "\n",
        "# entrenamos el modelo \n",
        "model.fit(X, y)\n",
        "\n",
        "# obtenemos los parametros del modelo\n",
        "model.W"
      ],
      "execution_count": null,
      "outputs": [
        {
          "output_type": "execute_result",
          "data": {
            "text/plain": [
              "array([71.7202284 , 13.87643376])"
            ]
          },
          "metadata": {
            "tags": []
          },
          "execution_count": 9
        }
      ]
    },
    {
      "cell_type": "code",
      "metadata": {
        "id": "CRtBVE3WWL7G",
        "colab": {
          "base_uri": "https://localhost:8080/"
        },
        "outputId": "bb71c7a2-d079-480e-bd32-202b8f540cf8"
      },
      "source": [
        "# realizamos una prediccion\n",
        "model.predict(X_new)"
      ],
      "execution_count": null,
      "outputs": [
        {
          "output_type": "execute_result",
          "data": {
            "text/plain": [
              "238.23743349481035"
            ]
          },
          "metadata": {
            "tags": []
          },
          "execution_count": 10
        }
      ]
    },
    {
      "cell_type": "markdown",
      "metadata": {
        "id": "b0XjzS2CU9aA"
      },
      "source": [
        "<p><a name=\"int\"></a></p>\n",
        "\n",
        "## **Interfaces de Sklearn**\n",
        "\n",
        "[Sklearn](https://scikit-learn.org/stable/index.html) nos proporciona una colección de clases y funciones relacionadas con ML que podemos importar en nuestros programas. Entre otras cosas, incluye algoritmos de ML clásicos, herramientas para la evaluación de modelos, así como elementos para el preprocesamiento de los datos.\n",
        "\n",
        "Todos los objetos dentro de scikit-learn comparten una API básica que consta de tres interfaces complementarias: \n",
        "\n",
        "* Una interfaz `estimator` para construir y ajustar modelos.\n",
        "* Una interfaz `predictor` para realizar predicciones.\n",
        "* Una interfaz `transformer` para la transformación de los datos. "
      ]
    },
    {
      "cell_type": "markdown",
      "metadata": {
        "id": "l4U1RFvfVAl4"
      },
      "source": [
        "**Estimadores**\n",
        "\n",
        "La interfaz del estimador es el núcleo de la libreria. Define los mecanismos para la creación de los objetos. Todos los algoritmos de aprendizaje supervisado ​​y no supervisado se presentan como objetos que implementan esta interfaz. \n",
        "\n",
        "Cualquier objeto que pueda estimar algunos parámetros basados en un conjunto de datos se llama estimador"
      ]
    },
    {
      "cell_type": "code",
      "metadata": {
        "id": "Wo3-eqNlimLO"
      },
      "source": [
        "# estructura de los estimadores\n",
        "\n",
        "class Estimator:\n",
        "\n",
        "  def fit(self, X, y=None):\n",
        "    \"\"\"Ajusta el estimador a los datos\"\"\"\n",
        "    # estima los parametros del modelo \n",
        "    #..."
      ],
      "execution_count": null,
      "outputs": []
    },
    {
      "cell_type": "markdown",
      "metadata": {
        "id": "bi9MRZfgilhI"
      },
      "source": [
        "Por ejemplo, La clase `LinearRegression` del submódulo `linear_model` de Sklearn, nos permite estimar los parámetros $W$ de un modelo de regresión lineal simple"
      ]
    },
    {
      "cell_type": "code",
      "metadata": {
        "id": "L9DGRRv5U4-n"
      },
      "source": [
        "from sklearn.linear_model import LinearRegression"
      ],
      "execution_count": null,
      "outputs": []
    },
    {
      "cell_type": "markdown",
      "metadata": {
        "id": "xP8sDiXp5qAY"
      },
      "source": [
        "Ahora, La inicialización del estimador y el entrenamiento realmente están estrictamente separados, al igual que en la clase que construimos. Inicialicemos el estimador:"
      ]
    },
    {
      "cell_type": "code",
      "metadata": {
        "id": "kp9HqXzSVCeH",
        "colab": {
          "base_uri": "https://localhost:8080/"
        },
        "outputId": "3726afc6-ab8e-42c4-a269-0dfed781fa6b"
      },
      "source": [
        "model = LinearRegression()\n",
        "model"
      ],
      "execution_count": null,
      "outputs": [
        {
          "output_type": "execute_result",
          "data": {
            "text/plain": [
              "LinearRegression(copy_X=True, fit_intercept=True, n_jobs=None, normalize=False)"
            ]
          },
          "metadata": {
            "tags": []
          },
          "execution_count": 12
        }
      ]
    },
    {
      "cell_type": "markdown",
      "metadata": {
        "id": "aQR0X7kJVHyc"
      },
      "source": [
        "En este punto debemos diferenciar dos elementos del proceso: Los parametros y los hiperparametros.\n",
        "\n",
        "* **Parámetros:** Son aquellos parámetros que pertenecen al modelo y que se utilizan en el entrenamiendo\n",
        "\n",
        "* **Hiperparámetros:** Son parámetros del algoritmo y no del modelo como tal. Estos son parametros que se deben definir antes del entrenamiento y que permanecerán constantes durante este proceso.\n",
        "\n",
        "\n",
        "Un estimador se inicializa a partir de un conjunto de hiperparámetros constantes, por lo que podemos considerar el estimador como una función que asigna estos hiperparámetros a los algoritmos de aprendizaje.\n",
        "\n",
        "Note que el constructor de un estimador no utiliza ningún dato como tal, ni realiza ningún aprendizaje real. Todo lo que hace es proporcionar los hiperparámetros especificados al objeto. El aprendizaje real se realiza mediante el método `fit`. Este método toma como argumentos los datos de entrenamiento"
      ]
    },
    {
      "cell_type": "code",
      "metadata": {
        "id": "bhry8BeKVFxf",
        "colab": {
          "base_uri": "https://localhost:8080/"
        },
        "outputId": "e46f66a9-2718-409b-e8be-33b19aa6f624"
      },
      "source": [
        "X = df[[\"FUELCONSUMPTION_CITY\"]]\n",
        "y = df.CO2EMISSIONS\n",
        "\n",
        "model.fit(X, y)"
      ],
      "execution_count": null,
      "outputs": [
        {
          "output_type": "execute_result",
          "data": {
            "text/plain": [
              "LinearRegression(copy_X=True, fit_intercept=True, n_jobs=None, normalize=False)"
            ]
          },
          "metadata": {
            "tags": []
          },
          "execution_count": 13
        }
      ]
    },
    {
      "cell_type": "markdown",
      "metadata": {
        "id": "5U9BuSNo5zRv"
      },
      "source": [
        "Al igua que en nuestra clase, el método `fit` se encarga de ejecutar un algoritmo de aprendizaje y determina los parámetros específicos del modelo a partir de los datos de entrenamiento y los establece como atributos del objeto\n",
        "\n",
        "\n"
      ]
    },
    {
      "cell_type": "code",
      "metadata": {
        "id": "zH4rajvHbSQA",
        "colab": {
          "base_uri": "https://localhost:8080/"
        },
        "outputId": "750db6f4-5f5c-4c5c-d208-aefecd7d40ba"
      },
      "source": [
        "print(f\"Intercepto: {model.intercept_}\")\n",
        "print(f\"Pendiente: {model.coef_}\") "
      ],
      "execution_count": null,
      "outputs": [
        {
          "output_type": "stream",
          "text": [
            "Intercepto: 71.72022839690194\n",
            "Pendiente: [13.87643376]\n"
          ],
          "name": "stdout"
        }
      ]
    },
    {
      "cell_type": "markdown",
      "metadata": {
        "id": "N4h7TIWiVXaK"
      },
      "source": [
        "En scikit-learn, los algoritmos de aprendizaje no son los únicos objetos que se implementan como estimadores. Por ejemplo, las rutinas de preprocesamiento, que veremos más adelante, también implementan la interfaz del estimador"
      ]
    },
    {
      "cell_type": "markdown",
      "metadata": {
        "id": "qqOL0b2QVbHM"
      },
      "source": [
        "**Predictor**\n",
        "\n",
        "La interfaz del predictor amplía la noción de un estimador al agregar un método de predicción  `predict` que toma un conjunto de datos de nuevas instancias y devuelve un conjunto de datos de predicciones correspondientes"
      ]
    },
    {
      "cell_type": "code",
      "metadata": {
        "id": "29RZXEQbkT_Y"
      },
      "source": [
        "# estimador + predictor\n",
        "\n",
        "class Estimator:\n",
        "\n",
        "  def fit(self, X, y=None):\n",
        "    \"\"\"Ajusta el estimador a los datos\"\"\"\n",
        "    # estima los parametros del modelo \n",
        "    # ...\n",
        "\n",
        "  def predict(self, X):\n",
        "    \"\"\"Predice etiquetas\"\"\"\n",
        "    # predice nuevos valores utilizando \n",
        "    # los modelos construidos\n",
        "    # ...\n",
        "    return #...."
      ],
      "execution_count": null,
      "outputs": []
    },
    {
      "cell_type": "markdown",
      "metadata": {
        "id": "vMHhaVZ5E9NW"
      },
      "source": [
        "Obtengamos la predicción"
      ]
    },
    {
      "cell_type": "code",
      "metadata": {
        "id": "6RUvxZ6eVVSn",
        "colab": {
          "base_uri": "https://localhost:8080/"
        },
        "outputId": "3de87985-0762-4a6e-c6c7-eec7afd365b2"
      },
      "source": [
        "model.predict([[12]])"
      ],
      "execution_count": null,
      "outputs": [
        {
          "output_type": "execute_result",
          "data": {
            "text/plain": [
              "array([238.23743349])"
            ]
          },
          "metadata": {
            "tags": []
          },
          "execution_count": 15
        }
      ]
    },
    {
      "cell_type": "markdown",
      "metadata": {
        "id": "F-chFkgNVfBK"
      },
      "source": [
        "Ahora, Además de `predict`, los predictores también pueden implementar algunos métodos que cuantifican la confianza de las predicciones más que la prediccion como tal. Por ejemplo, si tenemos como salida una clase binaria o múltiple, en muchos casos más que saber la predicción del modelo, vamos a querer saber cuál es la probabilidad de que la salida pertenezca a una clase u otra. \n",
        "\n",
        "Los predictores También tiene un método `score` que mide la calidad de las predicciones dado un conjunto de prueba. Esto lo veremos de mejor manera cuando estudiemos las métricas para la evaluación de los modelos.\n"
      ]
    },
    {
      "cell_type": "markdown",
      "metadata": {
        "id": "RlGyOI-4Vmuf"
      },
      "source": [
        "**Transformadores**\n",
        "\n",
        "Dado que es muy común modificar o filtrar los datos antes de usarlos para alimentar un algoritmo de ML, algunos estimadores en la librería implementan una interfaz de transformador. La transformación se realiza mediante el método `transform`, que toma algunos datos y produce como salida una versión transformada de estos. Por ejemplo, Los algoritmos de preprocesamiento, selección de características, extracción de características y reducción de dimensionalidad se proporcionan como transformadores dentro de la libreria.\n",
        "\n",
        "\n",
        "\n",
        "\n",
        "\n"
      ]
    },
    {
      "cell_type": "code",
      "metadata": {
        "id": "zOABrCYUk_vz"
      },
      "source": [
        "# estructura de los transformadores\n",
        "\n",
        "class Transformer:  \n",
        "\n",
        "  def fit(self, X, y=None):\n",
        "    \"\"\"Ajusta el estimador a los datos\"\"\"\n",
        "    # estima los parametros del modelo \n",
        "    # ...\n",
        "    \n",
        "  def transform(self, X):\n",
        "    \"\"\"Transforma X en Xt\"\"\"\n",
        "    # transforma X de alguna manera para producir Xt\n",
        "    return Xt"
      ],
      "execution_count": null,
      "outputs": []
    },
    {
      "cell_type": "markdown",
      "metadata": {
        "id": "2AUZoy0_6Hrc"
      },
      "source": [
        "Los transformadores también tienen un método conveniente llamado `fit_transform` que es equivalente a llamar a `fit` y luego aplicar `transform`.\n",
        "\n"
      ]
    },
    {
      "cell_type": "code",
      "metadata": {
        "id": "Fz9rJBN4VdSl"
      },
      "source": [
        "# estructura de los transformadores\n",
        "\n",
        "class Transformer:  \n",
        "\n",
        "  def fit(self, X, y=None):\n",
        "    \"\"\"Ajusta el estimador a los datos\"\"\"\n",
        "    # estima los parametros del modelo \n",
        "    # ...\n",
        "    \n",
        "  def transform(self, X):\n",
        "    \"\"\"Transforma X en Xt\"\"\"\n",
        "    # transforma X de alguna manera para producir Xt\n",
        "    return Xt\n",
        "    \n",
        "  def fit_transform(self, X, y=None):\n",
        "    \"\"\"\n",
        "    ajusta el estimador a los datos\n",
        "    y transforma X en Xt\n",
        "    \"\"\"\n",
        "    # llama el metodo fit\n",
        "    self.fit(X, y)\n",
        "\n",
        "    # llama el metodo transform\n",
        "    Xt = self.transform(X)\n",
        "\n",
        "    return Xt"
      ],
      "execution_count": null,
      "outputs": []
    },
    {
      "cell_type": "markdown",
      "metadata": {
        "id": "R4BdyBMdlktN"
      },
      "source": [
        "Con estos elementos debería ser clara la correspondencia entre los conceptos y elementos del ML y la forma en que Sklearn asigna estos conceptos y elementos a los objetos de Python y sus funcionalidades."
      ]
    }
  ]
}