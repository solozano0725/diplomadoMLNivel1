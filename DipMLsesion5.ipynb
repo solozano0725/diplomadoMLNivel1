{
  "nbformat": 4,
  "nbformat_minor": 0,
  "metadata": {
    "colab": {
      "name": "DipMLsesion5.ipynb",
      "provenance": [],
      "collapsed_sections": [],
      "include_colab_link": true
    },
    "kernelspec": {
      "name": "python3",
      "display_name": "Python 3"
    }
  },
  "cells": [
    {
      "cell_type": "markdown",
      "metadata": {
        "id": "view-in-github",
        "colab_type": "text"
      },
      "source": [
        "<a href=\"https://colab.research.google.com/github/solozano0725/diplomadoMLNivel1/blob/main/DipMLsesion5.ipynb\" target=\"_parent\"><img src=\"https://colab.research.google.com/assets/colab-badge.svg\" alt=\"Open In Colab\"/></a>"
      ]
    },
    {
      "cell_type": "markdown",
      "metadata": {
        "id": "n_x1aqGyE3NV"
      },
      "source": [
        "<p><img alt=\"Colaboratory logo\" height=\"140px\" src=\"https://upload.wikimedia.org/wikipedia/commons/archive/f/fb/20161010213812%21Escudo-UdeA.svg\" align=\"left\" hspace=\"10px\" vspace=\"0px\"></p>\n",
        "\n",
        "# **Diplomado de Análisis de datos y Machine Learning en Python**\n",
        "\n",
        "\n",
        "El presente diplomado hace parte del centro de Big Data de la facultad de ciencias exactas y naturales (FCEN) de la Universidad de Antioquia.\n",
        "\n",
        "## **Sesión 5**\n",
        "\n",
        "## **Contenido**\n",
        "  \n",
        "- <a href=\"#fun\"> Funciones</a><br>\n",
        "  - <a href=\"#lon\"> Argumentos de longitud variable</a><br>\n",
        "  - <a href=\"#lam\"> Funciones anónimas</a><br>\n",
        "- <a href=\"#num\"> NumPy</a><br>\n",
        "  - <a href=\"#arr\"> Arreglos en NumPy</a><br>\n",
        "  - <a href=\"#ope\"> Operaciones sobre los arreglos</a><br>\n",
        "\n",
        "\n",
        "- <a href=\"#apeA\"> Apéndice: Iteradores útiles</a><br>\n",
        "\n",
        "\n",
        "\n",
        "\n"
      ]
    },
    {
      "cell_type": "markdown",
      "metadata": {
        "id": "YRORvAlXOdAV"
      },
      "source": [
        "<p><a name=\"lon\"></a></p>\n",
        "\n",
        "## **Argumentos de longitud variable**\n",
        "\n",
        "Es posible que necesitemos ejecutar una función en la que en principio no sabemos cuántos argumentos se pasarán a la función. En este caso, podemos utilizar una clase especial de argumentos, denominados argumentos de longitud variable, con los que podemos capturar todos los argumentos que se pasen a la función.\n",
        "\n",
        "Por ejemplo, en el caso de la funcion `print`, esta admite un número arbitrario de argumentos para imprimirlos en pantalla\n",
        "\n"
      ]
    },
    {
      "cell_type": "code",
      "metadata": {
        "id": "W4WECvnECDv4"
      },
      "source": [
        "print(1, 2, 3)\n",
        "\n",
        "print(1, 2, 3, 4, 5)\n",
        "\n",
        "..."
      ],
      "execution_count": null,
      "outputs": []
    },
    {
      "cell_type": "markdown",
      "metadata": {
        "id": "uo7yQMOhCDHY"
      },
      "source": [
        "**args**: El argumento de longitud variable `*args` permite capturar una serie de argumentos sin necesidad de especificar en un principio su número.\n",
        "\n",
        "Escribamos una función que simule la función `print` para ver cómo debemos definir este tipo de argumentos."
      ]
    },
    {
      "cell_type": "code",
      "metadata": {
        "colab": {
          "base_uri": "https://localhost:8080/"
        },
        "id": "sFjN8kWGBrCs",
        "outputId": "8784cb75-afa3-4875-f60c-76aea5344d1f"
      },
      "source": [
        "def my_print(*args):\n",
        "  print(args)\n",
        "\n",
        "my_print(1,2)"
      ],
      "execution_count": null,
      "outputs": [
        {
          "output_type": "stream",
          "text": [
            "(1, 2)\n"
          ],
          "name": "stdout"
        }
      ]
    },
    {
      "cell_type": "markdown",
      "metadata": {
        "id": "F5tKpPUxPalX"
      },
      "source": [
        "Lo importante aquí no es el nombre `args`, sino el caracter `*` que lo precede. `args` es solo el nombre que se usa por convención. Un solo `*` antes de una variable significa *expandir esto como una secuencia*. En este caso particular, note que `args` se expande como una *tupla*. Iteremos esta tupla dentro de la función para mostrar cada elemento de la tupla individualmente\n",
        "\n",
        "\n"
      ]
    },
    {
      "cell_type": "code",
      "metadata": {
        "id": "bljtaRwCPReM",
        "colab": {
          "base_uri": "https://localhost:8080/"
        },
        "outputId": "d2476fc0-9a5a-4d13-c30e-6d8884a68587"
      },
      "source": [
        "def my_print(*args):\n",
        "  for arg in args:\n",
        "    print(arg)\n",
        "\n",
        "my_print(1, 2, 3)"
      ],
      "execution_count": null,
      "outputs": [
        {
          "output_type": "stream",
          "text": [
            "1\n",
            "2\n",
            "3\n"
          ],
          "name": "stdout"
        }
      ]
    },
    {
      "cell_type": "markdown",
      "metadata": {
        "id": "TwdX7WcoHq_E"
      },
      "source": [
        "De hecho, esta sintáxis puede utilizarse no solo en la definición de la función, sino también a la hora de llamar la función. \n",
        "\n",
        "Supongamos que tenemos la lista `[1, 2, 3]` y queremos pasar cada uno de los elementos de forma individual a la función print (no como lista). En ese caso escribiríamos:"
      ]
    },
    {
      "cell_type": "code",
      "metadata": {
        "colab": {
          "base_uri": "https://localhost:8080/"
        },
        "id": "U9es6J4xCimP",
        "outputId": "070fef49-d1a2-4499-95fc-d12a2b9dceb9"
      },
      "source": [
        "l = [1, 2, 3]\n",
        "\n",
        "print(l[0], l[1], l[2])"
      ],
      "execution_count": null,
      "outputs": [
        {
          "output_type": "stream",
          "text": [
            "1 2 3\n"
          ],
          "name": "stdout"
        }
      ]
    },
    {
      "cell_type": "markdown",
      "metadata": {
        "id": "pVHKOUWLcC9-"
      },
      "source": [
        "Utilizando la sintáxis anterior tendríamos:"
      ]
    },
    {
      "cell_type": "code",
      "metadata": {
        "colab": {
          "base_uri": "https://localhost:8080/"
        },
        "id": "JrvHVNMOC011",
        "outputId": "78ca57b0-61c3-426e-ca78-778ecb9684b6"
      },
      "source": [
        "print(*l) #equivalente a print(l[0], l[1], l[2]) "
      ],
      "execution_count": null,
      "outputs": [
        {
          "output_type": "stream",
          "text": [
            "1 2 3\n"
          ],
          "name": "stdout"
        }
      ]
    },
    {
      "cell_type": "markdown",
      "metadata": {
        "id": "-p3Z0kgoPmra"
      },
      "source": [
        "Podemos aprovecharnos de este hecho para modificar la función `my_print` a la hora de la llamada de la función `print`:"
      ]
    },
    {
      "cell_type": "code",
      "metadata": {
        "id": "aE75liH5N6ec",
        "colab": {
          "base_uri": "https://localhost:8080/"
        },
        "outputId": "c3925144-5af0-45e7-a03a-c3b6011ca28d"
      },
      "source": [
        "def my_print(*args):\n",
        "  print(*args)\n",
        "\n",
        "my_print(*l)"
      ],
      "execution_count": null,
      "outputs": [
        {
          "output_type": "stream",
          "text": [
            "1 2 3\n"
          ],
          "name": "stdout"
        }
      ]
    },
    {
      "cell_type": "markdown",
      "metadata": {
        "id": "YcT-YRRnPvDz"
      },
      "source": [
        "Cabe resaltar que la llamada de una función con esta sintáxis funciona independientemente de si se ha declarado la función con `*args` o no. Veamos un ejemplo:"
      ]
    },
    {
      "cell_type": "code",
      "metadata": {
        "id": "WKgGY5dMPqI_"
      },
      "source": [
        "# definicion de la funcion\n",
        "def suma(a, b):\n",
        "  return a+b"
      ],
      "execution_count": null,
      "outputs": []
    },
    {
      "cell_type": "code",
      "metadata": {
        "colab": {
          "base_uri": "https://localhost:8080/"
        },
        "id": "Q8Zqxft8cvO7",
        "outputId": "c81db44f-e169-4384-f513-3b342e0a225d"
      },
      "source": [
        "# llamada de la funcion utilizando *\n",
        "l = [1, 1]\n",
        "\n",
        "suma(*l)"
      ],
      "execution_count": null,
      "outputs": [
        {
          "output_type": "execute_result",
          "data": {
            "text/plain": [
              "2"
            ]
          },
          "metadata": {
            "tags": []
          },
          "execution_count": 23
        }
      ]
    },
    {
      "cell_type": "markdown",
      "metadata": {
        "id": "8SQXYLOHP0yw"
      },
      "source": [
        "Podemos aprovecharnos de esta funcionalidad para generar listas rápidamente a partir de objetos iterables (sin utilizar el constructor `list`)"
      ]
    },
    {
      "cell_type": "code",
      "metadata": {
        "colab": {
          "base_uri": "https://localhost:8080/"
        },
        "id": "0Vm7pBh9dbjp",
        "outputId": "82b8ab92-6ba0-4e60-a0c8-ebeca1b1e992"
      },
      "source": [
        "# objeto iterable (no es una lista)\n",
        "range(2)"
      ],
      "execution_count": null,
      "outputs": [
        {
          "output_type": "execute_result",
          "data": {
            "text/plain": [
              "range(0, 2)"
            ]
          },
          "metadata": {
            "tags": []
          },
          "execution_count": 27
        }
      ]
    },
    {
      "cell_type": "code",
      "metadata": {
        "id": "UrLP2tJuPx8n",
        "colab": {
          "base_uri": "https://localhost:8080/"
        },
        "outputId": "4cf7bcc7-5637-4936-fea4-a880f38887c7"
      },
      "source": [
        "# conversion a lista\n",
        "list(range(2))"
      ],
      "execution_count": null,
      "outputs": [
        {
          "output_type": "execute_result",
          "data": {
            "text/plain": [
              "[0, 1]"
            ]
          },
          "metadata": {
            "tags": []
          },
          "execution_count": 29
        }
      ]
    },
    {
      "cell_type": "code",
      "metadata": {
        "colab": {
          "base_uri": "https://localhost:8080/"
        },
        "id": "XVR1ljT3dj7k",
        "outputId": "23b19421-667f-4d96-fec9-3b75296995b0"
      },
      "source": [
        "# equivalentemente\n",
        "[*range(2)]"
      ],
      "execution_count": null,
      "outputs": [
        {
          "output_type": "execute_result",
          "data": {
            "text/plain": [
              "[0, 1]"
            ]
          },
          "metadata": {
            "tags": []
          },
          "execution_count": 30
        }
      ]
    },
    {
      "cell_type": "markdown",
      "metadata": {
        "id": "AmcjRXFeP9h4"
      },
      "source": [
        "**Ejercicio 1:** Escriba un programa que calcule el promedio de n números enteros."
      ]
    },
    {
      "cell_type": "code",
      "metadata": {
        "id": "80BYPIeEP3b6"
      },
      "source": [
        "def promedio(*numeros):\n",
        "  \"\"\"\n",
        "  retorna el promedio de un \n",
        "  numero arbitrario de numeros\n",
        "  \"\"\"\n",
        "  return sum(numeros)/len(numeros)"
      ],
      "execution_count": null,
      "outputs": []
    },
    {
      "cell_type": "code",
      "metadata": {
        "id": "9WbcGKxpDles"
      },
      "source": [
        "# tomando multiples numeros por parte\n",
        "# de un usuario externo\n",
        "n = int(input(\"¿Cuantos numeros desea ingresar?: \"))\n",
        "\n",
        "print(f\"Ingrese los {n} numeros\")\n",
        "nums = [int(input()) for _ in range(n)]\n",
        "\n",
        "print(f\"El promedio es: {promedio(*nums)}\")"
      ],
      "execution_count": null,
      "outputs": []
    },
    {
      "cell_type": "markdown",
      "metadata": {
        "id": "yvRclc-RQWCe"
      },
      "source": [
        "**kwargs**: Al igual que con `*args`, podemos utilizar el argumento por longitud variable `*kwargs` para capturar un número indefinido de argumentos por palabra clave. \n",
        "\n",
        "Un doble `**` antes de una variable significa *expandir esto como un diccionario*"
      ]
    },
    {
      "cell_type": "code",
      "metadata": {
        "id": "FISGVMERNrdH",
        "colab": {
          "base_uri": "https://localhost:8080/"
        },
        "outputId": "763e0a8f-2d80-4f68-afcc-3351497c90bf"
      },
      "source": [
        "def my_print(*args, **kwargs):\n",
        "  print(*args, **kwargs)\n",
        "\n",
        "my_print(1, 2, sep=\",\")"
      ],
      "execution_count": null,
      "outputs": [
        {
          "output_type": "stream",
          "text": [
            "1,2\n"
          ],
          "name": "stdout"
        }
      ]
    },
    {
      "cell_type": "markdown",
      "metadata": {
        "id": "nbEkUxjtQh1Z"
      },
      "source": [
        "de forma análoga al caso anterior, podemos utilizar esta sintáxis a la hora de llamar la función:"
      ]
    },
    {
      "cell_type": "code",
      "metadata": {
        "id": "nPBy72nhQd1_",
        "colab": {
          "base_uri": "https://localhost:8080/"
        },
        "outputId": "8c8c5e70-5c0d-4dff-bf72-87edba88adf7"
      },
      "source": [
        "dic = dict(sep=\",\")\n",
        "\n",
        "my_print(1, 2, **dic)"
      ],
      "execution_count": null,
      "outputs": [
        {
          "output_type": "stream",
          "text": [
            "1,2\n"
          ],
          "name": "stdout"
        }
      ]
    },
    {
      "cell_type": "markdown",
      "metadata": {
        "id": "4JyMsBPZRC3k"
      },
      "source": [
        "<p><a name=\"lam\"></a></p>\n",
        "\n",
        "# **Funciones Anónimas**\n",
        "\n",
        "Estas funciones no se declaran de la manera estándar utilizando la palabra clave `def`. Podemos usar la palabra clave `lambda` para crear pequeñas funciones anónimas en una sola línea. La sintáxis general es de la forma:\n",
        "\n",
        "> \n",
        "\n",
        "    lambda arg1, arg2, ... : expresion(arg1, arg2, ...)\n",
        "\n",
        "Por ejemplo, la función `suma` que definimos anteriormente"
      ]
    },
    {
      "cell_type": "code",
      "metadata": {
        "id": "0QWuPkm-Qj-1",
        "colab": {
          "base_uri": "https://localhost:8080/"
        },
        "outputId": "c6512ad5-a4d3-4c83-c110-ecf469d44d4f"
      },
      "source": [
        "def suma(a, b):\n",
        "  return a+b\n",
        "\n",
        "print(suma)"
      ],
      "execution_count": null,
      "outputs": [
        {
          "output_type": "stream",
          "text": [
            "<function suma at 0x7ff895101830>\n"
          ],
          "name": "stdout"
        }
      ]
    },
    {
      "cell_type": "markdown",
      "metadata": {
        "id": "WcJI1bDtwvCl"
      },
      "source": [
        "Tomaría la forma"
      ]
    },
    {
      "cell_type": "code",
      "metadata": {
        "id": "oqNMVCIjRNsQ",
        "colab": {
          "base_uri": "https://localhost:8080/"
        },
        "outputId": "91695be3-2616-465c-c9ac-41298a93cb9f"
      },
      "source": [
        "suma = lambda x, y: x + y \n",
        "\n",
        "print(suma)"
      ],
      "execution_count": null,
      "outputs": [
        {
          "output_type": "stream",
          "text": [
            "<function <lambda> at 0x7ff895086560>\n"
          ],
          "name": "stdout"
        }
      ]
    },
    {
      "cell_type": "markdown",
      "metadata": {
        "id": "8A9RvpnBw5Rz"
      },
      "source": [
        "Note la equivalencia entre ambas sintáxis. \n",
        "\n",
        "La función creada de forma estándar tiene como nombre `suma`, mientras que la función anónima tiene como nombre `<lambda>` y no `suma`, de ahí que se conozcan como *funciones anónimas*.\n",
        "\n",
        "Con esta nueva sintáxis podemos utilizar los argumentos requeridos y los argumentos por palabra clave, así como los argumentos de longitud variable"
      ]
    },
    {
      "cell_type": "code",
      "metadata": {
        "id": "ByBv08maRPPi"
      },
      "source": [
        "my_print = lambda *args, **kwargs: print(*args, **kwargs)"
      ],
      "execution_count": null,
      "outputs": []
    },
    {
      "cell_type": "code",
      "metadata": {
        "id": "oJo9BVzDTbgM",
        "colab": {
          "base_uri": "https://localhost:8080/"
        },
        "outputId": "03f8790d-5f7d-4d00-855c-7c1ded65e232"
      },
      "source": [
        "my_print(1, 2, 3, sep=\"|\")"
      ],
      "execution_count": null,
      "outputs": [
        {
          "output_type": "stream",
          "text": [
            "1|2|3\n"
          ],
          "name": "stdout"
        }
      ]
    },
    {
      "cell_type": "markdown",
      "metadata": {
        "id": "o7QKtpNSJYp5"
      },
      "source": [
        "<p><a name=\"num\"></a></p>\n",
        "\n",
        "# **NumPy** "
      ]
    },
    {
      "cell_type": "markdown",
      "metadata": {
        "id": "8wmFVi1nJM65"
      },
      "source": [
        "**Variable en C**\n",
        "\n",
        "![variables in C](https://i.imgur.com/0RQOTQ0.png)"
      ]
    },
    {
      "cell_type": "markdown",
      "metadata": {
        "id": "PzH3BBCLg7Hx"
      },
      "source": [
        "La implementación estándar de Python está escrita en C. Esto significa que cada objeto de Python es simplemente una estructura de C, que contiene no solo su valor, sino también otra información.\n",
        "\n",
        "Ya hemos visto que cuando definimos una variable en Python, esta es en realidad un puntero (a una estructura compuesta de C), que contiene ciertos valores diferentes: referencia, tipo, tamaño, valor, etc."
      ]
    },
    {
      "cell_type": "markdown",
      "metadata": {
        "id": "NmzK_fcvJOpy"
      },
      "source": [
        "**Variable en Python**\n",
        "\n",
        "![](https://i.imgur.com/F3IQqwE.png)"
      ]
    },
    {
      "cell_type": "markdown",
      "metadata": {
        "id": "vfx3HLMwJQ1q"
      },
      "source": [
        "Esta característica de Python lo hacen un lenguaje de *tipado dinámico*, de tal manera que no tenemos que definir el tipo de las variables. Por ejemplo, podemos generar listas donde cada uno de sus elementos pueden ser de cualquier tipo:"
      ]
    },
    {
      "cell_type": "code",
      "metadata": {
        "id": "zfpJIs2pJSOc",
        "colab": {
          "base_uri": "https://localhost:8080/"
        },
        "outputId": "c0920407-45e3-43ff-b857-4e47a2fd93fe"
      },
      "source": [
        "L = [True, \"2\", 3.0, 4]\n",
        "\n",
        "[type(i) for i in L]"
      ],
      "execution_count": null,
      "outputs": [
        {
          "output_type": "execute_result",
          "data": {
            "text/plain": [
              "[bool, str, float, int]"
            ]
          },
          "metadata": {
            "tags": []
          },
          "execution_count": 39
        }
      ]
    },
    {
      "cell_type": "markdown",
      "metadata": {
        "id": "nFg-kup8JTx8"
      },
      "source": [
        "Esta flexibilidad tiene un costo: cada elemento de la lista debe contener su propia información, es decir, cada elemento es un objeto completo de Python. En el caso especial en que todas las variables sean del mismo tipo, gran parte de esta información es redundante: puede ser mucho más eficiente almacenar datos en una lista de un tipo homogéneo. \n",
        "\n",
        "Python ofrece diferentes opciones para almacenar datos de esta manera (por ejemplo a través del módulo `array`). Sin embargo, la mejor manera de generar este tipo de objetos es a través de la libreria NumPy.\n",
        "\n"
      ]
    },
    {
      "cell_type": "markdown",
      "metadata": {
        "id": "V8n5PwYWJWBi"
      },
      "source": [
        "**Numpy (Numerical Python)**\n",
        "\n",
        "En el núcleo de la mayoría de los problemas encontramos un **arreglo**. Desde el punto de vista computacional, un arreglo es un bloque contiguo de memoria donde cada elemento tiene el mismo tipo.\n",
        "\n",
        "Los diferentes lenguajes de programación utilizados en computación científica tienen alguna noción de manejo de datos basado en arreglos, ya sea integrado en el lenguaje propio o a través de paquetes proporcionados por terceros.\n",
        "\n",
        "NumPy es el paquete fundamental para la computación científica en Python. Es una libreria que proporciona herramientas para la generación de arreglos y una variedad de funcionalidades para realizar operaciones sobre estos, que generalmente se realizan de una manera más eficiente que lo que se puede lograr con funcionalidades propias de Python. NumPy sirve como bloque básico para una gran cantidad de paquetes científicos y de análisis de datos:\n",
        "\n",
        "\n",
        "\n"
      ]
    },
    {
      "cell_type": "markdown",
      "metadata": {
        "id": "8XJAacq2Jp_c"
      },
      "source": [
        "<p><img alt=\"Colaboratory logo\" height=\"640px\" src=\"https://media.springernature.com/full/springer-static/image/art%3A10.1038%2Fs41586-020-2649-2/MediaObjects/41586_2020_2649_Fig2_HTML.png?as=webp\" align=\"left\" hspace=\"10px\" vspace=\"0px\"></p>"
      ]
    },
    {
      "cell_type": "markdown",
      "metadata": {
        "id": "-wxz0BK9J3Bk"
      },
      "source": [
        "<p><a name=\"arr\"></a></p>\n",
        "\n",
        "# **Arreglos en Numpy**\n",
        "\n",
        "En el núcleo de NumPy, está el objeto `ndarray` (n-dimensional array). Este encapsula **arreglos n-dimensionales** de tipos de datos homogéneos, con muchas **operaciones que se realizan en código compilado**, con lo cual se mejora el rendimiento significativamente. \n",
        "\n",
        "La diferencia entre una lista de tipo dinámico y un arreglo de tipo fijo (al estilo NumPy) se ilustra en la siguiente figura:"
      ]
    },
    {
      "cell_type": "markdown",
      "metadata": {
        "id": "awAI4zAOKC3i"
      },
      "source": [
        "<p><img alt=\"Colaboratory logo\" height=\"350px\" src=\"https://i.imgur.com/8EbyB0c.png\" align=\"left\" hspace=\"10px\" vspace=\"0px\"></p>"
      ]
    },
    {
      "cell_type": "markdown",
      "metadata": {
        "id": "WOhKMUlCKE-R"
      },
      "source": [
        "Al nivel de implementación, el arreglo contiene esencialmente un puntero único a un bloque contiguo de datos. La lista de Python, por otro lado, contiene un puntero a un bloque de punteros, cada uno de los cuales a su vez apunta a un objeto completo de Python como el entero de Python que vimos anteriormente.\n",
        "\n",
        "En resumen, estas son las diferencias más importantes entre los arreglos de NumPy y las secuencias estándar de Python:\n",
        "\n",
        "* Todos los elementos en un arreglo de NumPy deben ser del mismo tipo de dato y, por lo tanto, tendrán el mismo tamaño en memoria.\n",
        "* Los arreglos de NumPy tienen un tamaño fijo en la creación, a diferencia de las listas de Python (que pueden crecer dinámicamente). Cambiar el tamaño de un `ndarray` creará un nuevo arreglo y eliminará el original.\n",
        "* Los arreglos de NumPy facilitan operaciones avanzadas matemáticas y de otro tipo en grandes cantidades de datos. Típicamente, tales operaciones se ejecutan de manera más eficiente que usando las secuencias integradas de Python.\n",
        "\n"
      ]
    },
    {
      "cell_type": "markdown",
      "metadata": {
        "id": "cnpFPeibKCwv"
      },
      "source": [
        "\n",
        "\n",
        "Por convención, la librería NumPy se import con el alias `np`"
      ]
    },
    {
      "cell_type": "code",
      "metadata": {
        "id": "stPR-gJaKIcL"
      },
      "source": [
        "import numpy as np"
      ],
      "execution_count": null,
      "outputs": []
    },
    {
      "cell_type": "markdown",
      "metadata": {
        "id": "A6O6h8edKJ73"
      },
      "source": [
        "Podemos construir un objeto `ndarray`, a partir de una lista de Python, mediante el constructor `array`:\n"
      ]
    },
    {
      "cell_type": "code",
      "metadata": {
        "id": "rUj1o0WuKLWf",
        "colab": {
          "base_uri": "https://localhost:8080/"
        },
        "outputId": "b7aae72e-1e8a-4d87-eac4-2955e874cdfb"
      },
      "source": [
        "x = np.array([1, 2, 3, 4])\n",
        "x"
      ],
      "execution_count": null,
      "outputs": [
        {
          "output_type": "execute_result",
          "data": {
            "text/plain": [
              "array([1, 2, 3, 4])"
            ]
          },
          "metadata": {
            "tags": []
          },
          "execution_count": 41
        }
      ]
    },
    {
      "cell_type": "code",
      "metadata": {
        "colab": {
          "base_uri": "https://localhost:8080/"
        },
        "id": "cIqlydolYwzH",
        "outputId": "2dcc29c0-e3e4-44c3-e75c-934ed7c25090"
      },
      "source": [
        "type(x)"
      ],
      "execution_count": null,
      "outputs": [
        {
          "output_type": "execute_result",
          "data": {
            "text/plain": [
              "numpy.ndarray"
            ]
          },
          "metadata": {
            "tags": []
          },
          "execution_count": 42
        }
      ]
    },
    {
      "cell_type": "markdown",
      "metadata": {
        "id": "cPex7IXJKP-w"
      },
      "source": [
        "El objeto `ndarray` representa efectivamente un bloque de memoria de tamaño fijo, el cual contiene una serie de atributos y métodos que definen su estructura. Veamos algunos de los atributos más importantes de este objeto:\n",
        "\n"
      ]
    },
    {
      "cell_type": "markdown",
      "metadata": {
        "id": "fscZEmXxV6wR"
      },
      "source": [
        "**dtype:** \n",
        "\n",
        "Este determina el tipo de dato de cada elemento del arreglo. El sistema predeterminado de *dtypes* que proporciona NumPy es más preciso y más amplio para los tipos básicos que el sistema de tipos que implementa el lenguaje Python"
      ]
    },
    {
      "cell_type": "code",
      "metadata": {
        "id": "oj04p9PZKN9-",
        "colab": {
          "base_uri": "https://localhost:8080/"
        },
        "outputId": "aab024ac-3746-45f4-cae1-c3c52419d65f"
      },
      "source": [
        "x.dtype"
      ],
      "execution_count": null,
      "outputs": [
        {
          "output_type": "execute_result",
          "data": {
            "text/plain": [
              "dtype('int64')"
            ]
          },
          "metadata": {
            "tags": []
          },
          "execution_count": 43
        }
      ]
    },
    {
      "cell_type": "markdown",
      "metadata": {
        "id": "6355VBYaKUjO"
      },
      "source": [
        "<p><img alt=\"Colaboratory logo\" height=\"400px\" src=\"https://i.imgur.com/2RpU9w1.png\" align=\"left\" hspace=\"10px\" vspace=\"0px\"></p>"
      ]
    },
    {
      "cell_type": "markdown",
      "metadata": {
        "id": "mhnvs_-nYZP2"
      },
      "source": [
        "Podemos definir el tipo de dato a la hora de la creación del arreglo utilizando el kwarg `dtype`"
      ]
    },
    {
      "cell_type": "code",
      "metadata": {
        "colab": {
          "base_uri": "https://localhost:8080/"
        },
        "id": "lcrbAcNGYLmH",
        "outputId": "be000bc7-3cea-495d-9939-3e5a5acfef3a"
      },
      "source": [
        "np.array([1, 2, 3], dtype=\"int8\")"
      ],
      "execution_count": null,
      "outputs": [
        {
          "output_type": "execute_result",
          "data": {
            "text/plain": [
              "array([1, 2, 3], dtype=int8)"
            ]
          },
          "metadata": {
            "tags": []
          },
          "execution_count": 45
        }
      ]
    },
    {
      "cell_type": "markdown",
      "metadata": {
        "id": "ikDXPQ18KXAW"
      },
      "source": [
        "**shape:** \n",
        "\n",
        "Tupla de enteros que representa el rango a lo largo de cada dimensión de los arreglos n-dimensionales."
      ]
    },
    {
      "cell_type": "markdown",
      "metadata": {
        "id": "QkkB9uMWV1LS"
      },
      "source": [
        "<p><img alt=\"Colaboratory logo\" height=\"400px\" src=\"https://i.imgur.com/Bbs8Ijp.png\" align=\"left\" hspace=\"10px\" vspace=\"0px\"></p>\n"
      ]
    },
    {
      "cell_type": "code",
      "metadata": {
        "colab": {
          "base_uri": "https://localhost:8080/"
        },
        "id": "K-iCgv2YXdj7",
        "outputId": "b445ec20-dae2-4bb8-d637-ce4b6a9e7307"
      },
      "source": [
        "# arreglo\n",
        "x"
      ],
      "execution_count": null,
      "outputs": [
        {
          "output_type": "execute_result",
          "data": {
            "text/plain": [
              "array([1, 2, 3, 4])"
            ]
          },
          "metadata": {
            "tags": []
          },
          "execution_count": 46
        }
      ]
    },
    {
      "cell_type": "code",
      "metadata": {
        "id": "jcdb2F1KKTJn",
        "colab": {
          "base_uri": "https://localhost:8080/"
        },
        "outputId": "bcbbcbf5-c5ac-42ca-a2a5-9a54ff4bffe8"
      },
      "source": [
        "# forma del arreglo\n",
        "x.shape"
      ],
      "execution_count": null,
      "outputs": [
        {
          "output_type": "execute_result",
          "data": {
            "text/plain": [
              "(4,)"
            ]
          },
          "metadata": {
            "tags": []
          },
          "execution_count": 47
        }
      ]
    },
    {
      "cell_type": "markdown",
      "metadata": {
        "id": "dQsiLzT2Kdob"
      },
      "source": [
        "La forma `(4,)`, nos dice que `x` es un arreglo unidimensional, donde la dimensión tiene un rango 4. La dimensión y el número de elementos del arreglo se pueden obtener mediante los atributos `ndim` y `size`, respectivamente:"
      ]
    },
    {
      "cell_type": "code",
      "metadata": {
        "id": "73eupSzBKcXo",
        "colab": {
          "base_uri": "https://localhost:8080/"
        },
        "outputId": "42dfaa46-a787-451a-b591-deefda035a34"
      },
      "source": [
        "# dimension del arreglo\n",
        "x.ndim"
      ],
      "execution_count": null,
      "outputs": [
        {
          "output_type": "execute_result",
          "data": {
            "text/plain": [
              "1"
            ]
          },
          "metadata": {
            "tags": []
          },
          "execution_count": 48
        }
      ]
    },
    {
      "cell_type": "code",
      "metadata": {
        "id": "vYNv-2KFKgjr",
        "colab": {
          "base_uri": "https://localhost:8080/"
        },
        "outputId": "573ae7f0-ef4b-4c23-a3b6-1531380a0049"
      },
      "source": [
        "# numero de elementos del arreglo\n",
        "x.size"
      ],
      "execution_count": null,
      "outputs": [
        {
          "output_type": "execute_result",
          "data": {
            "text/plain": [
              "4"
            ]
          },
          "metadata": {
            "tags": []
          },
          "execution_count": 57
        }
      ]
    },
    {
      "cell_type": "markdown",
      "metadata": {
        "id": "TWCN3cPxKh9V"
      },
      "source": [
        "Podemos modificar la forma del arreglo modificando el atributo `shape` directamente"
      ]
    },
    {
      "cell_type": "code",
      "metadata": {
        "id": "5kR6vxNBKjeI",
        "colab": {
          "base_uri": "https://localhost:8080/"
        },
        "outputId": "f71e72c6-d0a5-4c94-b536-b0d9ef29aea8"
      },
      "source": [
        "x.shape = (2,2)\n",
        "x"
      ],
      "execution_count": null,
      "outputs": [
        {
          "output_type": "execute_result",
          "data": {
            "text/plain": [
              "array([[1, 2],\n",
              "       [3, 4]])"
            ]
          },
          "metadata": {
            "tags": []
          },
          "execution_count": 58
        }
      ]
    },
    {
      "cell_type": "markdown",
      "metadata": {
        "id": "twZZLu9SKlJc"
      },
      "source": [
        "Alternativamente, NumPy proporciona el método `reshape`, con el cual podemos cambiar la forma de un arreglo. Este toma como argumento el arreglo a modificar y un entero o tupla que represente la nueva forma. Esta nueva forma debe ser compatible con el número de elementos que tenga el arreglo. \n",
        "\n",
        "Cambiemos la forma de `x` para tener un *vector columna*:"
      ]
    },
    {
      "cell_type": "code",
      "metadata": {
        "colab": {
          "base_uri": "https://localhost:8080/"
        },
        "id": "fD7fEV8qjp_V",
        "outputId": "c051c62d-352b-4b45-b42e-832b2218aa18"
      },
      "source": [
        "# vector columna a partir de x\n",
        "np.reshape(x, (4,1))"
      ],
      "execution_count": null,
      "outputs": [
        {
          "output_type": "execute_result",
          "data": {
            "text/plain": [
              "array([[1],\n",
              "       [2],\n",
              "       [3],\n",
              "       [4]])"
            ]
          },
          "metadata": {
            "tags": []
          },
          "execution_count": 64
        }
      ]
    },
    {
      "cell_type": "markdown",
      "metadata": {
        "id": "HcRtktPZj7G1"
      },
      "source": [
        "Note que en este caso utilizamos pasamos el arreglo como argumento de la función `np.reshape`. Alternativamente, podemos utilizar esta función como si fuera un método del arreglo:"
      ]
    },
    {
      "cell_type": "code",
      "metadata": {
        "id": "kx8ydsY5KmuN",
        "colab": {
          "base_uri": "https://localhost:8080/"
        },
        "outputId": "f752681d-897f-4671-f212-baba19cc96d5"
      },
      "source": [
        "# vector columna a partir de l\n",
        "x.reshape(4,1)"
      ],
      "execution_count": null,
      "outputs": [
        {
          "output_type": "execute_result",
          "data": {
            "text/plain": [
              "array([[1],\n",
              "       [2],\n",
              "       [3],\n",
              "       [4]])"
            ]
          },
          "metadata": {
            "tags": []
          },
          "execution_count": 63
        }
      ]
    },
    {
      "cell_type": "markdown",
      "metadata": {
        "id": "viIWWx6LKoJ3"
      },
      "source": [
        "NumPy nos permite pasar una de las dimensiones como `-1`. De esta manera, Numpy se encargará de que el rango en esa dimensión sea compatible con el arreglo original y con el rango de la dimensión que se fijó:"
      ]
    },
    {
      "cell_type": "code",
      "metadata": {
        "id": "B1H-sluGKqZs",
        "colab": {
          "base_uri": "https://localhost:8080/"
        },
        "outputId": "60904ad7-518b-4e9b-99c6-58b47a88f2f2"
      },
      "source": [
        "# fijando el numero de filas\n",
        "x.reshape(4,-1)"
      ],
      "execution_count": null,
      "outputs": [
        {
          "output_type": "execute_result",
          "data": {
            "text/plain": [
              "array([[1],\n",
              "       [2],\n",
              "       [3],\n",
              "       [4]])"
            ]
          },
          "metadata": {
            "tags": []
          },
          "execution_count": 69
        }
      ]
    },
    {
      "cell_type": "code",
      "metadata": {
        "id": "Rii32_mZKsg-",
        "colab": {
          "base_uri": "https://localhost:8080/"
        },
        "outputId": "746cc3ff-a984-48fd-e405-61344b89d872"
      },
      "source": [
        "# fijando el numero de columnas\n",
        "x.reshape(-1,4)"
      ],
      "execution_count": null,
      "outputs": [
        {
          "output_type": "execute_result",
          "data": {
            "text/plain": [
              "array([[1, 2, 3, 4]])"
            ]
          },
          "metadata": {
            "tags": []
          },
          "execution_count": 70
        }
      ]
    },
    {
      "cell_type": "markdown",
      "metadata": {
        "id": "8X76jCqMkm61"
      },
      "source": [
        "Note que el método `reshape` es simplemente una vista del arreglo original (una copia), por lo que no se ha modificado su forma:"
      ]
    },
    {
      "cell_type": "code",
      "metadata": {
        "colab": {
          "base_uri": "https://localhost:8080/"
        },
        "id": "mlMZAkIPkv2A",
        "outputId": "1f4c9bd5-05a2-4083-f701-c7b38820b90e"
      },
      "source": [
        "x"
      ],
      "execution_count": null,
      "outputs": [
        {
          "output_type": "execute_result",
          "data": {
            "text/plain": [
              "array([[1, 2],\n",
              "       [3, 4]])"
            ]
          },
          "metadata": {
            "tags": []
          },
          "execution_count": 72
        }
      ]
    },
    {
      "cell_type": "markdown",
      "metadata": {
        "id": "x077F6R7k2yA"
      },
      "source": [
        "Si queremos cambiar la forma del arreglo podemos modificar directamente el atributo `shape` o redefinir el arreglo con `reshape` como ya hemos visto en otros contextos."
      ]
    },
    {
      "cell_type": "markdown",
      "metadata": {
        "id": "AQbDItkGKv2u"
      },
      "source": [
        "**Formas alternativas de construir arreglos:** \n",
        "\n",
        "NumPy proporciona formas alternativas de crear arreglos. Las funciones más comunes son `arange`, `linspace` `zeros`, `ones`, `full` y `empty`. "
      ]
    },
    {
      "cell_type": "markdown",
      "metadata": {
        "id": "tFo35ROIKywU"
      },
      "source": [
        "* La función `arange()` toma un inicio, final y un paso como la función `range()` de Python, excepto que devuelve un `ndarray` y que el paso puede ser un número real\n",
        "\n",
        "> \n",
        "    np.arange(inicio, final, paso)"
      ]
    },
    {
      "cell_type": "code",
      "metadata": {
        "id": "HvcMl4-DKtxY",
        "colab": {
          "base_uri": "https://localhost:8080/"
        },
        "outputId": "efd2bdb3-599a-4d2b-aef2-d0667fc6e7ef"
      },
      "source": [
        "# arreglo de 1 a 9 con paso 2\n",
        "np.arange(1,10,2)"
      ],
      "execution_count": null,
      "outputs": [
        {
          "output_type": "execute_result",
          "data": {
            "text/plain": [
              "array([1, 3, 5, 7, 9])"
            ]
          },
          "metadata": {
            "tags": []
          },
          "execution_count": 74
        }
      ]
    },
    {
      "cell_type": "code",
      "metadata": {
        "colab": {
          "base_uri": "https://localhost:8080/"
        },
        "id": "4aYB8HwTZRFm",
        "outputId": "6e888c74-6baf-43d4-c58f-4d3623e7d5f0"
      },
      "source": [
        "# arreglo de 1 a 9 con paso 1.5\n",
        "np.arange(1,10,1.5)"
      ],
      "execution_count": null,
      "outputs": [
        {
          "output_type": "execute_result",
          "data": {
            "text/plain": [
              "array([1. , 2.5, 4. , 5.5, 7. , 8.5])"
            ]
          },
          "metadata": {
            "tags": []
          },
          "execution_count": 75
        }
      ]
    },
    {
      "cell_type": "markdown",
      "metadata": {
        "id": "Q9catUZpK2OM"
      },
      "source": [
        "- La función `linspace` crea una serie de puntos uniformemente entre un límite inferior y superior que incluye ambos extremos. Su sintáxis es de la forma:\n",
        "\n",
        "> \n",
        "    np.linspace(inicio, final, numero de puntos)"
      ]
    },
    {
      "cell_type": "code",
      "metadata": {
        "id": "RcVBBuzrK03C",
        "colab": {
          "base_uri": "https://localhost:8080/"
        },
        "outputId": "b465afc6-1d8b-4e68-e154-d191d00e37fd"
      },
      "source": [
        "# arreglo de -1 a 1 con 10 puntos\n",
        "np.linspace(-1, 1, 10)"
      ],
      "execution_count": null,
      "outputs": [
        {
          "output_type": "execute_result",
          "data": {
            "text/plain": [
              "array([-1.        , -0.77777778, -0.55555556, -0.33333333, -0.11111111,\n",
              "        0.11111111,  0.33333333,  0.55555556,  0.77777778,  1.        ])"
            ]
          },
          "metadata": {
            "tags": []
          },
          "execution_count": 77
        }
      ]
    },
    {
      "cell_type": "markdown",
      "metadata": {
        "id": "9ZNqqCx9K5lH"
      },
      "source": [
        "- Las funciones `zeros()` y `ones()` toman un entero o una tupla de enteros como argumento y devuelven un `ndarray` cuya forma coincide con la de la tupla y cuyos elementos son cero o uno:"
      ]
    },
    {
      "cell_type": "code",
      "metadata": {
        "id": "rtX6sTrvK4NK",
        "colab": {
          "base_uri": "https://localhost:8080/"
        },
        "outputId": "0e65f975-e355-4ad3-d9ea-77d475ad6dee"
      },
      "source": [
        "# crear un arreglo de forma (2,2) llenado con ceros\n",
        "np.zeros((2,2))"
      ],
      "execution_count": null,
      "outputs": [
        {
          "output_type": "execute_result",
          "data": {
            "text/plain": [
              "array([[0., 0.],\n",
              "       [0., 0.]])"
            ]
          },
          "metadata": {
            "tags": []
          },
          "execution_count": 78
        }
      ]
    },
    {
      "cell_type": "code",
      "metadata": {
        "id": "rwvmiQ41K74q",
        "colab": {
          "base_uri": "https://localhost:8080/"
        },
        "outputId": "a4e63346-19f8-4613-bcb0-03625cd1f0ef"
      },
      "source": [
        "#crear un arreglo de forma (5,) llenado con unos\n",
        "np.ones(5)"
      ],
      "execution_count": null,
      "outputs": [
        {
          "output_type": "execute_result",
          "data": {
            "text/plain": [
              "array([1., 1., 1., 1., 1.])"
            ]
          },
          "metadata": {
            "tags": []
          },
          "execution_count": 79
        }
      ]
    },
    {
      "cell_type": "markdown",
      "metadata": {
        "id": "4vtA_-cnK-Ob"
      },
      "source": [
        "- La función `full()` funciona de manera similar a `zeros()` y `ones()`, solo que podemos llenar el arreglo con cualquier valor:"
      ]
    },
    {
      "cell_type": "code",
      "metadata": {
        "id": "cmIBmfozK_xY",
        "colab": {
          "base_uri": "https://localhost:8080/"
        },
        "outputId": "5c796bc1-6136-4a50-8355-7c19a159fc5f"
      },
      "source": [
        "#crear un arreglo de forma (2,2) llenado con pi\n",
        "np.full((2,2), np.pi)"
      ],
      "execution_count": null,
      "outputs": [
        {
          "output_type": "execute_result",
          "data": {
            "text/plain": [
              "array([[3.14159265, 3.14159265],\n",
              "       [3.14159265, 3.14159265]])"
            ]
          },
          "metadata": {
            "tags": []
          },
          "execution_count": 80
        }
      ]
    },
    {
      "cell_type": "markdown",
      "metadata": {
        "id": "wTY7BOqZLCBu"
      },
      "source": [
        "- La función `empty()`, por otro lado, asignará memoria sin asignarle ningún valor. Esto significa que el contenido de un arreglo vacío será lo que esté en la memoria en ese momento. Esto es particularmente útil cuando creamos un arreglo cuyos valores serán modificados posteriormente."
      ]
    },
    {
      "cell_type": "code",
      "metadata": {
        "id": "YxGKAKuhK8Ub",
        "colab": {
          "base_uri": "https://localhost:8080/"
        },
        "outputId": "62a2e2ce-1b70-4412-8dbd-389c4e38bacc"
      },
      "source": [
        "#crear un arreglo de 4 elementos \n",
        "np.empty(4)"
      ],
      "execution_count": null,
      "outputs": [
        {
          "output_type": "execute_result",
          "data": {
            "text/plain": [
              "array([3.14159265, 3.14159265, 3.14159265, 3.14159265])"
            ]
          },
          "metadata": {
            "tags": []
          },
          "execution_count": 81
        }
      ]
    },
    {
      "cell_type": "markdown",
      "metadata": {
        "id": "_72gYVahla-p"
      },
      "source": [
        "* En muchas ocaciones vamos a necesitar construir arreglos cuyos elementos se generen de forma aleatoria. En estos casos podemos utilizar el submódulo random de la librería.\n",
        "\n",
        "  * La función `random.rand` genera un arreglo cuyos elementos se muestrean de una distribución uniforme en el intervalo (0,1).\n",
        "\n",
        "    `np.random.rand(shape)`\n"
      ]
    },
    {
      "cell_type": "code",
      "metadata": {
        "colab": {
          "base_uri": "https://localhost:8080/"
        },
        "id": "niypx27qmD8I",
        "outputId": "34fb6f26-7dfd-4385-8612-572e6de7fef0"
      },
      "source": [
        "# arreglo aleatorio de forma (3,3) con números \n",
        "# de punto flotante en el intervalo (0,1)\n",
        "np.random.rand(3,3)"
      ],
      "execution_count": null,
      "outputs": [
        {
          "output_type": "execute_result",
          "data": {
            "text/plain": [
              "array([[0.62999901, 0.3244386 , 0.99671175],\n",
              "       [0.00980343, 0.11953916, 0.48298577],\n",
              "       [0.37776994, 0.6036433 , 0.99450062]])"
            ]
          },
          "metadata": {
            "tags": []
          },
          "execution_count": 85
        }
      ]
    },
    {
      "cell_type": "markdown",
      "metadata": {
        "id": "PnMwX_ZqnBkN"
      },
      "source": [
        "  * La función `random.randint` genera un arreglo aleatorio de números enteros en un rango especifico con una forma dada:\n",
        "\n",
        "  `np.random.randint(limite_inferior, limite_superior, shape)`"
      ]
    },
    {
      "cell_type": "code",
      "metadata": {
        "colab": {
          "base_uri": "https://localhost:8080/"
        },
        "id": "dupJ1mIymcaZ",
        "outputId": "d37d6525-8ba9-4cd6-bd61-e6dc31e82c8f"
      },
      "source": [
        "# arreglo aleatorio de forma (2,2) con números\n",
        "# enteros en el intervalo (10,20) \n",
        "np.random.randint(10, 20, (3,3))"
      ],
      "execution_count": null,
      "outputs": [
        {
          "output_type": "execute_result",
          "data": {
            "text/plain": [
              "array([[14, 11, 15],\n",
              "       [19, 10, 17],\n",
              "       [10, 12, 17]])"
            ]
          },
          "metadata": {
            "tags": []
          },
          "execution_count": 86
        }
      ]
    },
    {
      "cell_type": "markdown",
      "metadata": {
        "id": "ebQhZwq3LFVK"
      },
      "source": [
        "<p><a name=\"ope\"></a></p>\n",
        "\n",
        "# **Operaciones sobre los arreglos**\n",
        "\n",
        "Ahora que hemos visto cómo definir arreglos de NumPy, podemos discutir cómo realizar operaciones sobre los arreglos. La clave para hacer estas operaciones de una forma rápida y eficiente es usar operaciones **vectorizadas**, implementadas a través de las funciones universales de NumPy (ufuncs).\n",
        "\n",
        "Recordemos que la operación de sumar dos listas de Python resulta en la concatenación de dichas listas:\n",
        "\n"
      ]
    },
    {
      "cell_type": "code",
      "metadata": {
        "id": "TEaQtU4fLDpK",
        "colab": {
          "base_uri": "https://localhost:8080/"
        },
        "outputId": "86505285-c381-473c-cca0-aa050acf1d8d"
      },
      "source": [
        "# python\n",
        "l1 = [1, 2, 3]\n",
        "l2 = [4, 5, 6]\n",
        "\n",
        "l1+l2"
      ],
      "execution_count": null,
      "outputs": [
        {
          "output_type": "execute_result",
          "data": {
            "text/plain": [
              "[1, 2, 3, 4, 5, 6]"
            ]
          },
          "metadata": {
            "tags": []
          },
          "execution_count": 87
        }
      ]
    },
    {
      "cell_type": "markdown",
      "metadata": {
        "id": "15xxBR6BLIl4"
      },
      "source": [
        "Si quisieramos sumar elemento a elemento, debemos hacer explícito un ciclo `For` de la siguiente manera (**ver Apéndice**):"
      ]
    },
    {
      "cell_type": "code",
      "metadata": {
        "id": "6ooZher2LHLS",
        "colab": {
          "base_uri": "https://localhost:8080/"
        },
        "outputId": "8fbdea9c-e094-4b24-854e-f46301f10974"
      },
      "source": [
        "# Python\n",
        "l1 = [1, 2, 3]\n",
        "l2 = [4, 5, 6]\n",
        "\n",
        "[i+j for i,j in zip(l1, l2)]"
      ],
      "execution_count": null,
      "outputs": [
        {
          "output_type": "execute_result",
          "data": {
            "text/plain": [
              "[5, 7, 9]"
            ]
          },
          "metadata": {
            "tags": []
          },
          "execution_count": 89
        }
      ]
    },
    {
      "cell_type": "markdown",
      "metadata": {
        "id": "e4vjfucLLL1M"
      },
      "source": [
        "Si realizamos esta misma operación con arreglos de Numpy, obtendremos otra salida:"
      ]
    },
    {
      "cell_type": "code",
      "metadata": {
        "id": "IjUe20LXLKd3",
        "colab": {
          "base_uri": "https://localhost:8080/"
        },
        "outputId": "970bfaee-61df-4f8c-8312-0e4c48adb261"
      },
      "source": [
        "# numpy\n",
        "l1 = np.array([1, 2, 3])\n",
        "l2 = np.array([4, 5, 6])\n",
        "\n",
        "l1+l2"
      ],
      "execution_count": null,
      "outputs": [
        {
          "output_type": "execute_result",
          "data": {
            "text/plain": [
              "array([5, 7, 9])"
            ]
          },
          "metadata": {
            "tags": []
          },
          "execution_count": 90
        }
      ]
    },
    {
      "cell_type": "markdown",
      "metadata": {
        "id": "tOFluCy1LPfz"
      },
      "source": [
        "Como los arreglos son de NumPy, se está realizando lo que se conoce como una operación **vectorizada**, la cual es una operación sobre los arreglos que se realiza **elemento a elemento**, mediante lo que conocemos como funciones universales (ufuncs) de Numpy. \n",
        "\n",
        "Las ufuncs de NumPy se sienten muy naturales de usar porque hacen uso de los operadores aritméticos nativos de Python. \n",
        "\n",
        "La siguiente tabla nos muestra algunas de las funciones universales disponibles en Numpy (ver [documentación](https://numpy.org/doc/stable/reference/ufuncs.html#ufunc))\n",
        "\n",
        "\n",
        "\n",
        "\n",
        "\n",
        " "
      ]
    },
    {
      "cell_type": "markdown",
      "metadata": {
        "id": "4hF_B0MWLfLM"
      },
      "source": [
        "![picture](https://i.imgur.com/8HaZzxg.png)"
      ]
    },
    {
      "cell_type": "markdown",
      "metadata": {
        "id": "bFhatDDwLhPS"
      },
      "source": [
        "Note que estas se muestran en dos versiones: mediante un operador y su correspondiente función universal. Por ejemplo `+` y `np.add`. \n",
        "\n",
        "Como en el ejemplo anterior, si los arreglos son de NumPy, el operador que utilicemos para realizar las operaciones representará la función universal. Si el arreglo no se define como uno de NumPy, y si queremos aplicar una función universal, debemos utilizar la forma explícita de la función universal"
      ]
    },
    {
      "cell_type": "code",
      "metadata": {
        "id": "Exad-mhjLNbD",
        "colab": {
          "base_uri": "https://localhost:8080/"
        },
        "outputId": "1dfb09c9-b30b-46b3-b010-aad4b38fb6fa"
      },
      "source": [
        "# utilizando la ufunc explicitamente\n",
        "l1 = [1, 2, 3]\n",
        "l2 = [4, 5, 6]\n",
        "\n",
        "np.add(l1, l2)"
      ],
      "execution_count": null,
      "outputs": [
        {
          "output_type": "execute_result",
          "data": {
            "text/plain": [
              "array([5, 7, 9])"
            ]
          },
          "metadata": {
            "tags": []
          },
          "execution_count": 91
        }
      ]
    },
    {
      "cell_type": "markdown",
      "metadata": {
        "id": "MtE-fygLLkVT"
      },
      "source": [
        "En el caso de la multiplicacion en Python, la multiplicación de un número entero `n` por una lista `l`, nos \"multiplica\" la lista `l` `n` veces:\n",
        "\n"
      ]
    },
    {
      "cell_type": "code",
      "metadata": {
        "id": "TBwje9s0Lk6n",
        "colab": {
          "base_uri": "https://localhost:8080/"
        },
        "outputId": "21b3822e-92f8-486a-f517-c3e3cc443a8f"
      },
      "source": [
        "# Python\n",
        "n = 2\n",
        "l = [1, 2, 3]\n",
        "\n",
        "n*l"
      ],
      "execution_count": null,
      "outputs": [
        {
          "output_type": "execute_result",
          "data": {
            "text/plain": [
              "[1, 2, 3, 1, 2, 3]"
            ]
          },
          "metadata": {
            "tags": []
          },
          "execution_count": 94
        }
      ]
    },
    {
      "cell_type": "markdown",
      "metadata": {
        "id": "kGD4ZY0LLoGz"
      },
      "source": [
        "Si quisieramos multiplicar el número `n` por cada uno de los elementos de la lista `l` debemos incluir, al igual que en el caso de la suma, un ciclo `For` de forma explícita"
      ]
    },
    {
      "cell_type": "code",
      "metadata": {
        "id": "JlOzVaF9LmNw",
        "colab": {
          "base_uri": "https://localhost:8080/"
        },
        "outputId": "142854a2-f92b-4e0f-8dc4-9b5fe2c89033"
      },
      "source": [
        "[n*elemento for elemento in l]"
      ],
      "execution_count": null,
      "outputs": [
        {
          "output_type": "execute_result",
          "data": {
            "text/plain": [
              "[2, 4, 6]"
            ]
          },
          "metadata": {
            "tags": []
          },
          "execution_count": 96
        }
      ]
    },
    {
      "cell_type": "markdown",
      "metadata": {
        "id": "1_fQQmpwgP9X"
      },
      "source": [
        "Alternativamente podemos utilizar la función `map`, que toma como argumento una función `f` y una secuencia `s`, y nos devuelve un objeto iterable donde se le aplica la función `f` a cada uno de los elementos de `s`.\n",
        "\n",
        "Definamos la función como una función anónima y pasemos la lista `l`:"
      ]
    },
    {
      "cell_type": "code",
      "metadata": {
        "colab": {
          "base_uri": "https://localhost:8080/"
        },
        "id": "kDBg90BUgA76",
        "outputId": "a1c8bc80-cea4-482a-8b1e-95b1100d154a"
      },
      "source": [
        "[*map(lambda x: n*x, l)]"
      ],
      "execution_count": null,
      "outputs": [
        {
          "output_type": "execute_result",
          "data": {
            "text/plain": [
              "[2, 4, 6]"
            ]
          },
          "metadata": {
            "tags": []
          },
          "execution_count": 100
        }
      ]
    },
    {
      "cell_type": "markdown",
      "metadata": {
        "id": "abMGl0wcLrGO"
      },
      "source": [
        "Adicionalmente, la operación de multiplicación entre listas no está definida en Python"
      ]
    },
    {
      "cell_type": "code",
      "metadata": {
        "id": "TiOApEnmLq0v",
        "colab": {
          "base_uri": "https://localhost:8080/",
          "height": 203
        },
        "outputId": "1f36d7e7-1f34-4d7b-f9d2-abd3d669b551"
      },
      "source": [
        "l1 = [1, 2, 3]\n",
        "l2 = [4, 5, 6]\n",
        "\n",
        "l1*l2"
      ],
      "execution_count": null,
      "outputs": [
        {
          "output_type": "error",
          "ename": "TypeError",
          "evalue": "ignored",
          "traceback": [
            "\u001b[0;31m---------------------------------------------------------------------------\u001b[0m",
            "\u001b[0;31mTypeError\u001b[0m                                 Traceback (most recent call last)",
            "\u001b[0;32m<ipython-input-102-4a4b03d7d552>\u001b[0m in \u001b[0;36m<module>\u001b[0;34m()\u001b[0m\n\u001b[1;32m      2\u001b[0m \u001b[0ml2\u001b[0m \u001b[0;34m=\u001b[0m \u001b[0;34m[\u001b[0m\u001b[0;36m4\u001b[0m\u001b[0;34m,\u001b[0m \u001b[0;36m5\u001b[0m\u001b[0;34m,\u001b[0m \u001b[0;36m6\u001b[0m\u001b[0;34m]\u001b[0m\u001b[0;34m\u001b[0m\u001b[0;34m\u001b[0m\u001b[0m\n\u001b[1;32m      3\u001b[0m \u001b[0;34m\u001b[0m\u001b[0m\n\u001b[0;32m----> 4\u001b[0;31m \u001b[0ml1\u001b[0m\u001b[0;34m*\u001b[0m\u001b[0ml2\u001b[0m\u001b[0;34m\u001b[0m\u001b[0;34m\u001b[0m\u001b[0m\n\u001b[0m",
            "\u001b[0;31mTypeError\u001b[0m: can't multiply sequence by non-int of type 'list'"
          ]
        }
      ]
    },
    {
      "cell_type": "markdown",
      "metadata": {
        "id": "QCiFPPGqLtta"
      },
      "source": [
        "En NumPy, ambas operaciones se hacen de forma vectorizada:"
      ]
    },
    {
      "cell_type": "code",
      "metadata": {
        "id": "e_f1RZfULvIS",
        "colab": {
          "base_uri": "https://localhost:8080/"
        },
        "outputId": "b3279ae8-52b2-4088-f614-9b6aa869e4d7"
      },
      "source": [
        "# multiplicacion por una constante\n",
        "l = np.array([1, 2, 3])\n",
        "\n",
        "n*l"
      ],
      "execution_count": null,
      "outputs": [
        {
          "output_type": "execute_result",
          "data": {
            "text/plain": [
              "array([2, 4, 6])"
            ]
          },
          "metadata": {
            "tags": []
          },
          "execution_count": 103
        }
      ]
    },
    {
      "cell_type": "code",
      "metadata": {
        "id": "Jk7k3OafLwlt",
        "colab": {
          "base_uri": "https://localhost:8080/"
        },
        "outputId": "7174b960-988b-474e-e48a-6495e3c69d35"
      },
      "source": [
        "# multiplicacion de arreglos\n",
        "l1 = np.array([1, 2, 3])\n",
        "l2 = np.array([4, 5, 6])\n",
        "\n",
        "l1*l2"
      ],
      "execution_count": null,
      "outputs": [
        {
          "output_type": "execute_result",
          "data": {
            "text/plain": [
              "array([ 4, 10, 18])"
            ]
          },
          "metadata": {
            "tags": []
          },
          "execution_count": 104
        }
      ]
    },
    {
      "cell_type": "markdown",
      "metadata": {
        "id": "imXyKwwSL2kE"
      },
      "source": [
        "Note que ambas operaciones se hacen elemento a elemento, caracteristica de las operaciones vectorizadas implementadas a través de ufuncs. \n",
        "\n",
        "NumPy también incluye funciones para realizar operaciones de álgebra lineal. En el caso de la multiplicación de arreglos, la salida no corresponde a lo que conocemos como producto punto. Para realizar esta operación, tanto en arreglos unidimensionales como n-dimensionales, podemos utilizar la función universal `np.dot` o su operador asociado `@`:\n",
        "\n"
      ]
    },
    {
      "cell_type": "code",
      "metadata": {
        "id": "A5w03xZxLzUY",
        "colab": {
          "base_uri": "https://localhost:8080/"
        },
        "outputId": "b83670a8-0e6b-4ce8-9702-8909a91e1289"
      },
      "source": [
        "# producto punto entre vectores\n",
        "l1 = np.array([1, 2, 3])\n",
        "l2 = np.array([4, 5, 6])\n",
        "\n",
        "l1@l2"
      ],
      "execution_count": null,
      "outputs": [
        {
          "output_type": "execute_result",
          "data": {
            "text/plain": [
              "32"
            ]
          },
          "metadata": {
            "tags": []
          },
          "execution_count": 105
        }
      ]
    },
    {
      "cell_type": "code",
      "metadata": {
        "id": "DCdQCLT7L5zB",
        "colab": {
          "base_uri": "https://localhost:8080/"
        },
        "outputId": "f5f6853a-323f-40eb-c0dc-f2c4080d055e"
      },
      "source": [
        "# producto punto entre matrices\n",
        "A = np.arange(9).reshape(3,3)\n",
        "\n",
        "A@A"
      ],
      "execution_count": null,
      "outputs": [
        {
          "output_type": "execute_result",
          "data": {
            "text/plain": [
              "array([[ 15,  18,  21],\n",
              "       [ 42,  54,  66],\n",
              "       [ 69,  90, 111]])"
            ]
          },
          "metadata": {
            "tags": []
          },
          "execution_count": 106
        }
      ]
    },
    {
      "cell_type": "markdown",
      "metadata": {
        "id": "diIO88W3pBaL"
      },
      "source": [
        "También podemos obtener el \"producto cruz\" con la función `cross`"
      ]
    },
    {
      "cell_type": "code",
      "metadata": {
        "colab": {
          "base_uri": "https://localhost:8080/"
        },
        "id": "Igb9cOq-gqmb",
        "outputId": "957fc16b-057f-4874-9f63-2b2e2f90d531"
      },
      "source": [
        "# producto cruz\n",
        "a = np.array([1, 0, 0])\n",
        "b = np.array([0, 1, 0])\n",
        "\n",
        "np.cross(a, b)"
      ],
      "execution_count": null,
      "outputs": [
        {
          "output_type": "execute_result",
          "data": {
            "text/plain": [
              "array([0, 0, 1])"
            ]
          },
          "metadata": {
            "tags": []
          },
          "execution_count": 107
        }
      ]
    },
    {
      "cell_type": "markdown",
      "metadata": {
        "id": "IMI1cik7pISA"
      },
      "source": [
        "Otras funcionalidades:"
      ]
    },
    {
      "cell_type": "code",
      "metadata": {
        "colab": {
          "base_uri": "https://localhost:8080/"
        },
        "id": "75Tr3_zQh7Ml",
        "outputId": "48e48c8a-f642-4f40-84fe-ce7ed7e84595"
      },
      "source": [
        "# determinante\n",
        "np.linalg.det(A)"
      ],
      "execution_count": null,
      "outputs": [
        {
          "output_type": "execute_result",
          "data": {
            "text/plain": [
              "0.0"
            ]
          },
          "metadata": {
            "tags": []
          },
          "execution_count": 108
        }
      ]
    },
    {
      "cell_type": "code",
      "metadata": {
        "colab": {
          "base_uri": "https://localhost:8080/"
        },
        "id": "KFRmzb5QiDJ6",
        "outputId": "766e5e63-c6e4-42f2-83d5-ab528a61fb16"
      },
      "source": [
        "# matriz identidad\n",
        "I = np.identity(3)\n",
        "I"
      ],
      "execution_count": null,
      "outputs": [
        {
          "output_type": "execute_result",
          "data": {
            "text/plain": [
              "array([[1., 0., 0.],\n",
              "       [0., 1., 0.],\n",
              "       [0., 0., 1.]])"
            ]
          },
          "metadata": {
            "tags": []
          },
          "execution_count": 110
        }
      ]
    },
    {
      "cell_type": "code",
      "metadata": {
        "colab": {
          "base_uri": "https://localhost:8080/"
        },
        "id": "_mNxS1_Jigbi",
        "outputId": "806eb75b-873c-4eb8-bb1d-4684f8f01e75"
      },
      "source": [
        "# inversa\n",
        "np.linalg.inv(I)"
      ],
      "execution_count": null,
      "outputs": [
        {
          "output_type": "execute_result",
          "data": {
            "text/plain": [
              "array([[1., 0., 0.],\n",
              "       [0., 1., 0.],\n",
              "       [0., 0., 1.]])"
            ]
          },
          "metadata": {
            "tags": []
          },
          "execution_count": 111
        }
      ]
    },
    {
      "cell_type": "markdown",
      "metadata": {
        "id": "eOWGv_T7DFoe"
      },
      "source": [
        "# **Funciones de agregación**\n",
        "\n",
        "Las funciones de agregación son funciones en las que un conjunto de elementos se agrupan para formar un único valor \"de resumen\". Las siguientes son algunas de las funciones de agregación que podemos implementar con NumPy:\n",
        "\n"
      ]
    },
    {
      "cell_type": "markdown",
      "metadata": {
        "id": "j3lGvfIpDMCN"
      },
      "source": [
        "<p><img alt=\"Colaboratory logo\" height=\"400px\" src=\"https://i.imgur.com/eaPmQPb.png\" align=\"left\" hspace=\"10px\" vspace=\"0px\"></p>"
      ]
    },
    {
      "cell_type": "markdown",
      "metadata": {
        "id": "uKc9e29uDINk"
      },
      "source": [
        "Este tipo de operaciones pueden implementarse independientemente en cada una de las dimensiones del arreglo. Veamos un ejemplo con el arreglo `A` que definimos anteriormente:"
      ]
    },
    {
      "cell_type": "code",
      "metadata": {
        "colab": {
          "base_uri": "https://localhost:8080/"
        },
        "id": "Dx7h4ARKDSF-",
        "outputId": "88b86450-7f50-4af0-cbd7-bbb5cbf8ba51"
      },
      "source": [
        "A"
      ],
      "execution_count": null,
      "outputs": [
        {
          "output_type": "execute_result",
          "data": {
            "text/plain": [
              "array([[0, 1, 2],\n",
              "       [3, 4, 5],\n",
              "       [6, 7, 8]])"
            ]
          },
          "metadata": {
            "tags": []
          },
          "execution_count": 112
        }
      ]
    },
    {
      "cell_type": "code",
      "metadata": {
        "colab": {
          "base_uri": "https://localhost:8080/"
        },
        "id": "iEWJaF-LDgaX",
        "outputId": "68d5f85a-f3eb-4e1b-c560-a4ac531bd2c2"
      },
      "source": [
        "# sumando todos los elementos\n",
        "np.sum(A) "
      ],
      "execution_count": null,
      "outputs": [
        {
          "output_type": "execute_result",
          "data": {
            "text/plain": [
              "36"
            ]
          },
          "metadata": {
            "tags": []
          },
          "execution_count": 113
        }
      ]
    },
    {
      "cell_type": "code",
      "metadata": {
        "colab": {
          "base_uri": "https://localhost:8080/"
        },
        "id": "le40shTMD5MT",
        "outputId": "399886f9-bd3a-4aef-bbf7-057b46ec4914"
      },
      "source": [
        "# sumando los elementos a traves\n",
        "# del eje 0 (por columna)\n",
        "np.sum(A, axis=0)"
      ],
      "execution_count": null,
      "outputs": [
        {
          "output_type": "execute_result",
          "data": {
            "text/plain": [
              "array([ 9, 12, 15])"
            ]
          },
          "metadata": {
            "tags": []
          },
          "execution_count": 116
        }
      ]
    },
    {
      "cell_type": "code",
      "metadata": {
        "colab": {
          "base_uri": "https://localhost:8080/"
        },
        "id": "JLWxopIEDxud",
        "outputId": "6a5cb867-3f6f-4c5a-e838-554229078267"
      },
      "source": [
        "# sumando los elementos a traves\n",
        "# del eje 1 (por fila)\n",
        "np.sum(A, axis=1)"
      ],
      "execution_count": null,
      "outputs": [
        {
          "output_type": "execute_result",
          "data": {
            "text/plain": [
              "array([ 3, 12, 21])"
            ]
          },
          "metadata": {
            "tags": []
          },
          "execution_count": 117
        }
      ]
    },
    {
      "cell_type": "markdown",
      "metadata": {
        "id": "iywfmbK5qc0e"
      },
      "source": [
        "Note que también se incluyen funciones de agregación para *valores nulos*, que en Numpy se representan como `nan` (not a number)"
      ]
    },
    {
      "cell_type": "code",
      "metadata": {
        "colab": {
          "base_uri": "https://localhost:8080/"
        },
        "id": "L5Am7jNKqp1k",
        "outputId": "2b5b143c-cbdd-4733-b89c-757e885baf6b"
      },
      "source": [
        "# valor nulo en numpy\n",
        "np.nan"
      ],
      "execution_count": null,
      "outputs": [
        {
          "output_type": "execute_result",
          "data": {
            "text/plain": [
              "nan"
            ]
          },
          "metadata": {
            "tags": []
          },
          "execution_count": 118
        }
      ]
    },
    {
      "cell_type": "code",
      "metadata": {
        "colab": {
          "base_uri": "https://localhost:8080/"
        },
        "id": "EljaiMJyrCaC",
        "outputId": "cfe63d10-2055-4c1b-a1d4-38dec16351a9"
      },
      "source": [
        "np.nansum(np.array([np.nan, 1, 2]))"
      ],
      "execution_count": null,
      "outputs": [
        {
          "output_type": "execute_result",
          "data": {
            "text/plain": [
              "3.0"
            ]
          },
          "metadata": {
            "tags": []
          },
          "execution_count": 120
        }
      ]
    },
    {
      "cell_type": "markdown",
      "metadata": {
        "id": "Z9CLa6b9qsZw"
      },
      "source": [
        "Note que si aplicaramos una función de agregación \"normal\", obtendríamos un valor nulo"
      ]
    },
    {
      "cell_type": "code",
      "metadata": {
        "colab": {
          "base_uri": "https://localhost:8080/"
        },
        "id": "GW4f2eICq0rh",
        "outputId": "f226518e-5edd-4a74-b8d4-1e1aca80d5cd"
      },
      "source": [
        "np.sum(np.array([np.nan, 1, 2]))"
      ],
      "execution_count": null,
      "outputs": [
        {
          "output_type": "execute_result",
          "data": {
            "text/plain": [
              "nan"
            ]
          },
          "metadata": {
            "tags": []
          },
          "execution_count": 122
        }
      ]
    },
    {
      "cell_type": "markdown",
      "metadata": {
        "id": "IQ_5o6-gEO4O"
      },
      "source": [
        "**Ejercicio 2**: Escriba un programa para crear un nuevo arreglo que sea el promedio de cada triplete consecutivo de elementos del siguiente arreglo\n",
        "\n",
        "<p><img alt=\"Colaboratory logo\" height=\"70px\" src=\"https://i.imgur.com/XoHovZd.png\" align=\"left\" hspace=\"10px\" vspace=\"0px\"></p>"
      ]
    },
    {
      "cell_type": "code",
      "metadata": {
        "colab": {
          "base_uri": "https://localhost:8080/"
        },
        "id": "uSGLx_bDERHS",
        "outputId": "ddc80c04-9723-474c-dd50-73f96bc9c19d"
      },
      "source": [
        "# definimos el arreglo\n",
        "a = np.array([1,2,3,2,4,6,1,2,12,0,-12,6])\n",
        "\n",
        "# modificamos su forma \n",
        "print(\"Arreglo modificado al que se le aplica la funcion de agregacion\")\n",
        "print(a.reshape(4,-1))\n",
        "\n",
        "# de tal manera que podamos aplicar\n",
        "# la funcion de agregacion mean por filas\n",
        "print(\"Promedio de cada triplete consecutivo\")\n",
        "print(np.mean(a.reshape(4,-1), axis=1))"
      ],
      "execution_count": null,
      "outputs": [
        {
          "output_type": "stream",
          "text": [
            "Arreglo modificado al que se le aplica la funcion de agregacion\n",
            "[[  1   2   3]\n",
            " [  2   4   6]\n",
            " [  1   2  12]\n",
            " [  0 -12   6]]\n",
            "Promedio de cada triplete consecutivo\n",
            "[ 2.  4.  5. -2.]\n"
          ],
          "name": "stdout"
        }
      ]
    },
    {
      "cell_type": "markdown",
      "metadata": {
        "id": "JtPQFiGXtQQJ"
      },
      "source": [
        "<p><a name=\"apeA\"></a></p>\n",
        "\n",
        "# **Apéndice: Iteradores útiles**\n",
        "\n",
        "A menudo vamos a necesitar iterar los diferentes objetos de diversas formas, por lo que vamos a requerir de iteradores que nos permitan tener más libertad a la hora de definir las iteraciones. Veamos algunos de estos iteradores disponibles en Python.\n",
        "\n",
        "Por ejemplo, si quisieramos iterar sobre una lista de manera que la variable de iteración corra de forma ordenada sobre los elementos, es decir, no sobre los elementos de acuerdo a su posición en la lista sino de acuerdo a su valor numérico, podemos utilizar el método `sorted` sobre la lista:"
      ]
    },
    {
      "cell_type": "code",
      "metadata": {
        "id": "xuEzP25lMHRO",
        "colab": {
          "base_uri": "https://localhost:8080/"
        },
        "outputId": "20daeac2-c66f-4e1d-9578-a952a3eab7cf"
      },
      "source": [
        "L = [5, 2, 7, 1]\n",
        "\n",
        "for i in sorted(L):\n",
        "  print(i)"
      ],
      "execution_count": null,
      "outputs": [
        {
          "output_type": "stream",
          "text": [
            "1\n",
            "2\n",
            "5\n",
            "7\n"
          ],
          "name": "stdout"
        }
      ]
    },
    {
      "cell_type": "markdown",
      "metadata": {
        "id": "X-wx5hN9tkJD"
      },
      "source": [
        "Ahora, supongamos que necesitamos iterar sobre los elementos de una lista y además tener registro del índice del elemento. Podríamos escribir algo como:\n"
      ]
    },
    {
      "cell_type": "code",
      "metadata": {
        "id": "_Dh36mdutlrg",
        "colab": {
          "base_uri": "https://localhost:8080/"
        },
        "outputId": "49260493-cfdf-4166-a02c-fd9e7dd68b12"
      },
      "source": [
        "L = range(4,8)\n",
        "\n",
        "for i in range(len(L)):\n",
        "  print(f\"indice: {i} valor: {L[i]}\")"
      ],
      "execution_count": null,
      "outputs": [
        {
          "output_type": "stream",
          "text": [
            "indice: 0 valor: 4\n",
            "indice: 1 valor: 5\n",
            "indice: 2 valor: 6\n",
            "indice: 3 valor: 7\n"
          ],
          "name": "stdout"
        }
      ]
    },
    {
      "cell_type": "markdown",
      "metadata": {
        "id": "4ki172TRtnUq"
      },
      "source": [
        "Podemos realizar esta iteración de una forma más simple y elegante utilizando el iterador `enumerate`, que produce un generador de tuplas con los índices y valores de la lista:"
      ]
    },
    {
      "cell_type": "code",
      "metadata": {
        "id": "KaLE51tWto0i",
        "colab": {
          "base_uri": "https://localhost:8080/"
        },
        "outputId": "2a34a232-7469-42fa-ac31-8fb1a07e4b58"
      },
      "source": [
        "list(enumerate(L))"
      ],
      "execution_count": null,
      "outputs": [
        {
          "output_type": "execute_result",
          "data": {
            "text/plain": [
              "[(0, 4), (1, 5), (2, 6), (3, 7)]"
            ]
          },
          "metadata": {
            "tags": []
          },
          "execution_count": 131
        }
      ]
    },
    {
      "cell_type": "code",
      "metadata": {
        "id": "_H9KjfAltqOu",
        "colab": {
          "base_uri": "https://localhost:8080/"
        },
        "outputId": "ac6d17eb-ada6-40a4-ff67-cfc3fb318304"
      },
      "source": [
        "for indice, valor in enumerate(L):\n",
        "  print(f\"indice: {indice} valor: {valor}\")"
      ],
      "execution_count": null,
      "outputs": [
        {
          "output_type": "stream",
          "text": [
            "indice: 0 valor: 4\n",
            "indice: 1 valor: 5\n",
            "indice: 2 valor: 6\n",
            "indice: 3 valor: 7\n"
          ],
          "name": "stdout"
        }
      ]
    },
    {
      "cell_type": "markdown",
      "metadata": {
        "id": "AZ8PTKNutroX"
      },
      "source": [
        "En otras ocaciones, vamos a querer iterar sobre varias listas simultáneamente. Una forma directa de hacerlo sería iterando sobre el índice de las listas \n"
      ]
    },
    {
      "cell_type": "code",
      "metadata": {
        "id": "yjs25LZ2ts9z",
        "colab": {
          "base_uri": "https://localhost:8080/"
        },
        "outputId": "cf1b4cc4-8bea-4f64-c196-b5e31b6f75e6"
      },
      "source": [
        "l = range(2,4)\n",
        "r = range(6,8)\n",
        "\n",
        "for i in range(len(l)):\n",
        "  print(f\"l: {l[i]}, r: {r[i]}\")"
      ],
      "execution_count": null,
      "outputs": [
        {
          "output_type": "stream",
          "text": [
            "l: 2, r: 6\n",
            "l: 3, r: 7\n"
          ],
          "name": "stdout"
        }
      ]
    },
    {
      "cell_type": "markdown",
      "metadata": {
        "id": "JhC5udWktuyi"
      },
      "source": [
        "Si, por ejemplo, cambiaramos la longitud de `l`, obtendríamos un error"
      ]
    },
    {
      "cell_type": "code",
      "metadata": {
        "id": "nVTzJ2bqtwJ8",
        "colab": {
          "base_uri": "https://localhost:8080/",
          "height": 238
        },
        "outputId": "d0878e04-e448-476b-bec5-068cef09a105"
      },
      "source": [
        "l = range(2,5)\n",
        "r = range(6,8)\n",
        "\n",
        "for i in range(len(l)):\n",
        "  print(f\"l_val: {l[i]}, r_val: {r[i]}\")"
      ],
      "execution_count": null,
      "outputs": [
        {
          "output_type": "stream",
          "text": [
            "l_val: 2, r_val: 6\n",
            "l_val: 3, r_val: 7\n"
          ],
          "name": "stdout"
        },
        {
          "output_type": "error",
          "ename": "IndexError",
          "evalue": "ignored",
          "traceback": [
            "\u001b[0;31m---------------------------------------------------------------------------\u001b[0m",
            "\u001b[0;31mIndexError\u001b[0m                                Traceback (most recent call last)",
            "\u001b[0;32m<ipython-input-137-2d35745f08e0>\u001b[0m in \u001b[0;36m<module>\u001b[0;34m()\u001b[0m\n\u001b[1;32m      3\u001b[0m \u001b[0;34m\u001b[0m\u001b[0m\n\u001b[1;32m      4\u001b[0m \u001b[0;32mfor\u001b[0m \u001b[0mi\u001b[0m \u001b[0;32min\u001b[0m \u001b[0mrange\u001b[0m\u001b[0;34m(\u001b[0m\u001b[0mlen\u001b[0m\u001b[0;34m(\u001b[0m\u001b[0ml\u001b[0m\u001b[0;34m)\u001b[0m\u001b[0;34m)\u001b[0m\u001b[0;34m:\u001b[0m\u001b[0;34m\u001b[0m\u001b[0;34m\u001b[0m\u001b[0m\n\u001b[0;32m----> 5\u001b[0;31m   \u001b[0mprint\u001b[0m\u001b[0;34m(\u001b[0m\u001b[0;34mf\"l_val: {l[i]}, r_val: {r[i]}\"\u001b[0m\u001b[0;34m)\u001b[0m\u001b[0;34m\u001b[0m\u001b[0;34m\u001b[0m\u001b[0m\n\u001b[0m",
            "\u001b[0;31mIndexError\u001b[0m: range object index out of range"
          ]
        }
      ]
    },
    {
      "cell_type": "markdown",
      "metadata": {
        "id": "yODjH5vztx85"
      },
      "source": [
        "esta iteración se puede llevar a cabo mediante el iterador `zip`, que permite iterar sobre varios objetos iterables simultáneamente:"
      ]
    },
    {
      "cell_type": "code",
      "metadata": {
        "id": "pmubZqrUtzbE",
        "colab": {
          "base_uri": "https://localhost:8080/"
        },
        "outputId": "1b8b5bf6-65ca-4085-959a-90e59e45f269"
      },
      "source": [
        "list(zip(l, r))"
      ],
      "execution_count": null,
      "outputs": [
        {
          "output_type": "execute_result",
          "data": {
            "text/plain": [
              "[(2, 6), (3, 7)]"
            ]
          },
          "metadata": {
            "tags": []
          },
          "execution_count": 138
        }
      ]
    },
    {
      "cell_type": "code",
      "metadata": {
        "id": "6RlLGkjst07l",
        "colab": {
          "base_uri": "https://localhost:8080/"
        },
        "outputId": "4d0e1548-53df-4400-b992-5bb9b8a12bce"
      },
      "source": [
        "for lval, rval in zip(l, r):\n",
        "  print(f\"l: {lval}, r: {rval}\")"
      ],
      "execution_count": null,
      "outputs": [
        {
          "output_type": "stream",
          "text": [
            "l: 2, r: 6\n",
            "l: 3, r: 7\n"
          ],
          "name": "stdout"
        }
      ]
    },
    {
      "cell_type": "markdown",
      "metadata": {
        "id": "4zWAPbC3t2Ty"
      },
      "source": [
        "`zip` produce un generador de tuplas obtenidas a partir de los objetos iterables que pasemos como argumento. Tenga en cuenta que el iterador admite objetos de diferente tipo para la iteración "
      ]
    },
    {
      "cell_type": "code",
      "metadata": {
        "id": "_WaZYsYNt31m",
        "colab": {
          "base_uri": "https://localhost:8080/"
        },
        "outputId": "78161172-4ae5-43f1-f89e-4d3beb7d5814"
      },
      "source": [
        "for i,j in zip(range(3), \"abc\"):\n",
        "  print(i,j)"
      ],
      "execution_count": null,
      "outputs": [
        {
          "output_type": "stream",
          "text": [
            "0 a\n",
            "1 b\n",
            "2 c\n"
          ],
          "name": "stdout"
        }
      ]
    },
    {
      "cell_type": "markdown",
      "metadata": {
        "id": "8Itu2Feit5eI"
      },
      "source": [
        "así como objetos de tamaños diferentes"
      ]
    },
    {
      "cell_type": "code",
      "metadata": {
        "id": "lC_zhWkOt7GC",
        "colab": {
          "base_uri": "https://localhost:8080/"
        },
        "outputId": "adbd5aeb-3e2d-46c5-e380-7c59a9ba2e1b"
      },
      "source": [
        "for i,j,k in zip((1,2,3), \"abc\", [4,5,6,7]):\n",
        "  print(i,j,k)"
      ],
      "execution_count": null,
      "outputs": [
        {
          "output_type": "stream",
          "text": [
            "1 a 4\n",
            "2 b 5\n",
            "3 c 6\n"
          ],
          "name": "stdout"
        }
      ]
    },
    {
      "cell_type": "markdown",
      "metadata": {
        "id": "6aoKbr9et8sB"
      },
      "source": [
        "Note que las tuplas se producen con una longitud tal que coincida con el número de elementos del objeto de menor longitud."
      ]
    }
  ]
}