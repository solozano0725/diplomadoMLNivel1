{
  "nbformat": 4,
  "nbformat_minor": 0,
  "metadata": {
    "colab": {
      "name": "ejercicios_pandas.ipynb",
      "provenance": [],
      "collapsed_sections": [],
      "include_colab_link": true
    },
    "kernelspec": {
      "name": "python3",
      "display_name": "Python 3"
    }
  },
  "cells": [
    {
      "cell_type": "markdown",
      "metadata": {
        "id": "view-in-github",
        "colab_type": "text"
      },
      "source": [
        "<a href=\"https://colab.research.google.com/github/solozano0725/diplomadoMLNivel1/blob/main/ejercicios_pandas.ipynb\" target=\"_parent\"><img src=\"https://colab.research.google.com/assets/colab-badge.svg\" alt=\"Open In Colab\"/></a>"
      ]
    },
    {
      "cell_type": "markdown",
      "metadata": {
        "id": "Z6kSylrAoH4r"
      },
      "source": [
        "# **REPOSITORIO DEL CURSO:** https://github.com/diplomadomludea/nivel_1"
      ]
    },
    {
      "cell_type": "markdown",
      "metadata": {
        "id": "wL-Cmc8nB3rd"
      },
      "source": [
        "### **Ejercicio 1**\n",
        "\n",
        "* Construya un DataFrame a partir del siguiente diccionario"
      ]
    },
    {
      "cell_type": "code",
      "metadata": {
        "id": "dPGFElVjIA82"
      },
      "source": [
        "exam_data = {'name': ['Anastasia', 'Dima', 'Katherine', 'James', 'Emily', 'Michael', 'Matthew', 'Laura', 'Kevin', 'Jonas'], \n",
        "             'score': [12.5, 9, 16.5, 10, 9, 20, 14.5, 12, 8, 19], \n",
        "             'attempts': [1, 3, 2, 3, 2, 3, 1, 1, 2, 1], \n",
        "             'qualify': ['yes', 'no', 'yes', 'no', 'no', 'yes', 'yes', 'no', 'no', 'yes']}"
      ],
      "execution_count": null,
      "outputs": []
    },
    {
      "cell_type": "markdown",
      "metadata": {
        "id": "58-XJRKtIFvF"
      },
      "source": [
        "con las siguientes etiquetas para los índices\n",
        "\n"
      ]
    },
    {
      "cell_type": "code",
      "metadata": {
        "id": "gv8CmGahIGmj"
      },
      "source": [
        "labels = ['a', 'b', 'c', 'd', 'e', 'f', 'g', 'h', 'i', 'j']"
      ],
      "execution_count": null,
      "outputs": []
    },
    {
      "cell_type": "markdown",
      "metadata": {
        "id": "C6OzPz9xCW-M"
      },
      "source": [
        "* Seleccione las primeras tres filas"
      ]
    },
    {
      "cell_type": "code",
      "metadata": {
        "id": "_5SJg3sPC1aD"
      },
      "source": [
        ""
      ],
      "execution_count": null,
      "outputs": []
    },
    {
      "cell_type": "markdown",
      "metadata": {
        "id": "isT9qRiYDFUz"
      },
      "source": [
        "para ver la solución haga doble click aquí\n",
        "\n",
        "<!-- \n",
        "df = pd.DataFrame(exam_data, index=labels)\n",
        "\n",
        "df.iloc[:3]\n",
        "-->"
      ]
    },
    {
      "cell_type": "markdown",
      "metadata": {
        "id": "C9YoPLVACWzc"
      },
      "source": [
        "* Seleccione solo las columnas *name* y *score*."
      ]
    },
    {
      "cell_type": "code",
      "metadata": {
        "id": "v_1OxRusDY3p"
      },
      "source": [
        ""
      ],
      "execution_count": null,
      "outputs": []
    },
    {
      "cell_type": "markdown",
      "metadata": {
        "id": "uaiW-hzDDjZK"
      },
      "source": [
        "para ver la solución haga doble click aquí\n",
        "\n",
        "<!-- \n",
        "df[[\"name\",\"score\"]]\n",
        "-->"
      ]
    },
    {
      "cell_type": "markdown",
      "metadata": {
        "id": "UWc5FUCACWpk"
      },
      "source": [
        "* Seleccione las filas 2, 4 y 7 y las columnas *score* y *qualify*"
      ]
    },
    {
      "cell_type": "code",
      "metadata": {
        "id": "u1sQOAYMDlHJ"
      },
      "source": [
        ""
      ],
      "execution_count": null,
      "outputs": []
    },
    {
      "cell_type": "markdown",
      "metadata": {
        "id": "S3FMwECYDlcF"
      },
      "source": [
        "para ver la solución haga doble click aquí\n",
        "\n",
        "<!-- \n",
        "df.iloc[[1,3,6], [1,3]]\n",
        "# or\n",
        "df.loc[[\"b\",\"d\",\"g\"], [\"score\",\"name\"]]\n",
        "-->"
      ]
    },
    {
      "cell_type": "markdown",
      "metadata": {
        "id": "rQzd4YJOCWfU"
      },
      "source": [
        "* Cambie el *score* en la fila 'd' a 11.5"
      ]
    },
    {
      "cell_type": "code",
      "metadata": {
        "id": "5bKFenJzDmSp"
      },
      "source": [
        ""
      ],
      "execution_count": null,
      "outputs": []
    },
    {
      "cell_type": "markdown",
      "metadata": {
        "id": "HAkho74yDml5"
      },
      "source": [
        "para ver la solución haga doble click aquí\n",
        "\n",
        "<!-- \n",
        "df.loc[\"d\", \"score\"] = 11.5\n",
        "-->"
      ]
    },
    {
      "cell_type": "markdown",
      "metadata": {
        "id": "QruuiwRPCWWE"
      },
      "source": [
        "* Agregue una nueva fila con etiqueta 'k' al dataframe con un valor que usted desee para cada columna"
      ]
    },
    {
      "cell_type": "code",
      "metadata": {
        "id": "AVDZ-f_KDnuW"
      },
      "source": [
        ""
      ],
      "execution_count": null,
      "outputs": []
    },
    {
      "cell_type": "markdown",
      "metadata": {
        "id": "PWBEklGZDoC0"
      },
      "source": [
        "para ver la solución haga doble click aquí\n",
        "\n",
        "<!-- \n",
        "df.loc[\"k\"] = [\"Boris\", 20, 1, \"yes\"]\n",
        "-->"
      ]
    },
    {
      "cell_type": "markdown",
      "metadata": {
        "id": "gAwzUD0lCWLU"
      },
      "source": [
        "* Elimine la fila 'k' y entregue nuevamente el DataFrame original."
      ]
    },
    {
      "cell_type": "code",
      "metadata": {
        "id": "k3kDzqeJDpUV"
      },
      "source": [
        ""
      ],
      "execution_count": null,
      "outputs": []
    },
    {
      "cell_type": "markdown",
      "metadata": {
        "id": "P3GdfygyDpqB"
      },
      "source": [
        "para ver la solución haga doble click aquí\n",
        "\n",
        "<!-- \n",
        "df.drop(index=\"k\", inplace=True)\n",
        "-->"
      ]
    },
    {
      "cell_type": "markdown",
      "metadata": {
        "id": "onixPNQlCV_P"
      },
      "source": [
        "* Ordene el DataFrame por nombre en orden ascendente."
      ]
    },
    {
      "cell_type": "code",
      "metadata": {
        "id": "wbfVxbBFDqpx"
      },
      "source": [
        ""
      ],
      "execution_count": null,
      "outputs": []
    },
    {
      "cell_type": "markdown",
      "metadata": {
        "id": "HvLMp7tYDq_p"
      },
      "source": [
        "para ver la solución haga doble click aquí\n",
        "\n",
        "<!-- \n",
        "df.sort_values(by=\"name\", inplace=True)\n",
        "-->"
      ]
    },
    {
      "cell_type": "markdown",
      "metadata": {
        "id": "tzaxCBezCVzU"
      },
      "source": [
        "* Reemplace los valores de la columna *qualify* que contiene los valores *yes* y *no* por los valores booleanos True y False respectivamente."
      ]
    },
    {
      "cell_type": "code",
      "metadata": {
        "id": "k2TD79JVDr1p"
      },
      "source": [
        ""
      ],
      "execution_count": null,
      "outputs": []
    },
    {
      "cell_type": "markdown",
      "metadata": {
        "id": "wyULTfEaDsTa"
      },
      "source": [
        "para ver la solución haga doble click aquí\n",
        "\n",
        "<!-- \n",
        "df.qualify.replace({\"yes\":True, \"no\":False}, inplace=True)\n",
        "-->"
      ]
    },
    {
      "cell_type": "markdown",
      "metadata": {
        "id": "jTIlFzvoCVZG"
      },
      "source": [
        "* Cuente el número de personas que pasaron el test (`qualify => yes`)"
      ]
    },
    {
      "cell_type": "code",
      "metadata": {
        "id": "T6dIgoV9B4s2"
      },
      "source": [
        ""
      ],
      "execution_count": null,
      "outputs": []
    },
    {
      "cell_type": "markdown",
      "metadata": {
        "id": "PTmio7eFDtp8"
      },
      "source": [
        "para ver la solución haga doble click aquí\n",
        "\n",
        "<!-- \n",
        "df.qualify.sum()\n",
        "-->"
      ]
    },
    {
      "cell_type": "markdown",
      "metadata": {
        "id": "MtMP64sd-3tp"
      },
      "source": [
        "### **Ejercicio 2**\n",
        "\n",
        "Importe el dataset *u.user* del respositorio del curso"
      ]
    },
    {
      "cell_type": "markdown",
      "metadata": {
        "id": "6VUaYOv8F1vH"
      },
      "source": [
        "* Importar el dataset, asignarlo a una variable llamada *users* y usar el *user_id* como índice."
      ]
    },
    {
      "cell_type": "code",
      "metadata": {
        "id": "1akj1eKVF4F_"
      },
      "source": [
        ""
      ],
      "execution_count": null,
      "outputs": []
    },
    {
      "cell_type": "markdown",
      "metadata": {
        "id": "AguYKlklF9WO"
      },
      "source": [
        "para ver la solución haga doble click aquí\n",
        "\n",
        "<!-- \n",
        "import pandas as pd\n",
        "\n",
        "users = pd.read_csv(\"https://raw.githubusercontent.com/diplomadomludea/nivel_1/master/data/u.user\", sep=\"|\", index_col=\"user_id\")\n",
        "-->"
      ]
    },
    {
      "cell_type": "markdown",
      "metadata": {
        "id": "3TxqbgtmF7n1"
      },
      "source": [
        "* ¿Cuál es la edad media de los usuarios?\n",
        "\n"
      ]
    },
    {
      "cell_type": "code",
      "metadata": {
        "id": "CREYXAi_F-VP"
      },
      "source": [
        ""
      ],
      "execution_count": null,
      "outputs": []
    },
    {
      "cell_type": "markdown",
      "metadata": {
        "id": "ZCdWuReKHZqD"
      },
      "source": [
        "para ver la solución haga doble click aquí\n",
        "\n",
        "<!-- \n",
        "users.age.mean()\n",
        "-->"
      ]
    },
    {
      "cell_type": "markdown",
      "metadata": {
        "id": "cGUCfzneGArQ"
      },
      "source": [
        "* ¿Cuántas ocupaciones diferentes hay en este conjunto de datos?"
      ]
    },
    {
      "cell_type": "code",
      "metadata": {
        "id": "6nZbNHy2GBCK"
      },
      "source": [
        ""
      ],
      "execution_count": null,
      "outputs": []
    },
    {
      "cell_type": "markdown",
      "metadata": {
        "id": "969NBPc2Hh-K"
      },
      "source": [
        "para ver la solución haga doble click aquí\n",
        "\n",
        "<!-- \n",
        "users.occupation.nunique()\n",
        "-->"
      ]
    },
    {
      "cell_type": "markdown",
      "metadata": {
        "id": "KuX-Xn0gGIsN"
      },
      "source": [
        "* ¿Cuál es la ocupación más frecuente?"
      ]
    },
    {
      "cell_type": "code",
      "metadata": {
        "id": "uvUy78-pGLhB"
      },
      "source": [
        ""
      ],
      "execution_count": null,
      "outputs": []
    },
    {
      "cell_type": "markdown",
      "metadata": {
        "id": "XYsXIstiHizh"
      },
      "source": [
        "para ver la solución haga doble click aquí\n",
        "\n",
        "<!-- \n",
        "users.occupation.value_counts().idxmax()\n",
        "-->"
      ]
    },
    {
      "cell_type": "markdown",
      "metadata": {
        "id": "k0gh2PU_GPys"
      },
      "source": [
        "* ¿Cuál es la edad media por ocupación?"
      ]
    },
    {
      "cell_type": "code",
      "metadata": {
        "id": "vvKKkjSuGTjc"
      },
      "source": [
        ""
      ],
      "execution_count": null,
      "outputs": []
    },
    {
      "cell_type": "markdown",
      "metadata": {
        "id": "ILRbXoFmHkfr"
      },
      "source": [
        "para ver la solución haga doble click aquí\n",
        "\n",
        "<!-- \n",
        "users.groupby(\"occupation\").age.mean()\n",
        "-->"
      ]
    },
    {
      "cell_type": "markdown",
      "metadata": {
        "id": "Fle9gyX_GVGt"
      },
      "source": [
        "* Para cada ocupación calcule las edades mínimas y máximas"
      ]
    },
    {
      "cell_type": "code",
      "metadata": {
        "id": "32B9dWzcGXoj"
      },
      "source": [
        ""
      ],
      "execution_count": null,
      "outputs": []
    },
    {
      "cell_type": "markdown",
      "metadata": {
        "id": "kxrhkHwYHlRq"
      },
      "source": [
        "para ver la solución haga doble click aquí\n",
        "\n",
        "<!-- \n",
        "users.groupby(\"occupation\").age.agg([\"min\",\"max\"])\n",
        "-->"
      ]
    },
    {
      "cell_type": "markdown",
      "metadata": {
        "id": "wjB1YnvsGa-0"
      },
      "source": [
        "* Para cada combinación de ocupación y género calcule la edad media"
      ]
    },
    {
      "cell_type": "code",
      "metadata": {
        "id": "1MehbxtmGeHb"
      },
      "source": [
        ""
      ],
      "execution_count": null,
      "outputs": []
    },
    {
      "cell_type": "markdown",
      "metadata": {
        "id": "ofpd33PtHmKB"
      },
      "source": [
        "para ver la solución haga doble click aquí\n",
        "\n",
        "<!-- \n",
        "users.groupby([\"occupation\", \"gender\"]).age.mean()\n",
        "-->"
      ]
    },
    {
      "cell_type": "markdown",
      "metadata": {
        "id": "l_nF_ynBGg7d"
      },
      "source": [
        "* Obtenga la proporción de hombres por ocupación (de mayor a menor)"
      ]
    },
    {
      "cell_type": "code",
      "metadata": {
        "id": "BdaSeaklGkT-"
      },
      "source": [
        ""
      ],
      "execution_count": null,
      "outputs": []
    },
    {
      "cell_type": "markdown",
      "metadata": {
        "id": "xkSpedNfHmxD"
      },
      "source": [
        "para ver la solución haga doble click aquí\n",
        "\n",
        "<!-- \n",
        "users[\"gender_n\"] = users.gender.replace({\"M\":1, \"F\":0})\n",
        "\n",
        "users.groupby(\"occupation\").gender_n.apply(lambda s: s.sum()/len(s)).sort_values(ascending=False)\n",
        "-->"
      ]
    },
    {
      "cell_type": "markdown",
      "metadata": {
        "id": "s-qTDGyfG282"
      },
      "source": [
        "\n",
        "* Para cada ocupación muestre el porcentaje de mujeres y hombres en un único objeto"
      ]
    },
    {
      "cell_type": "code",
      "metadata": {
        "id": "wLcG5069G7qP"
      },
      "source": [
        ""
      ],
      "execution_count": null,
      "outputs": []
    },
    {
      "cell_type": "markdown",
      "metadata": {
        "id": "SvqgI7JZHneD"
      },
      "source": [
        "para ver la solución haga doble click aquí\n",
        "\n",
        "<!-- \n",
        "gender_ocup = users.groupby(['occupation', 'gender']).size()\n",
        "ocup_size = users.groupby(['occupation']).gender.size()\n",
        "\n",
        "gender_ocup / ocup_size\n",
        "-->"
      ]
    },
    {
      "cell_type": "markdown",
      "metadata": {
        "id": "xJUjQMMF-_eA"
      },
      "source": [
        "**Ejercicio 3** \n",
        "\n",
        "Cargue los siguientes conjuntos de datos (del repositorio del curso) referente a tarjetas de credito del mes 09 del 2017\n",
        "\n",
        "\n",
        "\n",
        "\n",
        "\n",
        "\n"
      ]
    },
    {
      "cell_type": "markdown",
      "metadata": {
        "id": "LQ4ddH1dJEUf"
      },
      "source": [
        "# **estado_201709.csv**\n",
        "\n",
        "* ID:​ Nro. de identificación.\n",
        "* Franquicia:​ A, B, C.\n",
        "* Tipo Tarjeta:​ Representa el tipo de tarjeta.\n",
        "* Número Tarjeta:​ Indica el número de la TC.\n",
        "* Cupo Global:​ Indica el cupo de crédito que tiene la tarjeta.\n",
        "* Disponible: Indica del cupo global cuanto tiene a ese corte disponible para realizar compras o avances.\n",
        "* Fecha Emisión:​ Fecha en la que se compró la tarjeta.\n",
        "* Fecha Ult Aumento Cupo: Fecha en la que se realizó el último aumento de cupo. Cuando está en 0 significa que nunca se ha realizado un aumento de cupo.\n",
        "* Total Mes en Mora: Número de meses que ha estado en mora la TC (durante toda\n",
        "la vida de la tarjeta).\n",
        "*Altura de Mora: ​Indica la mora actual que tiene la TC. Viene en rango:\n",
        "  ○ 0 No está en mora,\n",
        "  ○ 30 está en mora hace menos de 30 días,\n",
        "  ○ 60 está en mora hace menos de 60 días.\n",
        "  ○ 90 está en mora hace menos de 90 días.\n",
        "*Código Vendedor:​ Indica el código del vendedor que emitió la TC.\n",
        "*Código Estado Tarjeta: Indica si la tarjeta está Activa o vigente (Codigo=0) y código = 1 (indica que la tarjeta está cancelada por el cliente)."
      ]
    },
    {
      "cell_type": "markdown",
      "metadata": {
        "id": "UfTB4iazJC0L"
      },
      "source": [
        "# **transaccion_201709.csv**\n",
        "\n",
        "* ID:​ Nro de identificación.\n",
        "* Número Tarjeta:​ Indica el número de la TC que realizó la transacción.\n",
        "* Fecha de transacción​: Indica la fecha en que se realizó la transacción.\n",
        "* Codigo Transacción:\n",
        "  ○ AV : AVANCE\n",
        "  ○ AB: ABONO\n",
        "  ○ CN: COMPRA NACIONAL\n",
        "  ○ CI: COMPRA INTERNAL\n",
        "  ○ CM: CUOTA DE MANEJO.\n",
        "* Valor Transacción:​ Indica el valor de la transacción.\n",
        "* Numero Cuotas Diferidas: Indica el número de cuotas en el que el cliente desea pagar la compra."
      ]
    },
    {
      "cell_type": "markdown",
      "metadata": {
        "id": "EdT1fkpZJJ5W"
      },
      "source": [
        "* Realice un análisis exploratorio inicial de los conjuntos de datos para familiarizarse con ellos"
      ]
    },
    {
      "cell_type": "code",
      "metadata": {
        "id": "6ZtEn2Lp_ECJ"
      },
      "source": [
        ""
      ],
      "execution_count": null,
      "outputs": []
    },
    {
      "cell_type": "markdown",
      "metadata": {
        "id": "-ECk27FPk17W"
      },
      "source": [
        "para ver la solución haga doble click aquí\n",
        "\n",
        "<!-- \n",
        "import matplotlib.pyplot as plt\n",
        "import pandas as pd\n",
        "import seaborn as sns\n",
        "sns.set()\n",
        "\n",
        "# ESTADO\n",
        "estado = pd.read_csv(\"https://raw.githubusercontent.com/diplomadomludea/nivel_1/master/data/estado_201709.csv\", index_col=\"Unnamed: 0\")\n",
        "\n",
        "# resumen compacto\n",
        "estado.info()\n",
        "\n",
        "# tipos de franquicia y sus frecuencias\n",
        "estado[\"FRANQUICIA\"].value_counts()\n",
        "\n",
        "# tipos de tarjeta y sus frecuencias\n",
        "estado[\"TIPO TARJETA\"].value_counts()\n",
        "\n",
        "# numero de usuarios diferentes\n",
        "estado[\"ID\"].nunique()\n",
        "\n",
        "# numero de tarjetas diferentes\n",
        "estado[\"NUMERO TARJETA\"].nunique()\n",
        "\n",
        "# numero de tarjetas activas e inactivas\n",
        "activas = estado['CODIGO ESTADO TARJETA'].sum()\n",
        "inactivas = len(estado) - activas\n",
        "\n",
        "# numero de vendedores diferentes\n",
        "estado[\"CODIGO VENDEDOR\"].nunique()\n",
        "\n",
        "# mora categorizada (frecuencia)\n",
        "pd.cut(estado[\"TOTAL MES EN MORA\"], 3, labels=[\"baja\",\"media\",\"alta\"]).value_counts()\n",
        "\n",
        "\n",
        "# TRANSACCION\n",
        "transaccion = pd.read_csv(\"https://raw.githubusercontent.com/diplomadomludea/nivel_1/master/data/transaccion_201709.csv\", index_col=\"Unnamed: 0\")\n",
        "\n",
        "# numero de usuarios diferentes\n",
        "transaccion[\"ID\"].nunique()\n",
        "\n",
        "# numero de tarjetas diferentes\n",
        "transaccion[\"NUMERO TARJETA\"].nunique()\n",
        "\n",
        "# tipos de codigos de transaccion y sus frecuencias\n",
        "transaccion[\"CODIGO TRANSACCION\"].value_counts()\n",
        "\n",
        "# valor de transaccion categorizada (frecuencia)\n",
        "pd.cut(transaccion[\"VALOR TRANSACCION\"], 3, labels=[\"baja\",\"media\",\"alta\"]).value_counts()\n",
        "\n",
        "# frecuencia de las cuotas diferidas\n",
        "transaccion[\"NUMERO CUOTAS DIFERIDAS\"].value_counts().plot(kind=\"bar\")\n",
        "plt.xlabel(\"Numero de cuotas diferidas\")\n",
        "plt.ylabel(\"Frecuencia\");\n",
        "-->"
      ]
    },
    {
      "cell_type": "markdown",
      "metadata": {
        "id": "BUI-HASMYOon"
      },
      "source": [
        "* Use el método `merge` para combinar los datasets en el `NUMERO TARJETA' (en la intersección)"
      ]
    },
    {
      "cell_type": "code",
      "metadata": {
        "id": "oRGquWcP_H0L"
      },
      "source": [
        ""
      ],
      "execution_count": null,
      "outputs": []
    },
    {
      "cell_type": "markdown",
      "metadata": {
        "id": "5YwzObyalCJj"
      },
      "source": [
        "para ver la solución haga doble click aquí\n",
        "\n",
        "<!-- \n",
        "data = pd.merge(estado, transaccion, on=\"NUMERO TARJETA\", how=\"inner\")\n",
        "data.head()\n",
        "-->"
      ]
    },
    {
      "cell_type": "markdown",
      "metadata": {
        "id": "ZZSx_h3ph7Lu"
      },
      "source": [
        "* Haga un gráfico de dispersión 'CODIGO VENDEDOR' vs 'CODIGO ESTADO TARJETA', ¿El vendedor de la tarjeta influencia las cancelaciones?\n",
        "\n"
      ]
    },
    {
      "cell_type": "code",
      "metadata": {
        "id": "rvHN7tyNlSrF"
      },
      "source": [
        ""
      ],
      "execution_count": null,
      "outputs": []
    },
    {
      "cell_type": "markdown",
      "metadata": {
        "id": "3KKt4USklS9e"
      },
      "source": [
        "para ver la solución haga doble click aquí\n",
        "\n",
        "<!-- \n",
        "# eliminamos el dato atipico\n",
        "data['CODIGO VENDEDOR'] = data['CODIGO VENDEDOR'][data['CODIGO VENDEDOR'] < 40000]\n",
        "\n",
        "sns.scatterplot(data=data, y=\"CODIGO ESTADO TARJETA\", x=\"CODIGO VENDEDOR\");\n",
        "-->"
      ]
    },
    {
      "cell_type": "markdown",
      "metadata": {
        "id": "ILZWZ3QlbwY1"
      },
      "source": [
        "* Agrupe los datos por tipo de tarjeta y estado de la tarjeta. Hága un conteo ¿Existe alguna relación entre el tipo de tarjeta y la cancelación de la misma?"
      ]
    },
    {
      "cell_type": "code",
      "metadata": {
        "id": "GHAXlWD5gsL2"
      },
      "source": [
        ""
      ],
      "execution_count": null,
      "outputs": []
    },
    {
      "cell_type": "markdown",
      "metadata": {
        "id": "vsuACvMrlA47"
      },
      "source": [
        "para ver la solución haga doble click aquí\n",
        "\n",
        "<!-- \n",
        "tipo_codigo = data.pivot_table(index='TIPO TARJETA', columns='CODIGO ESTADO TARJETA', aggfunc={'CODIGO ESTADO TARJETA':'count'})\n",
        "\n",
        "tipo_codigo.sort_values(by=(\"CODIGO ESTADO TARJETA\",0), ascending=False)\n",
        "-->"
      ]
    },
    {
      "cell_type": "markdown",
      "metadata": {
        "id": "CtL4Wt1Le5G5"
      },
      "source": [
        "* Realice un bineo del total de meses en mora partiendolos en tres categorías: 'baja mora', 'media mora', 'alta mora'. ¿Existe alguna relación entre la mora y la cancelación de la tarjeta? Realice un mapa de calor para la visualización."
      ]
    },
    {
      "cell_type": "code",
      "metadata": {
        "id": "ChT65yzscNeV"
      },
      "source": [
        ""
      ],
      "execution_count": null,
      "outputs": []
    },
    {
      "cell_type": "markdown",
      "metadata": {
        "id": "ZwfQnhvQlGsj"
      },
      "source": [
        "para ver la solución haga doble click aquí\n",
        "\n",
        "<!-- \n",
        "data[\"MORA\"] = pd.cut(data[\"TOTAL MES EN MORA\"], 3, labels=[\"baja\", \"media\", \"alta\"])\n",
        "\n",
        "mora_estado = data.pivot_table(index=\"MORA\", columns=\"CODIGO ESTADO TARJETA\", aggfunc={\"CODIGO ESTADO TARJETA\":\"count\"})\n",
        "\n",
        "sns.heatmap(mora_estado, cmap=\"coolwarm\")\n",
        "plt.title(\"Numero de tarjetas\")\n",
        "plt.xlabel(\"Estado tarjeta\")\n",
        "plt.xticks([0.5,1.5], [\"Activa\",\"Cancelada\"]);\n",
        "-->\n"
      ]
    },
    {
      "cell_type": "markdown",
      "metadata": {
        "id": "h58H-xWxl9k3"
      },
      "source": [
        "### **Ejercicio 4**\n",
        "\n",
        "En este ejercicio utilizaremos el conjunto de datos winemag-data. Este conjunto de datos contiene datos de reseñas de vinos extraídos de winemag.com el 15 de junio de 2017. Las variables de este conjunto de datos son las siguientes:\n",
        "\n",
        "* country: El país de donde proviene el vino\n",
        "* description: Algunas frases de un sumiller que describen el sabor, olor, apariencia, sensación, etc. del vino.\n",
        "* designation: El viñedo dentro de la bodega de donde provienen las uvas con las que se elaboraron el vino.\n",
        "* points: El número de puntos con que se calificó al vino en una escala del 1 al 100.\n",
        "* price: El costo de una botella de este vino (en dólares)\n",
        "* province: La provincia o estado del país de donde proviene el vino\n",
        "* region_1: La zona vitivinícola de la provincia o el estado\n",
        "* region_2: Una región más específica dentro de una región más grande (puede estar en blanco si no hay una región más pequeña).\n",
        "* taster_name: Nombre del sommelier que probó y revisó el vino.\n",
        "* taster_twitter_handle: Twitter de la sumiller que probó y revisó el vino.\n",
        "* title: El título de la reseña del vino\n",
        "* variety: El tipo de uva utilizada para hacer el vino.\n",
        "* winery: Nombre de la bodega\n"
      ]
    },
    {
      "cell_type": "markdown",
      "metadata": {
        "id": "qE3x3pJNmw5C"
      },
      "source": [
        "* Cargue el conjunto de datos (wine.csv) a un DataFrame de Pandas con el nombre *reviews*. ¿Qué países están representados en el conjunto de datos?\n",
        "\n",
        "\n",
        "\n",
        "\n",
        "\n",
        "\n",
        "\n",
        "\n",
        "\n",
        "\n",
        "\n",
        "\n",
        "\n",
        "\n"
      ]
    },
    {
      "cell_type": "code",
      "metadata": {
        "id": "h9OcCgnloknd"
      },
      "source": [
        ""
      ],
      "execution_count": null,
      "outputs": []
    },
    {
      "cell_type": "markdown",
      "metadata": {
        "id": "oDRba7F1tJLj"
      },
      "source": [
        "para ver la solución haga doble click aquí\n",
        "\n",
        "<!-- \n",
        "reviews = pd.read_csv(\"https://raw.githubusercontent.com/diplomadomludea/nivel_1/master/data/wine.csv\", index_col=\"Unnamed: 0\")\n",
        "\n",
        "reviews.country.unique()\n",
        "-->"
      ]
    },
    {
      "cell_type": "markdown",
      "metadata": {
        "id": "GU7s7i-BpA40"
      },
      "source": [
        "* ¿Con qué frecuencia aparece cada país en el conjunto de datos? Cree una serie *reviews_per_country* que mapee los países al recuento de reseñas de vinos de ese país."
      ]
    },
    {
      "cell_type": "code",
      "metadata": {
        "id": "70TGE6ono8t6"
      },
      "source": [
        ""
      ],
      "execution_count": null,
      "outputs": []
    },
    {
      "cell_type": "markdown",
      "metadata": {
        "id": "3WqGsRnPtRtK"
      },
      "source": [
        "para ver la solución haga doble click aquí\n",
        "\n",
        "<!-- \n",
        "reviews_per_country = reviews.country.value_counts()\n",
        "-->"
      ]
    },
    {
      "cell_type": "markdown",
      "metadata": {
        "id": "sIfNHymPpRXe"
      },
      "source": [
        "* Cree una variable *centered_price* que contenga una versión de la columna *price* con el precio medio restado."
      ]
    },
    {
      "cell_type": "code",
      "metadata": {
        "id": "6H7toii2pEMC"
      },
      "source": [
        ""
      ],
      "execution_count": null,
      "outputs": []
    },
    {
      "cell_type": "markdown",
      "metadata": {
        "id": "WOv21EIntT0C"
      },
      "source": [
        "para ver la solución haga doble click aquí\n",
        "\n",
        "<!-- \n",
        "centered_price = reviews.price - reviews.price.mean()\n",
        "-->"
      ]
    },
    {
      "cell_type": "markdown",
      "metadata": {
        "id": "18vCvFKYpHl_"
      },
      "source": [
        "* Cree una variable *country-region* que contenga la concatenación de *country* y *region_1* por cada vino (Ejemplo: *Italy - Etna* para el primer registro)"
      ]
    },
    {
      "cell_type": "code",
      "metadata": {
        "id": "wZmLGdTGpLcx"
      },
      "source": [
        ""
      ],
      "execution_count": null,
      "outputs": []
    },
    {
      "cell_type": "markdown",
      "metadata": {
        "id": "brF9OO-JtSue"
      },
      "source": [
        "para ver la solución haga doble click aquí\n",
        "\n",
        "<!-- \n",
        "country_region = reviews.country + \"-\" + reviews.region_1\n",
        "-->"
      ]
    },
    {
      "cell_type": "markdown",
      "metadata": {
        "id": "i8KTCkOnpdH7"
      },
      "source": [
        "* Suponga que es un comprador de vino. ¿Qué vino ofrece la \"mejor ganga\"? Cree una variable *bargain_wine* con el título del vino con la relación entre puntos y precio más alta del conjunto de datos."
      ]
    },
    {
      "cell_type": "code",
      "metadata": {
        "id": "sjAfG1EZpTL5"
      },
      "source": [
        ""
      ],
      "execution_count": null,
      "outputs": []
    },
    {
      "cell_type": "markdown",
      "metadata": {
        "id": "kcxkiSJrtU3S"
      },
      "source": [
        "para ver la solución haga doble click aquí\n",
        "\n",
        "<!-- \n",
        "index = (reviews.points / reviews.price).idxmax()\n",
        "\n",
        "bargain_wine = reviews.loc[index, \"title\"]\n",
        "-->"
      ]
    },
    {
      "cell_type": "markdown",
      "metadata": {
        "id": "8xBjLUFWrIra"
      },
      "source": [
        "* Obtenga el número de reseñas por país y provincia."
      ]
    },
    {
      "cell_type": "code",
      "metadata": {
        "id": "1fqJ0RjvrKMh"
      },
      "source": [
        ""
      ],
      "execution_count": null,
      "outputs": []
    },
    {
      "cell_type": "markdown",
      "metadata": {
        "id": "gXxNqUw_tV8O"
      },
      "source": [
        "para ver la solución haga doble click aquí\n",
        "\n",
        "<!-- \n",
        "reviews.groupby([\"country\",\"province\"]).size()\n",
        "-->"
      ]
    },
    {
      "cell_type": "markdown",
      "metadata": {
        "id": "f4uZjRLNrNNw"
      },
      "source": [
        "* Obtenga el número de reseñas por país, mostrando además cuáles son los precios mínimo y máximo."
      ]
    },
    {
      "cell_type": "code",
      "metadata": {
        "id": "sENo-al2rN6i"
      },
      "source": [
        ""
      ],
      "execution_count": null,
      "outputs": []
    },
    {
      "cell_type": "markdown",
      "metadata": {
        "id": "xN0yptBMtXAb"
      },
      "source": [
        "para ver la solución haga doble click aquí\n",
        "\n",
        "<!-- \n",
        "reviews.groupby(\"country\").price.agg([\"min\",\"max\"])\n",
        "-->"
      ]
    },
    {
      "cell_type": "markdown",
      "metadata": {
        "id": "qIJQyUikrl63"
      },
      "source": [
        "* ¿Quiénes son los revisores de vinos más comunes en el conjunto de datos? Cree una serie cuyo índice sea la categoría *taster_twitter_handle* del conjunto de datos y cuyos valores cuenten cuántas reseñas escribió cada persona."
      ]
    },
    {
      "cell_type": "code",
      "metadata": {
        "id": "U1Tx-AaWrmVm"
      },
      "source": [
        ""
      ],
      "execution_count": null,
      "outputs": []
    },
    {
      "cell_type": "markdown",
      "metadata": {
        "id": "U7fBDyTVtYsa"
      },
      "source": [
        "para ver la solución haga doble click aquí\n",
        "\n",
        "<!-- \n",
        "reviews_written = reviews.groupby('taster_twitter_handle').size()\n",
        "-->"
      ]
    },
    {
      "cell_type": "markdown",
      "metadata": {
        "id": "L9ClIy4qrtm-"
      },
      "source": [
        "* ¿Cuál es el mejor vino que puedo comprar por una determinada cantidad de dinero? Cree una serie cuyo índice sea el precio del vino y cuyos valores sean el número máximo de puntos que se le dio a un vino que cueste dicho precio en una reseña. Ordenar los valores por precio y en forma ascendente."
      ]
    },
    {
      "cell_type": "code",
      "metadata": {
        "id": "qyIIt00Nrufe"
      },
      "source": [
        ""
      ],
      "execution_count": null,
      "outputs": []
    },
    {
      "cell_type": "markdown",
      "metadata": {
        "id": "NvYNY55rtZ3x"
      },
      "source": [
        "para ver la solución haga doble click aquí\n",
        "\n",
        "<!-- \n",
        "best_rating_per_price = reviews.groupby('price')['points'].max().sort_index()\n",
        "-->"
      ]
    },
    {
      "cell_type": "markdown",
      "metadata": {
        "id": "yLhMUELEr3HH"
      },
      "source": [
        "* ¿Cuáles son los precios mínimos y máximos para cada variedad de vino? Cree un DataFrame cuyo índice sea la categoría de variedad del conjunto de datos y cuyos valores sean los valores mínimo y máximo del mismo."
      ]
    },
    {
      "cell_type": "code",
      "metadata": {
        "id": "P-r96iD-r4Tu"
      },
      "source": [
        ""
      ],
      "execution_count": null,
      "outputs": []
    },
    {
      "cell_type": "markdown",
      "metadata": {
        "id": "XyiH537AtavN"
      },
      "source": [
        "para ver la solución haga doble click aquí\n",
        "\n",
        "<!-- \n",
        "price_extremes = reviews.groupby('variety').price.agg([min, max])\n",
        "-->"
      ]
    },
    {
      "cell_type": "markdown",
      "metadata": {
        "id": "80JuzxytsBL1"
      },
      "source": [
        "* ¿Cuáles son las variedades de vino más caras? Cree una variable *sorted_varieties* que contenga una copia del DataFrame anterior donde las variedades se clasifican en orden descendente según el precio máximo"
      ]
    },
    {
      "cell_type": "code",
      "metadata": {
        "id": "NeU_o-_XsCPO"
      },
      "source": [
        ""
      ],
      "execution_count": null,
      "outputs": []
    },
    {
      "cell_type": "markdown",
      "metadata": {
        "id": "eGp7OA3Etbw1"
      },
      "source": [
        "para ver la solución haga doble click aquí\n",
        "\n",
        "<!-- \n",
        "sorted_varieties = price_extremes.sort_values(by='max', ascending=False)\n",
        "-->"
      ]
    },
    {
      "cell_type": "markdown",
      "metadata": {
        "id": "G8PaKgz6siVX"
      },
      "source": [
        "* Cree una serie cuyos índices sean los reseñadores y cuyos valores sean la puntuación promedio de revisión otorgada por el reseñador respectivo. "
      ]
    },
    {
      "cell_type": "code",
      "metadata": {
        "id": "R0hYTz7yskGs"
      },
      "source": [
        ""
      ],
      "execution_count": null,
      "outputs": []
    },
    {
      "cell_type": "markdown",
      "metadata": {
        "id": "RJUsqS7ttctx"
      },
      "source": [
        "para ver la solución haga doble click aquí\n",
        "\n",
        "<!-- \n",
        "reviewer_mean_ratings = reviews.groupby('taster_name').points.mean()\n",
        "-->"
      ]
    },
    {
      "cell_type": "markdown",
      "metadata": {
        "id": "-6Jri8gisqcb"
      },
      "source": [
        "* ¿Qué combinación de países y variedades son las más comunes? Cree una serie cuyo índice sea un índice múltiple de pares (country, variety) . Por ejemplo, un Pinot Noir producido en los EE.UU debe asignarse a (\"US\", \"Pinot Noir\"). Ordene los valores de la serie en orden descendente según el recuento de vinos."
      ]
    },
    {
      "cell_type": "code",
      "metadata": {
        "id": "ji9ND-sDsrvW"
      },
      "source": [
        ""
      ],
      "execution_count": null,
      "outputs": []
    },
    {
      "cell_type": "markdown",
      "metadata": {
        "id": "F-gsWpEytd1q"
      },
      "source": [
        "para ver la solución haga doble click aquí\n",
        "\n",
        "<!-- \n",
        "country_variety_counts = reviews.groupby(['country', 'variety']).size().sort_values(ascending=False)\n",
        "-->"
      ]
    },
    {
      "cell_type": "markdown",
      "metadata": {
        "id": "QgawS-ksrS02"
      },
      "source": [
        "* Obtenga el nombre del primer vino reseñado de cada bodega en el conjunto de datos:"
      ]
    },
    {
      "cell_type": "code",
      "metadata": {
        "id": "Alhq3As0rUte"
      },
      "source": [
        ""
      ],
      "execution_count": null,
      "outputs": []
    },
    {
      "cell_type": "markdown",
      "metadata": {
        "id": "e9YNAzq_teuC"
      },
      "source": [
        "para ver la solución haga doble click aquí\n",
        "\n",
        "<!-- \n",
        "reviews.groupby('winery').apply(lambda df: df.title.iloc[0])\n",
        "-->"
      ]
    },
    {
      "cell_type": "markdown",
      "metadata": {
        "id": "ZFzMbRsDrbB_"
      },
      "source": [
        "\n",
        "* Obtenga el mejor vino por país y provincia."
      ]
    },
    {
      "cell_type": "code",
      "metadata": {
        "id": "s5qvrp1nux7S"
      },
      "source": [
        ""
      ],
      "execution_count": null,
      "outputs": []
    },
    {
      "cell_type": "markdown",
      "metadata": {
        "id": "4sq4dHANtfvL"
      },
      "source": [
        "para ver la solución haga doble click aquí\n",
        "\n",
        "<!-- \n",
        "reviews.groupby(['country', 'province']).apply(lambda df: df.loc[df.points.idxmax()]).title\n",
        "-->"
      ]
    },
    {
      "cell_type": "markdown",
      "metadata": {
        "id": "3sRaBYibqNF1"
      },
      "source": [
        "* Nos gustaría alojar estas reseñas de vinos en nuestro sitio web, pero un sistema de calificación que va de 80 a 100 puntos es demasiado difícil de entender; nos gustaría traducirlas en calificaciones de estrellas simples: Una puntuación de 95 o más cuenta como 3 estrellas, una puntuación de al menos 85 pero menos de 95 es 2 estrellas. Cualquier otra puntuación es de 1 estrella.\n",
        "\n",
        "  Además, la Asociación Canadiense de Vinateros compró muchos anuncios en el sitio, por lo que cualquier vino de Canadá debería obtener automáticamente 3 estrellas, independientemente de los puntos.\n",
        "\n",
        "  Cree una serie *star_ratings* con el número de estrellas correspondiente a cada revisión en el conjunto de datos."
      ]
    },
    {
      "cell_type": "code",
      "metadata": {
        "id": "muDIPbKtp2KH"
      },
      "source": [
        ""
      ],
      "execution_count": null,
      "outputs": []
    },
    {
      "cell_type": "markdown",
      "metadata": {
        "id": "Wday9Wa8thRd"
      },
      "source": [
        "para ver la solución haga doble click aquí\n",
        "\n",
        "<!-- \n",
        "def points_to_stars(df):\n",
        "  \"\"\"change metric from points to stars\"\"\"\n",
        "  if df.country == \"Canada\":\n",
        "    return 3\n",
        "  elif df.points >= 95:\n",
        "    return 3\n",
        "  elif df.points >= 85:\n",
        "    return 2\n",
        "  else:\n",
        "    return 1 \n",
        "\n",
        "star_ratings = reviews.apply(points_to_stars, axis=1)\n",
        "-->"
      ]
    },
    {
      "cell_type": "markdown",
      "metadata": {
        "id": "5PgNY8dnpwgx"
      },
      "source": [
        "* Hay un número limitado de palabras que puede utilizar al describir una botella de vino. ¿Es más probable que un vino sea \"tropical\" o \"fruity\"? Cree una serie *descriptor_counts* contando cuántas veces aparece cada una de estas dos palabras en la columna de descripción del conjunto de datos."
      ]
    },
    {
      "cell_type": "code",
      "metadata": {
        "id": "Y-owgkXvpbKx"
      },
      "source": [
        ""
      ],
      "execution_count": null,
      "outputs": []
    },
    {
      "cell_type": "markdown",
      "metadata": {
        "id": "lDWDuG8htiN5"
      },
      "source": [
        "para ver la solución haga doble click aquí\n",
        "\n",
        "<!-- \n",
        "n_t = reviews.description.map(lambda desc: \"tropical\" in desc).sum()\n",
        "n_f = reviews.description.map(lambda desc: \"fruit\" in desc).sum()\n",
        "\n",
        "descriptor_counts = pd.Series([n_t, n_f], index=[\"tropical\", \"fruity\"])\n",
        "descriptor_counts\n",
        "-->"
      ]
    }
  ]
}