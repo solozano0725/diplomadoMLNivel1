{
  "nbformat": 4,
  "nbformat_minor": 0,
  "metadata": {
    "colab": {
      "name": "DipMLsesion14.ipynb",
      "provenance": [],
      "collapsed_sections": [],
      "include_colab_link": true
    },
    "kernelspec": {
      "name": "python3",
      "display_name": "Python 3"
    }
  },
  "cells": [
    {
      "cell_type": "markdown",
      "metadata": {
        "id": "view-in-github",
        "colab_type": "text"
      },
      "source": [
        "<a href=\"https://colab.research.google.com/github/solozano0725/diplomadoMLNivel1/blob/main/DipMLsesion14.ipynb\" target=\"_parent\"><img src=\"https://colab.research.google.com/assets/colab-badge.svg\" alt=\"Open In Colab\"/></a>"
      ]
    },
    {
      "cell_type": "markdown",
      "metadata": {
        "id": "ZTrlCzdxYsxx"
      },
      "source": [
        "<p><img alt=\"Colaboratory logo\" height=\"140px\" src=\"https://upload.wikimedia.org/wikipedia/commons/archive/f/fb/20161010213812%21Escudo-UdeA.svg\" align=\"left\" hspace=\"10px\" vspace=\"0px\"></p>\n",
        "\n",
        "# **Diplomado de Análisis de datos y Machine Learning en Python**\n",
        "\n",
        "\n",
        "El presente diplomado hace parte del centro de Big Data de la facultad de ciencias exactas y naturales (FCEN) de la Universidad de Antioquia.\n",
        "\n",
        "## **Sesión 14**\n",
        "\n",
        "## **Contenido**\n",
        "\n",
        "- <a href=\"#pip\"> Pipelines</a><br>\n",
        "- <a href=\"#val\"> Validación cruzada</a><br>\n",
        "- <a href=\"#int\"> Interacción de características</a><br>\n",
        "\n"
      ]
    },
    {
      "cell_type": "code",
      "metadata": {
        "id": "Ie7wgdHmMBns"
      },
      "source": [
        "e"
      ],
      "execution_count": null,
      "outputs": []
    },
    {
      "cell_type": "markdown",
      "metadata": {
        "id": "BQqJQ-MmYy3s"
      },
      "source": [
        "<p><a name=\"pip\"></a></p>\n",
        "\n",
        "# **Pipelines**\n",
        "\n",
        "Hemos visto cómo la construcción de un sistema de ML requiere de diferentes etapas: preprocesado de los datos, construcción del modelo y su posterior evaluación. También vimos cómo esta etapa de preprocesado afecta directamente los resultados que obtenemos del modelo final.\n",
        "\n",
        "Un *Pipeline* permite encadenar estas etapas secuencialmente. \n"
      ]
    },
    {
      "cell_type": "markdown",
      "metadata": {
        "id": "F3O3d6HzhFqt"
      },
      "source": [
        "<p><img alt=\"Colaboratory logo\" height=\"340px\" src=\"https://i.imgur.com/Q5C8NGb.png\" align=\"left\" hspace=\"10px\" vspace=\"0px\"></p>"
      ]
    },
    {
      "cell_type": "markdown",
      "metadata": {
        "id": "p6cKkHA5hmnI"
      },
      "source": [
        "Específicamente, un Pipeline es un objeto que agrupa las etapas de preprocesamiento y modelado como si tratara de un solo paso, de manera que podamos automatizar todo el proceso manteniendo el código de preprocesamiento y de modelado de una forma muy organizada.\n",
        "\n",
        "Las dos principales ventajas de trabajar con pipelines son las siguientes:\n",
        "\n",
        "* Normalmente necesitaremos realizar un seguimiento como tal de los datos de entrenamiento y prueba en cada uno de los pasos de preprocesado, modelado y evaluación, lo que supone una tarea muy complicada desde el punto de vista de la implementación. Con los *pipelines* no necesitaremos de este seguimiento y tendremos un código mucho más simple y limpio.\n",
        "\n",
        "* Con los pipelines, vamos a poder evaluar todo el proceso, que incluye las etapas de preprocemiento y de construcción del modelo, como un todo. Más que evaluar solo el modelo final, como lo veníamos haciendo.\n",
        "\n",
        "Volvamos al problema en el que hemos estado trabajando:"
      ]
    },
    {
      "cell_type": "code",
      "metadata": {
        "id": "lEfwWhvLi_Le",
        "colab": {
          "base_uri": "https://localhost:8080/",
          "height": 204
        },
        "outputId": "390e8c27-1d99-4f2d-d9a1-bf1096aadba8"
      },
      "source": [
        "df = pd.read_csv(\"https://raw.githubusercontent.com/diplomadomludea/nivel_1/master/data/FuelConsumption.csv\").drop(columns=\"MODELYEAR\")\n",
        "df.head()"
      ],
      "execution_count": null,
      "outputs": [
        {
          "output_type": "execute_result",
          "data": {
            "text/html": [
              "<div>\n",
              "<style scoped>\n",
              "    .dataframe tbody tr th:only-of-type {\n",
              "        vertical-align: middle;\n",
              "    }\n",
              "\n",
              "    .dataframe tbody tr th {\n",
              "        vertical-align: top;\n",
              "    }\n",
              "\n",
              "    .dataframe thead th {\n",
              "        text-align: right;\n",
              "    }\n",
              "</style>\n",
              "<table border=\"1\" class=\"dataframe\">\n",
              "  <thead>\n",
              "    <tr style=\"text-align: right;\">\n",
              "      <th></th>\n",
              "      <th>MAKE</th>\n",
              "      <th>MODEL</th>\n",
              "      <th>VEHICLECLASS</th>\n",
              "      <th>ENGINESIZE</th>\n",
              "      <th>CYLINDERS</th>\n",
              "      <th>TRANSMISSION</th>\n",
              "      <th>FUELTYPE</th>\n",
              "      <th>FUELCONSUMPTION_CITY</th>\n",
              "      <th>FUELCONSUMPTION_HWY</th>\n",
              "      <th>FUELCONSUMPTION_COMB</th>\n",
              "      <th>FUELCONSUMPTION_COMB_MPG</th>\n",
              "      <th>CO2EMISSIONS</th>\n",
              "    </tr>\n",
              "  </thead>\n",
              "  <tbody>\n",
              "    <tr>\n",
              "      <th>0</th>\n",
              "      <td>ACURA</td>\n",
              "      <td>ILX</td>\n",
              "      <td>COMPACT</td>\n",
              "      <td>2.0</td>\n",
              "      <td>4</td>\n",
              "      <td>AS5</td>\n",
              "      <td>Z</td>\n",
              "      <td>9.9</td>\n",
              "      <td>6.7</td>\n",
              "      <td>8.5</td>\n",
              "      <td>33</td>\n",
              "      <td>196</td>\n",
              "    </tr>\n",
              "    <tr>\n",
              "      <th>1</th>\n",
              "      <td>ACURA</td>\n",
              "      <td>ILX</td>\n",
              "      <td>COMPACT</td>\n",
              "      <td>2.4</td>\n",
              "      <td>4</td>\n",
              "      <td>M6</td>\n",
              "      <td>Z</td>\n",
              "      <td>11.2</td>\n",
              "      <td>7.7</td>\n",
              "      <td>9.6</td>\n",
              "      <td>29</td>\n",
              "      <td>221</td>\n",
              "    </tr>\n",
              "    <tr>\n",
              "      <th>2</th>\n",
              "      <td>ACURA</td>\n",
              "      <td>ILX HYBRID</td>\n",
              "      <td>COMPACT</td>\n",
              "      <td>1.5</td>\n",
              "      <td>4</td>\n",
              "      <td>AV7</td>\n",
              "      <td>Z</td>\n",
              "      <td>6.0</td>\n",
              "      <td>5.8</td>\n",
              "      <td>5.9</td>\n",
              "      <td>48</td>\n",
              "      <td>136</td>\n",
              "    </tr>\n",
              "    <tr>\n",
              "      <th>3</th>\n",
              "      <td>ACURA</td>\n",
              "      <td>MDX 4WD</td>\n",
              "      <td>SUV - SMALL</td>\n",
              "      <td>3.5</td>\n",
              "      <td>6</td>\n",
              "      <td>AS6</td>\n",
              "      <td>Z</td>\n",
              "      <td>12.7</td>\n",
              "      <td>9.1</td>\n",
              "      <td>11.1</td>\n",
              "      <td>25</td>\n",
              "      <td>255</td>\n",
              "    </tr>\n",
              "    <tr>\n",
              "      <th>4</th>\n",
              "      <td>ACURA</td>\n",
              "      <td>RDX AWD</td>\n",
              "      <td>SUV - SMALL</td>\n",
              "      <td>3.5</td>\n",
              "      <td>6</td>\n",
              "      <td>AS6</td>\n",
              "      <td>Z</td>\n",
              "      <td>12.1</td>\n",
              "      <td>8.7</td>\n",
              "      <td>10.6</td>\n",
              "      <td>27</td>\n",
              "      <td>244</td>\n",
              "    </tr>\n",
              "  </tbody>\n",
              "</table>\n",
              "</div>"
            ],
            "text/plain": [
              "    MAKE       MODEL  ... FUELCONSUMPTION_COMB_MPG  CO2EMISSIONS\n",
              "0  ACURA         ILX  ...                       33           196\n",
              "1  ACURA         ILX  ...                       29           221\n",
              "2  ACURA  ILX HYBRID  ...                       48           136\n",
              "3  ACURA     MDX 4WD  ...                       25           255\n",
              "4  ACURA     RDX AWD  ...                       27           244\n",
              "\n",
              "[5 rows x 12 columns]"
            ]
          },
          "metadata": {
            "tags": []
          },
          "execution_count": 2
        }
      ]
    },
    {
      "cell_type": "code",
      "metadata": {
        "id": "4o7VKvsyjGtc"
      },
      "source": [
        "# matriz de caracteristicas\n",
        "X = df.drop(columns=[\"CO2EMISSIONS\"])\n",
        "\n",
        "# variable objetivo\n",
        "y = df[[\"CO2EMISSIONS\"]]"
      ],
      "execution_count": null,
      "outputs": []
    },
    {
      "cell_type": "markdown",
      "metadata": {
        "id": "c0FmZIZNjyJp"
      },
      "source": [
        "El *pipeline* aplica secuencialmente una lista de transformadores y un estimador final. Los pasos intermedios del *pipeline* deben ser 'transformaciones', es decir, deben implementar los métodos `fit` y `transform`. El estimador final solo necesita implementar el método `fit`. \n",
        "\n",
        "Podemos utilizar la clase ` make_pipeline`, la cual es un alias de la clase `pipeline` en la que no tenemos que hacer explícito el nombre del transformador/estimador, simplemente pasar los transformadores/estimadores que queramos encadenar"
      ]
    },
    {
      "cell_type": "code",
      "metadata": {
        "id": "lb4rOJlujkcf"
      },
      "source": [
        "from sklearn.pipeline import make_pipeline"
      ],
      "execution_count": null,
      "outputs": []
    },
    {
      "cell_type": "markdown",
      "metadata": {
        "id": "onxrbzw7ix1j"
      },
      "source": [
        "Comencemos con las transformaciones de las variables numéricas"
      ]
    },
    {
      "cell_type": "code",
      "metadata": {
        "id": "TSfnaBpPkPp9",
        "colab": {
          "base_uri": "https://localhost:8080/"
        },
        "outputId": "87089ca3-af89-4a1d-d59a-a6d2ea14fd42"
      },
      "source": [
        "num_imputer = SimpleImputer(strategy=\"mean\")\n",
        "scale = StandardScaler()\n",
        "\n",
        "num_trans = make_pipeline(num_imputer, scale)\n",
        "num_trans"
      ],
      "execution_count": null,
      "outputs": [
        {
          "output_type": "execute_result",
          "data": {
            "text/plain": [
              "Pipeline(memory=None,\n",
              "         steps=[('simpleimputer',\n",
              "                 SimpleImputer(add_indicator=False, copy=True, fill_value=None,\n",
              "                               missing_values=nan, strategy='mean',\n",
              "                               verbose=0)),\n",
              "                ('standardscaler',\n",
              "                 StandardScaler(copy=True, with_mean=True, with_std=True))],\n",
              "         verbose=False)"
            ]
          },
          "metadata": {
            "tags": []
          },
          "execution_count": 5
        }
      ]
    },
    {
      "cell_type": "markdown",
      "metadata": {
        "id": "CGpxtCWJltvx"
      },
      "source": [
        "las transformaciones de las variables categóricas:"
      ]
    },
    {
      "cell_type": "code",
      "metadata": {
        "id": "dSEU8c2tltBY",
        "colab": {
          "base_uri": "https://localhost:8080/"
        },
        "outputId": "2547be84-c9ec-4d66-e627-8cde11594671"
      },
      "source": [
        "cat_imputer = SimpleImputer(strategy=\"most_frequent\")\n",
        "ohe = OneHotEncoder(drop=\"first\")\n",
        "\n",
        "cat_trans = make_pipeline(cat_imputer, ohe)\n",
        "cat_trans"
      ],
      "execution_count": null,
      "outputs": [
        {
          "output_type": "execute_result",
          "data": {
            "text/plain": [
              "Pipeline(memory=None,\n",
              "         steps=[('simpleimputer',\n",
              "                 SimpleImputer(add_indicator=False, copy=True, fill_value=None,\n",
              "                               missing_values=nan, strategy='most_frequent',\n",
              "                               verbose=0)),\n",
              "                ('onehotencoder',\n",
              "                 OneHotEncoder(categories='auto', drop='first',\n",
              "                               dtype=<class 'numpy.float64'>,\n",
              "                               handle_unknown='error', sparse=True))],\n",
              "         verbose=False)"
            ]
          },
          "metadata": {
            "tags": []
          },
          "execution_count": 6
        }
      ]
    },
    {
      "cell_type": "markdown",
      "metadata": {
        "id": "rP6uWw1RmSF6"
      },
      "source": [
        "Ahora, vamos a querer aplicar estas transformaciones que hemos definido a nuestro conjunto de datos. En principio podríamos seleccionar las caracteristicas numéricas y categóricas y aplicar la transformación correspondiente a cada una de estas y al final combinar ambas características transformadas en un solo conjunto de datos, pero este es justamente el proceso que queremos evitar, recordemos que queremos tener todo el proceso automatizado, de manera que no nos tengamos que preocupar por este tipo de pasos. \n",
        "\n",
        "Entonces Lo que haremos será utilizar un transformador de columnas `ColumnTransformer` (o `make_column_transformer`), de manera que construyamos un único objeto que realice estas tareas de preprocesamiento de una forma más simple y automática.   \n",
        "\n",
        "Debemos pasar tuplas de la forma `(transformador, columnas)` para específicar las transformaciones que queremos aplicar a cada variable:"
      ]
    },
    {
      "cell_type": "code",
      "metadata": {
        "id": "HLhoRtLcmMZK"
      },
      "source": [
        "from sklearn.compose import make_column_transformer\n",
        "\n",
        "num_features = [\"ENGINESIZE\",\"FUELCONSUMPTION_CITY\"]\n",
        "cat_features = [\"MAKE\",\"VEHICLECLASS\",\"TRANSMISSION\",\"FUELTYPE\"]\n",
        "\n",
        "preprocessor = make_column_transformer((num_trans, num_features), \n",
        "                                       (cat_trans, cat_features))"
      ],
      "execution_count": null,
      "outputs": []
    },
    {
      "cell_type": "markdown",
      "metadata": {
        "id": "fLavWjY3ojcw"
      },
      "source": [
        "Ahora que tenemos el proceso de transformación de los datos en este objeto, nos resta añadir el paso de construcción del modelo de manera que tengamos todo el proceso en un solo objeto. Para esto, de nuevo, utilizaremos un Pipeline que nos encadene el preprocesado con las construcción del modelo de regresión lineal:"
      ]
    },
    {
      "cell_type": "code",
      "metadata": {
        "id": "B9JDqzANml_g",
        "colab": {
          "base_uri": "https://localhost:8080/"
        },
        "outputId": "0a11c873-7ae8-4683-b916-deabd734b215"
      },
      "source": [
        "LR = LinearRegression()\n",
        "\n",
        "model = make_pipeline(preprocessor, LR)\n",
        "model"
      ],
      "execution_count": null,
      "outputs": [
        {
          "output_type": "execute_result",
          "data": {
            "text/plain": [
              "Pipeline(memory=None,\n",
              "         steps=[('columntransformer',\n",
              "                 ColumnTransformer(n_jobs=None, remainder='drop',\n",
              "                                   sparse_threshold=0.3,\n",
              "                                   transformer_weights=None,\n",
              "                                   transformers=[('pipeline-1',\n",
              "                                                  Pipeline(memory=None,\n",
              "                                                           steps=[('simpleimputer',\n",
              "                                                                   SimpleImputer(add_indicator=False,\n",
              "                                                                                 copy=True,\n",
              "                                                                                 fill_value=None,\n",
              "                                                                                 missing_values=nan,\n",
              "                                                                                 strategy='mean',\n",
              "                                                                                 verbose=0)),\n",
              "                                                                  ('standardscaler',\n",
              "                                                                   StandardSc...\n",
              "                                                                                 strategy='most_frequent',\n",
              "                                                                                 verbose=0)),\n",
              "                                                                  ('onehotencoder',\n",
              "                                                                   OneHotEncoder(categories='auto',\n",
              "                                                                                 drop='first',\n",
              "                                                                                 dtype=<class 'numpy.float64'>,\n",
              "                                                                                 handle_unknown='error',\n",
              "                                                                                 sparse=True))],\n",
              "                                                           verbose=False),\n",
              "                                                  ['MAKE', 'VEHICLECLASS',\n",
              "                                                   'TRANSMISSION',\n",
              "                                                   'FUELTYPE'])],\n",
              "                                   verbose=False)),\n",
              "                ('linearregression',\n",
              "                 LinearRegression(copy_X=True, fit_intercept=True, n_jobs=None,\n",
              "                                  normalize=False))],\n",
              "         verbose=False)"
            ]
          },
          "metadata": {
            "tags": []
          },
          "execution_count": 8
        }
      ]
    },
    {
      "cell_type": "markdown",
      "metadata": {
        "id": "5K6k3ULKoqJo"
      },
      "source": [
        "Una vez tenemos todo el proceso en este único objeto, podemos entrenar el modelo y evaluar todo el proceso como un todo:"
      ]
    },
    {
      "cell_type": "code",
      "metadata": {
        "id": "FdgSS3L_otFH",
        "colab": {
          "base_uri": "https://localhost:8080/"
        },
        "outputId": "5aa78c6c-aa32-4877-fa09-6576f9cc172f"
      },
      "source": [
        "X_train, X_test, y_train, y_test = train_test_split(X, y, test_size=0.2, random_state=42)\n",
        "\n",
        "# entrenamiento\n",
        "model.fit(X_train, y_train)\n",
        "\n",
        "# evaluacion\n",
        "model.score(X_test, y_test)"
      ],
      "execution_count": null,
      "outputs": [
        {
          "output_type": "execute_result",
          "data": {
            "text/plain": [
              "0.9858736959340231"
            ]
          },
          "metadata": {
            "tags": []
          },
          "execution_count": 9
        }
      ]
    },
    {
      "cell_type": "markdown",
      "metadata": {
        "id": "IhcFaCfJWt_T"
      },
      "source": [
        "Ahora, si queremos acceder a los atributos `coef_` o `intercept_` de la regresión lineal, como esta está embebida en un pipeline, debemos utilizar el nombre del estimador como clave (que con `make_pipeline` se hace de forma automática) para acceder a esta información:"
      ]
    },
    {
      "cell_type": "code",
      "metadata": {
        "id": "CQusunhdo4OP",
        "colab": {
          "base_uri": "https://localhost:8080/"
        },
        "outputId": "5eb6a545-0553-4808-8d9d-3260712957d9"
      },
      "source": [
        "model[\"linearregression\"].coef_"
      ],
      "execution_count": null,
      "outputs": [
        {
          "output_type": "execute_result",
          "data": {
            "text/plain": [
              "array([[   2.64809976,   70.18635528,   11.76900832,    7.70026555,\n",
              "           7.95019479,    2.15884438,    4.29708852,    4.04757869,\n",
              "           1.04803438,    5.47884484,    2.36473645,    6.60286307,\n",
              "           8.62542242,   -0.29251127,    1.90461498,    6.52232135,\n",
              "           4.78193208,    7.16414117,    8.02881955,    7.03687382,\n",
              "          -3.81449782,    5.55308354,    8.26281454,    8.19546227,\n",
              "           5.36182527,    3.73209848,    8.34000742,    5.99706579,\n",
              "           3.12051605,    7.67271641,    3.79575565,    3.53592   ,\n",
              "           3.59377065,    6.20346534,   -1.07969   ,    7.72989025,\n",
              "           7.13314698,    8.14153268,    4.14246141,    6.78125682,\n",
              "          -2.29433797,   -1.97628462,   -1.31275607,    4.59615589,\n",
              "          11.19085866,   13.00851864,    3.1414074 ,   -1.35541076,\n",
              "           0.61948819,   -2.96310093,    5.89592599,    9.32594702,\n",
              "          -2.47837733,   14.06321838,   10.37342014,   -4.67553076,\n",
              "          -7.05155271,   -8.19886541,   -7.84965292,  -11.11561794,\n",
              "          -1.07969   ,   -2.67623701,   -5.29242189,    1.44287502,\n",
              "          -3.69501035,   -7.29702831,   -6.53711119,   -9.51084296,\n",
              "         -15.65986186,   -6.30528581,   -1.47306464,   -7.47251674,\n",
              "          -1.1181276 ,   -4.26898701,   -7.1290181 ,   -8.26554331,\n",
              "        -136.63188558,  -26.95912897,  -23.61512544]])"
            ]
          },
          "metadata": {
            "tags": []
          },
          "execution_count": 10
        }
      ]
    },
    {
      "cell_type": "code",
      "metadata": {
        "id": "qd-DC-fbp2n8",
        "colab": {
          "base_uri": "https://localhost:8080/"
        },
        "outputId": "f35a348f-3420-43c3-ce93-1ee0b18727e8"
      },
      "source": [
        "model[\"linearregression\"].intercept_"
      ],
      "execution_count": null,
      "outputs": [
        {
          "output_type": "execute_result",
          "data": {
            "text/plain": [
              "array([290.68355483])"
            ]
          },
          "metadata": {
            "tags": []
          },
          "execution_count": 11
        }
      ]
    },
    {
      "cell_type": "markdown",
      "metadata": {
        "id": "iO3KSAUpZ5Rc"
      },
      "source": [
        "Note que si queremos modificar algo en el proceso de construcción del sistema, ya sea en la etapa de preprocesado o de modelamiento, simplemente modificamos los transformadores o estimadores, y el pipeline se encargará de hacer todo por nosotros. "
      ]
    },
    {
      "cell_type": "markdown",
      "metadata": {
        "id": "fUP5wlxHr4eO"
      },
      "source": [
        "<p><a name=\"val\"></a></p>\n",
        "\n",
        "# **Validación cruzada**\n",
        "\n",
        "Hasta el momento la estrategia que hemos seguido para la evaluación de los modelos supervisados se basa en la separación del conjunto de datos en subconjuntos de entrenamiento y prueba. Esta estrategia se conoce como *hold-out set*\n",
        "\n",
        "\n",
        "\n"
      ]
    },
    {
      "cell_type": "markdown",
      "metadata": {
        "id": "dqt_wUZZu2bj"
      },
      "source": [
        "**hold-out set**\n",
        "\n",
        "![picture](https://www.researchgate.net/profile/Brian_Mwandau/publication/325870973/figure/fig6/AS:639531594285060@1529487622235/Train-Test-Data-Split.png)"
      ]
    },
    {
      "cell_type": "markdown",
      "metadata": {
        "id": "vKw4x0PksHy6"
      },
      "source": [
        "Una desventaja de utilizar esta estrategia es que perdemos una porcion de los datos para el entrenamiento del modelo, lo cual es particularmente problematico si el conjunto de datos es pequeño. \n",
        "\n",
        "Recordemos que la razón por la que dividimos nuestros datos en los subconjuntos de entrenamiento y prueba es porque estamos interesados en medir qué tan bien nuestro modelo se generaliza a nuevos datos. Es decir, no nos interesa saber qué tan bien se ajusta nuestro modelo a los datos de entrenamiento, sino más bien qué tan bien puede hacer predicciones para datos que no se observaron durante el proceso de entrenamiento.\n",
        "\n",
        "Ccuando utilizamos la función `train_test_split` especificamos el parámetro `random_state` que define qué instancias se utilizarán para el entrenamiento y para la prueba. Como ya hemos experimentado, si cambiamos el valor de este parámetro generalmente habrá un cambio en el rendimiento del modelo, ya que estos suelen ser susceptibles a una variación en los datos de entrada. Esto supone entonces que si solo utilizamos una porción de los datos para el entrenamiento del modelo, no podremos tener evidencia concluyente sobre la precisión del modelo.\n",
        "\n",
        "Una forma de resolver estos problemas es usando lo que se conoce como **validación cruzada**. La validación cruzada es un método estadístico para evaluar el rendimiento de generalización de un modelo que es más estable y completo, particularmente útil en el caso de conjuntos de datos pequeños. En la validación cruzada, se utilizan diferentes subconjuntos de los datos de forma iterativa tanto para el entrenamiento como para la prueba. \n",
        "\n",
        "Existen diferentes formas de validación cruzada. La más común es la validación cruzada de *k folds*.\n",
        "\n",
        "La siguiente imagen es un ejemplo de una validacion cruzada de 5 folds: los datos se dividen en cinco subconjuntos de aproximadamente el mismo tamaño, con los que se procede a entrenar una secuencia de 5 modelos\n",
        "\n"
      ]
    },
    {
      "cell_type": "markdown",
      "metadata": {
        "id": "L1wmSmfdvsZG"
      },
      "source": [
        "**k-fold cross validation**\n",
        "\n",
        "![picture](https://www.mathworks.com/matlabcentral/mlc-downloads/downloads/233459a6-523d-4cf7-91f3-ff539a1b58ce/f6c9980c-ed0d-4564-8289-e95c9274b48e/images/screenshot.png)\n",
        "\n"
      ]
    },
    {
      "cell_type": "markdown",
      "metadata": {
        "id": "d_LCep4qwLds"
      },
      "source": [
        "Al final, habremos obtenido cinco puntajes de validación para nuestro modelo. Cada instancia del conjunto de datos estará en el conjunto de entrenamiento exactamente una vez.\n",
        "\n",
        "Es importante tener en cuenta que la validación cruzada no es una forma de construir un modelo que pueda aplicarse a nuevos datos. La validación cruzada no devuelve un modelo sino que crea múltiples modelos internamente con el propósito de evaluar qué tan bien se generalizará un modelo dado cuando se entrene en un conjunto de datos específico. \n",
        "\n",
        "Veamos este proceso explícitamente con 2 folds:\n"
      ]
    },
    {
      "cell_type": "code",
      "metadata": {
        "id": "_XUyCjKmxB7h"
      },
      "source": [
        "X = df[[\"ENGINESIZE\",\"FUELCONSUMPTION_CITY\"]]\n",
        "\n",
        "X1, X2, y1, y2 = train_test_split(X, y, test_size=0.5, random_state=42)\n",
        "\n",
        "LR = LinearRegression()"
      ],
      "execution_count": null,
      "outputs": []
    },
    {
      "cell_type": "code",
      "metadata": {
        "colab": {
          "base_uri": "https://localhost:8080/"
        },
        "id": "5uErv-v8k2Em",
        "outputId": "114cc082-539b-4d91-8392-495b9e75ae0b"
      },
      "source": [
        "LR.fit(X1, y1).score(X2, y2)"
      ],
      "execution_count": null,
      "outputs": [
        {
          "output_type": "execute_result",
          "data": {
            "text/plain": [
              "0.8612149544010091"
            ]
          },
          "metadata": {
            "tags": []
          },
          "execution_count": 13
        }
      ]
    },
    {
      "cell_type": "code",
      "metadata": {
        "id": "b-W0NG2yqnhB",
        "colab": {
          "base_uri": "https://localhost:8080/"
        },
        "outputId": "eea3d2ba-6eb9-4953-8bd4-374362c2fef3"
      },
      "source": [
        "LR.fit(X2, y2).score(X1, y1)"
      ],
      "execution_count": null,
      "outputs": [
        {
          "output_type": "execute_result",
          "data": {
            "text/plain": [
              "0.8555962448041052"
            ]
          },
          "metadata": {
            "tags": []
          },
          "execution_count": 14
        }
      ]
    },
    {
      "cell_type": "markdown",
      "metadata": {
        "id": "OFda0kzYxzGc"
      },
      "source": [
        "La validación cruzada se implementa en Sklearn con la función `cross_val_score`:"
      ]
    },
    {
      "cell_type": "code",
      "metadata": {
        "id": "a3ze4jtvxtB7",
        "colab": {
          "base_uri": "https://localhost:8080/"
        },
        "outputId": "6152465f-b2f8-4347-c516-48bf2ce807c3"
      },
      "source": [
        "from sklearn.model_selection import cross_val_score\n",
        "\n",
        "cross_val_score(LR, X, y, cv=2)"
      ],
      "execution_count": null,
      "outputs": [
        {
          "output_type": "execute_result",
          "data": {
            "text/plain": [
              "array([0.76682898, 0.87347252])"
            ]
          },
          "metadata": {
            "tags": []
          },
          "execution_count": 15
        }
      ]
    },
    {
      "cell_type": "markdown",
      "metadata": {
        "id": "7LsfN002X2o9"
      },
      "source": [
        "Vemos que la validación cruzada nos devuelve los puntajes obtenidos en los dos casos. Noten que obtenemos un resultado diferente al caso anterior. Esto se debe a que la función `train_test_split` realiza una permutación de las instancias previa a la separación de los conjuntos de entrenamiento y prueba.\n",
        "\n",
        "Para definir explícitamente la forma en que se dividirán los datos, podemos utilizar la función `KFold`, que es la que utiliza la funcion `cross_val_score` para generar los índices de los conjuntos de entrenamiento y prueba, de tal manera que podamos definir la permutación previa de las instancias que por defecto no se hace. \n",
        "\n",
        "Utilicemos además la misma semilla para la generación de los números pseudoaleatorios de manera que obtengamos los mismos resultados que obtuvimos con `train_test_split`:\n",
        "\n",
        "Podemos definir la separación de los datos de forma más precisa con la función `KFold` de Sklearn:"
      ]
    },
    {
      "cell_type": "code",
      "metadata": {
        "id": "4MYcgRon0s5L",
        "colab": {
          "base_uri": "https://localhost:8080/"
        },
        "outputId": "5427543c-58d4-4226-dd07-4cff0f809a21"
      },
      "source": [
        "from sklearn.model_selection import KFold\n",
        "\n",
        "cv = KFold(n_splits=2, shuffle=True, random_state=42)\n",
        "\n",
        "cross_val_score(LR, X, y, cv=cv)"
      ],
      "execution_count": null,
      "outputs": [
        {
          "output_type": "execute_result",
          "data": {
            "text/plain": [
              "array([0.86121495, 0.85559624])"
            ]
          },
          "metadata": {
            "tags": []
          },
          "execution_count": 16
        }
      ]
    },
    {
      "cell_type": "markdown",
      "metadata": {
        "id": "eq2yrLBZYpc1"
      },
      "source": [
        "Hagamos una validación con 5 folds:"
      ]
    },
    {
      "cell_type": "code",
      "metadata": {
        "id": "AkVVyciS0LDw",
        "colab": {
          "base_uri": "https://localhost:8080/"
        },
        "outputId": "015ed178-098a-4386-c6ae-168a55282962"
      },
      "source": [
        "cross_val_score(LR, X, y, cv=5)"
      ],
      "execution_count": null,
      "outputs": [
        {
          "output_type": "execute_result",
          "data": {
            "text/plain": [
              "array([0.86939224, 0.76008033, 0.81394291, 0.88390099, 0.90541164])"
            ]
          },
          "metadata": {
            "tags": []
          },
          "execution_count": 17
        }
      ]
    },
    {
      "cell_type": "markdown",
      "metadata": {
        "id": "Z9RhbHGu2sJ3"
      },
      "source": [
        "Si observamos los cinco puntajes producidos por la validación cruzada, podemos concluir que existe una variación relativamente alta en el rendimiento de los diferentes modelos. Esto generalmente implica que el modelo depende mucho de los datos particulares utilizados para el entrenamiento, y nos da una idea de cómo podría funcionar el modelo en el peor de los casos y en el mejor de los casos cuando se aplica a nuevos datos.\n",
        "\n",
        "Una primera desventaja de esta estrategia aparece en el caso en el que se tiene un conjunto de datos desbalanceado. En estos casos se realiza lo que se conoce como una validación cruzada estratificada, donde se garantiza que en los diferentes subconjuntos que se utilicen haya la misma proporción de cada clase.\n",
        "\n",
        "\n",
        "\n"
      ]
    },
    {
      "cell_type": "code",
      "metadata": {
        "colab": {
          "base_uri": "https://localhost:8080/"
        },
        "id": "Kne13nDFkGir",
        "outputId": "7cb574d9-6880-4fc6-f231-9c261247a1af"
      },
      "source": [
        "from sklearn.model_selection import StratifiedKFold\n",
        "\n",
        "cv = KFold(n_splits=5, shuffle=True, random_state=42)\n",
        "\n",
        "cross_val_score(LR, X, y, cv=cv)"
      ],
      "execution_count": null,
      "outputs": [
        {
          "output_type": "execute_result",
          "data": {
            "text/plain": [
              "array([0.87147666, 0.85799908, 0.87167742, 0.84316708, 0.83819343])"
            ]
          },
          "metadata": {
            "tags": []
          },
          "execution_count": 18
        }
      ]
    },
    {
      "cell_type": "markdown",
      "metadata": {
        "id": "JgNZUSGY4i0x"
      },
      "source": [
        "`cross_val_score` realiza una validación cruzada estratificada de forma automática cuando la tarea es de clasificación.\n",
        "\n",
        "En resumen:\n",
        "\n",
        "* Con esta técnica se utilizan todos los datos para el entrenamiento, y no solo una porción de estos, por lo que se usan los datos de manera más efectiva. Para que todos los puntajes de validacion sean altos el modelo deberá generalizar bien para todas las muestras del conjunto de datos.\n",
        "\n",
        "* Tener múltiples divisiones de los datos también nos proporciona información sobre cuán sensible es nuestro modelo a la selección del conjunto de datos de entrenamiento: nos proporciona una idea sobre cómo podría funcionar el modelo en el peor de los casos y en el mejor de los casos cuando se aplica a nuevos datos.\n",
        "\n",
        "* La principal desventaja de la validación cruzada es el aumento del costo computacional. Como ahora estamos entrenando $k$ modelos en lugar de un solo modelo, la validación cruzada será aproximadamente $k$ veces más lenta que hacer una sola división de los datos."
      ]
    },
    {
      "cell_type": "markdown",
      "metadata": {
        "id": "IEMMqL_q5ptm"
      },
      "source": [
        "<p><a name=\"int\"></a></p>\n",
        "\n",
        "# **Interacción de características**\n",
        "\n",
        "En muchos casos las características por sí solas no son tan informativas como lo serían si se combinan de alguna forma. La combinación de características también puede ayudar en el caso en el que se tengan relaciones no lineales.\n",
        "\n",
        "¿Qué pasa si nuestros datos tienen una relación no lineal?"
      ]
    },
    {
      "cell_type": "code",
      "metadata": {
        "id": "7qK61Ri5TKxH"
      },
      "source": [
        "def nl_data(N, seed=1):\n",
        "  \"\"\"genera datos con una relacion no lineal\"\"\"\n",
        "  np.random.seed(seed)\n",
        "  X = np.random.rand(N) ** 2\n",
        "  y = 10 - 1/(X + 0.1) + 2*np.random.rand(N)\n",
        "\n",
        "  return np.c_[X], y\n",
        "\n",
        "X, y = nl_data(40)"
      ],
      "execution_count": null,
      "outputs": []
    },
    {
      "cell_type": "code",
      "metadata": {
        "colab": {
          "base_uri": "https://localhost:8080/",
          "height": 268
        },
        "id": "MFMr1xvEUADv",
        "outputId": "607f10b8-108d-484c-c868-7cc0b9fdf1d3"
      },
      "source": [
        "plt.scatter(X,y);"
      ],
      "execution_count": null,
      "outputs": [
        {
          "output_type": "display_data",
          "data": {
            "image/png": "[encoded data removed]",
            "text/plain": [
              "<Figure size 432x288 with 1 Axes>"
            ]
          },
          "metadata": {
            "tags": [],
            "needs_background": "light"
          }
        }
      ]
    },
    {
      "cell_type": "markdown",
      "metadata": {
        "id": "RR55nvafB3og"
      },
      "source": [
        "Un modelo lineal simple utiliza una combinación lineal de las características de entrada para predecir  una salida\n",
        "\n",
        "$$\\hat y = w_0 + w_1 x_1 + \\cdots + w_n x_n $$\n",
        "\n",
        "Evaluemos un modelo de regresión lineal para estos datos\n",
        "\n",
        "\n",
        "\n"
      ]
    },
    {
      "cell_type": "code",
      "metadata": {
        "colab": {
          "base_uri": "https://localhost:8080/"
        },
        "id": "cXBKmyNcQlYl",
        "outputId": "1af83b3d-a71c-45c8-e59a-8ed75e81a090"
      },
      "source": [
        "cross_val_score(LinearRegression(), X, y).mean()"
      ],
      "execution_count": null,
      "outputs": [
        {
          "output_type": "execute_result",
          "data": {
            "text/plain": [
              "0.6235519510694914"
            ]
          },
          "metadata": {
            "tags": []
          },
          "execution_count": 21
        }
      ]
    },
    {
      "cell_type": "markdown",
      "metadata": {
        "id": "wYAt_2tFfg_1"
      },
      "source": [
        "Vemos que no se obtiene un muy buen resultado, lo cual es obvio ya que estamos tratando de ajustar un modelo lineal a unos datos que tienen una relación no lineal. Visualicemos el modelo construido"
      ]
    },
    {
      "cell_type": "code",
      "metadata": {
        "id": "52-tsi41RIG2",
        "colab": {
          "base_uri": "https://localhost:8080/",
          "height": 268
        },
        "outputId": "1f807486-1428-4aec-bdeb-4fac6efe0476"
      },
      "source": [
        "model = LinearRegression().fit(X, y)\n",
        "\n",
        "x_new = np.c_[np.linspace(0,1)]\n",
        "y_pred = model.predict(x_new)\n",
        "\n",
        "plt.scatter(X, y, label=\"data\")\n",
        "plt.plot(x_new, y_pred, \"r-\", label=\"model\")\n",
        "plt.legend();"
      ],
      "execution_count": null,
      "outputs": [
        {
          "output_type": "display_data",
          "data": {
            "image/png": "[encoded data removed]",
            "text/plain": [
              "<Figure size 432x288 with 1 Axes>"
            ]
          },
          "metadata": {
            "tags": [],
            "needs_background": "light"
          }
        }
      ]
    },
    {
      "cell_type": "markdown",
      "metadata": {
        "id": "Ug4eQSLPFjlI"
      },
      "source": [
        "Una opción que podemos intentar para mejorar el modelo es hacer que este sea más complejo. Una forma fácil de extender el modelo lineal es incluir combinaciones de pares de características de entrada:\n",
        "\n",
        "$$\\hat y = w_0 + w_1 x_1 + \\cdots w_n x_n + w_{11}x_1 x_1 + w_{12} x_1 x_2 + \\cdots$$\n",
        "\n",
        "Esto nos permite capturar interacciones entre las características. Con estas nuevas características se puede construir un modelo de **regresión polinomial**. \n",
        "\n",
        "En nuestro caso, tendríamos:\n",
        "\n",
        "$$\\hat y = w_0 + w_1 x_1 + w_2 x_1^2$$\n",
        "\n",
        "De esta manera podemos adaptar la regresión lineal a relaciones no lineales entre las variables. Observe que este sigue siendo un modelo lineal: la linealidad se refiere al hecho de que los coeficientes nunca se multiplican ni se dividen entre sí. \n",
        "\n",
        "Lo que hemos hecho con esta transformación es basicamente ir a una dimensión superior, donde un ajuste lineal sea capaz de captar relaciones más complicadas de los datos y luego proyectar el resultado sobre el espacio original.\n",
        "\n",
        "Podemos generar esta interacción de características utilizando el transformador `PolynomialFeatures` de Sklearn:"
      ]
    },
    {
      "cell_type": "code",
      "metadata": {
        "id": "1g0pAUsAGXAP"
      },
      "source": [
        "from sklearn.preprocessing import PolynomialFeatures\n",
        "\n",
        "poly = PolynomialFeatures(degree=2, include_bias=False)"
      ],
      "execution_count": null,
      "outputs": []
    },
    {
      "cell_type": "markdown",
      "metadata": {
        "id": "aQ_CNgObaCk2"
      },
      "source": [
        "Transformemos nuestra característica:"
      ]
    },
    {
      "cell_type": "code",
      "metadata": {
        "id": "YpYxkjzWaGRP"
      },
      "source": [
        "X_poly = poly.fit_transform(X)"
      ],
      "execution_count": null,
      "outputs": []
    },
    {
      "cell_type": "code",
      "metadata": {
        "id": "NLy8ADiCZbmg",
        "colab": {
          "base_uri": "https://localhost:8080/"
        },
        "outputId": "ba1dd639-8c2e-48a5-9106-0c9f6e07e458"
      },
      "source": [
        "# antes de la transformacion (X)\n",
        "X[:5]"
      ],
      "execution_count": null,
      "outputs": [
        {
          "output_type": "execute_result",
          "data": {
            "text/plain": [
              "array([[1.73907352e-01],\n",
              "       [5.18867376e-01],\n",
              "       [1.30815988e-08],\n",
              "       [9.14049845e-02],\n",
              "       [2.15372915e-02]])"
            ]
          },
          "metadata": {
            "tags": []
          },
          "execution_count": 25
        }
      ]
    },
    {
      "cell_type": "code",
      "metadata": {
        "id": "Sh7w8lV_Zdlu",
        "colab": {
          "base_uri": "https://localhost:8080/"
        },
        "outputId": "cc24d57c-5217-4238-93ca-66a2a9976eec"
      },
      "source": [
        "# despues de la transformacion (X, X^2)\n",
        "X_poly[:5]"
      ],
      "execution_count": null,
      "outputs": [
        {
          "output_type": "execute_result",
          "data": {
            "text/plain": [
              "array([[1.73907352e-01, 3.02437672e-02],\n",
              "       [5.18867376e-01, 2.69223354e-01],\n",
              "       [1.30815988e-08, 1.71128228e-16],\n",
              "       [9.14049845e-02, 8.35487119e-03],\n",
              "       [2.15372915e-02, 4.63854925e-04]])"
            ]
          },
          "metadata": {
            "tags": []
          },
          "execution_count": 26
        }
      ]
    },
    {
      "cell_type": "markdown",
      "metadata": {
        "id": "VmAeXkGpL46N"
      },
      "source": [
        "**Ejercicio 1:** Defina una función `polyreg` que tome como argumento el grado del polinomio y que retorne un pipeline que encadene la transformación polinomial, la estandarización de las características y la construcción de un modelo de regresión lineal. Evalúe el modelo final con una validación cruzada."
      ]
    },
    {
      "cell_type": "code",
      "metadata": {
        "id": "wifqIUjQK7Fz"
      },
      "source": [
        "def polyreg(degree=2):\n",
        "  \"\"\"retorna un modelo de regresion polinomial\"\"\"\n",
        "  return make_pipeline(PolynomialFeatures(degree),\n",
        "                       StandardScaler(),\n",
        "                       LinearRegression())"
      ],
      "execution_count": null,
      "outputs": []
    },
    {
      "cell_type": "code",
      "metadata": {
        "colab": {
          "base_uri": "https://localhost:8080/"
        },
        "id": "cyMrhSLp9NMC",
        "outputId": "4367fdf6-56d0-4fe6-b9da-ab13fe45308c"
      },
      "source": [
        "cross_val_score(polyreg(), X, y).mean()"
      ],
      "execution_count": null,
      "outputs": [
        {
          "output_type": "execute_result",
          "data": {
            "text/plain": [
              "0.8561343998157547"
            ]
          },
          "metadata": {
            "tags": []
          },
          "execution_count": 28
        }
      ]
    },
    {
      "cell_type": "markdown",
      "metadata": {
        "id": "3loGrlIXaZGb"
      },
      "source": [
        "**Ejercicio 2:** Defina una función `plot_polyreg` que permita visualizar la regresión polinomial en función del grado del polinomio"
      ]
    },
    {
      "cell_type": "code",
      "metadata": {
        "id": "o2q4jNJiawsW"
      },
      "source": [
        "def plot_polyreg(X, y, degree):\n",
        "  \"\"\"grafica un modelo de regresion polinomial\"\"\"\n",
        "\n",
        "  model = polyreg(degree).fit(X, y)\n",
        "\n",
        "  x = np.c_[np.linspace(X.min(),X.max(),100)]\n",
        "  y_pred = model.predict(x)\n",
        "\n",
        "  fig = plt.figure(figsize=(10,7))\n",
        "  plt.scatter(X, y, label=\"data\")\n",
        "  plt.plot(x, y_pred, \"r\", label=\"model\")\n",
        "  plt.title(f\"degree: {degree}\")\n",
        "  plt.legend();"
      ],
      "execution_count": null,
      "outputs": []
    },
    {
      "cell_type": "code",
      "metadata": {
        "id": "XI88Pi5-bYwp",
        "colab": {
          "base_uri": "https://localhost:8080/",
          "height": 447
        },
        "outputId": "aa1da8be-7f1b-4e26-e973-a0a0037dd6c1"
      },
      "source": [
        "plot_polyreg(X, y, 1)"
      ],
      "execution_count": null,
      "outputs": [
        {
          "output_type": "display_data",
          "data": {
            "image/png": "[encoded data removed]",
            "text/plain": [
              "<Figure size 720x504 with 1 Axes>"
            ]
          },
          "metadata": {
            "tags": [],
            "needs_background": "light"
          }
        }
      ]
    },
    {
      "cell_type": "code",
      "metadata": {
        "id": "1xJBYPmrbad7",
        "colab": {
          "base_uri": "https://localhost:8080/",
          "height": 447
        },
        "outputId": "a1eb805e-93e0-406d-8414-b441bc40a5bf"
      },
      "source": [
        "plot_polyreg(X, y, 10)"
      ],
      "execution_count": null,
      "outputs": [
        {
          "output_type": "display_data",
          "data": {
            "image/png": "[encoded data removed]",
            "text/plain": [
              "<Figure size 720x504 with 1 Axes>"
            ]
          },
          "metadata": {
            "tags": [],
            "needs_background": "light"
          }
        }
      ]
    },
    {
      "cell_type": "code",
      "metadata": {
        "id": "khxDueFQfV4L"
      },
      "source": [
        ""
      ],
      "execution_count": null,
      "outputs": []
    }
  ]
}