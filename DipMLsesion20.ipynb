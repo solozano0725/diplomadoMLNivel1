{
  "nbformat": 4,
  "nbformat_minor": 0,
  "metadata": {
    "colab": {
      "name": "DipMLsesion20.ipynb",
      "provenance": [],
      "collapsed_sections": [],
      "include_colab_link": true
    },
    "kernelspec": {
      "display_name": "Python 3",
      "name": "python3"
    }
  },
  "cells": [
    {
      "cell_type": "markdown",
      "metadata": {
        "id": "view-in-github",
        "colab_type": "text"
      },
      "source": [
        "<a href=\"https://colab.research.google.com/github/solozano0725/diplomadoMLNivel1/blob/main/DipMLsesion20.ipynb\" target=\"_parent\"><img src=\"https://colab.research.google.com/assets/colab-badge.svg\" alt=\"Open In Colab\"/></a>"
      ]
    },
    {
      "cell_type": "markdown",
      "metadata": {
        "id": "XzLZiMEwYqlT"
      },
      "source": [
        "<p><img alt=\"Colaboratory logo\" height=\"140px\" src=\"https://upload.wikimedia.org/wikipedia/commons/archive/f/fb/20161010213812%21Escudo-UdeA.svg\" align=\"left\" hspace=\"10px\" vspace=\"0px\"></p>\n",
        "\n",
        "# **Diplomado de Análisis de datos y Machine Learning en Python**\n",
        "\n",
        "\n",
        "El presente diplomado hace parte del centro de Big Data de la facultad de ciencias exactas y naturales (FCEN) de la Universidad de Antioquia.\n",
        "\n",
        "## **Sesión 20**\n",
        "\n",
        "## **Contenido**\n",
        "\n",
        "- <a href=\"#met\"> Métricas</a><br>\n",
        "  - <a href=\"#acc\"> *Accuracy*</a><br>\n",
        "  - <a href=\"#mat\"> Matriz de confusión</a><br>\n",
        "  - <a href=\"#pre\"> *Precision* & *Recall*</a><br>\n",
        "  - <a href=\"#cur\"> Curva ROC</a><br>\n"
      ]
    },
    {
      "cell_type": "code",
      "metadata": {
        "id": "_qB0pXSfid1I"
      },
      "source": [
        "import numpy as np\n",
        "import pandas as pd\n",
        "import matplotlib.pyplot as plt\n",
        "import seaborn as sns; sns.set()\n",
        "\n",
        "from sklearn.model_selection import train_test_split, cross_val_score\n",
        "from sklearn.preprocessing import StandardScaler\n",
        "from sklearn.linear_model import LogisticRegression\n",
        "from sklearn.svm import SVC\n",
        "from sklearn.naive_bayes import GaussianNB\n",
        "from sklearn.pipeline import make_pipeline\n",
        "\n",
        "from mlxtend.plotting import plot_decision_regions"
      ],
      "execution_count": null,
      "outputs": []
    },
    {
      "cell_type": "markdown",
      "metadata": {
        "id": "KG_eishkbruS"
      },
      "source": [
        "<p><a name=\"acc\"></a></p>\n",
        "\n",
        "# **Métricas**\n",
        "\n",
        "En Machine Learning, la métrica que elejimos determina directamente el tipo de solución que obtenemos. Por lo tanto, las métricas en Machine Learning no son herramientas auxiliares para evaluar una solución, sino que son lo que *guía* el proceso de encontrar una solución.\n",
        "\n",
        "Vamos a utilizar un conjunto de datos para predicción de cancer de mama con el objetivo ejemplificar los diferentes aspectos que se deben tener en cuenta a la hora de evaluar un modelo de clasificación\n",
        "\n",
        "\n",
        "\n",
        "\n",
        "\n",
        "\n"
      ]
    },
    {
      "cell_type": "code",
      "metadata": {
        "colab": {
          "base_uri": "https://localhost:8080/",
          "height": 258
        },
        "id": "4xcPbCc_iY4F",
        "outputId": "d9f98da8-e856-4d21-8cd8-d99523a71c24"
      },
      "source": [
        "from sklearn.datasets import load_breast_cancer\n",
        "\n",
        "data = load_breast_cancer()\n",
        "df = pd.DataFrame(data.data, columns=data.feature_names)\n",
        "df.head()"
      ],
      "execution_count": null,
      "outputs": [
        {
          "output_type": "execute_result",
          "data": {
            "text/html": [
              "<div>\n",
              "<style scoped>\n",
              "    .dataframe tbody tr th:only-of-type {\n",
              "        vertical-align: middle;\n",
              "    }\n",
              "\n",
              "    .dataframe tbody tr th {\n",
              "        vertical-align: top;\n",
              "    }\n",
              "\n",
              "    .dataframe thead th {\n",
              "        text-align: right;\n",
              "    }\n",
              "</style>\n",
              "<table border=\"1\" class=\"dataframe\">\n",
              "  <thead>\n",
              "    <tr style=\"text-align: right;\">\n",
              "      <th></th>\n",
              "      <th>mean radius</th>\n",
              "      <th>mean texture</th>\n",
              "      <th>mean perimeter</th>\n",
              "      <th>mean area</th>\n",
              "      <th>mean smoothness</th>\n",
              "      <th>mean compactness</th>\n",
              "      <th>mean concavity</th>\n",
              "      <th>mean concave points</th>\n",
              "      <th>mean symmetry</th>\n",
              "      <th>mean fractal dimension</th>\n",
              "      <th>radius error</th>\n",
              "      <th>texture error</th>\n",
              "      <th>perimeter error</th>\n",
              "      <th>area error</th>\n",
              "      <th>smoothness error</th>\n",
              "      <th>compactness error</th>\n",
              "      <th>concavity error</th>\n",
              "      <th>concave points error</th>\n",
              "      <th>symmetry error</th>\n",
              "      <th>fractal dimension error</th>\n",
              "      <th>worst radius</th>\n",
              "      <th>worst texture</th>\n",
              "      <th>worst perimeter</th>\n",
              "      <th>worst area</th>\n",
              "      <th>worst smoothness</th>\n",
              "      <th>worst compactness</th>\n",
              "      <th>worst concavity</th>\n",
              "      <th>worst concave points</th>\n",
              "      <th>worst symmetry</th>\n",
              "      <th>worst fractal dimension</th>\n",
              "    </tr>\n",
              "  </thead>\n",
              "  <tbody>\n",
              "    <tr>\n",
              "      <th>0</th>\n",
              "      <td>17.99</td>\n",
              "      <td>10.38</td>\n",
              "      <td>122.80</td>\n",
              "      <td>1001.0</td>\n",
              "      <td>0.11840</td>\n",
              "      <td>0.27760</td>\n",
              "      <td>0.3001</td>\n",
              "      <td>0.14710</td>\n",
              "      <td>0.2419</td>\n",
              "      <td>0.07871</td>\n",
              "      <td>1.0950</td>\n",
              "      <td>0.9053</td>\n",
              "      <td>8.589</td>\n",
              "      <td>153.40</td>\n",
              "      <td>0.006399</td>\n",
              "      <td>0.04904</td>\n",
              "      <td>0.05373</td>\n",
              "      <td>0.01587</td>\n",
              "      <td>0.03003</td>\n",
              "      <td>0.006193</td>\n",
              "      <td>25.38</td>\n",
              "      <td>17.33</td>\n",
              "      <td>184.60</td>\n",
              "      <td>2019.0</td>\n",
              "      <td>0.1622</td>\n",
              "      <td>0.6656</td>\n",
              "      <td>0.7119</td>\n",
              "      <td>0.2654</td>\n",
              "      <td>0.4601</td>\n",
              "      <td>0.11890</td>\n",
              "    </tr>\n",
              "    <tr>\n",
              "      <th>1</th>\n",
              "      <td>20.57</td>\n",
              "      <td>17.77</td>\n",
              "      <td>132.90</td>\n",
              "      <td>1326.0</td>\n",
              "      <td>0.08474</td>\n",
              "      <td>0.07864</td>\n",
              "      <td>0.0869</td>\n",
              "      <td>0.07017</td>\n",
              "      <td>0.1812</td>\n",
              "      <td>0.05667</td>\n",
              "      <td>0.5435</td>\n",
              "      <td>0.7339</td>\n",
              "      <td>3.398</td>\n",
              "      <td>74.08</td>\n",
              "      <td>0.005225</td>\n",
              "      <td>0.01308</td>\n",
              "      <td>0.01860</td>\n",
              "      <td>0.01340</td>\n",
              "      <td>0.01389</td>\n",
              "      <td>0.003532</td>\n",
              "      <td>24.99</td>\n",
              "      <td>23.41</td>\n",
              "      <td>158.80</td>\n",
              "      <td>1956.0</td>\n",
              "      <td>0.1238</td>\n",
              "      <td>0.1866</td>\n",
              "      <td>0.2416</td>\n",
              "      <td>0.1860</td>\n",
              "      <td>0.2750</td>\n",
              "      <td>0.08902</td>\n",
              "    </tr>\n",
              "    <tr>\n",
              "      <th>2</th>\n",
              "      <td>19.69</td>\n",
              "      <td>21.25</td>\n",
              "      <td>130.00</td>\n",
              "      <td>1203.0</td>\n",
              "      <td>0.10960</td>\n",
              "      <td>0.15990</td>\n",
              "      <td>0.1974</td>\n",
              "      <td>0.12790</td>\n",
              "      <td>0.2069</td>\n",
              "      <td>0.05999</td>\n",
              "      <td>0.7456</td>\n",
              "      <td>0.7869</td>\n",
              "      <td>4.585</td>\n",
              "      <td>94.03</td>\n",
              "      <td>0.006150</td>\n",
              "      <td>0.04006</td>\n",
              "      <td>0.03832</td>\n",
              "      <td>0.02058</td>\n",
              "      <td>0.02250</td>\n",
              "      <td>0.004571</td>\n",
              "      <td>23.57</td>\n",
              "      <td>25.53</td>\n",
              "      <td>152.50</td>\n",
              "      <td>1709.0</td>\n",
              "      <td>0.1444</td>\n",
              "      <td>0.4245</td>\n",
              "      <td>0.4504</td>\n",
              "      <td>0.2430</td>\n",
              "      <td>0.3613</td>\n",
              "      <td>0.08758</td>\n",
              "    </tr>\n",
              "    <tr>\n",
              "      <th>3</th>\n",
              "      <td>11.42</td>\n",
              "      <td>20.38</td>\n",
              "      <td>77.58</td>\n",
              "      <td>386.1</td>\n",
              "      <td>0.14250</td>\n",
              "      <td>0.28390</td>\n",
              "      <td>0.2414</td>\n",
              "      <td>0.10520</td>\n",
              "      <td>0.2597</td>\n",
              "      <td>0.09744</td>\n",
              "      <td>0.4956</td>\n",
              "      <td>1.1560</td>\n",
              "      <td>3.445</td>\n",
              "      <td>27.23</td>\n",
              "      <td>0.009110</td>\n",
              "      <td>0.07458</td>\n",
              "      <td>0.05661</td>\n",
              "      <td>0.01867</td>\n",
              "      <td>0.05963</td>\n",
              "      <td>0.009208</td>\n",
              "      <td>14.91</td>\n",
              "      <td>26.50</td>\n",
              "      <td>98.87</td>\n",
              "      <td>567.7</td>\n",
              "      <td>0.2098</td>\n",
              "      <td>0.8663</td>\n",
              "      <td>0.6869</td>\n",
              "      <td>0.2575</td>\n",
              "      <td>0.6638</td>\n",
              "      <td>0.17300</td>\n",
              "    </tr>\n",
              "    <tr>\n",
              "      <th>4</th>\n",
              "      <td>20.29</td>\n",
              "      <td>14.34</td>\n",
              "      <td>135.10</td>\n",
              "      <td>1297.0</td>\n",
              "      <td>0.10030</td>\n",
              "      <td>0.13280</td>\n",
              "      <td>0.1980</td>\n",
              "      <td>0.10430</td>\n",
              "      <td>0.1809</td>\n",
              "      <td>0.05883</td>\n",
              "      <td>0.7572</td>\n",
              "      <td>0.7813</td>\n",
              "      <td>5.438</td>\n",
              "      <td>94.44</td>\n",
              "      <td>0.011490</td>\n",
              "      <td>0.02461</td>\n",
              "      <td>0.05688</td>\n",
              "      <td>0.01885</td>\n",
              "      <td>0.01756</td>\n",
              "      <td>0.005115</td>\n",
              "      <td>22.54</td>\n",
              "      <td>16.67</td>\n",
              "      <td>152.20</td>\n",
              "      <td>1575.0</td>\n",
              "      <td>0.1374</td>\n",
              "      <td>0.2050</td>\n",
              "      <td>0.4000</td>\n",
              "      <td>0.1625</td>\n",
              "      <td>0.2364</td>\n",
              "      <td>0.07678</td>\n",
              "    </tr>\n",
              "  </tbody>\n",
              "</table>\n",
              "</div>"
            ],
            "text/plain": [
              "   mean radius  mean texture  ...  worst symmetry  worst fractal dimension\n",
              "0        17.99         10.38  ...          0.4601                  0.11890\n",
              "1        20.57         17.77  ...          0.2750                  0.08902\n",
              "2        19.69         21.25  ...          0.3613                  0.08758\n",
              "3        11.42         20.38  ...          0.6638                  0.17300\n",
              "4        20.29         14.34  ...          0.2364                  0.07678\n",
              "\n",
              "[5 rows x 30 columns]"
            ]
          },
          "metadata": {
            "tags": []
          },
          "execution_count": 2
        }
      ]
    },
    {
      "cell_type": "markdown",
      "metadata": {
        "id": "xSuQQ7ue023q"
      },
      "source": [
        "Como vemos, el conjunto de datos contiene una serie de características numéricas para predecir si una persona tiene un cancer maligno (*malignant*) o benigno (*benign*). \n",
        "\n",
        "Separemos los datos en los conjuntos de entrenamiento y de prueba"
      ]
    },
    {
      "cell_type": "code",
      "metadata": {
        "id": "qCdMuJSZih-r"
      },
      "source": [
        "# train and test sets\n",
        "X = df\n",
        "y = data.target\n",
        "\n",
        "X_train, X_test, y_train, y_test = train_test_split(X, y, test_size=0.2, random_state=42)"
      ],
      "execution_count": null,
      "outputs": []
    },
    {
      "cell_type": "markdown",
      "metadata": {
        "id": "BZZkd40d8Vox"
      },
      "source": [
        "Recuerde que la función `train_test_split` realiza un separamiento *estratificado*. \n",
        "\n",
        "Construyamos tres modelos de clasificación"
      ]
    },
    {
      "cell_type": "code",
      "metadata": {
        "id": "c-N1SJpa8Ldj"
      },
      "source": [
        "# classifiers\n",
        "lr_clf = make_pipeline(StandardScaler(), \n",
        "                       LogisticRegression()).fit(X_train, y_train)\n",
        "\n",
        "svm_clf = make_pipeline(StandardScaler(), \n",
        "                        SVC()).fit(X_train, y_train)\n",
        "                        \n",
        "nb_clf = GaussianNB().fit(X_train, y_train)"
      ],
      "execution_count": null,
      "outputs": []
    },
    {
      "cell_type": "markdown",
      "metadata": {
        "id": "VwcZkKWc0_Kh"
      },
      "source": [
        "# **Accuracy**: \n",
        "\n",
        "La [métrica](https://scikit-learn.org/stable/modules/model_evaluation.html) que se utiliza por defecto cuando se utiliza el método `score` es el *accuracy*, que es la fracción de muestras clasificadas correctamente\n",
        "\n",
        "$$\\text{accuracy} = \\frac{\\text{clasificados bien}}{\\text{total}}$$\n",
        "\n",
        "veamos el *accuracy* para los tres modelos:"
      ]
    },
    {
      "cell_type": "code",
      "metadata": {
        "colab": {
          "base_uri": "https://localhost:8080/"
        },
        "id": "ph8Bu1fQ13jm",
        "outputId": "1e727b2e-70be-4f2e-efbd-cafb6a986844"
      },
      "source": [
        "print(f\"Logistic Regression: \\t {lr_clf.score(X_test, y_test):.2f}\")\n",
        "print(f\"Support Vector Machines: {svm_clf.score(X_test, y_test):.2f}\")\n",
        "print(f\"Naive Bayes: \\t\\t {nb_clf.score(X_test, y_test):.2f}\")"
      ],
      "execution_count": null,
      "outputs": [
        {
          "output_type": "stream",
          "text": [
            "Logistic Regression: \t 0.97\n",
            "Support Vector Machines: 0.98\n",
            "Naive Bayes: \t\t 0.97\n"
          ],
          "name": "stdout"
        }
      ]
    },
    {
      "cell_type": "markdown",
      "metadata": {
        "id": "p_UBjN7Z2D7F"
      },
      "source": [
        "Alternativamente, podemos utilizar una validación cruzada para tener una mejor evaluación del modelo, la cuál también utiliza por defecto el *accuracy* como métrica de rendimiento cuando la tarea es de clasificación (puede utilizar el parámetro `scoring` para elegir la métrica):"
      ]
    },
    {
      "cell_type": "code",
      "metadata": {
        "colab": {
          "base_uri": "https://localhost:8080/"
        },
        "id": "AbQ5-Khrjt_w",
        "outputId": "a9ecea38-1ed8-47d3-a21a-a8169d2e8aec"
      },
      "source": [
        "print(f\"Logistic Regression: \\t {cross_val_score(lr_clf, X, y).mean():.2f}\")\n",
        "print(f\"Support Vector Machines: {cross_val_score(svm_clf, X, y).mean():.2f}\")\n",
        "print(f\"Naive Bayes: \\t\\t {cross_val_score(nb_clf, X, y).mean():.2f}\")"
      ],
      "execution_count": null,
      "outputs": [
        {
          "output_type": "stream",
          "text": [
            "Logistic Regression: \t 0.98\n",
            "Support Vector Machines: 0.97\n",
            "Naive Bayes: \t\t 0.94\n"
          ],
          "name": "stdout"
        }
      ]
    },
    {
      "cell_type": "markdown",
      "metadata": {
        "id": "_aY7mPPE2WS6"
      },
      "source": [
        "De aquí vemos que, aunque el clasificador NB generalizaba bien para la elección particular de conjuntos de entrenamiento y validación que construímos, una vez se utiliza todo el conjunto de datos se evidencia que es mucho más sensible a los datos de entrada y su rendimiento real está por debajo de los demás clasificadores.\n",
        "\n",
        "La principal ventaja del *accuracy* es que es muy fácil de interpretar ya que mide lo que realmente se desea lograr en general: acertar en la clasificación tantas veces como sea posible. Sin embargo, si evaluamos el rendimiento de un modelo de clasificación utilizando solo el *accuracy* veremos que, en la práctica, esta métrica de evaluación puede no ser apropiada para el objetivo que se tenga. \n",
        "\n",
        "El *accuracy* es una métrica útil cuando los errores en la predicción de todas las clases se consideran **igualmente importantes**. En el caso de la predicción de una enfermedad, esta métrica no será tan útil.\n",
        "\n",
        "Recordemos que para la clasificación binaria, hablamos de una clase positiva y una clase negativa. En este caso, si la prueba es negativa, se supondrá que el paciente está sano, mientras que si la prueba es positiva, el paciente se someterá a una evaluación adicional. Llamaremos a una prueba positiva (una indicación de cáncer) la clase positiva, y una prueba negativa a la clase negativa. \n",
        "\n",
        "Ahora, no podemos suponer que nuestro modelo siempre funcionará perfectamente; este cometerá errores. Para cualquier aplicación, debemos preguntarnos cuáles son las consecuencias de estos errores en el mundo real. Los posibles errores en nuestro caso son: \n",
        "\n",
        "Un posible error es que un paciente sano se clasifique como positivo, que como dijimos llevaría a pruebas adicionales. Esto conlleva algunos costos e inconvenientes para el paciente. Una predicción positiva incorrecta se llama **falso positivo (FP)**. El otro posible error es que un paciente enfermo se clasifique como negativo, es decir como no enfermo, por lo que no recibirá más pruebas ni tratamiento, lo que podría llevarlo a la muerte ya que no recibirá tratamiento. Un error de este tipo (una predicción negativa incorrecta) se llama *falso negativo*\n",
        "\n",
        "* **Falso positivo (FP)**: Un paciente sano se clasifica como positivo \n",
        "\n",
        "* **Falso negativo (FN)**: Un paciente enfermo se clasifica como negativo\n",
        "\n",
        "El problema con el *accuracy* es que encapsula los diferentes tipos de errores en el mismo número\n",
        "\n",
        "$$\\text{accuracy} = \\frac{\\text{TP} + \\text{TN}}{\\text{TP}+\\text{TN}+\\text{FP}+\\text{FN}}$$\n",
        "\n",
        "donde **TP** (*true positive*) y **TN** (*true negative*) son las clasificaciones correctas. Sin embargo, en este caso, necesitamos métricas alternativas que nos permitan evaluar los posibles errores de forma independiente para guiar el modelo a que tolere más los falsos positivos que los falsos negativos.\n",
        "\n",
        "\n",
        "\n"
      ]
    },
    {
      "cell_type": "markdown",
      "metadata": {
        "id": "D6ifllZ678DO"
      },
      "source": [
        "Por otro lado, el *accuracy* no es una buena métrica de rendimiento cuando los datos están desbalanceados, es decir, conjuntos de datos en los que una clase es mucho más frecuente que la otra, ya que esta, como vemos, mide el rendimiento del modelo para todas las clases a la vez y devuelve convenientemente un solo número. \n",
        "\n",
        "En la práctica, los datos no balanceados son la norma, y es raro que los eventos de interés tengan una frecuencia igual o incluso similar en los datos.\n",
        "\n",
        "Veamos que el conjunto de datos que estamos tratando es en efecto desbalanceado:"
      ]
    },
    {
      "cell_type": "code",
      "metadata": {
        "colab": {
          "base_uri": "https://localhost:8080/"
        },
        "id": "LlnfpanMWcds",
        "outputId": "6b6b6835-71c2-4872-8461-d67a01278901"
      },
      "source": [
        "print(f\"clases positivas: {y_train.sum()}\") \n",
        "print(f\"clases negativas: {y_train.size - y_train.sum()}\")"
      ],
      "execution_count": null,
      "outputs": [
        {
          "output_type": "stream",
          "text": [
            "clases positivas: 286\n",
            "clases negativas: 169\n"
          ],
          "name": "stdout"
        }
      ]
    },
    {
      "cell_type": "markdown",
      "metadata": {
        "id": "5mcpKQ7ddRgg"
      },
      "source": [
        "construyamos un clasificador *dummy* que clasifique cada instancia como la clase con mayor frecuencia (clase positiva). Para esto podemos utilizar el estimador `DummyClassifier` de Sklearn\n"
      ]
    },
    {
      "cell_type": "code",
      "metadata": {
        "id": "GjnUdPT2Z3Cl",
        "colab": {
          "base_uri": "https://localhost:8080/"
        },
        "outputId": "f7dce1a1-27dc-4435-bd09-f33c46072fff"
      },
      "source": [
        "from sklearn.dummy import DummyClassifier\n",
        "\n",
        "dummy_clf = DummyClassifier(strategy=\"most_frequent\").fit(X_train, y_train)\n",
        "\n",
        "dummy_clf.score(X_test, y_test)"
      ],
      "execution_count": null,
      "outputs": [
        {
          "output_type": "execute_result",
          "data": {
            "text/plain": [
              "0.6228070175438597"
            ]
          },
          "metadata": {
            "tags": []
          },
          "execution_count": 8
        }
      ]
    },
    {
      "cell_type": "markdown",
      "metadata": {
        "id": "8vY6UUbe9JZc"
      },
      "source": [
        "Cualquier modelo que tenga este puntaja o esté por debajo será un mal modelo. Veamos un caso más extremo de desbalance para ilustrar cómo el *accuracy* puede ser engañoso en estos escenarios. Generemos un arreglo de prueba para las etiquetas donde la mayoría sean la clase positiva:"
      ]
    },
    {
      "cell_type": "code",
      "metadata": {
        "id": "1FFJNzfcdPCD",
        "colab": {
          "base_uri": "https://localhost:8080/"
        },
        "outputId": "e3a48643-4457-4f37-fbf6-a01dead6e29b"
      },
      "source": [
        "# clases \"reales\"\n",
        "y_true = np.array([1 if i < 17 else 0 for i in range(20)])\n",
        "y_true"
      ],
      "execution_count": null,
      "outputs": [
        {
          "output_type": "execute_result",
          "data": {
            "text/plain": [
              "array([1, 1, 1, 1, 1, 1, 1, 1, 1, 1, 1, 1, 1, 1, 1, 1, 1, 0, 0, 0])"
            ]
          },
          "metadata": {
            "tags": []
          },
          "execution_count": 9
        }
      ]
    },
    {
      "cell_type": "markdown",
      "metadata": {
        "id": "yY73ciGn92ym"
      },
      "source": [
        "y generemos ahora un arreglo de predicciones que únicamente incluya la clase más frecuente"
      ]
    },
    {
      "cell_type": "code",
      "metadata": {
        "id": "93D_5MBPdTTJ",
        "colab": {
          "base_uri": "https://localhost:8080/"
        },
        "outputId": "91d1be55-d832-4291-825e-3c0b976e133a"
      },
      "source": [
        "# clases predichas\n",
        "y_pred = np.ones(20, dtype=\"int64\")\n",
        "y_pred"
      ],
      "execution_count": null,
      "outputs": [
        {
          "output_type": "execute_result",
          "data": {
            "text/plain": [
              "array([1, 1, 1, 1, 1, 1, 1, 1, 1, 1, 1, 1, 1, 1, 1, 1, 1, 1, 1, 1])"
            ]
          },
          "metadata": {
            "tags": []
          },
          "execution_count": 10
        }
      ]
    },
    {
      "cell_type": "markdown",
      "metadata": {
        "id": "y0mwuiau9_E_"
      },
      "source": [
        "importemos la métrica del *accuracy* y evaluemos este modelo *dummy*"
      ]
    },
    {
      "cell_type": "code",
      "metadata": {
        "id": "5z1AW52rdVYE",
        "colab": {
          "base_uri": "https://localhost:8080/"
        },
        "outputId": "d0a392cb-f69b-4754-aad4-86cd778ed27b"
      },
      "source": [
        "from sklearn.metrics import accuracy_score\n",
        "\n",
        "accuracy_score(y_true, y_pred)"
      ],
      "execution_count": null,
      "outputs": [
        {
          "output_type": "execute_result",
          "data": {
            "text/plain": [
              "0.85"
            ]
          },
          "metadata": {
            "tags": []
          },
          "execution_count": 11
        }
      ]
    },
    {
      "cell_type": "markdown",
      "metadata": {
        "id": "PMJ1QgoEdaFu"
      },
      "source": [
        "Vemos que este clasificador nos arroja un puntaje relativamente bueno. Esto hace que sea muy difícil juzgar si el resultado es realmente útil o corresponde a un modelo *dummy*. El problema aquí es que el *accuracy* es una medida inadecuada para cuantificar el rendimiento predictivo en este escenario no balanceado, por lo que necesitamos, de nuevo, métricas alternativas."
      ]
    },
    {
      "cell_type": "markdown",
      "metadata": {
        "id": "q9ZE2Dvadgp4"
      },
      "source": [
        "<p><a name=\"mat\"></a></p>\n",
        "\n",
        "# **Matriz de confusión**\n",
        "\n",
        "Una de las formas más completas de representar el resultado de evaluar la clasificación es usar matrices de confusión, que básicamente son tablas que resumen el éxito del modelo de clasificación en la predicción de instancias pertenecientes a múltiples clases.\n",
        "\n",
        "Utilicemos la función `plot_confusion_matrix` para los modelos de clasificación que construimos. Comencemos con el clasificador *dummy*"
      ]
    },
    {
      "cell_type": "code",
      "metadata": {
        "colab": {
          "base_uri": "https://localhost:8080/",
          "height": 286
        },
        "id": "WXf61OndtKQX",
        "outputId": "125eee34-7e1d-4945-dc5f-1c7e7ba1620b"
      },
      "source": [
        "from sklearn.metrics import plot_confusion_matrix\n",
        "\n",
        "plot_confusion_matrix(dummy_clf, X_test, y_test, cmap=\"Blues\")\n",
        "plt.grid(None);"
      ],
      "execution_count": null,
      "outputs": [
        {
          "output_type": "display_data",
          "data": {
            "image/png": "[encoded data removed]",
            "text/plain": [
              "<Figure size 432x288 with 2 Axes>"
            ]
          },
          "metadata": {
            "tags": [],
            "needs_background": "light"
          }
        }
      ]
    },
    {
      "cell_type": "markdown",
      "metadata": {
        "id": "cNYjzJC3d72g"
      },
      "source": [
        "La salida es una matriz de dos por dos, donde las filas corresponden a las clases verdaderas y las columnas corresponden a las clases predichas. Las entradas en la diagonal principal de la matriz de confusión corresponden a las clasificaciones correctas, mientras que las entradas por fuera de la diagonal nos dicen cuántas muestras de una clase se clasificaron erróneamente como otra clase, por lo que relacionamos estas entradas con los términos falso positivo y falso negativo que mencionamos anteriormente"
      ]
    },
    {
      "cell_type": "markdown",
      "metadata": {
        "id": "8a7-vZ2ZCqxE"
      },
      "source": [
        "![](https://i.imgur.com/Yemljvr.png)"
      ]
    },
    {
      "cell_type": "markdown",
      "metadata": {
        "id": "RRHcVH74C4QU"
      },
      "source": [
        " Un clasificador perfecto solo tendría verdaderos positivos y verdaderos negativos, por lo que la matriz de confusión tendría valores distintos de cero solo en su diagonal principal.\n",
        "\n",
        "Con esta matriz es ahora claro que tenemos un modelo *dummy* que siempre predice la cláse más frecuente. \n",
        "\n",
        "Veamos la matriz de confusión para los otros modelos que construimos:"
      ]
    },
    {
      "cell_type": "code",
      "metadata": {
        "colab": {
          "base_uri": "https://localhost:8080/",
          "height": 289
        },
        "id": "lgYI1-kAuL0f",
        "outputId": "98617e7b-3302-4b60-ca87-57e23862c88c"
      },
      "source": [
        "plot_confusion_matrix(lr_clf, X_test, y_test, cmap=\"Blues\")\n",
        "plt.grid(None);"
      ],
      "execution_count": null,
      "outputs": [
        {
          "output_type": "display_data",
          "data": {
            "image/png": "[encoded data removed]",
            "text/plain": [
              "<Figure size 432x288 with 2 Axes>"
            ]
          },
          "metadata": {
            "tags": [],
            "needs_background": "light"
          }
        }
      ]
    },
    {
      "cell_type": "code",
      "metadata": {
        "colab": {
          "base_uri": "https://localhost:8080/",
          "height": 286
        },
        "id": "kEl7bxGUuPhb",
        "outputId": "6a5571c6-d969-4511-d2b8-624d1d9e1c2a"
      },
      "source": [
        "plot_confusion_matrix(svm_clf, X_test, y_test, cmap=\"Blues\")\n",
        "plt.grid(None);"
      ],
      "execution_count": null,
      "outputs": [
        {
          "output_type": "display_data",
          "data": {
            "image/png": "[encoded data removed]",
            "text/plain": [
              "<Figure size 432x288 with 2 Axes>"
            ]
          },
          "metadata": {
            "tags": [],
            "needs_background": "light"
          }
        }
      ]
    },
    {
      "cell_type": "code",
      "metadata": {
        "id": "-lsLuKYgd5FW",
        "colab": {
          "base_uri": "https://localhost:8080/",
          "height": 286
        },
        "outputId": "8c78dc06-92c1-464f-b3c5-f285f929cf5a"
      },
      "source": [
        "plot_confusion_matrix(nb_clf, X_test, y_test, cmap=\"Blues\")\n",
        "plt.grid(None);"
      ],
      "execution_count": null,
      "outputs": [
        {
          "output_type": "display_data",
          "data": {
            "image/png": "[encoded data removed]",
            "text/plain": [
              "<Figure size 432x288 with 2 Axes>"
            ]
          },
          "metadata": {
            "tags": [],
            "needs_background": "light"
          }
        }
      ]
    },
    {
      "cell_type": "markdown",
      "metadata": {
        "id": "v1X5NWHKeQMh"
      },
      "source": [
        "Vemos que los tres modelos tienen un mejor rendimiento en todos los aspectos respecto al clasificador *dummy*: tienen más positivos verdaderos y negativos verdaderos mientras que tiene menos falsos positivos y falsos negativos.\n",
        "\n",
        "La matriz de confusión nos brinda mucha información muy útil. Especialmente en el caso de clasificación multinomial, nos permite interpretar fácilmente los resultados del modelo. Sin embargo, inspeccionar la matriz de confusión completa es un poco engorroso, y además no tienen un parámetro que podamos variar para ver cómo se alteran los modelos, por lo que en muchas ocaciones vamos a querer utilizar una métrica más concreta."
      ]
    },
    {
      "cell_type": "markdown",
      "metadata": {
        "id": "viuIVX0Hew6m"
      },
      "source": [
        "<p><a name=\"pre\"></a></p>\n",
        "\n",
        "# **Precision & Recall**: \n",
        "\n",
        "Hay otras formas de resumir la matriz de confusión: *precision* y *recall*. \n",
        "\n",
        "* *precision* es la proporción de predicciones positivas verdaderas con respecto al número total de predicciones positivas:\n",
        "\n",
        "  $$\\text{P} = \\frac{TP}{TP + FP}$$\n",
        "\n",
        "  Esta mide cuántas de las muestras predichas como positivas son realmente positivas. se utiliza como una métrica de rendimiento cuando el objetivo es limitar el número de falsos positivos\n",
        "\n"
      ]
    },
    {
      "cell_type": "code",
      "metadata": {
        "id": "SU03QTUeeis_",
        "colab": {
          "base_uri": "https://localhost:8080/"
        },
        "outputId": "44d90080-352c-4d68-b3a0-089e3c8536f3"
      },
      "source": [
        "from sklearn.metrics import precision_score\n",
        "\n",
        "precision_score(y_test, lr_clf.predict(X_test))"
      ],
      "execution_count": null,
      "outputs": [
        {
          "output_type": "execute_result",
          "data": {
            "text/plain": [
              "0.9722222222222222"
            ]
          },
          "metadata": {
            "tags": []
          },
          "execution_count": 16
        }
      ]
    },
    {
      "cell_type": "markdown",
      "metadata": {
        "id": "fTK2GDk-fg7b"
      },
      "source": [
        "Una forma trivial de tener una *precision* perfecta es hacer una sola predicción positiva y asegurarse de que sea correcta (*precision* = 1/1 = 100%). Esto no sería muy útil ya que el clasificador ignoraría todas las instancias positivas menos una. Por lo tanto, la *precision* se usa normalmente junto con otra métrica llamada *recall*\n",
        "\n",
        "* *recall* es la proporción de predicciones positivas verdaderas respecto al número total de instancias positivas\n",
        "\n",
        "  $$\\text{R} = \\frac{TP}{TP+FN}$$\n",
        "\n",
        "  Esta mide la proporción de clases positivas clasificadas correctamente. El *recall* se utiliza como métrica de rendimiento cuando necesitamos identificar todas las muestras positivas; es decir, cuando es importante evitar falsos negativos.\n"
      ]
    },
    {
      "cell_type": "code",
      "metadata": {
        "id": "3uW4k2tue8dF",
        "colab": {
          "base_uri": "https://localhost:8080/"
        },
        "outputId": "495fb3c0-bff9-415f-d1c7-5a9377002c81"
      },
      "source": [
        "from sklearn.metrics import recall_score\n",
        "\n",
        "recall_score(y_test, lr_clf.predict(X_test))"
      ],
      "execution_count": null,
      "outputs": [
        {
          "output_type": "execute_result",
          "data": {
            "text/plain": [
              "0.9859154929577465"
            ]
          },
          "metadata": {
            "tags": []
          },
          "execution_count": 17
        }
      ]
    },
    {
      "cell_type": "markdown",
      "metadata": {
        "id": "aphA1C-nf5Lc"
      },
      "source": [
        "En nuestro caso quisieramos tener un alto *recall* para evitar el mayor número de falsos negativos posibles. Es muy importante entonces elegir la métrica correcta, de acuerdo al objetivo del problema, y de la repercusión de los posibles errores para seleccionar entre diferentes modelos.\n",
        "\n",
        "### **Precision/Recall trade-off**\n",
        "\n",
        "Con frecuencia hay tensión entre la *precision* y el *recall*. Esto quiere decir que, al mejorar la *precision*, generalmente se reduce el *recall*, y viceversa. Esto se denomina *trade-off* de *precision*/*recall*. \n",
        "\n",
        "Para comprender este *trade-off*, recordemos cómo los modelos toman sus decisiones de clasificación: Para cada instancia, se calcula una puntuación basada en una función de decisión, y si esa puntuación es mayor o igual que un umbral, se asigna la instancia a la clase positiva o, de lo contrario, se asigna a la clase negativa.\n",
        "\n",
        "En la siguiente figura vemos los valores de *precision* P y *recall* R para tres valores del umbral (-5, 0 y 5). Note que cuando el umbral es cero, ambos puntajes coinciden para este caso particular. A medida que se disminuye el umbral, el *recall* aumenta mientras que la *precision* disminuye. Por el contrario, si el umbral aumenta, la *precision* aumenta mientras que el *recall* disminuye"
      ]
    },
    {
      "cell_type": "markdown",
      "metadata": {
        "id": "ul005cwJKXQN"
      },
      "source": [
        "![](https://i.imgur.com/AudrFsH.png)"
      ]
    },
    {
      "cell_type": "markdown",
      "metadata": {
        "id": "PLsNqhE6OCZs"
      },
      "source": [
        "Podemos lograr un buen *trade-off* de *precision/recall* por varios medios:\n",
        "\n",
        "* Asignando un mayor peso a las instancia de una clase específica. Por ejemplo, el estimador `SVC` de Sklearn tiene el hiperparámetro `class_weight` con el cual podemos asignar un peso particular a las clases.\n",
        "\n",
        "* Ajustando los hiperparámetros para maximizar la *precision* o el *recall* en el conjunto de validación.\n",
        "\n",
        "* Variando el umbral de decisión de los algoritmos que devuelven puntuaciones de predicción.\n",
        "\n",
        "Veamos este último en el caso de la regresión logística. En nuestro caso es más importante tener un alto *recall*. Esto significa que estamos dispuestos a arriesgar más falsos positivos a cambio de disminuir los falsos negativos. \n",
        "\n",
        "Sklearn no nos permite establecer el umbral directamente, pero nos da acceso a los puntajes de decisión que utiliza para hacer las predicciones con el el método `decision_function`\n",
        "\n",
        "\n",
        "\n",
        "\n"
      ]
    },
    {
      "cell_type": "code",
      "metadata": {
        "id": "THwZ98bnhHrO",
        "colab": {
          "base_uri": "https://localhost:8080/"
        },
        "outputId": "f3d55a3a-2484-495c-d860-2291504849c0"
      },
      "source": [
        "lr_clf.decision_function(X_test)"
      ],
      "execution_count": null,
      "outputs": [
        {
          "output_type": "execute_result",
          "data": {
            "text/plain": [
              "array([  2.04728073, -11.61392569,  -5.77378482,   7.57870279,\n",
              "         9.70649132, -23.06567557, -20.27168162,  -3.31281742,\n",
              "         0.48655175,   7.17535158,   2.94477792,  -4.37555516,\n",
              "         5.09850878,  -1.768838  ,   6.41771734,  -7.17950628,\n",
              "         6.28487423,  11.38897714,  14.00314398, -13.6819349 ,\n",
              "         2.3840794 ,   4.61757595, -19.2343191 ,   9.43958918,\n",
              "         6.76938887,   7.44939701,   6.82447154,   5.10103047,\n",
              "         5.85024439, -11.72170476,   7.56178459,   8.80890154,\n",
              "         6.11365994,   5.19486672,   8.85865079,   6.00962733,\n",
              "        -2.79024911,   5.82142916,  -9.31974505,   2.97989307,\n",
              "         9.53828961,  -7.81133713,   5.99536086,   6.93439865,\n",
              "         3.88154364,   2.54658098,   7.80947494,   7.60467735,\n",
              "         3.44912852,   7.39456363,  -9.02384345, -16.73573683,\n",
              "         0.80363685,   4.30701089,  10.49873152,   4.63063476,\n",
              "         9.07907833, -25.60640198,  -1.63368407,   8.86911142,\n",
              "         5.28693079, -14.61037882, -20.36438644,   3.43235459,\n",
              "         7.08999493,   1.88873497, -11.17870099, -19.8481126 ,\n",
              "         7.11655462,   3.86285251,  -6.62055816,  -6.4400051 ,\n",
              "         5.96225582,  -5.38536122,   9.30844773,   4.52483344,\n",
              "         3.88954612,   0.05316496,  10.49571948,   4.26667002,\n",
              "        -5.43889903,   9.64587005,  -1.24472434, -18.41183676,\n",
              "        -5.53634674,  -6.78705801,  -8.90184996,  -8.86916395,\n",
              "         8.4170031 ,   5.67907137,   5.17355012,   0.73376565,\n",
              "         3.34691142,   8.15103788,   7.83660634,   8.92610525,\n",
              "       -14.19148299, -13.83363811,   9.39986358,  -8.02289126,\n",
              "        -5.75805746,  13.34199028, -11.02472724,  -7.41399674,\n",
              "         4.58803231,   3.31902149,   5.14661758, -22.82830462,\n",
              "         2.05903764,   3.40513167,  -7.30876717,   6.63169159,\n",
              "        -0.16087255, -27.93335151])"
            ]
          },
          "metadata": {
            "tags": []
          },
          "execution_count": 18
        }
      ]
    },
    {
      "cell_type": "markdown",
      "metadata": {
        "id": "QXSLU1RBPHfY"
      },
      "source": [
        "Como ya sabemos, por defecto, los puntos con un valor de función de decisión mayor que 0 se clasificarán como clase 1"
      ]
    },
    {
      "cell_type": "code",
      "metadata": {
        "id": "p6je5Y0CiJFU",
        "colab": {
          "base_uri": "https://localhost:8080/"
        },
        "outputId": "da236d15-e969-44ae-b8c1-5abc02c4fa21"
      },
      "source": [
        "lr_clf.predict(X_test)"
      ],
      "execution_count": null,
      "outputs": [
        {
          "output_type": "execute_result",
          "data": {
            "text/plain": [
              "array([1, 0, 0, 1, 1, 0, 0, 0, 1, 1, 1, 0, 1, 0, 1, 0, 1, 1, 1, 0, 1, 1,\n",
              "       0, 1, 1, 1, 1, 1, 1, 0, 1, 1, 1, 1, 1, 1, 0, 1, 0, 1, 1, 0, 1, 1,\n",
              "       1, 1, 1, 1, 1, 1, 0, 0, 1, 1, 1, 1, 1, 0, 0, 1, 1, 0, 0, 1, 1, 1,\n",
              "       0, 0, 1, 1, 0, 0, 1, 0, 1, 1, 1, 1, 1, 1, 0, 1, 0, 0, 0, 0, 0, 0,\n",
              "       1, 1, 1, 1, 1, 1, 1, 1, 0, 0, 1, 0, 0, 1, 0, 0, 1, 1, 1, 0, 1, 1,\n",
              "       0, 1, 0, 0])"
            ]
          },
          "metadata": {
            "tags": []
          },
          "execution_count": 19
        }
      ]
    },
    {
      "cell_type": "markdown",
      "metadata": {
        "id": "5QuS5agOiNz5"
      },
      "source": [
        "Queremos que se clasifiquen más puntos como clase 1, por lo que debemos disminuir el umbral. \n",
        "\n",
        "Como vimos, el hacer predicciones puede verse como fijar el umbral para la salida de la función de decisión en un cierto punto fijo. Entonces, En lugar de llamar al método `predict` del clasificador, podemos llamar al método `decision_function`, que devuelve una puntuación para cada instancia, y luego hacer predicciones basadas en esas puntuaciones utilizando cualquier umbral que deseemos. Por ejemplo, realicemos predicciones sobre el conjunto de prueba disminuyendo el umbral a -0.8:\n",
        "\n"
      ]
    },
    {
      "cell_type": "code",
      "metadata": {
        "id": "1sxrF7kqiK-u",
        "colab": {
          "base_uri": "https://localhost:8080/"
        },
        "outputId": "09e5a348-8b51-4859-dc3f-caacbf47f89a"
      },
      "source": [
        "y_pred_lower_threshold = lr_clf.decision_function(X_test) > -.8\n",
        "y_pred_lower_threshold"
      ],
      "execution_count": null,
      "outputs": [
        {
          "output_type": "execute_result",
          "data": {
            "text/plain": [
              "array([ True, False, False,  True,  True, False, False, False,  True,\n",
              "        True,  True, False,  True, False,  True, False,  True,  True,\n",
              "        True, False,  True,  True, False,  True,  True,  True,  True,\n",
              "        True,  True, False,  True,  True,  True,  True,  True,  True,\n",
              "       False,  True, False,  True,  True, False,  True,  True,  True,\n",
              "        True,  True,  True,  True,  True, False, False,  True,  True,\n",
              "        True,  True,  True, False, False,  True,  True, False, False,\n",
              "        True,  True,  True, False, False,  True,  True, False, False,\n",
              "        True, False,  True,  True,  True,  True,  True,  True, False,\n",
              "        True, False, False, False, False, False, False,  True,  True,\n",
              "        True,  True,  True,  True,  True,  True, False, False,  True,\n",
              "       False, False,  True, False, False,  True,  True,  True, False,\n",
              "        True,  True, False,  True,  True, False])"
            ]
          },
          "metadata": {
            "tags": []
          },
          "execution_count": 20
        }
      ]
    },
    {
      "cell_type": "markdown",
      "metadata": {
        "id": "xZfo19i3RET8"
      },
      "source": [
        "recordemos que python interpreta `True` como 1 y `False` como 0"
      ]
    },
    {
      "cell_type": "code",
      "metadata": {
        "colab": {
          "base_uri": "https://localhost:8080/"
        },
        "id": "mHkNae87RJ_L",
        "outputId": "df83e0c6-c0a8-483b-e5c2-41e9910a6714"
      },
      "source": [
        "y_pred_lower_threshold.astype(\"int\")"
      ],
      "execution_count": null,
      "outputs": [
        {
          "output_type": "execute_result",
          "data": {
            "text/plain": [
              "array([1, 0, 0, 1, 1, 0, 0, 0, 1, 1, 1, 0, 1, 0, 1, 0, 1, 1, 1, 0, 1, 1,\n",
              "       0, 1, 1, 1, 1, 1, 1, 0, 1, 1, 1, 1, 1, 1, 0, 1, 0, 1, 1, 0, 1, 1,\n",
              "       1, 1, 1, 1, 1, 1, 0, 0, 1, 1, 1, 1, 1, 0, 0, 1, 1, 0, 0, 1, 1, 1,\n",
              "       0, 0, 1, 1, 0, 0, 1, 0, 1, 1, 1, 1, 1, 1, 0, 1, 0, 0, 0, 0, 0, 0,\n",
              "       1, 1, 1, 1, 1, 1, 1, 1, 0, 0, 1, 0, 0, 1, 0, 0, 1, 1, 1, 0, 1, 1,\n",
              "       0, 1, 1, 0])"
            ]
          },
          "metadata": {
            "tags": []
          },
          "execution_count": 21
        }
      ]
    },
    {
      "cell_type": "markdown",
      "metadata": {
        "id": "r-H-NIb0RMNq"
      },
      "source": [
        "Veamos los puntajes de *precision* y *recall*"
      ]
    },
    {
      "cell_type": "code",
      "metadata": {
        "id": "h0uKGDgslGBr",
        "colab": {
          "base_uri": "https://localhost:8080/"
        },
        "outputId": "28c42b8f-7803-4c21-c260-6fbe80817f7a"
      },
      "source": [
        "recall_score(y_test, y_pred_lower_threshold)"
      ],
      "execution_count": null,
      "outputs": [
        {
          "output_type": "execute_result",
          "data": {
            "text/plain": [
              "1.0"
            ]
          },
          "metadata": {
            "tags": []
          },
          "execution_count": 22
        }
      ]
    },
    {
      "cell_type": "code",
      "metadata": {
        "colab": {
          "base_uri": "https://localhost:8080/"
        },
        "id": "awIDJYnBh-7W",
        "outputId": "3422efa8-1ea5-4230-92ec-8f8132c3934d"
      },
      "source": [
        "precision_score(y_test, y_pred_lower_threshold)"
      ],
      "execution_count": null,
      "outputs": [
        {
          "output_type": "execute_result",
          "data": {
            "text/plain": [
              "0.9726027397260274"
            ]
          },
          "metadata": {
            "tags": []
          },
          "execution_count": 23
        }
      ]
    },
    {
      "cell_type": "markdown",
      "metadata": {
        "id": "na_wRS_IolRa"
      },
      "source": [
        "Vemos que efectivamente el *recall* aumento a uno, mientras que la *precision* no disminuyo significativamente.\n",
        "\n",
        "De esta forma es posible crear un clasificador con prácticamente cualquier *recall* que se desee: simplemente se establece un umbral lo suficientemente bajo. Sin embargo, debemos tener presente que un clasificador con un *recall* alto no es muy útil si su *precision* es demasiado bajo.\n",
        "\n",
        "¿Cómo podemos decidir qué umbral usar? Podemos construir una curva que nos muestre los puntajes de *precision* y *recall* para diferentes valores del umbral utilizando la función `precision_recall_curve`. Para esto, primero debemos obtener las predicciones de todas las instancias en el conjunto de entrenamiento utilizando la función `cross_val_predict`"
      ]
    },
    {
      "cell_type": "code",
      "metadata": {
        "id": "CSgsgi9mia_E"
      },
      "source": [
        "from sklearn.model_selection import cross_val_predict\n",
        "\n",
        "y_scores = cross_val_predict(lr_clf, X_train, y_train, method=\"decision_function\")"
      ],
      "execution_count": null,
      "outputs": []
    },
    {
      "cell_type": "markdown",
      "metadata": {
        "id": "a-Q1YbTxi54P"
      },
      "source": [
        "Ahora, con estos puntajes, podemos calcular la *precision* y el *recall* para todos los umbrales posibles "
      ]
    },
    {
      "cell_type": "code",
      "metadata": {
        "id": "voZcsO3zivXW",
        "colab": {
          "base_uri": "https://localhost:8080/",
          "height": 448
        },
        "outputId": "86facafa-daac-4204-e245-89889df28f2c"
      },
      "source": [
        "from sklearn.metrics import precision_recall_curve, plot_precision_recall_curve\n",
        "\n",
        "P, R, T = precision_recall_curve(y_train, y_scores)\n",
        "\n",
        "plt.figure(figsize=(10,7))\n",
        "plt.plot(T, P[:-1], \"b--\", label=\"Precision\")\n",
        "plt.plot(T, R[:-1], \"g--\", label=\"Recall\")\n",
        "plt.xlabel(\"Treshold\")\n",
        "plt.ylabel(\"Scores\")\n",
        "plt.ylim(0, 1.1)\n",
        "plt.legend();"
      ],
      "execution_count": null,
      "outputs": [
        {
          "output_type": "display_data",
          "data": {
            "image/png": "[encoded data removed]",
            "text/plain": [
              "<Figure size 720x504 with 1 Axes>"
            ]
          },
          "metadata": {
            "tags": [],
            "needs_background": "light"
          }
        }
      ]
    },
    {
      "cell_type": "markdown",
      "metadata": {
        "id": "4azParisjQ_E"
      },
      "source": [
        "De aquí, podemos seleccionar el valor de umbral que nos brinde el mejor trade-off de *precision*/*recall* para nuestra tarea. Otra forma de seleccionar un buen  trade-off es graficar la *precision* directamente contra el *recall*:\n",
        "\n"
      ]
    },
    {
      "cell_type": "code",
      "metadata": {
        "id": "HdqadmJmi8kD",
        "colab": {
          "base_uri": "https://localhost:8080/",
          "height": 448
        },
        "outputId": "ccb135b2-28bf-4d23-eb47-c464d3e14b41"
      },
      "source": [
        "plt.figure(figsize=(10,7))\n",
        "plt.plot(R, P)\n",
        "plt.ylabel(\"Precision\")\n",
        "plt.xlabel(\"Recall\");"
      ],
      "execution_count": null,
      "outputs": [
        {
          "output_type": "display_data",
          "data": {
            "image/png": "[encoded data removed]",
            "text/plain": [
              "<Figure size 720x504 with 1 Axes>"
            ]
          },
          "metadata": {
            "tags": [],
            "needs_background": "light"
          }
        }
      ]
    },
    {
      "cell_type": "markdown",
      "metadata": {
        "id": "sutV8leDfhj2"
      },
      "source": [
        "Un área debajo de la curva grande representa alto *recall* y *precision*, donde una *precision* alta se relaciona con una tasa baja de falsos positivos y un alto *recall* se relaciona con una tasa baja de falsos negativos. \n"
      ]
    },
    {
      "cell_type": "markdown",
      "metadata": {
        "id": "2CSKgW4DdI5F"
      },
      "source": [
        "### **f score**\n",
        "\n",
        "Si bien la *precision* y el *recall* son medidas muy importantes, mirar solo una de ellas no proporcionará una imagen completa del problema. Una forma de resumir la *precision* y el *recall* es el *puntaje f* o la *medida f*, que es la media armónica entre *precision* y *recall*\n",
        "\n",
        "$$\\text{f} = 2 \\frac{P*R}{P+R}$$\n",
        "\n",
        "Mientras que la media trata todos los valores por igual, la media armónica da mucho más peso a los valores bajos. Como resultado, el clasificador solo obtendrá una puntuación *f* alta si tanto el *recall* como la *precision* son altas"
      ]
    },
    {
      "cell_type": "code",
      "metadata": {
        "colab": {
          "base_uri": "https://localhost:8080/"
        },
        "id": "Y5Vb2OzJdN-7",
        "outputId": "51b40f4a-3bd7-4dc7-9888-5c517246464b"
      },
      "source": [
        "from sklearn.metrics import f1_score\n",
        "\n",
        "f1_score(y_test, lr_clf.predict(X_test))"
      ],
      "execution_count": null,
      "outputs": [
        {
          "output_type": "execute_result",
          "data": {
            "text/plain": [
              "0.979020979020979"
            ]
          },
          "metadata": {
            "tags": []
          },
          "execution_count": 27
        }
      ]
    },
    {
      "cell_type": "markdown",
      "metadata": {
        "id": "EgeUAtSjdTvN"
      },
      "source": [
        "Como tiene en cuenta la *precision* y el *recall*, esta puede ser una mejor medida que la *accuracy* en los conjuntos de datos de clasificación binaria no balanceados. El puntaje f favorece a los clasificadores que tienen una *precision* y un *recall* similares.\n",
        "\n",
        "\n"
      ]
    },
    {
      "cell_type": "markdown",
      "metadata": {
        "id": "3yDNXgaWjrxi"
      },
      "source": [
        "<p><a name=\"cur\"></a></p>\n",
        "\n",
        "# **Curva ROC**\n",
        "\n",
        "La curva ROC (*receiver operating characteristic*) es un método de uso común para evaluar modelos de clasificación. Las curvas ROC usan una combinación de la tasa de verdaderos positivos (TPR) y la tasa de falsos positivos (FPR) para construir una imagen resumida del desempeño de la clasificación\n",
        "\n",
        "$$\n",
        "\\text{TPR} = \\text{Recall} = \\frac{\\text{TP}}{\\text{TP}+\\text{FN}}\n",
        "$$\n",
        "\n",
        "$$\n",
        "\\text{FPR} = \\frac{\\text{FP}}{\\text{FP} + \\text{TN}}\n",
        "$$\n",
        "\n",
        "El FPR es la proporción de instancias negativas que se clasifican incorrectamente como positivas. \n",
        "\n",
        "Podemos obtener esta curva con la función `plot_roc_curve` de Sklearn"
      ]
    },
    {
      "cell_type": "code",
      "metadata": {
        "colab": {
          "base_uri": "https://localhost:8080/",
          "height": 448
        },
        "id": "76ZRhGecllgZ",
        "outputId": "ffe13050-7b0f-466b-e266-f03ac4f2214b"
      },
      "source": [
        "from sklearn.metrics import plot_roc_curve\n",
        "\n",
        "fig, ax = plt.subplots(figsize=(10,7))\n",
        "plot_roc_curve(lr_clf, X_test, y_test, ax=ax)\n",
        "ax.legend().remove();"
      ],
      "execution_count": null,
      "outputs": [
        {
          "output_type": "display_data",
          "data": {
            "image/png": "[encoded data removed]",
            "text/plain": [
              "<Figure size 720x504 with 1 Axes>"
            ]
          },
          "metadata": {
            "tags": [],
            "needs_background": "light"
          }
        }
      ]
    },
    {
      "cell_type": "markdown",
      "metadata": {
        "id": "uzcYa8ldPKOb"
      },
      "source": [
        "Si el umbral es igual a 0, todas las predicciones serán positivas, por lo que tanto la tasa de verdaderos positivos como la tasa de falsos positivos serán igual a 1 (la esquina superior derecha).\n",
        "\n",
        "Por otro lado, si el umbral es igual a 1, entonces no será posible una predicción positiva, por lo que tanto la tasa de verdaderos positivos como la tasa de falsos positivos serán iguales a 0 (TP = 0), que corresponde a la esquina inferior izquierda.\n",
        "\n",
        "Veamos algunos casos extremos para entender un poco mejor cómo interpretar esta curva ROC:\n",
        "\n",
        "\n"
      ]
    },
    {
      "cell_type": "markdown",
      "metadata": {
        "id": "-A8c6547aeGd"
      },
      "source": [
        "* En la siguiente figura se muestran las regiones de decisión: azul para la clase negativa y naranja para la clase positiva. También se muestran las distribuciones de probabilidad para las clases positivas (naranja) y negativas (azul). Note que en este caso, **todas las predicciones son correctas**. La curva ROC, en este caso, tendrá la forma de la derecha\n",
        "\n",
        "![](https://i.imgur.com/uAX1CXQ.png)"
      ]
    },
    {
      "cell_type": "markdown",
      "metadata": {
        "id": "N04pqr2TbB3q"
      },
      "source": [
        "* En el caso en el que **todas las predicciones sean incorrectas**, como se ve en la figura de la izquierda, la curva ROC tendrá la forma de la derecha:\n",
        "\n",
        "![](https://i.imgur.com/5RHNFO0.png)"
      ]
    },
    {
      "cell_type": "markdown",
      "metadata": {
        "id": "y5nSEW-acFWc"
      },
      "source": [
        "* En el caso en el que **las predicciones sean aleatorias**, como se muestra en la figura de la izquierda, la curva ROC tendrá la forma de la derecha:\n",
        "\n",
        "![](https://i.imgur.com/ZkgY9L0.png)"
      ]
    },
    {
      "cell_type": "markdown",
      "metadata": {
        "id": "DsqjMafngF_S"
      },
      "source": [
        "En conclusión, el mejor modelo será aquel cuya curva ROC se acerque más a la esquina superior izquierda. \n",
        "\n",
        "Note que una forma resumida de evaluar los clasificadores es con el área bajo la curva ROC: Cuanto mayor sea el área bajo la curva ROC (AUC), mejor será el clasificador. Un clasificador con un AUC superior a 0.5 es mejor que un modelo que clasifica al azar. Si el AUC es inferior a 0.5, entonces algo está realmente mal, lo más probable es que haya un error en el código o que hayan etiquetas incorrectas en los datos. Un clasificador perfecto tendría un AUC de 1.  \n",
        "\n",
        "Sklearn proporciona la función `roc_auc_score` para calcular el AUC de la curva ROC:\n",
        "\n"
      ]
    },
    {
      "cell_type": "code",
      "metadata": {
        "colab": {
          "base_uri": "https://localhost:8080/"
        },
        "id": "UajVuQ9dhF-6",
        "outputId": "c454e6de-29ef-423c-b66f-026e6ead569f"
      },
      "source": [
        "from sklearn.metrics import roc_auc_score\n",
        "\n",
        "lr_pred = cross_val_predict(lr_clf, X_train, y_train)\n",
        "\n",
        "roc_auc_score(y_train, lr_pred)"
      ],
      "execution_count": null,
      "outputs": [
        {
          "output_type": "execute_result",
          "data": {
            "text/plain": [
              "0.9722969338353954"
            ]
          },
          "metadata": {
            "tags": []
          },
          "execution_count": 29
        }
      ]
    },
    {
      "cell_type": "markdown",
      "metadata": {
        "id": "KaNPsmE_hIvl"
      },
      "source": [
        "Veamos las curvas ROC para los clasificadores que hemos estado utilizando con sus respectivas AUC:"
      ]
    },
    {
      "cell_type": "code",
      "metadata": {
        "colab": {
          "base_uri": "https://localhost:8080/",
          "height": 502
        },
        "id": "3SigcnA3hITg",
        "outputId": "11697a50-8be8-4898-8cd3-03b1cf67bb94"
      },
      "source": [
        "svm_pred = cross_val_predict(svm_clf, X_train, y_train)\n",
        "nb_pred = cross_val_predict(nb_clf, X_train, y_train)\n",
        "dummy_pred = cross_val_predict(dummy_clf, X_train, y_train)\n",
        "\n",
        "fig, ax = plt.subplots(figsize=(12,8))\n",
        "plot_roc_curve(lr_clf, X_train, y_train, label=f\"LR AUC = {roc_auc_score(y_train, lr_pred):.2f}\", ax=ax)\n",
        "plot_roc_curve(svm_clf, X_train, y_train, label=f\"SVM AUC = {roc_auc_score(y_train, svm_pred):.2f}\",ax=ax)\n",
        "plot_roc_curve(nb_clf, X_train, y_train, label=f\"NB AUC = {roc_auc_score(y_train, nb_pred):.2f}\",ax=ax)\n",
        "plot_roc_curve(dummy_clf, X_train, y_train, label=f\"DUMMY AUC = {roc_auc_score(y_train, dummy_pred):.2f}\",ax=ax)\n",
        "plt.legend();"
      ],
      "execution_count": null,
      "outputs": [
        {
          "output_type": "display_data",
          "data": {
            "image/png": "[encoded data removed]",
            "text/plain": [
              "<Figure size 864x576 with 1 Axes>"
            ]
          },
          "metadata": {
            "tags": [],
            "needs_background": "light"
          }
        }
      ]
    },
    {
      "cell_type": "code",
      "metadata": {
        "colab": {
          "base_uri": "https://localhost:8080/",
          "height": 502
        },
        "id": "v_3nM7fR95S9",
        "outputId": "73a89f80-be61-4934-9bdd-fe4a94b20fd8"
      },
      "source": [
        "lr_pred = cross_val_predict(lr_clf, X_test, y_test)\n",
        "svm_pred = cross_val_predict(svm_clf, X_test, y_test)\n",
        "nb_pred = cross_val_predict(nb_clf, X_test, y_test)\n",
        "dummy_pred = cross_val_predict(dummy_clf, X_test, y_test)\n",
        "\n",
        "fig, ax = plt.subplots(figsize=(12,8))\n",
        "plot_roc_curve(lr_clf, X_test, y_test, label=f\"LR AUC = {roc_auc_score(y_test, lr_pred):.2f}\", ax=ax)\n",
        "plot_roc_curve(svm_clf, X_test, y_test, label=f\"SVM AUC = {roc_auc_score(y_test, svm_pred):.2f}\",ax=ax)\n",
        "plot_roc_curve(nb_clf, X_test, y_test, label=f\"NB AUC = {roc_auc_score(y_test, nb_pred):.2f}\",ax=ax)\n",
        "plot_roc_curve(dummy_clf, X_test, y_test, label=f\"DUMMY AUC = {roc_auc_score(y_test, dummy_pred):.2f}\",ax=ax)\n",
        "plt.legend();"
      ],
      "execution_count": null,
      "outputs": [
        {
          "output_type": "display_data",
          "data": {
            "image/png": "[encoded data removed]",
            "text/plain": [
              "<Figure size 864x576 with 1 Axes>"
            ]
          },
          "metadata": {
            "tags": [],
            "needs_background": "light"
          }
        }
      ]
    },
    {
      "cell_type": "markdown",
      "metadata": {
        "id": "cckrQGdyhar4"
      },
      "source": [
        "De aquí vemos que los mejores modelos se encuentran con la regresión logística (LR) y con las máquinas de vectores de soporte (SVM).\n",
        "\n",
        "En la práctica, se obtiene un buen clasificador seleccionando el valor del umbral que da la tasa de verdaderos positivos cerca de 1, manteniendo la tasa de falsos positivos cerca de 0.\n",
        "\n"
      ]
    },
    {
      "cell_type": "code",
      "metadata": {
        "id": "RyTJ9Xwpp439"
      },
      "source": [
        ""
      ],
      "execution_count": null,
      "outputs": []
    }
  ]
}