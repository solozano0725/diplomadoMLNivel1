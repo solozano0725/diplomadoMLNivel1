{
  "nbformat": 4,
  "nbformat_minor": 0,
  "metadata": {
    "colab": {
      "name": "DipMLsesion3.ipynb",
      "provenance": [],
      "collapsed_sections": [],
      "include_colab_link": true
    },
    "kernelspec": {
      "name": "python3",
      "display_name": "Python 3"
    }
  },
  "cells": [
    {
      "cell_type": "markdown",
      "metadata": {
        "id": "view-in-github",
        "colab_type": "text"
      },
      "source": [
        "<a href=\"https://colab.research.google.com/github/solozano0725/diplomadoMLNivel1/blob/main/DipMLsesion3.ipynb\" target=\"_parent\"><img src=\"https://colab.research.google.com/assets/colab-badge.svg\" alt=\"Open In Colab\"/></a>"
      ]
    },
    {
      "cell_type": "markdown",
      "metadata": {
        "id": "kUkIpVtwGNZX"
      },
      "source": [
        "<p><img alt=\"Colaboratory logo\" height=\"140px\" src=\"https://upload.wikimedia.org/wikipedia/commons/archive/f/fb/20161010213812%21Escudo-UdeA.svg\" align=\"left\" hspace=\"10px\" vspace=\"0px\"></p>\n",
        "\n",
        "# **Diplomado de Análisis de datos y Machine Learning en Python**\n",
        "\n",
        "\n",
        "El presente diplomado hace parte del centro de Big Data de la facultad de ciencias exactas y naturales (FCEN) de la Universidad de Antioquia.\n",
        "\n",
        "## **Sesión 3**\n",
        "\n",
        "## **Contenido**\n",
        "\n",
        "- <a href=\"#ecf\"> Estructuras de control de flujo</a><br>\n",
        "  - <a href=\"#sci\"> Sentencias condicionales `if`, `elif` y `else`</a><br>\n",
        "- <a href=\"#cic\"> Ciclos, iteraciones e interrupciones de flujo</a><br>\n",
        "  - <a href=\"#whi\"> Ciclo `while`</a><br>\n",
        "  - <a href=\"#for\"> Ciclo `for`</a><br>\n",
        "  - <a href=\"#scf\"> Sentencias de control de flujo `break` y `continue`</a><br>\n",
        "- <a href=\"#list\"> Estructuras de datos: Listas</a><br>\n",
        "  - <a href=\"#ind\"> Indexación y segmentación</a><br> \n",
        "\n"
      ]
    },
    {
      "cell_type": "markdown",
      "metadata": {
        "id": "h99Vci4PQBNY"
      },
      "source": [
        "<p><a name=\"ecf\"></a></p>\n",
        "\n",
        "# **Estructuras de control de flujo**\n",
        "\n",
        "Sin las estructuras de control de flujo, un programa es simplemente una lista de sentencias que se ejecutan secuencialmente. Controlando el flujo del programa, podemos ejecutar ciertos bloques de código condicionalmente y/o repetidamente. \n",
        "\n",
        "Veremos las diferentes sentencias condicionales, ciclos e interrupciones de flujo.\n",
        "\n",
        "<p><a name=\"sci\"></a></p>\n",
        "\n",
        "## **Sentencias condicionales** `if`, `elif` y `else`\n",
        "\n",
        "Una sentencia `if` consiste en una expresión booleana seguida de una o más sentencias indentadas:\n",
        "> \n",
        "    if cond:\n",
        "      sentencia(s)\n",
        "\n",
        "Si la condición se evalúa como `True`, se ejecuta el bloque de sentencias dentro de la sentencia `if`. Recordemos que en Python, las declaraciones en un bloque están indentadas uniformemente después del símbolo dos puntos `:`"
      ]
    },
    {
      "cell_type": "code",
      "metadata": {
        "id": "7fjMna_NQNVI",
        "colab": {
          "base_uri": "https://localhost:8080/"
        },
        "outputId": "f79c794e-fb02-4d8c-b938-2405974ad41d"
      },
      "source": [
        "cond = True\n",
        "\n",
        "if cond:\n",
        "  print(\"La condición es True\")\n",
        "\n",
        "print(\"Final del programa\")"
      ],
      "execution_count": null,
      "outputs": [
        {
          "output_type": "stream",
          "text": [
            "La condición es True\n",
            "Final del programa\n"
          ],
          "name": "stdout"
        }
      ]
    },
    {
      "cell_type": "markdown",
      "metadata": {
        "id": "OsnAsLwC5sLA"
      },
      "source": [
        "En este caso como la expresión booleana `cond` es `True`, entonces se ejecuta la sentencia luego del `if`. Una vez ejecutada la sentencia del bloque de código se ejecuta la siguiente línea en el flujo del código. Ahora, en el caso que la expresión a evaluar sea `False`, no se ejecutará el bloque de código que sigue al `if`, como se muestra a continuación"
      ]
    },
    {
      "cell_type": "code",
      "metadata": {
        "id": "31rke9b_5wBh",
        "colab": {
          "base_uri": "https://localhost:8080/"
        },
        "outputId": "865bfd36-5ca4-4916-80e0-9d61fcfb1954"
      },
      "source": [
        "cond = False\n",
        "\n",
        "if cond:\n",
        "  print(\"La condición es True\")\n",
        "  \n",
        "print(\"Final del programa\")"
      ],
      "execution_count": null,
      "outputs": [
        {
          "output_type": "stream",
          "text": [
            "Final del programa\n"
          ],
          "name": "stdout"
        }
      ]
    },
    {
      "cell_type": "markdown",
      "metadata": {
        "id": "smYzO6QaQTEp"
      },
      "source": [
        "La sentencia `else` se puede combinar con una sentencia `if` para tener más control del flujo del programa. Una instrucción `else` contiene un bloque de código que se ejecuta si la expresión condicional en la instrucción `if` toma el valor `False`. La sintáxis es la siguiente:\n",
        "\n",
        "> \n",
        "    if expresion:\n",
        "      sentencia(s)\n",
        "    else:\n",
        "      sentencia(s)\n",
        "\n",
        "Veamos un ejemplo:\n"
      ]
    },
    {
      "cell_type": "code",
      "metadata": {
        "id": "IAMa-jNiQWEz",
        "colab": {
          "base_uri": "https://localhost:8080/"
        },
        "outputId": "55b772d5-16ff-4233-d57c-6b1a39ac0615"
      },
      "source": [
        "cond = True\n",
        "\n",
        "if cond: \n",
        "  print(\"La condición es True\")\n",
        "else:\n",
        "  print(\"La condición es False\")\n",
        "\n",
        "print(\"Final del programa\")"
      ],
      "execution_count": null,
      "outputs": [
        {
          "output_type": "stream",
          "text": [
            "La condición es True\n",
            "Final del programa\n"
          ],
          "name": "stdout"
        }
      ]
    },
    {
      "cell_type": "code",
      "metadata": {
        "id": "eQyu3vGb6Aa0",
        "colab": {
          "base_uri": "https://localhost:8080/"
        },
        "outputId": "51b6a4d8-a8c6-4092-90e7-4d8055c80b28"
      },
      "source": [
        "cond = False\n",
        "\n",
        "if cond: \n",
        "  print(\"La condición es True\")\n",
        "else:\n",
        "  print(\"La condición es False\")\n",
        "\n",
        "print(\"Final del programa\")"
      ],
      "execution_count": null,
      "outputs": [
        {
          "output_type": "stream",
          "text": [
            "La condición es False\n",
            "Final del programa\n"
          ],
          "name": "stdout"
        }
      ]
    },
    {
      "cell_type": "markdown",
      "metadata": {
        "id": "-UR2WpNfQZ3A"
      },
      "source": [
        "De esta manera podemos ejecutar una instrucción para los dos posibles valores que tome la expresión booleana. Note que como condición podemos evaluar cualquier tipo de operación de comparación que nos devuelva un valor booleano.\n",
        "\n",
        "\n",
        "\n"
      ]
    },
    {
      "cell_type": "markdown",
      "metadata": {
        "id": "BG50_7JAU4kU"
      },
      "source": [
        "**Ejercicio 1:**  Pida al usuario un número entero. Dependiendo de si el número es par o impar, imprima un mensaje apropiado para el usuario en pantalla."
      ]
    },
    {
      "cell_type": "code",
      "metadata": {
        "id": "g1-mKdptU3Pw"
      },
      "source": [
        "# solicitamos el numero entero al usuario\n",
        "numero = int(input(\"Dame un número entero\\n\"))\n",
        "\n",
        "# evaluamos si el numero es multiplo de 2\n",
        "if numero % 2 == 0:\n",
        "  print(f\"El número {numero} es par\")\n",
        "else:\n",
        "  print(f\"El número {numero} es impar\")"
      ],
      "execution_count": null,
      "outputs": []
    },
    {
      "cell_type": "markdown",
      "metadata": {
        "id": "K1xVQVQppKKn"
      },
      "source": [
        "**Ejercicio 2:** Un año es bisiesto si es múltiplo de 4, exceptuando los múltiplos de 100, que sólo son bisiestos cuando son múltiplos además de 400, por ejemplo el año 1900 no fue bisiesto, pero el año 2000 si lo será. Escribir un programa que, dado un año por parte de un usuario, muestre un mensaje en pantalla apropiado de acuerdo a si dicho año es o no bisiesto."
      ]
    },
    {
      "cell_type": "code",
      "metadata": {
        "id": "FjZTUqS6-h4M"
      },
      "source": [
        "# solicitamos el año al usuario\n",
        "año = int(input(\"Digite el año\\n\"))\n",
        "\n",
        "# evaluamos las condiciones dadas en el enunciado\n",
        "if (año % 4 == 0 and año % 100 != 0) or año % 400 == 0:\n",
        "  print(f\"{año} es año bisiesto\")\n",
        "else: \n",
        "  print(f\"{año} no es año bisiesto\")"
      ],
      "execution_count": null,
      "outputs": []
    },
    {
      "cell_type": "markdown",
      "metadata": {
        "id": "dlQvvrChU2nk"
      },
      "source": [
        "La sentencia `elif` (else if) permite verificar múltiples expresiones y ejecutar un bloque de código tan pronto como una de las condiciones se evalúe como `True`. Al igual que `else`, la sentencia `elif` es opcional. Sin embargo, a diferencia de `else`, para el cual puede haber como máximo una declaración, puede haber un número arbitrario de sentencias `elif` después de un `if`. Veamos los posibles casos cuando se evaluan dos condiciones:"
      ]
    },
    {
      "cell_type": "code",
      "metadata": {
        "id": "8NHf3Gb5QWvX",
        "colab": {
          "base_uri": "https://localhost:8080/"
        },
        "outputId": "7d3101cc-3ba2-41e6-90ed-7bdf2fb4e8d8"
      },
      "source": [
        "cond1 = True\n",
        "cond2 = True\n",
        "\n",
        "if cond1: \n",
        "  print(\"La condición 1 es True\")\n",
        "elif cond2:\n",
        "  print(\"La condición 2 es True\")\n",
        "else:\n",
        "  print(\"Ambas condiciones son False\")\n",
        "\n",
        "print(\"Final del programa\")"
      ],
      "execution_count": null,
      "outputs": [
        {
          "output_type": "stream",
          "text": [
            "La condición 1 es True\n",
            "Final del programa\n"
          ],
          "name": "stdout"
        }
      ]
    },
    {
      "cell_type": "code",
      "metadata": {
        "id": "J1fi0oWN6n0d",
        "colab": {
          "base_uri": "https://localhost:8080/"
        },
        "outputId": "ba3bd7c8-a6ee-4a5a-960e-22a15d83fc70"
      },
      "source": [
        "cond1 = False\n",
        "cond2 = True\n",
        "\n",
        "if cond1: \n",
        "  print(\"La condición 1 es True\")\n",
        "elif cond2:\n",
        "  print(\"La condición 2 es True\")\n",
        "else:\n",
        "  print(\"Ambas condiciones son False\")\n",
        "\n",
        "print(\"Final del programa\")"
      ],
      "execution_count": null,
      "outputs": [
        {
          "output_type": "stream",
          "text": [
            "La condición 2 es True\n",
            "Final del programa\n"
          ],
          "name": "stdout"
        }
      ]
    },
    {
      "cell_type": "code",
      "metadata": {
        "id": "_oC7AI1R6s-E",
        "colab": {
          "base_uri": "https://localhost:8080/"
        },
        "outputId": "4188c1be-e8c8-444c-f710-a5f63aa19fd9"
      },
      "source": [
        "cond1 = False\n",
        "cond2 = False\n",
        "\n",
        "if cond1: \n",
        "  print(\"La condición 1 es True\")\n",
        "elif cond2:\n",
        "  print(\"La condición 2 es True\")\n",
        "else:\n",
        "  print(\"Ambas condiciones son False\")\n",
        "\n",
        "print(\"Final del programa\")"
      ],
      "execution_count": null,
      "outputs": [
        {
          "output_type": "stream",
          "text": [
            "Ambas condiciones son False\n",
            "Final del programa\n"
          ],
          "name": "stdout"
        }
      ]
    },
    {
      "cell_type": "markdown",
      "metadata": {
        "id": "h1lVM8R-HHrU"
      },
      "source": [
        "Note que en el caso donde ambas expresiones son `True`, se ejecuta solo la sentencia que primero se evalúe como `True`"
      ]
    },
    {
      "cell_type": "markdown",
      "metadata": {
        "id": "OU_d67LJQqaO"
      },
      "source": [
        " **Ejercicio 3:** Acepte tres números del usuario. Imprima en pantalla el mayor de los tres con dos cifras significativas"
      ]
    },
    {
      "cell_type": "code",
      "metadata": {
        "id": "Q2uI6xHNQjIV"
      },
      "source": [
        "# solicitamos los tres numeros\n",
        "print(\"Ingrese tres numeros\\n\")\n",
        "n1 = int(input())\n",
        "n2 = int(input())\n",
        "n3 = int(input())\n",
        "\n",
        "# evaluemos los posibles casos\n",
        "if n1 == n2 and n1 == n3:\n",
        "  print(f\"Los números son iguales\")\n",
        "else:\n",
        "  if n1 > n2 and n1 > n3:\n",
        "    print(f\"{n1} es el número mayor\")\n",
        "  elif n2 > n1 and n2 > n3:\n",
        "    print(f\"{n2} es el número mayor\")\n",
        "  else:\n",
        "    print(f\"{n3} es el número mayor\")"
      ],
      "execution_count": null,
      "outputs": []
    },
    {
      "cell_type": "markdown",
      "metadata": {
        "id": "rvgC45t1VVcf"
      },
      "source": [
        "Finalmente, podemos utilizar estas sentencias para definir una variable con dos posibles valores. Por ejemplo, si quisieramos asignar a una variable dos posibles valores, digamos 1 y 0, de acuerdo a alguna condición, podemos utilizar las sentencias `if` y `else` de la siguiente manera"
      ]
    },
    {
      "cell_type": "code",
      "metadata": {
        "id": "wAej54bXVXK4",
        "colab": {
          "base_uri": "https://localhost:8080/"
        },
        "outputId": "fb406337-d61a-426e-f7e7-5233544ebefc"
      },
      "source": [
        "cond = True\n",
        "\n",
        "var = 1 if cond else 0\n",
        "\n",
        "var"
      ],
      "execution_count": null,
      "outputs": [
        {
          "output_type": "execute_result",
          "data": {
            "text/plain": [
              "1"
            ]
          },
          "metadata": {
            "tags": []
          },
          "execution_count": 11
        }
      ]
    },
    {
      "cell_type": "markdown",
      "metadata": {
        "id": "g4NetrJP7ysy"
      },
      "source": [
        "En este caso, como la condición que seguía al `if` devuelve `True`, se asigna el primer valor. En el caso contrario, se asignaría el valor que sigue al `else`:"
      ]
    },
    {
      "cell_type": "code",
      "metadata": {
        "id": "KKBMOtXM7w6e",
        "colab": {
          "base_uri": "https://localhost:8080/"
        },
        "outputId": "273b461a-7773-4715-93af-b5413a5dcb3f"
      },
      "source": [
        "cond = False\n",
        "\n",
        "var = 1 if cond else 0\n",
        "\n",
        "var"
      ],
      "execution_count": null,
      "outputs": [
        {
          "output_type": "execute_result",
          "data": {
            "text/plain": [
              "0"
            ]
          },
          "metadata": {
            "tags": []
          },
          "execution_count": 12
        }
      ]
    },
    {
      "cell_type": "markdown",
      "metadata": {
        "id": "zQzNg0cURRAW"
      },
      "source": [
        "<p><a name=\"cic\"></a></p>\n",
        "\n",
        "# **Ciclos, iteraciones e interrupciones de flujo**\n",
        "\n",
        "En general, las instrucciones se ejecutan secuencialmente. Puede haber una situación en la que se necesite ejecutar un bloque de código varias veces. Una sentencia de ciclo o bucle nos permite ejecutar una o un grupo de sentencias repetidas veces"
      ]
    },
    {
      "cell_type": "markdown",
      "metadata": {
        "id": "g8TUS45vSLMY"
      },
      "source": [
        "<p><a name=\"whi\"></a></p>\n",
        "\n",
        "### **Ciclo `while`**\n",
        "\n",
        "Una sentencia de ciclo `while` ejecuta repetidamente una sentencia siempre que una condición dada sea `True`. La sintáxis es la siguiente:\n",
        "\n",
        "> \n",
        "    while condicion:\n",
        "\n",
        "      sentencia(s)\n",
        "\n",
        "El ciclo itera mientras la condición sea `True`. \n",
        "\n"
      ]
    },
    {
      "cell_type": "code",
      "metadata": {
        "id": "71LuiEqWQvcU"
      },
      "source": [
        "contador = 0\n",
        "\n",
        "while contador < 9:\n",
        "  print(f\"El contador tiene el valor: {contador}\")\n",
        "  contador += 1\n",
        "\n",
        "print(\"Fin del programa\")"
      ],
      "execution_count": null,
      "outputs": []
    },
    {
      "cell_type": "markdown",
      "metadata": {
        "id": "BSg839BQ8P1F"
      },
      "source": [
        "Note que en este caso no se tiene una variable de iteración, sino que la iteración se realiza siempre que la condición evaluada (que la variable `contador` sea menor a 9) sea `True`. Una vez la condición se evalue como `False` se pasa a la siguiente línea de código (`print(\"Fin del programa\")`) en el flujo del programa. \n",
        "\n",
        "Debido a esta naturaleza del ciclo `while`, se debe tener cuidado con la condición que se evalue, dado que si la condición siempre es `True` se entrará en un ciclo infinito.\n",
        "\n",
        "Un punto clave del ciclo while es que el ciclo podría no ejecutarse nunca. Cuando se prueba la condición y el resultado es `False`, se omitirá el cuerpo del ciclo y se ejecutará la primera instrucción después del ciclo while"
      ]
    },
    {
      "cell_type": "markdown",
      "metadata": {
        "id": "W8pA-RwiSaN1"
      },
      "source": [
        "<p><a name=\"for\"></a></p>\n",
        "\n",
        "### **Ciclo `for`**\n",
        "\n",
        "La sentencia `for` en Python tiene la capacidad de iterar sobre los elementos de cualquier secuencia\n",
        "\n",
        "> \n",
        "    for var_iter in secuencia:\n",
        "\n",
        "        sentencia(s)\n",
        "\n",
        "Observe la simplicidad del ciclo for: especificamos la variable de iteración que queremos usar `var_iter`, la secuencia que queremos recorrer y usamos el operador `in` para vincularlos de manera intuitiva y legible. Más precisamente, el objeto a la derecha de `in` puede ser cualquier objeto iterable de Python. \n",
        "\n",
        "Uno de los objetos iterables más utilizados en Python es el proporcionado por la función propia de Python `range`, que genera una secuencia de números en un rango específico. La sintáxis es la siguiente:\n",
        "\n",
        "`range(inicio, final, paso)`\n",
        "\n",
        "Tenga en cuenta que la secuencia comienza en cero de forma predeterminada y que, por convención, el valor final del `range` no se incluye en la secuencia. \n",
        "\n",
        "\n"
      ]
    },
    {
      "cell_type": "code",
      "metadata": {
        "id": "nLrwyOm2F8Tk",
        "colab": {
          "base_uri": "https://localhost:8080/"
        },
        "outputId": "1b0aed14-39e6-48a1-914e-66d7d6d8f3c2"
      },
      "source": [
        "for i in range(3):\n",
        "  print(i)"
      ],
      "execution_count": null,
      "outputs": [
        {
          "output_type": "stream",
          "text": [
            "0\n",
            "1\n",
            "2\n"
          ],
          "name": "stdout"
        }
      ]
    },
    {
      "cell_type": "markdown",
      "metadata": {
        "id": "zzd4Yc2W84aV"
      },
      "source": [
        "En este caso la secuencia es (0, 1, 2). Note que la variable de iteración, en este caso `i`, toma cada uno de estos valores en cada iteración. \n",
        "\n",
        "En el primer ejemplo, como hemos pasamos solo un argumento a la función `range`, este se tomará por defecto como el final del rango (que no se incluye), y se generará la secuencia con paso 1. Si pasamos solo dos argumentos, estos se tomarán como el inicio y el final del rango:\n"
      ]
    },
    {
      "cell_type": "code",
      "metadata": {
        "id": "535TdkOnFSTH",
        "colab": {
          "base_uri": "https://localhost:8080/"
        },
        "outputId": "c86ccd49-73c7-4d73-f31b-c6175f4a63a1"
      },
      "source": [
        "for i in range(10,15):\n",
        "  print(i)"
      ],
      "execution_count": null,
      "outputs": [
        {
          "output_type": "stream",
          "text": [
            "10\n",
            "11\n",
            "12\n",
            "13\n",
            "14\n"
          ],
          "name": "stdout"
        }
      ]
    },
    {
      "cell_type": "markdown",
      "metadata": {
        "id": "96Rb6_Pu9FwF"
      },
      "source": [
        "Ahora, pasando los tres argumentos podemos generar secuencias más complejas:"
      ]
    },
    {
      "cell_type": "code",
      "metadata": {
        "id": "T2BF7fr9SXcl",
        "colab": {
          "base_uri": "https://localhost:8080/"
        },
        "outputId": "a0a6bca3-6c11-4016-b330-abcff862b8db"
      },
      "source": [
        "# de 10 a 19 con paso 2\n",
        "for i in range(10,20,2):\n",
        "  print(i)"
      ],
      "execution_count": null,
      "outputs": [
        {
          "output_type": "stream",
          "text": [
            "10\n",
            "12\n",
            "14\n",
            "16\n",
            "18\n"
          ],
          "name": "stdout"
        }
      ]
    },
    {
      "cell_type": "code",
      "metadata": {
        "id": "dPIekCWl9KNr",
        "colab": {
          "base_uri": "https://localhost:8080/"
        },
        "outputId": "7a9e130c-2331-40ab-b9f9-6ccba2ba4ffb"
      },
      "source": [
        "# de 1 a 19 con paso 4\n",
        "for i in range(1,20,4):\n",
        "  print(i)"
      ],
      "execution_count": null,
      "outputs": [
        {
          "output_type": "stream",
          "text": [
            "1\n",
            "5\n",
            "9\n",
            "13\n",
            "17\n"
          ],
          "name": "stdout"
        }
      ]
    },
    {
      "cell_type": "markdown",
      "metadata": {
        "id": "JKYFsgBO9NZM"
      },
      "source": [
        "En algunas ocaciones no vamos a utilizar la variable de iteración en el bloque de código siguiente, por lo que podemos escribir la variable de iteración de la siguiente manera:"
      ]
    },
    {
      "cell_type": "code",
      "metadata": {
        "id": "b_JFcK9mFEsn",
        "colab": {
          "base_uri": "https://localhost:8080/"
        },
        "outputId": "13fc8960-a208-468b-8acc-49f7cf34969c"
      },
      "source": [
        "for _ in range(3):\n",
        "  print(\"hola\")"
      ],
      "execution_count": null,
      "outputs": [
        {
          "output_type": "stream",
          "text": [
            "hola\n",
            "hola\n",
            "hola\n"
          ],
          "name": "stdout"
        }
      ]
    },
    {
      "cell_type": "markdown",
      "metadata": {
        "id": "qPEWUTke9RNk"
      },
      "source": [
        "El caracter `_` en Python se utiliza cuando se debe declarar una variable pero esta no se usará en ningún proceso posterior (como en el ejemplo anterior), de manera que no se desperdicie espacio de memoria.\n",
        "\n",
        "Ahora, se entiende por secuencia cualquier objeto de Python que pueda ser iterable. Estos objetos iterables tienen algo en común: todos ellos contienen el método especial `__iter__` (Recuerde que puede examinar los métodos de un objeto mediante la función propia de Python `dir`).\n",
        "\n",
        "Las listas y las cadenas de caracteres también son objetos iterables:"
      ]
    },
    {
      "cell_type": "code",
      "metadata": {
        "id": "TEzl-AW0GQCF",
        "colab": {
          "base_uri": "https://localhost:8080/"
        },
        "outputId": "95cc3174-12ad-4599-d1dc-793347bdde23"
      },
      "source": [
        "l = [1,2,3]\n",
        "\n",
        "for elemento in l:\n",
        "  print(elemento)"
      ],
      "execution_count": null,
      "outputs": [
        {
          "output_type": "stream",
          "text": [
            "1\n",
            "2\n",
            "3\n"
          ],
          "name": "stdout"
        }
      ]
    },
    {
      "cell_type": "code",
      "metadata": {
        "id": "ZP1nOd2PGg__",
        "colab": {
          "base_uri": "https://localhost:8080/"
        },
        "outputId": "34b30954-03ee-4ff0-be2e-041d0f5548e9"
      },
      "source": [
        "vocales = \"aeiou\"\n",
        "\n",
        "for vocal in vocales:\n",
        "  print(vocal)"
      ],
      "execution_count": null,
      "outputs": [
        {
          "output_type": "stream",
          "text": [
            "a\n",
            "e\n",
            "i\n",
            "o\n",
            "u\n"
          ],
          "name": "stdout"
        }
      ]
    },
    {
      "cell_type": "markdown",
      "metadata": {
        "id": "RdSg6O7cUD_8"
      },
      "source": [
        "<p><a name=\"scf\"></a></p>\n",
        "\n",
        "## **Sentencias de control de flujo `break` y `continue`**\n",
        "\n",
        "Existen algunas sentencias útiles que se pueden usar dentro de los ciclos para ajustar como estos se ejecutan:\n",
        "\n",
        "**`break`**:\n",
        "\n",
        "La sentencia de control `break` termina el ciclo y transfiere la ejecución a la línea de código que sigue inmediatamente a este. La siguiente figura ilustra este proceso:\n",
        "\n",
        "<p><img alt=\"Colaboratory logo\" height=\"450px\" src=\"https://i.imgur.com/CoZLUcX.png\" align=\"left\" hspace=\"0px\" vspace=\"0px\"></p>\n",
        "\n"
      ]
    },
    {
      "cell_type": "markdown",
      "metadata": {
        "id": "ordNbhyG9mKA"
      },
      "source": [
        "Veamos esto en un ejemplo concreto:"
      ]
    },
    {
      "cell_type": "code",
      "metadata": {
        "id": "az4VyIJvIQTB",
        "colab": {
          "base_uri": "https://localhost:8080/"
        },
        "outputId": "503a7099-08c9-4b0c-ba4b-6d2ba98ce0bd"
      },
      "source": [
        "vocales = \"aeiou\"\n",
        "\n",
        "for vocal in vocales:\n",
        "  if vocal == \"o\":\n",
        "    break\n",
        "  print(vocal)\n",
        "\n",
        "print(\"Fin del programa\")"
      ],
      "execution_count": null,
      "outputs": [
        {
          "output_type": "stream",
          "text": [
            "a\n",
            "e\n",
            "i\n",
            "Fin del programa\n"
          ],
          "name": "stdout"
        }
      ]
    },
    {
      "cell_type": "markdown",
      "metadata": {
        "id": "4aCuzLmqV-B9"
      },
      "source": [
        "Note que el ciclo se termina una vez se ejecute la sentencia `break` y se pasa a la siguiente línea en el flujo del programa. También podemos utilizar esta sentencia de control dentro de un ciclo `while`. En este caso terminaremos el ciclo una vez la variable `contador` sea igual a tres:"
      ]
    },
    {
      "cell_type": "code",
      "metadata": {
        "id": "_p0_AWuUV6Dp",
        "colab": {
          "base_uri": "https://localhost:8080/"
        },
        "outputId": "846a91c0-372f-4b73-fd46-bebcf2ceed55"
      },
      "source": [
        "contador = 0\n",
        "while (contador < 5):\n",
        "   print('El contador es:', contador)\n",
        "   if contador == 3:\n",
        "     break\n",
        "   contador += 1\n",
        "\n",
        "print(\"Fin del programa\")"
      ],
      "execution_count": null,
      "outputs": [
        {
          "output_type": "stream",
          "text": [
            "El contador es: 0\n",
            "El contador es: 1\n",
            "El contador es: 2\n",
            "El contador es: 3\n",
            "Fin del programa\n"
          ],
          "name": "stdout"
        }
      ]
    },
    {
      "cell_type": "markdown",
      "metadata": {
        "id": "6Bv5ORy7WIdj"
      },
      "source": [
        "**`continue`:**\n",
        "\n",
        "La sentencia de control `continue` no termina por completo el ciclo sino que omite las sentencias restantes de la iteración actual y pasa a la siguiente. Veamos una representación de este proceso:\n",
        "\n",
        "<p><img alt=\"Colaboratory logo\" height=\"450px\" src=\"https://i.imgur.com/i98Dewt.png\" align=\"left\" hspace=\"0px\" vspace=\"0px\"></p>"
      ]
    },
    {
      "cell_type": "markdown",
      "metadata": {
        "id": "Fg9w0bd79zp2"
      },
      "source": [
        "Veamos esta sentencia en uno de los ejemplos anteriores:"
      ]
    },
    {
      "cell_type": "code",
      "metadata": {
        "id": "w55-7-5IWBgP",
        "colab": {
          "base_uri": "https://localhost:8080/"
        },
        "outputId": "1656bfa9-2fb0-4c26-9e74-555fc19d3496"
      },
      "source": [
        "vocales = \"aeiou\"\n",
        "\n",
        "for vocal in vocales:\n",
        "  if vocal == \"o\":\n",
        "    continue\n",
        "  print(vocal)\n",
        "  \n",
        "print(\"Fin del programa\")"
      ],
      "execution_count": null,
      "outputs": [
        {
          "output_type": "stream",
          "text": [
            "a\n",
            "e\n",
            "i\n",
            "u\n",
            "Fin del programa\n"
          ],
          "name": "stdout"
        }
      ]
    },
    {
      "cell_type": "markdown",
      "metadata": {
        "id": "09T2wyEu93mU"
      },
      "source": [
        "Note que, a diferencia del caso anterior, no se terminó el ciclo una vez se llegó a la vocal \"o\" sino que se pasó a la siguiente iteración ignorando la sentencia restante en el ciclo."
      ]
    },
    {
      "cell_type": "markdown",
      "metadata": {
        "id": "amBKoTABmWwK"
      },
      "source": [
        "**Ejercicio 4:** El factorial de un número entero $n$ se define como:\n",
        "\n",
        "$$n! = 1\\times2\\times3\\times...\\times n$$\n",
        "\n",
        "Este solo está definido para $n\\geq0$, donde se impone que $0!=1$.\n",
        "\n",
        "Escriba un programa que calcule el factorial de un número entero $n$. En el caso en que el valor de entrada ($n$) no esté dentro del rango en el que se define el factorial, es decir, si este es negativo, el programa debe mostrar un mensaje en pantalla indicando que se debe ingresar un valor correcto y volver a pedir el número $n$ de forma automática, sin necesidad de volver a ejecutar el programa. "
      ]
    },
    {
      "cell_type": "code",
      "metadata": {
        "id": "g57hdhi4maUW"
      },
      "source": [
        "factorial = 1\n",
        "\n",
        "while True:\n",
        "  n = int(input(\"Ingrese un número entero: \"))\n",
        "  if n < 0:\n",
        "    print(\"Ingrese un numero >= 0\")\n",
        "  else:\n",
        "    for i in range(1, n+1):\n",
        "      factorial *= i\n",
        "    print(f\"{n}! = {factorial}\")\n",
        "    break"
      ],
      "execution_count": null,
      "outputs": []
    },
    {
      "cell_type": "markdown",
      "metadata": {
        "id": "0g_te7V1bbQ-"
      },
      "source": [
        "<p><a name=\"lis\"></a></p>\n",
        "\n",
        "# **Estructuras de datos: Listas**\n",
        "\n",
        "\n",
        "Hemos visto los tipos de variables simples de Python: `int`, `float` , `bool`, `str` y `None`. Adicionalmente, Python tiene varios tipos compuestos, que actúan como contenedores para otros tipos. Estos tipos compuestos son: Listas, tuplas y diccionarios. \n",
        "\n",
        "Las listas son un tipo básico de colección de datos *ordenados* y *mutables* en Python. Cuando decimos que son ordenados queremos decir que para este objeto se tiene una noción de posición para sus elementos, que ya veremos en la sección de *indexación*. Como ya hemos mencionado, la *mutabilidad* hace referencia a que podemos modificar el objeto. \n",
        "\n",
        "Las listas se pueden definir con valores separados por comas entre corchetes"
      ]
    },
    {
      "cell_type": "code",
      "metadata": {
        "id": "2y4IkYD0NSMI"
      },
      "source": [
        "lista = [1, 3, 2, 0, 4, 5]"
      ],
      "execution_count": null,
      "outputs": []
    },
    {
      "cell_type": "markdown",
      "metadata": {
        "id": "sQ-nl547cdQf"
      },
      "source": [
        "Podemos obtener la longitud o número de elementos de la lista con la función propia de Python `len`:"
      ]
    },
    {
      "cell_type": "code",
      "metadata": {
        "id": "heGQ4x2FcfwV",
        "colab": {
          "base_uri": "https://localhost:8080/"
        },
        "outputId": "d9cfc9b4-6cdb-4fdc-e126-978ef803c28d"
      },
      "source": [
        "len(lista)"
      ],
      "execution_count": null,
      "outputs": [
        {
          "output_type": "execute_result",
          "data": {
            "text/plain": [
              "6"
            ]
          },
          "metadata": {
            "tags": []
          },
          "execution_count": 34
        }
      ]
    },
    {
      "cell_type": "markdown",
      "metadata": {
        "id": "MTImg9zVciWD"
      },
      "source": [
        "Podemos obtener la suma de los elementos y los valores máximo y mínimo de la lista con las funciones de agregación `sum`, `max` y `min`, respectivamente:"
      ]
    },
    {
      "cell_type": "code",
      "metadata": {
        "id": "Fma-A6j6cmyQ",
        "colab": {
          "base_uri": "https://localhost:8080/"
        },
        "outputId": "83d9b576-5c08-4943-d096-b352cd2aa390"
      },
      "source": [
        "print(f\"suma de los elementos: {sum(lista)}\")\n",
        "print(f\"valor máximo de la lista: {max(lista)}\")\n",
        "print(f\"valor mínimo de la lista: {min(lista)}\")"
      ],
      "execution_count": null,
      "outputs": [
        {
          "output_type": "stream",
          "text": [
            "suma de los elementos: 15\n",
            "valor máximo de la lista: 5\n",
            "valor mínimo de la lista: 0\n"
          ],
          "name": "stdout"
        }
      ]
    },
    {
      "cell_type": "markdown",
      "metadata": {
        "id": "7qOH1LSvcp8M"
      },
      "source": [
        "Veamos algunos métodos asociados a este objeto"
      ]
    },
    {
      "cell_type": "code",
      "metadata": {
        "id": "TJWuo7O9cpO9",
        "colab": {
          "base_uri": "https://localhost:8080/"
        },
        "outputId": "15e96d95-bc88-453b-eb22-d4dcc0d90478"
      },
      "source": [
        "# ordenar la lista\n",
        "lista.sort()\n",
        "lista"
      ],
      "execution_count": null,
      "outputs": [
        {
          "output_type": "execute_result",
          "data": {
            "text/plain": [
              "[0, 1, 2, 3, 4, 5]"
            ]
          },
          "metadata": {
            "tags": []
          },
          "execution_count": 36
        }
      ]
    },
    {
      "cell_type": "code",
      "metadata": {
        "id": "7dtTOdzWcvA3",
        "colab": {
          "base_uri": "https://localhost:8080/"
        },
        "outputId": "147c24fa-b3fd-4614-f4fe-c43cd97d0789"
      },
      "source": [
        "# ordenar la lista en el sentido contrario\n",
        "lista.sort(reverse=True)\n",
        "lista"
      ],
      "execution_count": null,
      "outputs": [
        {
          "output_type": "execute_result",
          "data": {
            "text/plain": [
              "[5, 4, 3, 2, 1, 0]"
            ]
          },
          "metadata": {
            "tags": []
          },
          "execution_count": 37
        }
      ]
    },
    {
      "cell_type": "code",
      "metadata": {
        "id": "ievJ6rfJcyCu",
        "colab": {
          "base_uri": "https://localhost:8080/"
        },
        "outputId": "265de2a7-0248-4ce5-c852-ee912733047b"
      },
      "source": [
        "# añadir un elemento al final de la lista\n",
        "lista.append(100)\n",
        "lista"
      ],
      "execution_count": null,
      "outputs": [
        {
          "output_type": "execute_result",
          "data": {
            "text/plain": [
              "[5, 4, 3, 2, 1, 0, 100]"
            ]
          },
          "metadata": {
            "tags": []
          },
          "execution_count": 38
        }
      ]
    },
    {
      "cell_type": "code",
      "metadata": {
        "id": "WYLRMueSc0sa",
        "colab": {
          "base_uri": "https://localhost:8080/"
        },
        "outputId": "ff102377-0f30-4eaa-d096-efc041e46f72"
      },
      "source": [
        "# añadir un elemento en la posicion 0\n",
        "lista.insert(0, 200)\n",
        "lista"
      ],
      "execution_count": null,
      "outputs": [
        {
          "output_type": "execute_result",
          "data": {
            "text/plain": [
              "[200, 5, 4, 3, 2, 1, 0, 100]"
            ]
          },
          "metadata": {
            "tags": []
          },
          "execution_count": 39
        }
      ]
    },
    {
      "cell_type": "code",
      "metadata": {
        "id": "8oyJOSW1c3vD",
        "colab": {
          "base_uri": "https://localhost:8080/"
        },
        "outputId": "cfd750c0-c1d0-482c-d7d9-00926d99960b"
      },
      "source": [
        "# eliminar un elemento de la lista\n",
        "lista.remove(100)\n",
        "lista"
      ],
      "execution_count": null,
      "outputs": [
        {
          "output_type": "execute_result",
          "data": {
            "text/plain": [
              "[200, 5, 4, 3, 2, 1, 0]"
            ]
          },
          "metadata": {
            "tags": []
          },
          "execution_count": 40
        }
      ]
    },
    {
      "cell_type": "code",
      "metadata": {
        "id": "GUHLNh-Yc6d0",
        "colab": {
          "base_uri": "https://localhost:8080/"
        },
        "outputId": "1eecd325-44c0-4582-927c-5768eb859402"
      },
      "source": [
        "# obtener el indice asociado al elemento 5\n",
        "lista.index(5)"
      ],
      "execution_count": null,
      "outputs": [
        {
          "output_type": "execute_result",
          "data": {
            "text/plain": [
              "1"
            ]
          },
          "metadata": {
            "tags": []
          },
          "execution_count": 41
        }
      ]
    },
    {
      "cell_type": "code",
      "metadata": {
        "id": "SsLsgILoc9BB",
        "colab": {
          "base_uri": "https://localhost:8080/"
        },
        "outputId": "570c2854-5642-42b6-8255-a31d6d4ef5c0"
      },
      "source": [
        "# conteo de algun elemento de la lista\n",
        "lista.count(1)"
      ],
      "execution_count": null,
      "outputs": [
        {
          "output_type": "execute_result",
          "data": {
            "text/plain": [
              "1"
            ]
          },
          "metadata": {
            "tags": []
          },
          "execution_count": 42
        }
      ]
    },
    {
      "cell_type": "code",
      "metadata": {
        "id": "LHBE01JrdAEP",
        "colab": {
          "base_uri": "https://localhost:8080/"
        },
        "outputId": "e9e9c2d8-5605-4d47-b8cb-33e49b9ffd47"
      },
      "source": [
        "# eliminemos el elemento que acabamos de añadir a lista\n",
        "lista.remove(200)\n",
        "lista"
      ],
      "execution_count": null,
      "outputs": [
        {
          "output_type": "execute_result",
          "data": {
            "text/plain": [
              "[5, 4, 3, 2, 1, 0]"
            ]
          },
          "metadata": {
            "tags": []
          },
          "execution_count": 44
        }
      ]
    },
    {
      "cell_type": "markdown",
      "metadata": {
        "id": "JUAtOIM6dB0W"
      },
      "source": [
        "Adicionalmente, hay más métodos de lista incorporados; están bien cubiertos en la [documentación](https://docs.python.org/3/tutorial/datastructures.html) en línea de Python."
      ]
    },
    {
      "cell_type": "markdown",
      "metadata": {
        "id": "bjbOUbzxdPgc"
      },
      "source": [
        "<p><a name=\"ind\"></a></p>\n",
        "\n",
        "### **Indexación y segmentación**\n",
        "\n",
        "Python nos proporciona acceso a los elementos de la lista a través de la indexación de elementos individuales y la segmentación de elementos múltiples. Como veremos, ambos están indicados por una sintaxis de corchetes. \n",
        "\n",
        "**Indexación:** Obteniendo un único elemento de la lista.\n",
        "\n",
        "Definamos una lista con los primeros cuatro números pares:\n",
        "\n",
        "\n",
        "\n"
      ]
    },
    {
      "cell_type": "code",
      "metadata": {
        "id": "zgeQ_vC4dPFe"
      },
      "source": [
        "l = [2, 4, 6, 8]"
      ],
      "execution_count": null,
      "outputs": []
    },
    {
      "cell_type": "markdown",
      "metadata": {
        "id": "hIepvx7Xdhry"
      },
      "source": [
        "cuyos índices (positivos y negativos) se ilustran en la siguiente figura:"
      ]
    },
    {
      "cell_type": "markdown",
      "metadata": {
        "id": "Av8ud0PSdlSY"
      },
      "source": [
        "![](https://i.imgur.com/Bt04CcC.png)\n",
        "\n",
        "Podemos acceder a un elemento de la lista indicando el índice correspondiente a este mediante corchetes:"
      ]
    },
    {
      "cell_type": "code",
      "metadata": {
        "id": "dXsqa01Wdk9u",
        "colab": {
          "base_uri": "https://localhost:8080/"
        },
        "outputId": "88e9eb25-0190-4473-a64f-e5750766b63c"
      },
      "source": [
        "# accediendo al primer elemento de la lista\n",
        "print(l[0])\n",
        "\n",
        "# accediendo al tercer elemento de la lista\n",
        "print(l[2])"
      ],
      "execution_count": null,
      "outputs": [
        {
          "output_type": "stream",
          "text": [
            "2\n",
            "6\n"
          ],
          "name": "stdout"
        }
      ]
    },
    {
      "cell_type": "markdown",
      "metadata": {
        "id": "qjLHmum2dpXZ"
      },
      "source": [
        "Note que en Python, el primero elemento de la lista corresponde a la posición `0`, y no a la posición `1`, que corresponde al segundo elemento.\n",
        "\n",
        "Alternativamente podemos acceder a los elementos de la lista en el orden opuesto con números negativos, comenzando desde `-1`:"
      ]
    },
    {
      "cell_type": "code",
      "metadata": {
        "id": "whd2muzidswJ",
        "colab": {
          "base_uri": "https://localhost:8080/"
        },
        "outputId": "b880ccf7-8e28-4a4d-89d6-8cac16122a1a"
      },
      "source": [
        "# accediendo al ultimo elemento de la lista\n",
        "print(l[-1])\n",
        "\n",
        "# accediendo al penultimo elemento de la lista\n",
        "print(l[-2])"
      ],
      "execution_count": null,
      "outputs": [
        {
          "output_type": "stream",
          "text": [
            "8\n",
            "6\n"
          ],
          "name": "stdout"
        }
      ]
    },
    {
      "cell_type": "markdown",
      "metadata": {
        "id": "FDcMFaMMduej"
      },
      "source": [
        "**Nota**: *Este esquema de indexación aplica también a las cadenas de caracteres.*"
      ]
    },
    {
      "cell_type": "markdown",
      "metadata": {
        "id": "uBtXne-pdyKt"
      },
      "source": [
        "**Segmentación**:\n",
        "\n",
        "Si la indexación es un medio para obtener un único valor de la lista, la *segmentación* es un medio para acceder a múltiples valores de las listas (o cadenas). La sintáxis para la segmentación es de la forma\n",
        "\n",
        "> \n",
        "\n",
        "    lista[inicio:final:paso]\n",
        "\n",
        "en donde se extraen los elementos de la lista entre la posiciones `inicio` (se incluye) y `final` (no se incluye), con cierto `paso`:\n"
      ]
    },
    {
      "cell_type": "code",
      "metadata": {
        "id": "dcjUmXjtd27F",
        "colab": {
          "base_uri": "https://localhost:8080/"
        },
        "outputId": "37f1e767-d423-408c-f9b8-1d771048ad98"
      },
      "source": [
        "# seleccionar los tres primeros elementos de la lista \n",
        "l[0:3]"
      ],
      "execution_count": null,
      "outputs": [
        {
          "output_type": "execute_result",
          "data": {
            "text/plain": [
              "[2, 4, 6]"
            ]
          },
          "metadata": {
            "tags": []
          },
          "execution_count": 48
        }
      ]
    },
    {
      "cell_type": "markdown",
      "metadata": {
        "id": "9FeiCEHhd5GE"
      },
      "source": [
        "Si omitimos el primer índice, Python lo toma como 0, por lo que podemos escribir de manera equivalente:\n"
      ]
    },
    {
      "cell_type": "code",
      "metadata": {
        "id": "e72M7Ah1d9pw",
        "colab": {
          "base_uri": "https://localhost:8080/"
        },
        "outputId": "8bbdb05f-3365-4772-de3a-4c6f8b723ab4"
      },
      "source": [
        "# seleccionar los tres primeros elementos de la lista \n",
        "l[:3]"
      ],
      "execution_count": null,
      "outputs": [
        {
          "output_type": "execute_result",
          "data": {
            "text/plain": [
              "[2, 4, 6]"
            ]
          },
          "metadata": {
            "tags": []
          },
          "execution_count": 49
        }
      ]
    },
    {
      "cell_type": "markdown",
      "metadata": {
        "id": "ugNYhxwPd_at"
      },
      "source": [
        "De forma análoga, si no especificamos el final, Python realiza la segmentación hasta el último elemento de la lista:"
      ]
    },
    {
      "cell_type": "code",
      "metadata": {
        "id": "rKLrqLDGeCBm",
        "colab": {
          "base_uri": "https://localhost:8080/"
        },
        "outputId": "5de62d9f-aac8-4726-c495-a89729b317f3"
      },
      "source": [
        "# seleccionar desde el segundo elemento hasta el final \n",
        "print(l[1:4])\n",
        "\n",
        "# equivalentemente\n",
        "print(l[1:])\n",
        "\n",
        "# equivalentemente\n",
        "print(l[-3:])"
      ],
      "execution_count": null,
      "outputs": [
        {
          "output_type": "stream",
          "text": [
            "[4, 6, 8]\n",
            "[4, 6, 8]\n",
            "[4, 6, 8]\n"
          ],
          "name": "stdout"
        }
      ]
    },
    {
      "cell_type": "markdown",
      "metadata": {
        "id": "QGTBlg1JeFEJ"
      },
      "source": [
        "También es posible especificar un tercer número entero que represente el tamaño del paso:"
      ]
    },
    {
      "cell_type": "code",
      "metadata": {
        "id": "Q3E2S5qNeHnw",
        "colab": {
          "base_uri": "https://localhost:8080/"
        },
        "outputId": "09c78f22-6f82-4813-f978-580ebe9c0085"
      },
      "source": [
        "#seleccionar los elementos de la lista con paso 2\n",
        "l[::2]"
      ],
      "execution_count": null,
      "outputs": [
        {
          "output_type": "execute_result",
          "data": {
            "text/plain": [
              "[2, 6]"
            ]
          },
          "metadata": {
            "tags": []
          },
          "execution_count": 52
        }
      ]
    },
    {
      "cell_type": "markdown",
      "metadata": {
        "id": "fTBefi3_eJWI"
      },
      "source": [
        "Ahora, si pasamos el paso como un número negativo, el inicio y el final de la segmentación se intercambian:"
      ]
    },
    {
      "cell_type": "code",
      "metadata": {
        "id": "FWL7vzCxeL0I",
        "colab": {
          "base_uri": "https://localhost:8080/"
        },
        "outputId": "52535588-1251-4e54-adc4-ee1936380d72"
      },
      "source": [
        "# seleccionar todos los elementos en sentido contrario\n",
        "l[::-1]"
      ],
      "execution_count": null,
      "outputs": [
        {
          "output_type": "execute_result",
          "data": {
            "text/plain": [
              "[8, 6, 4, 2]"
            ]
          },
          "metadata": {
            "tags": []
          },
          "execution_count": 53
        }
      ]
    },
    {
      "cell_type": "code",
      "metadata": {
        "id": "Z3yVcSc1eNX2",
        "colab": {
          "base_uri": "https://localhost:8080/"
        },
        "outputId": "40d1cb88-6957-4c68-b01e-1d767caea1c5"
      },
      "source": [
        "#seleccionar desde el elemento 5 hasta el 2 en sentido contrario\n",
        "l[3:1:-1]"
      ],
      "execution_count": null,
      "outputs": [
        {
          "output_type": "execute_result",
          "data": {
            "text/plain": [
              "[8, 6]"
            ]
          },
          "metadata": {
            "tags": []
          },
          "execution_count": 54
        }
      ]
    },
    {
      "cell_type": "markdown",
      "metadata": {
        "id": "TkSpMakjePmP"
      },
      "source": [
        "Las listas son objetos mutables. Podemos utilizar tanto la indexación como la segmentación para modificar elementos de una lista:\n"
      ]
    },
    {
      "cell_type": "code",
      "metadata": {
        "id": "A8iD1XhheUe7",
        "colab": {
          "base_uri": "https://localhost:8080/"
        },
        "outputId": "8718f1c6-1dc7-4623-e1a2-eeb6c1f6b728"
      },
      "source": [
        "# modificando el primer elemento de la lista\n",
        "l[0] = 100\n",
        "l"
      ],
      "execution_count": null,
      "outputs": [
        {
          "output_type": "execute_result",
          "data": {
            "text/plain": [
              "[100, 4, 6, 8]"
            ]
          },
          "metadata": {
            "tags": []
          },
          "execution_count": 55
        }
      ]
    },
    {
      "cell_type": "code",
      "metadata": {
        "id": "kO7egPW7eaMN",
        "colab": {
          "base_uri": "https://localhost:8080/"
        },
        "outputId": "4e23eb3f-faa4-4cca-adf1-e2fbeb456ebc"
      },
      "source": [
        "# modificando multiples elementos de la lista\n",
        "l[1:] = [1, 2, 3]\n",
        "l"
      ],
      "execution_count": null,
      "outputs": [
        {
          "output_type": "execute_result",
          "data": {
            "text/plain": [
              "[100, 1, 2, 3]"
            ]
          },
          "metadata": {
            "tags": []
          },
          "execution_count": 56
        }
      ]
    },
    {
      "cell_type": "markdown",
      "metadata": {
        "id": "IqpkndKfecIQ"
      },
      "source": [
        "**Ejercicio 5:** Cree una lista que contenga los números pares en el intervalo [1, 10]"
      ]
    },
    {
      "cell_type": "code",
      "metadata": {
        "id": "eiy9a_5aee6z",
        "colab": {
          "base_uri": "https://localhost:8080/"
        },
        "outputId": "3181360b-d3a6-436a-ec6d-350ef336f81a"
      },
      "source": [
        "# Definimos una lista vacia\n",
        "l = []\n",
        "\n",
        "# Iteramos en el rango pedido\n",
        "for elemento in range(1,11):\n",
        "  # evaluamos si el elemento es par\n",
        "  if elemento % 2 == 0:\n",
        "    # añadimos el elemento par a la lista\n",
        "    l.append(elemento)\n",
        "\n",
        "l"
      ],
      "execution_count": null,
      "outputs": [
        {
          "output_type": "execute_result",
          "data": {
            "text/plain": [
              "[2, 4, 6, 8, 10]"
            ]
          },
          "metadata": {
            "tags": []
          },
          "execution_count": 59
        }
      ]
    },
    {
      "cell_type": "markdown",
      "metadata": {
        "id": "AV3DgqS9egwN"
      },
      "source": [
        "Podemos modificar el rango de manera que solo se itere sobre números pares y no tengamos que evaluar si el número es par:"
      ]
    },
    {
      "cell_type": "code",
      "metadata": {
        "id": "fA-r3tUxeiy3",
        "colab": {
          "base_uri": "https://localhost:8080/"
        },
        "outputId": "9d016702-ee1c-4fe2-dcea-fe63498da28c"
      },
      "source": [
        "# Definimos una lista vacia\n",
        "l = []\n",
        "\n",
        "# Iteramos los numeros pares\n",
        "# en el rango pedido\n",
        "for elemento in range(2,11,2):\n",
        "  # añadimos el elemento par a la lista\n",
        "  l.append(elemento)\n",
        "\n",
        "l"
      ],
      "execution_count": null,
      "outputs": [
        {
          "output_type": "execute_result",
          "data": {
            "text/plain": [
              "[2, 4, 6, 8, 10]"
            ]
          },
          "metadata": {
            "tags": []
          },
          "execution_count": 61
        }
      ]
    },
    {
      "cell_type": "markdown",
      "metadata": {
        "id": "9fCiZraOengl"
      },
      "source": [
        "**Ejercicio 6:** Solicite al usuario una palabra e imprima si esta es un palíndromo o no. (Un palíndromo es una palabra o frase que se lee igual hacia adelante y hacia atrás)"
      ]
    },
    {
      "cell_type": "code",
      "metadata": {
        "id": "GO6maEECeqGN"
      },
      "source": [
        ""
      ],
      "execution_count": null,
      "outputs": []
    },
    {
      "cell_type": "markdown",
      "metadata": {
        "id": "lt_9BYLUeqkj"
      },
      "source": [
        "**Ejercicio 7:** Dado el siguiente listado de alumnos de una clase\n",
        "\n",
        "`alumnos = ['Ana', 'Luis', 'Pedro', 'Marta', 'Nerea', 'Pablo']`\n",
        "\n",
        "Crear dos listas: una que contenga la primera letra de cada nombre y otra que contenga la última letra"
      ]
    },
    {
      "cell_type": "code",
      "metadata": {
        "id": "hSmD409Ve8sI"
      },
      "source": [
        ""
      ],
      "execution_count": null,
      "outputs": []
    }
  ]
}