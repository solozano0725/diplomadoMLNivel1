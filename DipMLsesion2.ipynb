{
  "nbformat": 4,
  "nbformat_minor": 0,
  "metadata": {
    "colab": {
      "name": "DipMLsesion2.ipynb",
      "provenance": [],
      "include_colab_link": true
    },
    "kernelspec": {
      "name": "python3",
      "display_name": "Python 3"
    }
  },
  "cells": [
    {
      "cell_type": "markdown",
      "metadata": {
        "id": "view-in-github",
        "colab_type": "text"
      },
      "source": [
        "<a href=\"https://colab.research.google.com/github/solozano0725/diplomadoMLNivel1/blob/main/DipMLsesion2.ipynb\" target=\"_parent\"><img src=\"https://colab.research.google.com/assets/colab-badge.svg\" alt=\"Open In Colab\"/></a>"
      ]
    },
    {
      "cell_type": "markdown",
      "metadata": {
        "id": "gFlUMfVbkj4s"
      },
      "source": [
        "<p><img alt=\"Colaboratory logo\" height=\"140px\" src=\"https://upload.wikimedia.org/wikipedia/commons/archive/f/fb/20161010213812%21Escudo-UdeA.svg\" align=\"left\" hspace=\"10px\" vspace=\"0px\"></p>\n",
        "\n",
        "# **Diplomado de Análisis de datos y Machine Learning en Python**\n",
        "\n",
        "\n",
        "El presente diplomado hace parte del centro de Big Data de la facultad de ciencias exactas y naturales (FCEN) de la Universidad de Antioquia.\n",
        "\n",
        "## **Sesión 2**\n",
        "\n",
        "## **Contenido**\n",
        "\n",
        "- <a href=\"#sem\"> Semántica de Python</a><br>\n",
        "  - <a href=\"#var\"> Variables</a><br>\n",
        "  - <a href=\"#ope\"> Operadores</a><br>\n",
        "    - <a href=\"#opa\"> Operadores aritméticos</a><br>\n",
        "    - <a href=\"#opc\"> Operadores de comparación</a><br>\n",
        "    - <a href=\"#opb\"> Operaciones booleanas</a><br>\n",
        "    - <a href=\"#opm\"> Operadores de identidad y membresía</a><br>\n",
        "- <a href=\"#io\"> Entrada y salida</a><br>  \n"
      ]
    },
    {
      "cell_type": "markdown",
      "metadata": {
        "id": "kyI84HbpFQWH"
      },
      "source": [
        "<p><a name=\"sem\"></a></p>\n",
        "\n",
        "# **Semántica de Python**\n",
        "\n",
        "En esta sección comenzaremos a cubrir la semántica básica de Python. A diferencia de la sintaxis cubierta en la sección anterior, la semántica de un lenguaje implica el significado de las declaraciones. Al igual que con nuestra discusión sobre la sintaxis, aquí veremos algunas de las construcciones semánticas esenciales en Python para dar un mejor marco de referencia para comprender el código en las siguientes secciones"
      ]
    },
    {
      "cell_type": "markdown",
      "metadata": {
        "id": "L3ZvfaLvFUTf"
      },
      "source": [
        "<p><a name=\"var\"></a></p>\n",
        "\n",
        "## **Variables**\n",
        "\n",
        "Los nombres de las variables en Python pueden contener caracteres alfanuméricos *a-z*, *A-Z*, *0-9* y algunos caracteres especiales como _. Los nombres de las variables deben comenzar con una letra. Por convención, los nombres de las variables comienzan con letras minúsculas. Adicionalmente, existe un número de palabras claves que no pueden ser usadas como nombres de variables. Estas palabras claves son:\n",
        "\n",
        "> `and, as, assert, break, class, continue, def, del, elif, else, except, exec, finally, for, from, global, if, import, in, is, lambda, not, or, pass, print, raise, return, try, while, with, yield`\n",
        "\n",
        "En Python, las variables fundamentales son \n",
        "\n",
        "\n"
      ]
    },
    {
      "cell_type": "code",
      "metadata": {
        "id": "oJ9u9imJFWEj"
      },
      "source": [
        "# Tipo    # ejemplo     # Descripción\n",
        "int       x = 1         # integer: números enteros \n",
        "float     x = 3.1415    # floating point number: números de punto flotante \n",
        "bool      x = True      # boolean: dos posibles valores: verdadero o falso (True o False)\n",
        "str       x = \"aeiou\"   # string: caracteres o texto\n",
        "None      x = None      # Objeto especial que indica valores nulos"
      ],
      "execution_count": null,
      "outputs": []
    },
    {
      "cell_type": "markdown",
      "metadata": {
        "id": "5RlnG8dTFXyH"
      },
      "source": [
        "Adicionalmente tenemos variables compuestas, las cuales se construyen a partir de estas variables fundamentales\n",
        "\n"
      ]
    },
    {
      "cell_type": "code",
      "metadata": {
        "id": "H9WQeBuXvpMH"
      },
      "source": [
        "# Tipo    # ejemplo                       # Descripción\n",
        "list      x = [1, \"aeiou\", True, 2.14]    # lista\n",
        "tuple     x = (1, \"aeiou\", True, 2.14)    # tupla\n",
        "dict      x = {\"clave\":valor}             # diccionario"
      ],
      "execution_count": null,
      "outputs": []
    },
    {
      "cell_type": "markdown",
      "metadata": {
        "id": "UU4WEz7lvpfp"
      },
      "source": [
        "Podemos acceder al tipo de variable utilizando la función nativa de Python `type`:"
      ]
    },
    {
      "cell_type": "code",
      "metadata": {
        "id": "_I8zllVPFZj4"
      },
      "source": [
        "x = 1.0\n",
        "\n",
        "# evaluando el tipo de dato de la variable x\n",
        "type(x)"
      ],
      "execution_count": null,
      "outputs": []
    },
    {
      "cell_type": "markdown",
      "metadata": {
        "id": "CSXOlOiLFbOP"
      },
      "source": [
        "Podemos utilizar las funciones nativas de Python que aparecen en la columna \"Tipo\" para realizar conversiones entre los diferentes tipos de variable:"
      ]
    },
    {
      "cell_type": "code",
      "metadata": {
        "id": "apg7lNGzFciH"
      },
      "source": [
        "# cambiando el tipo de la variable x a un string\n",
        "x = str(x)\n",
        "\n",
        "# evaluando el tipo de dato de la variable x\n",
        "type(x)"
      ],
      "execution_count": null,
      "outputs": []
    },
    {
      "cell_type": "markdown",
      "metadata": {
        "id": "kIX2w3aGFeQo"
      },
      "source": [
        "### **Todo en Python es un objeto**\n",
        "\n",
        " En lenguajes de programación orientados a objetos como Python, un objeto es una entidad que contiene datos junto con funcionalidades asociadas. Este concepto no se diferencia mucho del concepto de objeto en la vida real. Pensemos por ejemplo en un Robot: es un objeto con ciertas características (nombre, color, peso, etc) y ciertas funcionalidades (hablar, moverse, etc).\n",
        "\n",
        "![](https://i.imgur.com/dRKUFPA.png)\n",
        "\n",
        "En Python, todo es un objeto, lo que significa que cada entidad tiene algunas características (llamados atributos) y funcionalidades asociadas (llamados métodos). Veamos un ejemplo: creemos un objeto del tipo `float`:\n",
        "\n"
      ]
    },
    {
      "cell_type": "code",
      "metadata": {
        "id": "qMDad8vWFgSn"
      },
      "source": [
        "x = 3.1415 "
      ],
      "execution_count": null,
      "outputs": []
    },
    {
      "cell_type": "markdown",
      "metadata": {
        "id": "tejXrpH8Fhq-"
      },
      "source": [
        "como ya se mencionó, este objeto tiene ciertos atributos (características) y métodos asociados (funcionalidades). Por ejemplo, los atributos `real` e `imag` contienen información de la parte real y la parte imaginaria del objeto. Para acceder a estos atributos utilizamos la sintáxis de punto `.` :"
      ]
    },
    {
      "cell_type": "code",
      "metadata": {
        "id": "OkTe0aEIFjFY"
      },
      "source": [
        "x.real, x.imag"
      ],
      "execution_count": null,
      "outputs": []
    },
    {
      "cell_type": "markdown",
      "metadata": {
        "id": "SToah9p1Fkh3"
      },
      "source": [
        "Los métodos son como atributos, excepto que son funciones que se pueden llamar utilizando un par de paréntesis de apertura y cierre. Por ejemplo, los objetos de tipo `float` tienen un método llamado `is_integer()` que verifica si el valor es un entero:"
      ]
    },
    {
      "cell_type": "code",
      "metadata": {
        "id": "xy4Bz2PMFmMc"
      },
      "source": [
        "x.is_integer()  "
      ],
      "execution_count": null,
      "outputs": []
    },
    {
      "cell_type": "markdown",
      "metadata": {
        "id": "rUQ0KSQ7Iosm"
      },
      "source": [
        "Existen métodos que modifican los objetos y otros que simplemente son una vista del objeto (crean una copia)"
      ]
    },
    {
      "cell_type": "code",
      "metadata": {
        "id": "C0TQG10cIy3_"
      },
      "source": [
        "l1 = [3,2,1]\n",
        "\n",
        "# modifica el objeto\n",
        "l1.sort() \n",
        "\n",
        "l1"
      ],
      "execution_count": null,
      "outputs": []
    },
    {
      "cell_type": "code",
      "metadata": {
        "id": "PYyzPV_pJHTw"
      },
      "source": [
        "l1 = [3,2,1]\n",
        "\n",
        "# no modifica el objeto\n",
        "sorted(l1)\n",
        "\n",
        "l"
      ],
      "execution_count": null,
      "outputs": []
    },
    {
      "cell_type": "code",
      "metadata": {
        "id": "67LTcu45I7KW"
      },
      "source": [
        "s = \"hola\"\n",
        "\n",
        "# no modifica el objeto\n",
        "s.capitalize() \n",
        "\n",
        "s"
      ],
      "execution_count": null,
      "outputs": []
    },
    {
      "cell_type": "markdown",
      "metadata": {
        "id": "uBggp0pAFn1M"
      },
      "source": [
        "Los tipos de variable, por ejemplo, están vinculados no a los nombres de las variables sino a los objetos mismos. \n",
        "\n",
        "Cuando decimos que todo en Python es un objeto, realmente queremos decir que todo es un objeto, incluso los atributos y métodos de los objetos son en sí mismos objetos con su propia información de tipo"
      ]
    },
    {
      "cell_type": "code",
      "metadata": {
        "id": "arlaRfNDFph0"
      },
      "source": [
        "type(x.is_integer)"
      ],
      "execution_count": null,
      "outputs": []
    },
    {
      "cell_type": "markdown",
      "metadata": {
        "id": "izJCDVUfFq7f"
      },
      "source": [
        "Para explorar los métodos y atributos de un objeto, podemos utilizar las funciones nativas de Python `dir` y `help` (o alternativamente, si escribimos un punto `.` luego del objeto se desplegará una lista con los métodos y atributos del objeto)"
      ]
    },
    {
      "cell_type": "code",
      "metadata": {
        "id": "rYFmakPmFsTt"
      },
      "source": [
        "# accediendo a los métodos del objeto tipo string\n",
        "dir(str)"
      ],
      "execution_count": null,
      "outputs": []
    },
    {
      "cell_type": "code",
      "metadata": {
        "id": "ppu39_zaFuL-"
      },
      "source": [
        "# accediendo a los métodos del objeto tipo string\n",
        "help(str)"
      ],
      "execution_count": null,
      "outputs": []
    },
    {
      "cell_type": "code",
      "metadata": {
        "id": "i7CAJB0RFv4m"
      },
      "source": [
        "# accediendo a la documentación del método upper\n",
        "str.upper?"
      ],
      "execution_count": null,
      "outputs": []
    },
    {
      "cell_type": "markdown",
      "metadata": {
        "id": "gKUigDyyFx01"
      },
      "source": [
        "### **Las variables de Python son punteros**\n",
        "\n",
        "\n",
        "\n",
        "Como ya vimos, asignar variables en Python es tan fácil como poner un nombre de variable a la izquierda del signo igual `=`:"
      ]
    },
    {
      "cell_type": "code",
      "metadata": {
        "id": "9gojVnNDFzan"
      },
      "source": [
        "x = 2237"
      ],
      "execution_count": null,
      "outputs": []
    },
    {
      "cell_type": "markdown",
      "metadata": {
        "id": "mYMELmVsF03V"
      },
      "source": [
        "Esto puede parecer sencillo, pero si se tiene el modelo mental equivocado de lo que hace esta operación, la forma en que funciona Python puede parecer confusa.\n",
        "\n",
        "En Python las variables se consideran no como contenedores sino como *punteros*. Un puntero es un objeto que *apunta* a otro valor almacenado en otra parte de la memoria del ordenador utilizando su dirección. En pocas palabras, un puntero hace referencia a una ubicación en memoria. Por lo tanto, cuando escribimos en Python `x = 2237` se está definiendo un puntero llamado `x` que apunta a algún otro depósito de memoria que contiene el valor 2337.\n",
        "\n",
        "![](https://i.imgur.com/F3IQqwE.png)\n",
        "\n",
        "\n",
        "Como consecuencia, debido a que las variables de Python apuntan a varios *objetos*, no hay necesidad de \"declarar\" la variable o requerir que la variable siempre apunte a información del mismo tipo. Este es el sentido en el que se dice que Python es de *tipado dinámico*: los nombres de las variables pueden apuntar a objetos de cualquier tipo.\n",
        "\n",
        "Hay una consecuencia de este enfoque de \"variable como puntero\" que se debe tener en cuenta. Cada objeto en Python contiene al menos tres datos, como vimos en la figura anterior:\n",
        "\n",
        "* Tipo\n",
        "* Valor\n",
        "* Conteo de referencia\n",
        "\n",
        "Sin embargo, no todos los objetos son iguales. Hay otra distinción importante que debemos tener en cuenta: objetos inmutables vs objetos mutables.\n",
        "\n",
        "* **Objeto inmutable**: No puede ser cambiado.\n",
        "* **Objeto mutable**: Puede ser cambiado.\n",
        "\n",
        "Por ejemplo, todas las variables fundamentales que vimos son objetos inmutables. Variables compuestas como las listas o los diccionarios son objetos mutables.\n",
        "\n",
        "Veamos cómo esto afecta la declaración de variables. Definamos una variable y cambiemos su valor (Para mirar de forma explícita la dirección en memoria, podemos utilizar la función propia de Python `id` para acceder a la dirección en memoria de la variable).\n",
        "\n"
      ]
    },
    {
      "cell_type": "code",
      "metadata": {
        "id": "cNpbFSWBGUub"
      },
      "source": [
        "x = 2237\n",
        "\n",
        "# direccion en memoria\n",
        "id(x)"
      ],
      "execution_count": null,
      "outputs": []
    },
    {
      "cell_type": "code",
      "metadata": {
        "id": "CTfsKYDsGWwY"
      },
      "source": [
        "x = 2338\n",
        "\n",
        "# cambia la direccion en memoria\n",
        "id(x)"
      ],
      "execution_count": null,
      "outputs": []
    },
    {
      "cell_type": "markdown",
      "metadata": {
        "id": "oB3fwpX4GZ_U"
      },
      "source": [
        "Este diagrama ilustra que `x` apunta a una referencia de un objeto y no posee el espacio de memoria como tal. También muestra que el comando `x = 2338` no es una asignación, sino que vincula el nombre `x` a una referencia.\n",
        "\n",
        "![](https://i.imgur.com/QDXLdoa.png)\n",
        "\n",
        "\n",
        "\n",
        "Podríamos introducir un nuevo nombre `y`:\n",
        "\n"
      ]
    },
    {
      "cell_type": "code",
      "metadata": {
        "id": "v4onZq_tGdlP"
      },
      "source": [
        "y = x"
      ],
      "execution_count": null,
      "outputs": []
    },
    {
      "cell_type": "markdown",
      "metadata": {
        "id": "4yqiXL8WGfTL"
      },
      "source": [
        "En memoria tendremos un nuevo nombre, pero no necesariamente un nuevo objeto:\n",
        "\n",
        "![](https://i.imgur.com/jrPj3n9.png)\n",
        "\n",
        "Podemos verificar la igualdad de identidad de los objetos para confirmar que son iguales:\n",
        "\n",
        "\n"
      ]
    },
    {
      "cell_type": "code",
      "metadata": {
        "id": "ffY2pcdsGh2b"
      },
      "source": [
        "id(x), id(y)"
      ],
      "execution_count": null,
      "outputs": []
    },
    {
      "cell_type": "markdown",
      "metadata": {
        "id": "VFvccowZGjhM"
      },
      "source": [
        "Vemos que no se ha creado un nuevo objeto, solo un nuevo nombre que apunta al mismo objeto. \n",
        "\n",
        "Hay que tener en cuenta que `y`, siendo una variable de tipo entero, sigue siendo inmutable. Si modificamos su valor se crea un nuevo objeto:"
      ]
    },
    {
      "cell_type": "code",
      "metadata": {
        "id": "uH3rwem-Gk5j"
      },
      "source": [
        "y = y + 1\n",
        "\n",
        "# cambia la direccion a la que apunta y\n",
        "id(x), id(y)"
      ],
      "execution_count": null,
      "outputs": []
    },
    {
      "cell_type": "markdown",
      "metadata": {
        "id": "01_vdBPsGnIW"
      },
      "source": [
        "en memoria veríamos esto como: \n",
        "\n",
        "![](https://i.imgur.com/LhSikZI.png)"
      ]
    },
    {
      "cell_type": "markdown",
      "metadata": {
        "id": "99PVivqCGo_-"
      },
      "source": [
        "Hay una consecuencia de este enfoque de \"variable como puntero\" que se debe tener en cuenta. Si tenemos dos nombres de variables que apuntan al mismo objeto mutable, ¡cambiar uno también cambiará al otro! Veamos:"
      ]
    },
    {
      "cell_type": "code",
      "metadata": {
        "id": "W-pN0ZlfGnjZ",
        "colab": {
          "base_uri": "https://localhost:8080/"
        },
        "outputId": "3a00a671-e5d8-4ea0-9c18-bcf7ba6afc69"
      },
      "source": [
        "# definiendo una lista\n",
        "l1 = [1, 2 ,3]\n",
        "\n",
        "# definiendo una nueva lista\n",
        "# a partir de la lista anterior\n",
        "l2 = l1\n",
        "\n",
        "# verificando que apuntan al mismo objeto\n",
        "id(l1), id(l2)"
      ],
      "execution_count": null,
      "outputs": [
        {
          "output_type": "execute_result",
          "data": {
            "text/plain": [
              "(139807465105800, 139807465105800)"
            ]
          },
          "metadata": {
            "tags": []
          },
          "execution_count": 45
        }
      ]
    },
    {
      "cell_type": "markdown",
      "metadata": {
        "id": "BylSj0KdGxPU"
      },
      "source": [
        "Hemos creado dos variables `l1` y `l2`, ambas apuntando al mismo objeto. Debido a esto, si modificamos la lista a través de uno de sus nombres, debido a que la listas son objetos mutables, ambas se modificarán:"
      ]
    },
    {
      "cell_type": "code",
      "metadata": {
        "id": "DX1YeKFAGyyJ"
      },
      "source": [
        "# modificando l2\n",
        "l2.append(4)\n",
        "\n",
        "# se modifica l1\n",
        "l1"
      ],
      "execution_count": null,
      "outputs": []
    },
    {
      "cell_type": "markdown",
      "metadata": {
        "id": "ptq9-9ACG1ZE"
      },
      "source": [
        "Este comportamiento puede parecer confuso si se piensa erróneamente que las variables son depositos que contienen datos. Pero si se piensa correctamente en las variables como punteros a objetos, y se tiene en cuenta el concepto de mutabilidad, entonces este comportamiento tiene sentido.\n",
        "\n",
        "Tenga en cuenta también que si usamos `=` para asignar otro valor a `l1`, esto no afectará el valor de `l2`: la asignación es simplemente un cambio de a qué objeto apunta la variable:\n",
        "\n"
      ]
    },
    {
      "cell_type": "code",
      "metadata": {
        "id": "YH8XjlrkG23D",
        "colab": {
          "base_uri": "https://localhost:8080/"
        },
        "outputId": "05cb006f-6e21-4a5a-8c3c-6ed13c416cd0"
      },
      "source": [
        "# modificamos l1\n",
        "l1 = 1\n",
        "\n",
        "# no se afecta l2\n",
        "l2"
      ],
      "execution_count": null,
      "outputs": [
        {
          "output_type": "execute_result",
          "data": {
            "text/plain": [
              "[1, 2, 3, 4]"
            ]
          },
          "metadata": {
            "tags": []
          },
          "execution_count": 47
        }
      ]
    },
    {
      "cell_type": "markdown",
      "metadata": {
        "id": "9S_Qir2MG4nG"
      },
      "source": [
        "Debemos tener mucho cuidado cuando trabajemos con objetos mutables. Si quisieramos crear un nuevo objeto mutable a partir de otro, pero no queremos que estos apunten al mismo objeto (de manera que al modificar esto no afecte al otro), podemos crear el nuevo objeto como una copia del anterior, utilizando el método `copy`:"
      ]
    },
    {
      "cell_type": "code",
      "metadata": {
        "id": "wuuEKXh0G6Mj"
      },
      "source": [
        "l1 = [1, 2, 3]\n",
        "\n",
        "l2 = l1.copy()\n",
        "\n",
        "id(l1), id(l2)"
      ],
      "execution_count": null,
      "outputs": []
    },
    {
      "cell_type": "markdown",
      "metadata": {
        "id": "bzP7FihwG7_b"
      },
      "source": [
        "Note que de esta manera ahora ambas variables apuntan a objetos diferentes."
      ]
    },
    {
      "cell_type": "markdown",
      "metadata": {
        "id": "bF0EqyuLG99K"
      },
      "source": [
        "<p><a name=\"ope\"></a></p>\n",
        "\n",
        "# **Operadores**\n",
        "\n",
        "En la sección anterior, comenzamos a observar la semántica de las variables y objetos de Python; aquí profundizaremos en la semántica de los distintos operadores incluidos en el lenguaje\n",
        "\n"
      ]
    },
    {
      "cell_type": "markdown",
      "metadata": {
        "id": "bGeIqs4pHAAq"
      },
      "source": [
        "<p><a name=\"opa\"></a></p>\n",
        "\n",
        "### **Operadores aritméticos**\n",
        "\n",
        "\n",
        "Python implementa siete operadores aritméticos binarios básicos, dos de los cuales (+ y -) pueden funcionar como operadores unarios\n",
        "\n"
      ]
    },
    {
      "cell_type": "code",
      "metadata": {
        "id": "pVJrorxYHAa4"
      },
      "source": [
        "a + b   # suma\n",
        "a - b   # resta\n",
        "a * b   # multiplicacion\n",
        "a / b   # division\n",
        "a // b  # division entera\n",
        "a % b   # modulo\n",
        "a ** b  # exponenciacion\n",
        "-a      # unario negativo (negacion)\n",
        "+a      # unario positivo (sin cambio)"
      ],
      "execution_count": null,
      "outputs": []
    },
    {
      "cell_type": "markdown",
      "metadata": {
        "id": "VkYHEsHVHC1J"
      },
      "source": [
        "Estos operadores se pueden usar y combinar de manera intuitiva, usando paréntesis estándar para agrupar operaciones:"
      ]
    },
    {
      "cell_type": "code",
      "metadata": {
        "id": "FSdqn8qxHEco",
        "colab": {
          "base_uri": "https://localhost:8080/"
        },
        "outputId": "e55c4c96-3eca-412e-dd5d-e7b46f30d395"
      },
      "source": [
        "# adición, sustracción y multiplicación\n",
        "(4 + 8) * (6.5 - 3)"
      ],
      "execution_count": null,
      "outputs": [
        {
          "output_type": "execute_result",
          "data": {
            "text/plain": [
              "42.0"
            ]
          },
          "metadata": {
            "tags": []
          },
          "execution_count": 50
        }
      ]
    },
    {
      "cell_type": "code",
      "metadata": {
        "id": "IKGATWq8HGXk",
        "colab": {
          "base_uri": "https://localhost:8080/"
        },
        "outputId": "f43ce03e-0fe3-427a-e60c-cbe2ee657c6d"
      },
      "source": [
        "# división\n",
        "11/2"
      ],
      "execution_count": null,
      "outputs": [
        {
          "output_type": "execute_result",
          "data": {
            "text/plain": [
              "5.5"
            ]
          },
          "metadata": {
            "tags": []
          },
          "execution_count": 51
        }
      ]
    },
    {
      "cell_type": "code",
      "metadata": {
        "id": "MS1ryaKfHGvj",
        "colab": {
          "base_uri": "https://localhost:8080/"
        },
        "outputId": "928b92ed-ba8d-49a0-c374-6147fd6f4f7c"
      },
      "source": [
        "# división entera\n",
        "print(11//2)"
      ],
      "execution_count": null,
      "outputs": [
        {
          "output_type": "stream",
          "text": [
            "5\n"
          ],
          "name": "stdout"
        }
      ]
    },
    {
      "cell_type": "markdown",
      "metadata": {
        "id": "fqn17J4LHJLw"
      },
      "source": [
        "Hemos visto que las variables se pueden asignar con el operador `=`. Por ejemplo:"
      ]
    },
    {
      "cell_type": "code",
      "metadata": {
        "id": "8cBpehJLHKgE"
      },
      "source": [
        "x = 2"
      ],
      "execution_count": null,
      "outputs": []
    },
    {
      "cell_type": "markdown",
      "metadata": {
        "id": "6wx4S7ayHL3C"
      },
      "source": [
        "Podemos usar estas variables en expresiones con cualquiera de los operadores mencionados anteriormente. Por ejemplo, para agregar 2 a `x` escribimos:"
      ]
    },
    {
      "cell_type": "code",
      "metadata": {
        "id": "sN-1_YxYHNWk"
      },
      "source": [
        "x + 2 "
      ],
      "execution_count": null,
      "outputs": []
    },
    {
      "cell_type": "markdown",
      "metadata": {
        "id": "ZJtH4Gc7HPCK"
      },
      "source": [
        "Es posible que queramos actualizar la variable `x` con este nuevo valor. En este caso, podríamos combinar la suma y la asignación y escribir"
      ]
    },
    {
      "cell_type": "code",
      "metadata": {
        "id": "ujaFY0grLEiR"
      },
      "source": [
        "x = x + 2"
      ],
      "execution_count": null,
      "outputs": []
    },
    {
      "cell_type": "markdown",
      "metadata": {
        "id": "PcTcF8lqLJ0g"
      },
      "source": [
        "Debido a que este tipo de operación y asignación combinadas es tan común, Python incluye operadores de actualización integrados para todas las operaciones aritméticas:"
      ]
    },
    {
      "cell_type": "code",
      "metadata": {
        "id": "jvrBxS_dHQdi"
      },
      "source": [
        "x += 2 #equivalente a x = x + 2\n",
        "x"
      ],
      "execution_count": null,
      "outputs": []
    },
    {
      "cell_type": "markdown",
      "metadata": {
        "id": "iJqZWJAJHWE5"
      },
      "source": [
        "Este tipo de abreviaciones funcionan con las siguientes operaciones: \n",
        "\n",
        "`+= -= /=`"
      ]
    },
    {
      "cell_type": "markdown",
      "metadata": {
        "id": "T18iVTKxHXyr"
      },
      "source": [
        "<p><a name=\"opc\"></a></p>\n",
        "\n",
        "### **Operadores de comparación**\n",
        "\n",
        "Otro tipo de operación que puede ser muy útil es la comparación de diferentes valores. Para esto, Python implementa operadores de comparación estándar, que devuelven valores booleanos `True` y `False`.\n",
        "\n"
      ]
    },
    {
      "cell_type": "code",
      "metadata": {
        "id": "Hpq4Qqf8HZS9"
      },
      "source": [
        "a == b    #a igual a b\n",
        "a != b    #a no igual a b\n",
        "a < b     #a menor a b\n",
        "a > b     #a mayor a b\n",
        "a <= b    #a menor igual a b\n",
        "a >= b    #a mayor igual a b"
      ],
      "execution_count": null,
      "outputs": []
    },
    {
      "cell_type": "markdown",
      "metadata": {
        "id": "HSSzg-j_Hanh"
      },
      "source": [
        "Estos operadores de comparación se pueden combinar con los operadores aritméticos para expresar un rango prácticamente ilimitado de pruebas para los números"
      ]
    },
    {
      "cell_type": "code",
      "metadata": {
        "id": "oqAWdhM2Hb_U"
      },
      "source": [
        "# 25 es impar?\n",
        "25 % 2 == 1"
      ],
      "execution_count": null,
      "outputs": []
    },
    {
      "cell_type": "code",
      "metadata": {
        "id": "TYfbhdu5Hdb7"
      },
      "source": [
        "# 66 es impar?\n",
        "66 % 2 == 1"
      ],
      "execution_count": null,
      "outputs": []
    },
    {
      "cell_type": "markdown",
      "metadata": {
        "id": "HQiCIiQ6HfVM"
      },
      "source": [
        "Podemos unir varias comparaciones para verificar relaciones más complicadas:\n"
      ]
    },
    {
      "cell_type": "code",
      "metadata": {
        "id": "KcMcb8vKHgh9"
      },
      "source": [
        "# verificar si a esta entre 15 y 30\n",
        "a = 20\n",
        "15 < a < 30"
      ],
      "execution_count": null,
      "outputs": []
    },
    {
      "cell_type": "markdown",
      "metadata": {
        "id": "xP0TaQAMHiIB"
      },
      "source": [
        "<p><a name=\"opb\"></a></p>\n",
        "\n",
        "### **Operaciones booleanas**\n",
        "\n",
        "Al trabajar con valores booleanos, Python proporciona operadores para combinar los valores utilizando los conceptos estándar de \"and\", \"or\" y \"not\". Como es de esperarse, estos operadores se expresan usando las palabras `and`, `or`, y `not`:\n",
        "\n",
        "`and`: Este operador da como resultado True si y sólo si sus dos operandos son True:"
      ]
    },
    {
      "cell_type": "code",
      "metadata": {
        "id": "RoyaWgZjHj5W"
      },
      "source": [
        "True and True"
      ],
      "execution_count": null,
      "outputs": []
    },
    {
      "cell_type": "markdown",
      "metadata": {
        "id": "UQnAQgzaHlRq"
      },
      "source": [
        "`or`: Este operador da como resultado True si algún operando es True:"
      ]
    },
    {
      "cell_type": "code",
      "metadata": {
        "id": "GqSflPxwHmrl"
      },
      "source": [
        "True or False"
      ],
      "execution_count": null,
      "outputs": []
    },
    {
      "cell_type": "markdown",
      "metadata": {
        "id": "YyrHeM-qHoLb"
      },
      "source": [
        "`not`: Este operador da como resultado True si y sólo si su argumento es False:"
      ]
    },
    {
      "cell_type": "code",
      "metadata": {
        "id": "Ch-CGJfAHpgF"
      },
      "source": [
        "not True"
      ],
      "execution_count": null,
      "outputs": []
    },
    {
      "cell_type": "code",
      "metadata": {
        "id": "-3pXK157HrOY"
      },
      "source": [
        "not False"
      ],
      "execution_count": null,
      "outputs": []
    },
    {
      "cell_type": "markdown",
      "metadata": {
        "id": "1bomoSq5Hs5L"
      },
      "source": [
        "algunos ejemplos:"
      ]
    },
    {
      "cell_type": "code",
      "metadata": {
        "id": "-c_j7IO0HuNI"
      },
      "source": [
        "x = 4\n",
        "\n",
        "x < 6 and x >2"
      ],
      "execution_count": null,
      "outputs": []
    },
    {
      "cell_type": "code",
      "metadata": {
        "id": "dvtSfrAUHv_S"
      },
      "source": [
        "x > 10 or x % 2 == 0"
      ],
      "execution_count": null,
      "outputs": []
    },
    {
      "cell_type": "code",
      "metadata": {
        "id": "meEQky-sHxaB"
      },
      "source": [
        "not x < 6"
      ],
      "execution_count": null,
      "outputs": []
    },
    {
      "cell_type": "markdown",
      "metadata": {
        "id": "GE1AqgUjHzCv"
      },
      "source": [
        "El operador XOR no está incluido, pero podemos utilizarlo de la siguiente manera"
      ]
    },
    {
      "cell_type": "code",
      "metadata": {
        "id": "12uNoeGEH0tE"
      },
      "source": [
        "# x < 1 XOR x < 10\n",
        "(x > 1) != (x < 10)"
      ],
      "execution_count": null,
      "outputs": []
    },
    {
      "cell_type": "markdown",
      "metadata": {
        "id": "Nj9ELjtKH2aH"
      },
      "source": [
        "Este tipo de operaciones booleanas se volverán extremadamente útiles cuando comencemos a discutir las declaraciones de flujo de control, como los condicionales y los ciclos."
      ]
    },
    {
      "cell_type": "markdown",
      "metadata": {
        "id": "SB3dtKDIH4Af"
      },
      "source": [
        "<p><a name=\"opm\"></a></p>\n",
        "\n",
        "###  **Operadores de identidad y membresía**\n",
        "\n",
        "Python también contiene operadores para verificar *identidad* y *membresía*."
      ]
    },
    {
      "cell_type": "code",
      "metadata": {
        "id": "53u9qbEdH5n_"
      },
      "source": [
        "a is b      # a es b\n",
        "a is not b  # a no es en b\n",
        "a in b      # a está en b\n",
        "a not in b  # a no está en b"
      ],
      "execution_count": null,
      "outputs": []
    },
    {
      "cell_type": "markdown",
      "metadata": {
        "id": "MjUt5HjSH7L3"
      },
      "source": [
        "Los operadores de identidad, `is` e `is not`, verifican la identidad del objeto. La identidad del objeto es diferente a la igualdad, como podemos ver aquí:"
      ]
    },
    {
      "cell_type": "code",
      "metadata": {
        "id": "yxX51Tq2H8cB"
      },
      "source": [
        "a = [1, 2, 3]\n",
        "b = [1, 2 ,3]"
      ],
      "execution_count": null,
      "outputs": []
    },
    {
      "cell_type": "code",
      "metadata": {
        "id": "MChgFLB1H9sJ"
      },
      "source": [
        "# evaluando la igualdad de las variables\n",
        "# a nivel de valor\n",
        "a == b"
      ],
      "execution_count": null,
      "outputs": []
    },
    {
      "cell_type": "code",
      "metadata": {
        "id": "PA5JNC0VH_PM"
      },
      "source": [
        "# evaluando la igualdad de las variables\n",
        "# a nivel de direccion en memoria\n",
        "a is b"
      ],
      "execution_count": null,
      "outputs": []
    },
    {
      "cell_type": "code",
      "metadata": {
        "id": "XXRGN0q3IA65"
      },
      "source": [
        "# negacion de la sentencia anterior\n",
        "a is not b"
      ],
      "execution_count": null,
      "outputs": []
    },
    {
      "cell_type": "markdown",
      "metadata": {
        "id": "TPyT6ou4IGIQ"
      },
      "source": [
        "Los operadores de membresía `in` y `not in` verifican la membresía dentro de los objetos compuestos. Entonces, por ejemplo, podemos escribir:"
      ]
    },
    {
      "cell_type": "code",
      "metadata": {
        "id": "yN4KZ2VEIHbP"
      },
      "source": [
        "# ¿esta 1 en la lista?\n",
        "1 in [1, 2 , 3]"
      ],
      "execution_count": null,
      "outputs": []
    },
    {
      "cell_type": "code",
      "metadata": {
        "id": "3wg5j0hfIIz5"
      },
      "source": [
        "# ¿no esta 2 en la lista?\n",
        "2 not in [1, 2, 3]"
      ],
      "execution_count": null,
      "outputs": []
    },
    {
      "cell_type": "code",
      "metadata": {
        "id": "ky1x1WoMIKQr"
      },
      "source": [
        "# ¿esta l en el string laura?\n",
        "\"l\" in \"laura\""
      ],
      "execution_count": null,
      "outputs": []
    },
    {
      "cell_type": "code",
      "metadata": {
        "id": "TDrJ65q0IL2p"
      },
      "source": [
        "# ¿no esta b en el string laura?\n",
        "\"b\" not in \"laura\""
      ],
      "execution_count": null,
      "outputs": []
    },
    {
      "cell_type": "markdown",
      "metadata": {
        "id": "jXWggk3j64j-"
      },
      "source": [
        "<p><a name=\"io\"></a></p>\n",
        "\n",
        "# **Entrada y salida**\n",
        "\n",
        "## **Entrada: `input`**\n",
        "\n",
        "Para tomar datos por parte de un usuario externo hacemos uso de la función propia de Python `input`, que opcionalmente toma un string como argumento"
      ]
    },
    {
      "cell_type": "code",
      "metadata": {
        "id": "XdAOXeaC66Ou"
      },
      "source": [
        "n = input(\"Dame un número entero\\n\")"
      ],
      "execution_count": null,
      "outputs": []
    },
    {
      "cell_type": "markdown",
      "metadata": {
        "id": "N84iCgo567i7"
      },
      "source": [
        "Note que esta función siempre devuelve una variable de tipo `str`"
      ]
    },
    {
      "cell_type": "code",
      "metadata": {
        "id": "G2-ZiZZs671Q"
      },
      "source": [
        "type(n)"
      ],
      "execution_count": null,
      "outputs": []
    },
    {
      "cell_type": "markdown",
      "metadata": {
        "id": "Dys7OB4r6-NS"
      },
      "source": [
        "Para transformar la variable al tipo indicado podemos utilizar las funciones de transformación que ya vimos. Por ejemplo, en este caso, queremos que la variable sea de tipo `int`, por lo que podemos escribir:"
      ]
    },
    {
      "cell_type": "code",
      "metadata": {
        "id": "1byAyVn26_cD"
      },
      "source": [
        "n = int(input(\"Dame un número entero\\n\"))\n",
        "type(n)"
      ],
      "execution_count": null,
      "outputs": []
    },
    {
      "cell_type": "markdown",
      "metadata": {
        "id": "_BzMcnfr7A_l"
      },
      "source": [
        "## **Salida**\n",
        "\n",
        "Para mostrar algo en pantalla podemos utilizar la función propia de Python `print`, que toma como argumento la(s) variable(s) que queramos mostrar. Podemos separar cada variable por una coma, como se muestra a continuación:"
      ]
    },
    {
      "cell_type": "code",
      "metadata": {
        "id": "TdX6RWQd7CX5"
      },
      "source": [
        "print(\"El número entero es\", n, \"y su cuadrado es\", n**2)"
      ],
      "execution_count": null,
      "outputs": []
    },
    {
      "cell_type": "markdown",
      "metadata": {
        "id": "3gqdsZZZ7D_R"
      },
      "source": [
        "Antes de Python 3.6, teníamos dos formas de incrustar expresiones de Python dentro de literales de cadena con formato: `formateo con %` y `str.format()`. \n",
        "\n",
        "**Cadenas *f***\n",
        "\n",
        "Las cadenas *f* (o *f-strings* en inglés) son literales de cadena que tienen una `f` al principio y llaves que contienen expresiones que serán reemplazadas por sus valores. La sintáxis es la siguiente\n",
        "\n",
        "`f\"...{var}...\"`\n",
        "\n",
        "Donde `var` es la variable que queremos referenciar. De esta forma, podemos referenciar las variables dentro de la cadena directamente"
      ]
    },
    {
      "cell_type": "code",
      "metadata": {
        "id": "AiFDNnhZ7dAz"
      },
      "source": [
        "nombre = \"Camilo\"\n",
        "edad = 20\n",
        "\n",
        "f\"Te llamas {nombre} y tienes {edad} años\""
      ],
      "execution_count": null,
      "outputs": []
    },
    {
      "cell_type": "markdown",
      "metadata": {
        "id": "l8-VOZA57fbd"
      },
      "source": [
        "La precisión se indica de la siguiente manera:"
      ]
    },
    {
      "cell_type": "code",
      "metadata": {
        "id": "JR59IWpF7ebM"
      },
      "source": [
        "pi = 3.14159\n",
        "\n",
        "print(f\"Imprimiendo pi con dos cifras de precisión: {pi:.2f}\")\n",
        "print(f\"Imprimiendo pi con cuatro cifras de precisión: {pi:.4f}\")"
      ],
      "execution_count": null,
      "outputs": []
    },
    {
      "cell_type": "markdown",
      "metadata": {
        "id": "LDoNHKxO7irC"
      },
      "source": [
        "Podemos realizar cualquier tipo de operación válida sobre las variables. Por ejemplo:"
      ]
    },
    {
      "cell_type": "code",
      "metadata": {
        "id": "X_SBsblV7kGg"
      },
      "source": [
        "n = 2\n",
        "\n",
        "f\"El número entero es {n} y su cuadrado es {n**2}\""
      ],
      "execution_count": null,
      "outputs": []
    },
    {
      "cell_type": "code",
      "metadata": {
        "id": "X9Odjmeg7lal"
      },
      "source": [
        "nombre = \"Camilo\"\n",
        "\n",
        "f\"Tu nombre es {nombre.upper()}\""
      ],
      "execution_count": null,
      "outputs": []
    },
    {
      "cell_type": "markdown",
      "metadata": {
        "id": "DxiyeUv_7m_z"
      },
      "source": [
        "Este será el tipo de formateo de cadenas que utilizaremos de ahora en adelante debido a su facilidad de uso y eficiencia."
      ]
    },
    {
      "cell_type": "markdown",
      "metadata": {
        "id": "ppAdUqmr7pkZ"
      },
      "source": [
        "**Ejercicio 1:** Cree un programa que le pida al usuario que ingrese su nombre, edad y año actual. Imprima un mensaje en pantalla en el que le diga el año en que cumplirá 100 años."
      ]
    },
    {
      "cell_type": "code",
      "metadata": {
        "id": "1qnIG-rMMzO_",
        "colab": {
          "base_uri": "https://localhost:8080/"
        },
        "outputId": "9ee7ece9-d8cb-4e1b-cb7d-21d2911fa395"
      },
      "source": [
        "import time \n",
        "\n",
        "nombre = input(\"Ingrese su nombre: \")\n",
        "edad = int(input(\"Ingrese su edad: \"))\n",
        "año_actual = int(input(\"Ingrese el año actual:\"))\n",
        "\n",
        "print(f\"Su nombre es {nombre.capitalize()}, su edad actual es {edad} y en el año {(100-edad) + año_actual} cumplirá 100 años\")"
      ],
      "execution_count": null,
      "outputs": [
        {
          "output_type": "stream",
          "text": [
            "Ingrese su nombre: aa\n",
            "Ingrese su edad: 99\n",
            "Ingrese el año actual:2021\n",
            "Su nombre es Aa, su edad actual es 99 y en el año 2022 cumplirá 100 años\n"
          ],
          "name": "stdout"
        }
      ]
    },
    {
      "cell_type": "code",
      "metadata": {
        "id": "qMG3560DFgke"
      },
      "source": [
        "import datetime \n",
        "\n",
        "año_actual = float(x.strftime(\"%Y\"))"
      ],
      "execution_count": null,
      "outputs": []
    },
    {
      "cell_type": "code",
      "metadata": {
        "colab": {
          "base_uri": "https://localhost:8080/"
        },
        "id": "ytGCxRBvGYxz",
        "outputId": "1a8ae33e-002f-444e-e6d8-fd3a81633acd"
      },
      "source": [
        "python nombre.py \"daniel\" 99 2021"
      ],
      "execution_count": null,
      "outputs": [
        {
          "output_type": "execute_result",
          "data": {
            "text/plain": [
              "2022"
            ]
          },
          "metadata": {
            "tags": []
          },
          "execution_count": 33
        }
      ]
    },
    {
      "cell_type": "code",
      "metadata": {
        "id": "T9_wfY_-Iv6V"
      },
      "source": [
        ""
      ],
      "execution_count": null,
      "outputs": []
    }
  ]
}