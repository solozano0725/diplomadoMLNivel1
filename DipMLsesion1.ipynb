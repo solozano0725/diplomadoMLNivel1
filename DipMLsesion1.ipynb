{
  "nbformat": 4,
  "nbformat_minor": 0,
  "metadata": {
    "colab": {
      "name": "DipMLsesion1.ipynb",
      "provenance": [],
      "collapsed_sections": [
        "kIX2w3aGFeQo",
        "gKUigDyyFx01",
        "bGeIqs4pHAAq",
        "T18iVTKxHXyr",
        "xP0TaQAMHiIB",
        "SB3dtKDIH4Af"
      ],
      "include_colab_link": true
    },
    "kernelspec": {
      "name": "python3",
      "display_name": "Python 3"
    }
  },
  "cells": [
    {
      "cell_type": "markdown",
      "metadata": {
        "id": "view-in-github",
        "colab_type": "text"
      },
      "source": [
        "<a href=\"https://colab.research.google.com/github/solozano0725/diplomadoMLNivel1/blob/main/DipMLsesion1.ipynb\" target=\"_parent\"><img src=\"https://colab.research.google.com/assets/colab-badge.svg\" alt=\"Open In Colab\"/></a>"
      ]
    },
    {
      "cell_type": "markdown",
      "metadata": {
        "id": "gFlUMfVbkj4s"
      },
      "source": [
        "<p><img alt=\"Colaboratory logo\" height=\"140px\" src=\"https://upload.wikimedia.org/wikipedia/commons/archive/f/fb/20161010213812%21Escudo-UdeA.svg\" align=\"left\" hspace=\"10px\" vspace=\"0px\"></p>\n",
        "\n",
        "# **Diplomado de Análisis de datos y Machine Learning en Python**\n",
        "\n",
        "\n",
        "El presente diplomado hace parte del centro de Big Data de la facultad de ciencias exactas y naturales (FCEN) de la Universidad de Antioquia.\n",
        "\n",
        "\n",
        "\n",
        "\n",
        "\n"
      ]
    },
    {
      "cell_type": "markdown",
      "metadata": {
        "id": "mcfbA7nqe8pZ"
      },
      "source": [
        "# **Contenido**\n",
        "\n",
        "1. **Python**\n",
        "  * Sintáxis y semántica\n",
        "  * Variables y operadores\n",
        "  * Estructuras de control de flujo\n",
        "  * Ciclos, iteraciones e interrupciones de flujo\n",
        "  * Estructuras de datos: Listas, tuplas y diccionarios\n",
        "  * Funciones\n",
        "2. **Análisis de datos**\n",
        "  * Numpy\n",
        "  * Matplotlib\n",
        "  * Pandas\n",
        "  * Seaborn\n",
        "3. **Machine Learning**\n",
        "  * Aprendizaje supervisado: Regresión y clasificación.\n",
        "  * Aprendizaje no supervisado: Reducción de dimensionalidad y Clustering.\n",
        "\n"
      ]
    },
    {
      "cell_type": "markdown",
      "metadata": {
        "id": "2bIdMILshAap"
      },
      "source": [
        "## **Sesión 1**\n",
        "\n",
        "## **Contenido**\n",
        "\n",
        "- <a href=\"#ml\"> Introducción al Machine Learning</a><br>\n",
        "- <a href=\"#pyt\"> Introducción a Python</a><br>\n",
        "  - <a href=\"#sin\"> Sintáxis de Python</a><br>\n"
      ]
    },
    {
      "cell_type": "markdown",
      "metadata": {
        "id": "kYSiWJy7NnYT"
      },
      "source": [
        "<p><a name=\"ml\"></a></p>\n",
        "\n",
        "# **Introducción al Machine Learning (ML)**\n",
        "\n",
        "El ML es un enfoque computacional para la resolución de problemas en el cual se estudian algoritmos que *aprenden* a partir de ejemplos y la experiencia.\n",
        "\n",
        "\n",
        "\n",
        "\n",
        "\n",
        "\n",
        "\n"
      ]
    },
    {
      "cell_type": "markdown",
      "metadata": {
        "id": "d8vQu5xRmJbQ"
      },
      "source": [
        "<p><img alt=\"Colaboratory logo\" height=\"500px\" src=\"https://miro.medium.com/max/2000/1*hEB2c8gKxgjJtDBU_yrdPA.png\" align=\"left\" hspace=\"10px\" vspace=\"0px\"></p>\n",
        "\n"
      ]
    },
    {
      "cell_type": "markdown",
      "metadata": {
        "id": "5oi-S1lTVSTb"
      },
      "source": [
        "Tenemos una solución con ML cuando:\n",
        "\n",
        "## *El rendimiento de un programa $P$ en una tarea $T$, medida por $M$, mejora con acceso a la experiencia $E$*"
      ]
    },
    {
      "cell_type": "markdown",
      "metadata": {
        "id": "zFuvm8YujL7Z"
      },
      "source": [
        "Para entender esto de mejor manera, veamos un ejemplo particular: ¿Cómo clasificar naranjas y manzanas?"
      ]
    },
    {
      "cell_type": "markdown",
      "metadata": {
        "id": "ru4v8I6rpiHL"
      },
      "source": [
        "![](https://ccnb.com.au/wp-content/uploads/2018/07/CCNB-Home-Care-Package-Comparison-2.jpg)"
      ]
    },
    {
      "cell_type": "markdown",
      "metadata": {
        "id": "11y43D6HqEp_"
      },
      "source": [
        "## **Enfoque clásico**\n",
        "\n",
        "El enfoque \"clásico\" para resolver este problema es escribir un programa computacional $P$ que codifique nuestro conocimiento de lo que es una manzana y una naranja.\n",
        "\n",
        "\n",
        "\n",
        "\n",
        "\n"
      ]
    },
    {
      "cell_type": "markdown",
      "metadata": {
        "id": "mVI8iBbcrIRE"
      },
      "source": [
        "<p><img alt=\"Colaboratory logo\" height=\"90px\" src=\"https://i.imgur.com/WkL1I62.png\" align=\"left\" hspace=\"10px\" vspace=\"0px\"></p>"
      ]
    },
    {
      "cell_type": "markdown",
      "metadata": {
        "id": "CL053VBirGwv"
      },
      "source": [
        "En este escenario, tendríamos que escribir un código particular para tener en cuenta cada una de las particularidades que puedan aparecer, por lo que tendríamos que escribir una gran cantidad de reglas para identificar manzanas y naranjas. Además, este sería un programa muy particular: si quisieramos clasificar otro tipo de elementos tendríamos que escribir otro programa totalmente diferente. \n",
        "\n",
        "Por esto, este no es un buen enfoque para la resolución del problema. Incluso existen problemas para los cuales encontrar unas reglas claras es una tarea casi imposible.\n",
        "\n",
        "\n",
        "\n",
        "\n"
      ]
    },
    {
      "cell_type": "markdown",
      "metadata": {
        "id": "sDQ5bL_COigL"
      },
      "source": [
        "## **Enfoque desde el ML**\n",
        "\n",
        "El ML surge de esta pregunta: ¿Podría una computadora ir más allá de \"lo que le ordenamos que realize\" y aprender por sí misma cómo realizar una tarea específica?\n",
        "\n",
        "Lo ideal sería poder construir un algoritmo que sea capaz de encontrar las reglas o el programa $P$ por nosotros sin necesidad de tener que escribirlo directamente. Este es precisamente el enfoque desde el ML, por lo que el ML es una forma en que las computadoras aprenden a realizar tareas para las que no fueron programadas explícitamente. \n",
        "\n",
        "Veamos el enfoque desde el ML al problema de clasificación que planteamos. ¿Cómo podríamos escribir un código para un programa $P$ utilizando ML?\n",
        "\n",
        "Lo primero y principal es obtener una fuente de experiencia $E$ de la cuál podamos aprender a distinguir entre manzanas y naranjas. \n",
        "\n",
        "Ahora, en lugar de escribir directamente el código para el programa $P$ que clasifique las frutas, lo que en realidad escribimos es un meta-programa, en este caso un clasificador, que llamaremos $Q$, que por sí mismo da lugar al programa $P$ usando la fuente de experiencia $E$.\n",
        "\n",
        "En el argot del ML, el programa $P$ se conoce como un \"modelo\".\n",
        "\n"
      ]
    },
    {
      "cell_type": "markdown",
      "metadata": {
        "id": "ROqDunNjuBqY"
      },
      "source": [
        "<p><img alt=\"Colaboratory logo\" height=\"85px\" src=\"https://i.imgur.com/P6Or073.png\" align=\"left\" hspace=\"10px\" vspace=\"0px\"></p>\n",
        "\n"
      ]
    },
    {
      "cell_type": "markdown",
      "metadata": {
        "id": "HJdghMiFOvQ-"
      },
      "source": [
        "Con $Q$ predefinimos un \"molde\" o \"plantilla\" a partir de la cual obtendremos $P$. Esta plantilla nos puede servir para resolver tareas similares, sin necesidad de empezar de cero. Lo único que necesitaremos, para realizar otra tarea similar, es una fuente de experiencia.\n",
        "\n",
        "Ahora, la pregunta es ¿cómo saber que encontramos el mejor programa $P$? Aquí entra en juego la métrica de rendimiento $M$. \n",
        "\n",
        "Básicamente, el mejor programa P es aquel que, por ejemplo, acierte el mayor número de veces la predicción de una fruta. Suponiendo que esta será nuestra métrica, una primera opción sería utilizar $Q$ para encontrar todas las posibles realizaciones de $P$, pero esto podría tomar muchísimo tiempo.\n",
        "\n",
        "Una mejor opción es diseñar $Q$ de tal manera que esté parametrizado por unas variables $w_1, w_2 , ..., w_n$ cuyos valores diferencien un $P$ de otro\n",
        "\n",
        "$$Q = Q(w_1, w_2 , ..., w_n)$$\n",
        "\n",
        "y partir de los cuales podamos encontrar el $P$ óptimo mediante la optimización de estos a partir de la métrica $M$, dada la experiencia $E$. Este proceso se conoce, en el argot del ML, como \"entrenamiento del modelo\".\n",
        "\n",
        "\n",
        "\n",
        "\n",
        "\n",
        "\n"
      ]
    },
    {
      "cell_type": "markdown",
      "metadata": {
        "id": "8xJnqhsovrAD"
      },
      "source": [
        "En conclusión:\n",
        "\n",
        "* El ML es un enfoque computacional para la resolución de problemas con cuatro ingredientes principales:\n",
        "\n",
        "  * Una tarea a resolver $T$\n",
        "  * Una fuente de experiencia $E$\n",
        "  * Un programa computacional $P$\n",
        "  * Una métrica de rendimiento $M$\n",
        "\n",
        "* Nuestro propósito es encontrar el programa $P$ óptimo para resolver la tarea $T$, optimizando una métrica $M$ con el uso de alguna experiencia $E$.\n",
        "\n",
        "* En lugar de escribir directamente un programa $P$ para resolver la tarea $T$, escribimos un programa de \"entrenamiento\" $Q$ que, cuando se ejecuta con la experiencia adecuada $E$, encuentra el mejor programa $P$ (según alguna métrica $M$).\n",
        "\n",
        "* En el lenguaje del ML, el programa $P$ se conoce como un \"modelo\" o, alternativamente, como una \"hipótesis\".\n",
        "\n",
        "* $Q$ es cualquiera de los muchos algoritmos de Machine Learning: árboles de decisión, redes neuronales, máquinas de soporte vectorial, etc...\n",
        "\n",
        "\n",
        "\n",
        "\n",
        "\n",
        "\n"
      ]
    },
    {
      "cell_type": "markdown",
      "metadata": {
        "id": "7BRfuAnUz8L3"
      },
      "source": [
        "El reciente interés por el ML se da básicamente por los siguientes tres puntos: \n",
        "\n",
        "* Reciente progreso en el desarrollo de algoritmos\n",
        "* Disponibilidad actual de datos\n",
        "* Poder computacional actual\n",
        "\n"
      ]
    },
    {
      "cell_type": "markdown",
      "metadata": {
        "id": "4I3Ue3lXNzeI"
      },
      "source": [
        "### **Tipos de sistemas en Machine Learning**\n",
        "\n",
        "Los sistemas de machine learning los clasificaremos de acuerdo a la relación que se establezca entre los datos de entrada y salida y la naturaleza continua o discreta de los datos\n",
        "\n",
        "\n",
        "\n"
      ]
    },
    {
      "cell_type": "markdown",
      "metadata": {
        "id": "e_rR0sVuJKnN"
      },
      "source": [
        "![](https://miro.medium.com/max/700/0*F23wacf0xFsV4I40.jpg)"
      ]
    },
    {
      "cell_type": "markdown",
      "metadata": {
        "id": "ORLjxUPm5j40"
      },
      "source": [
        "### **Aprendizaje supervisado**\n",
        "Los datos de entrada con los que alimentamos el algoritmo incluyen las soluciones deseadas, conocidas como **etiquetas**. Dos tareas típicas son clasificación y regresión.\n"
      ]
    },
    {
      "cell_type": "markdown",
      "metadata": {
        "id": "Fgbbfk4K5vju"
      },
      "source": [
        "**Clasificación**: Prediciendo etiquetas discretas.\n",
        "\n",
        "\n",
        "\n",
        "\n",
        "\n",
        "\n"
      ]
    },
    {
      "cell_type": "markdown",
      "metadata": {
        "id": "fIQGZvLp9mW5"
      },
      "source": [
        "![picture](https://i.imgur.com/TgO990q.png)\n",
        "\n"
      ]
    },
    {
      "cell_type": "markdown",
      "metadata": {
        "id": "-G3BJkVaaQi1"
      },
      "source": [
        "![](https://i.imgur.com/eENCZAt.png)"
      ]
    },
    {
      "cell_type": "markdown",
      "metadata": {
        "id": "T46pk9BpnUpa"
      },
      "source": [
        "Para este problema en particular, nuestro objetivo es crear un algoritmo que dibuje una línea entre los dos grupos etiquetados, que conocemos como *frontera de decisión*.\n"
      ]
    },
    {
      "cell_type": "markdown",
      "metadata": {
        "id": "n4e34XSq9oW4"
      },
      "source": [
        "![picture](https://i.imgur.com/AQ679Kv.png)"
      ]
    },
    {
      "cell_type": "markdown",
      "metadata": {
        "id": "nO7Qj9vaBPVO"
      },
      "source": [
        "En resumen: Tomamos algunos datos de entrenamiento, ejecutamos un algoritmo de ML que traza una frontera de decisión en los datos y luego extrapolamos lo que hemos aprendido a datos completamente nuevos para realizar predicciones."
      ]
    },
    {
      "cell_type": "markdown",
      "metadata": {
        "id": "RvK7VsXW6_fZ"
      },
      "source": [
        "**Regresión**: Prediciendo etiquetas continuas"
      ]
    },
    {
      "cell_type": "markdown",
      "metadata": {
        "id": "9ulpbXNmBsnh"
      },
      "source": [
        "Digamos que tenemos algunos datos de entrenamiento etiquetados. En particular, digamos que tenemos el precio de varias casas y su tamaña en metros cuadrados."
      ]
    },
    {
      "cell_type": "markdown",
      "metadata": {
        "id": "gP5rhQbt90y4"
      },
      "source": [
        "![](https://i.imgur.com/C33mAub.png)"
      ]
    },
    {
      "cell_type": "markdown",
      "metadata": {
        "id": "ke5QHirABvFk"
      },
      "source": [
        "Una representación gráfica de estos datos podría ser de esta manera:\n"
      ]
    },
    {
      "cell_type": "markdown",
      "metadata": {
        "id": "c2pjRuwcd1rq"
      },
      "source": [
        "![](https://i.imgur.com/czfyQCV.png)"
      ]
    },
    {
      "cell_type": "markdown",
      "metadata": {
        "id": "N4gAQt_jqM98"
      },
      "source": [
        "Cada uno de los puntos representa una casa diferente con algún precio y algun tamaño. Queremos que nuestro algoritmo prediga el precio de una casa en función de su tamaño. En este caso, nuestro algoritmo traza una línea a través del grupo de datos lo más cerca posible de cada punto de datos. Esta línea, que llamamos predictor, predice el precio de una casa a partir de su tamaño"
      ]
    },
    {
      "cell_type": "markdown",
      "metadata": {
        "id": "B9OsYUdG62mN"
      },
      "source": [
        "![](https://i.imgur.com/txEhBpR.png)"
      ]
    },
    {
      "cell_type": "markdown",
      "metadata": {
        "id": "GE7vY4aUe-Vt"
      },
      "source": [
        "Como hemos visto, la gran mayoría de los algoritmos de ML se ocupan de una tarea simple que es dibujar líneas. Más precisamente, de dibujar líneas a través de datos bidimensionales, planos a través de datos tridimensionales e hiperplanos a través de datos de dimensiones mayores a tres.\n",
        "\n",
        "\n"
      ]
    },
    {
      "cell_type": "markdown",
      "metadata": {
        "id": "0Ja_K5bf1wWt"
      },
      "source": [
        "### **Aprendizaje no supervisado**\n",
        "\n",
        "En el aprendizaje no supervisado los datos de entrenamiento no contiene etiquetas. Dos tareas típicas son el agrupamiento y la reducción de dimensionalidad.\n",
        "\n",
        "\n"
      ]
    },
    {
      "cell_type": "markdown",
      "metadata": {
        "id": "uyLNf1cz4pN-"
      },
      "source": [
        "### **¿Por qué utilizar ML?** \n",
        "\n",
        "Podemos utilizar el ML para:\n",
        "\n",
        "* Problemas para los cuales las soluciones existentes requieren una gran cantidad de trabajo. \n",
        "* Problemas complejos para los que no existe una solución con los métodos tradicionales. \n",
        "* Entornos fluctuantes. \n",
        "* Obtener información sobre problemas complejos y grandes cantidades de datos."
      ]
    },
    {
      "cell_type": "markdown",
      "metadata": {
        "id": "DlqAT_8ZEYIX"
      },
      "source": [
        "<p><a name=\"pyt\"></a></p>\n",
        "\n",
        "# **Introducción a Python**\n",
        "\n",
        "Python es un lenguaje de programación de alto nivel (sintaxis simple), interpretado, interactivo y orientado a objetos:\n",
        "\n",
        "* **Interpretado**: Python es procesado al momento de la ejecución por el interpretador. No se necesita de un proceso previo de compilación para la posterior ejecución del programa.\n",
        "\n",
        "* **Interactivo**: Podemos interactuar con el intérprete directamente para escribir los programas.\n",
        "\n",
        "* **Orientado a objetos**: Python es un lenguaje orientado a objetos, una técnica de programación que encapsula el código dentro de objetos.\n",
        "\n",
        "Existen diferentes maneras de ejecutar código de Python. Nosotros usaremos un enfoque interactivo utilizando \"notebooks\". una excelente alternativa es **Google Colab**, el cual es un servicio en la nube, que nos provee de un notebook al que podemos acceder con un navegador web sin importar el sistema operativo\n",
        "\n",
        "\n",
        "\n",
        "\n",
        "\n",
        "\n"
      ]
    },
    {
      "cell_type": "markdown",
      "metadata": {
        "id": "WCPCTc_kEaty"
      },
      "source": [
        "<p><a name=\"sin\"></a></p>\n",
        "\n",
        "## **Sintáxis de Python**\n",
        "\n",
        " Comencemos discutiendo las características principales de la sintaxis de Python.\n",
        "\n",
        "La sintaxis se refiere a la estructura del lenguaje (es decir, lo que constituye un programa formado correctamente). Por el momento, no nos centraremos en la semántica, el significado de las palabras y los símbolos dentro de la sintaxis, sino que volveremos a esto más adelante"
      ]
    },
    {
      "cell_type": "code",
      "metadata": {
        "id": "1xJiI-8nEcJR"
      },
      "source": [
        "# programa ejemplo de la sintaxis de Python\n",
        "\n",
        "# definiendo el punto medio\n",
        "punto_medio = 5\n",
        "\n",
        "# creando dos listas vacías\n",
        "inf = []; sup = []\n",
        "\n",
        "# separar los numeros hacia arriba y abajo del punto medio\n",
        "for i in range(10):\n",
        "  if (i < punto_medio):\n",
        "    inf.append(i)\n",
        "  else:\n",
        "    sup.append(i)\n",
        "\n",
        "print(f\"inferior: {inf}\")\n",
        "print(f\"superior: {sup}\")"
      ],
      "execution_count": null,
      "outputs": []
    },
    {
      "cell_type": "markdown",
      "metadata": {
        "id": "BoEkCJqQEeAB"
      },
      "source": [
        "**Los comentarios en Python se marcan con #**\n",
        "\n",
        "El programa comienza con "
      ]
    },
    {
      "cell_type": "code",
      "metadata": {
        "id": "M0Kndw6xEfav"
      },
      "source": [
        "# programa ejemplo de la sintaxis de Python"
      ],
      "execution_count": null,
      "outputs": []
    },
    {
      "cell_type": "markdown",
      "metadata": {
        "id": "OTCp1AK2EgyZ"
      },
      "source": [
        "Los comentarios en Python se indican con un signo de número `#`. El intérprete ignora cualquier cosa en la línea que siga al signo de número"
      ]
    },
    {
      "cell_type": "code",
      "metadata": {
        "id": "G_NZ7YiGEiTC"
      },
      "source": [
        "x = 4 # asignando 4 a la variable x"
      ],
      "execution_count": null,
      "outputs": []
    },
    {
      "cell_type": "markdown",
      "metadata": {
        "id": "nXYzrEMBEj37"
      },
      "source": [
        "esto muy útil para documentar los códigos. Si queremos comentar un bloque de líneas, podemos utilizar `\"\"\"` de la siguiente manera:"
      ]
    },
    {
      "cell_type": "code",
      "metadata": {
        "id": "zWG5Pq5eElXi"
      },
      "source": [
        "\"\"\"\n",
        "Este es un\n",
        "comentario\n",
        "de múltiples\n",
        "líneas\n",
        "\"\"\""
      ],
      "execution_count": null,
      "outputs": []
    },
    {
      "cell_type": "markdown",
      "metadata": {
        "id": "A9eRb7aXEm4N"
      },
      "source": [
        "**El final de línea termina una sentencia**\n",
        "\n",
        "La siguiente línea en el código es"
      ]
    },
    {
      "cell_type": "code",
      "metadata": {
        "id": "SyF1bhPNEnUX"
      },
      "source": [
        "punto_medio = 5"
      ],
      "execution_count": null,
      "outputs": []
    },
    {
      "cell_type": "markdown",
      "metadata": {
        "id": "nQNZroAREqE8"
      },
      "source": [
        "Esta es una operación de asignación, donde creamos una variable llamada \"punto_medio\" y le asignamos el valor 5. Observe que el final de esta sentencia simplemente está marcado por el final de la línea. Si queremos seguir en la siguiente línea tenemos dos opciones: utilizar el marcador `\\` para indicar un salto de línea"
      ]
    },
    {
      "cell_type": "code",
      "metadata": {
        "id": "rj8SfjFUEqtP"
      },
      "source": [
        "x = 1 + 2 + 3 + \\\n",
        "5 + 6 + 7"
      ],
      "execution_count": null,
      "outputs": []
    },
    {
      "cell_type": "markdown",
      "metadata": {
        "id": "R3xa0zFJEs5z"
      },
      "source": [
        "o incluir toda la expresión entre paréntesis:"
      ]
    },
    {
      "cell_type": "code",
      "metadata": {
        "id": "VyTb_Pr0Euyv"
      },
      "source": [
        "x = (1 + 2 + 3 +\n",
        "     5 + 6 + 7)"
      ],
      "execution_count": null,
      "outputs": []
    },
    {
      "cell_type": "markdown",
      "metadata": {
        "id": "CRzpQU3oEwV6"
      },
      "source": [
        "A veces puede ser útil tener varias declaraciones en una sola línea. La siguiente parte del código es"
      ]
    },
    {
      "cell_type": "code",
      "metadata": {
        "id": "FZs1aMBeEx3n"
      },
      "source": [
        "inf = []; sup = []"
      ],
      "execution_count": null,
      "outputs": []
    },
    {
      "cell_type": "markdown",
      "metadata": {
        "id": "0dqRE8zaEzdZ"
      },
      "source": [
        "Con lo cual se ilustra que el punto y coma (`;`) puede terminar una sentencia. Lo anterior es completamente equivalente a"
      ]
    },
    {
      "cell_type": "code",
      "metadata": {
        "id": "phCK99QBE0--"
      },
      "source": [
        "inf = []\n",
        "sup = []"
      ],
      "execution_count": null,
      "outputs": []
    },
    {
      "cell_type": "markdown",
      "metadata": {
        "id": "Z1BraA20E2q5"
      },
      "source": [
        "**Indentación: ¡El espacio en blanco es importante!**\n",
        "\n",
        "Llegamos al bloque de código principal:"
      ]
    },
    {
      "cell_type": "code",
      "metadata": {
        "id": "-0oU1golE3Of"
      },
      "source": [
        "for i in range(10):\n",
        "  if (i < punto_medio):\n",
        "    inf.append(i)\n",
        "  else:\n",
        "    sup.append(i)"
      ],
      "execution_count": null,
      "outputs": []
    },
    {
      "cell_type": "markdown",
      "metadata": {
        "id": "PhhOIPVzE5Sy"
      },
      "source": [
        "Un bloque de código es un conjunto de sentencias que deben tratarse como una unidad. \n",
        "En C, por ejemplo, los bloques de código se denotan con llaves:"
      ]
    },
    {
      "cell_type": "code",
      "metadata": {
        "id": "wI32EvfsE6x-"
      },
      "source": [
        "// codigo de C\n",
        "for(int i=0; i<100; i++)\n",
        "  {\n",
        "    // las llaves denotan el bloque de código\n",
        "    total += i;\n",
        "  }"
      ],
      "execution_count": null,
      "outputs": []
    },
    {
      "cell_type": "markdown",
      "metadata": {
        "id": "8oLcS9zIE8h4"
      },
      "source": [
        "En python, los bloques de código se denotan por la indentación"
      ]
    },
    {
      "cell_type": "code",
      "metadata": {
        "id": "iHmX2un4E9x3"
      },
      "source": [
        "for i in range(100):\n",
        "  # la indentacion indica el bloque de código\n",
        "  total += i"
      ],
      "execution_count": null,
      "outputs": []
    },
    {
      "cell_type": "markdown",
      "metadata": {
        "id": "Lnhqo6UR9TL1"
      },
      "source": [
        "En Python, los bloques de código indentados siempre van precedidos de dos puntos (`:`) en la línea anterior. "
      ]
    },
    {
      "cell_type": "code",
      "metadata": {
        "id": "TfbxEw7o6vpR"
      },
      "source": [
        "for i in range(10):\n",
        "  if (i < punto_medio):\n",
        "    inf.append(i)\n",
        "  else:\n",
        "    sup.append(i)"
      ],
      "execution_count": null,
      "outputs": []
    },
    {
      "cell_type": "markdown",
      "metadata": {
        "id": "VAfCfbcsE_OA"
      },
      "source": [
        "El uso de espacios en blanco por parte de Python a menudo es poco común para los programadores que están acostumbrados a otros lenguajes, pero en la práctica puede conducir a un código mucho más coherente y legible que los lenguajes que no imponen indentación para los bloques de código, aunque no siempre es el caso. "
      ]
    },
    {
      "cell_type": "markdown",
      "metadata": {
        "id": "kIg-KYdEFBu6"
      },
      "source": [
        "**El espacio en blanco dentro de las líneas no importa**\n",
        "\n",
        "Como vimos, el espacio en blanco es significativo para indicar un bloque de código. El espacio en blanco dentro de las líneas de código no importa. Por ejemplo, las siguientes tres expresiones son equivalentes:"
      ]
    },
    {
      "cell_type": "code",
      "metadata": {
        "id": "x5JzZaP4FBMG"
      },
      "source": [
        "x=1+2+..\n",
        "\n",
        "x = 1 + 2 + ...\n",
        "\n",
        "x       =       1       +       2       +       ...       "
      ],
      "execution_count": null,
      "outputs": []
    },
    {
      "cell_type": "markdown",
      "metadata": {
        "id": "RckRpmOkFExg"
      },
      "source": [
        "Abusar de esta flexibilidad puede conducir a problemas en la lectura del código. El uso efectivo de espacios en blanco puede conducir a un código mucho más legible. \n"
      ]
    },
    {
      "cell_type": "markdown",
      "metadata": {
        "id": "7bH60FpkFGzZ"
      },
      "source": [
        "**Los paréntesis son para agrupar o llamar**\n",
        "\n",
        "Los paréntesis se usan, principalmente, para dos tareas. Primero, se pueden usar de la manera típica para agrupar enunciados u operaciones matemáticas:\n"
      ]
    },
    {
      "cell_type": "code",
      "metadata": {
        "id": "HGsAT-TyFIUt"
      },
      "source": [
        "1 * (3 + 5) "
      ],
      "execution_count": null,
      "outputs": []
    },
    {
      "cell_type": "markdown",
      "metadata": {
        "id": "ug0D-HWGFJ-X"
      },
      "source": [
        "También se pueden usar para indicar que se está llamando a una función. \n",
        "\n",
        "En el siguiente fragmento, la función propia de Python `print()` se utiliza para mostrar el contenido de una variable. La llamada a la función se indica mediante un par de paréntesis de apertura y cierre, con los argumentos de la función contenidos en ellos."
      ]
    },
    {
      "cell_type": "code",
      "metadata": {
        "id": "5aWkv-ZNFLTg"
      },
      "source": [
        "x = 4\n",
        "\n",
        "print(f\"Valor de x: {x}\")"
      ],
      "execution_count": null,
      "outputs": []
    },
    {
      "cell_type": "markdown",
      "metadata": {
        "id": "pZEGYK8LFM8_"
      },
      "source": [
        "Algunas funciones (métodos) pueden invocarse sin ningún argumento, en cuyo caso los paréntesis de apertura y cierre deben usarse para indicar la evaluación de la función."
      ]
    },
    {
      "cell_type": "code",
      "metadata": {
        "id": "R8WEGBm0FOsS",
        "colab": {
          "base_uri": "https://localhost:8080/",
          "height": 35
        },
        "outputId": "f1c5e28e-0b90-415a-84c9-eb339d102822"
      },
      "source": [
        "s = \"hola\"\n",
        "\n",
        "s.upper()"
      ],
      "execution_count": null,
      "outputs": [
        {
          "output_type": "execute_result",
          "data": {
            "application/vnd.google.colaboratory.intrinsic+json": {
              "type": "string"
            },
            "text/plain": [
              "'HOLA'"
            ]
          },
          "metadata": {
            "tags": []
          },
          "execution_count": 25
        }
      ]
    }
  ]
}