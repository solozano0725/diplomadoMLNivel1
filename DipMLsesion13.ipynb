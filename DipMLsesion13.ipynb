{
  "nbformat": 4,
  "nbformat_minor": 0,
  "metadata": {
    "colab": {
      "name": "DipMLsesion13.ipynb",
      "provenance": [],
      "collapsed_sections": [],
      "include_colab_link": true
    },
    "kernelspec": {
      "name": "python3",
      "display_name": "Python 3"
    }
  },
  "cells": [
    {
      "cell_type": "markdown",
      "metadata": {
        "id": "view-in-github",
        "colab_type": "text"
      },
      "source": [
        "<a href=\"https://colab.research.google.com/github/solozano0725/diplomadoMLNivel1/blob/main/DipMLsesion13.ipynb\" target=\"_parent\"><img src=\"https://colab.research.google.com/assets/colab-badge.svg\" alt=\"Open In Colab\"/></a>"
      ]
    },
    {
      "cell_type": "markdown",
      "metadata": {
        "id": "4QxyfiTQ535R"
      },
      "source": [
        "<p><img alt=\"Colaboratory logo\" height=\"140px\" src=\"https://upload.wikimedia.org/wikipedia/commons/archive/f/fb/20161010213812%21Escudo-UdeA.svg\" align=\"left\" hspace=\"10px\" vspace=\"0px\"></p>\n",
        "\n",
        "# **Diplomado de Análisis de datos y Machine Learning en Python**\n",
        "\n",
        "\n",
        "El presente diplomado hace parte del centro de Big Data de la facultad de ciencias exactas y naturales (FCEN) de la Universidad de Antioquia.\n",
        "\n",
        "## **Sesión 13**\n",
        "\n",
        "## **Contenido**\n",
        "\n",
        "- <a href=\"#pre\"> Preprocesado: </a><br>\n",
        "  - <a href=\"#nan\"> Valores nulos/faltantes</a><br>\n",
        "  - <a href=\"#nor\"> Estandarización, escalamiento y normalización</a><br>\n",
        "  - <a href=\"#cat\"> Codificación de variables categóricas</a><br>"
      ]
    },
    {
      "cell_type": "markdown",
      "metadata": {
        "id": "B5GRrclSRSQ7"
      },
      "source": [
        "<p><a name=\"nan\"></a></p>\n",
        "\n",
        "# **Valores nulos/faltantes**\n",
        "\n",
        "El manejo de los valores nulos es una tarea de preprocesamiento esencial. Si tengo valores nulos en mi conjunto de datos ¿Cómo se expresan en los datos? ¿Debo mantener las instancias con valores nulos o debería reemplazarlos? En segundo caso, ¿con qué valores deberían reemplazarse?\n",
        "\n",
        "\n",
        "\n",
        "\n",
        "\n"
      ]
    },
    {
      "cell_type": "code",
      "metadata": {
        "id": "CSw90yvTlyU7"
      },
      "source": [
        "import numpy as np\n",
        "import matplotlib.pyplot as plt\n",
        "import pandas as pd\n",
        "import seaborn as sns\n",
        "sns.set()\n",
        "\n",
        "from sklearn.model_selection import train_test_split\n",
        "from sklearn.linear_model import LinearRegression"
      ],
      "execution_count": null,
      "outputs": []
    },
    {
      "cell_type": "code",
      "metadata": {
        "id": "dpPVqJhdx6U9",
        "colab": {
          "base_uri": "https://localhost:8080/",
          "height": 309
        },
        "outputId": "c82b6fb7-1016-4720-9068-696b0cf68b61"
      },
      "source": [
        "df = pd.read_csv(\"https://raw.githubusercontent.com/diplomadomludea/nivel_1/master/data/auto.csv\", index_col=[0])\n",
        "df.head()"
      ],
      "execution_count": null,
      "outputs": [
        {
          "output_type": "execute_result",
          "data": {
            "text/html": [
              "<div>\n",
              "<style scoped>\n",
              "    .dataframe tbody tr th:only-of-type {\n",
              "        vertical-align: middle;\n",
              "    }\n",
              "\n",
              "    .dataframe tbody tr th {\n",
              "        vertical-align: top;\n",
              "    }\n",
              "\n",
              "    .dataframe thead th {\n",
              "        text-align: right;\n",
              "    }\n",
              "</style>\n",
              "<table border=\"1\" class=\"dataframe\">\n",
              "  <thead>\n",
              "    <tr style=\"text-align: right;\">\n",
              "      <th></th>\n",
              "      <th>symboling</th>\n",
              "      <th>normalized-losses</th>\n",
              "      <th>make</th>\n",
              "      <th>aspiration</th>\n",
              "      <th>num-of-doors</th>\n",
              "      <th>body-style</th>\n",
              "      <th>drive-wheels</th>\n",
              "      <th>engine-location</th>\n",
              "      <th>wheel-base</th>\n",
              "      <th>length</th>\n",
              "      <th>width</th>\n",
              "      <th>height</th>\n",
              "      <th>curb-weight</th>\n",
              "      <th>engine-type</th>\n",
              "      <th>num-of-cylinders</th>\n",
              "      <th>engine-size</th>\n",
              "      <th>fuel-system</th>\n",
              "      <th>bore</th>\n",
              "      <th>stroke</th>\n",
              "      <th>compression-ratio</th>\n",
              "      <th>horsepower</th>\n",
              "      <th>peak-rpm</th>\n",
              "      <th>city-mpg</th>\n",
              "      <th>highway-mpg</th>\n",
              "      <th>price</th>\n",
              "      <th>city-L/100km</th>\n",
              "      <th>horsepower-binned</th>\n",
              "      <th>diesel</th>\n",
              "      <th>gas</th>\n",
              "    </tr>\n",
              "  </thead>\n",
              "  <tbody>\n",
              "    <tr>\n",
              "      <th>0</th>\n",
              "      <td>3</td>\n",
              "      <td>122</td>\n",
              "      <td>alfa-romero</td>\n",
              "      <td>std</td>\n",
              "      <td>two</td>\n",
              "      <td>convertible</td>\n",
              "      <td>rwd</td>\n",
              "      <td>front</td>\n",
              "      <td>88.6</td>\n",
              "      <td>0.811148</td>\n",
              "      <td>0.890278</td>\n",
              "      <td>48.8</td>\n",
              "      <td>2548</td>\n",
              "      <td>dohc</td>\n",
              "      <td>four</td>\n",
              "      <td>130</td>\n",
              "      <td>mpfi</td>\n",
              "      <td>3.47</td>\n",
              "      <td>2.68</td>\n",
              "      <td>9.0</td>\n",
              "      <td>111.0</td>\n",
              "      <td>5000.0</td>\n",
              "      <td>21</td>\n",
              "      <td>27</td>\n",
              "      <td>13495.0</td>\n",
              "      <td>11.190476</td>\n",
              "      <td>Medium</td>\n",
              "      <td>0</td>\n",
              "      <td>1</td>\n",
              "    </tr>\n",
              "    <tr>\n",
              "      <th>1</th>\n",
              "      <td>3</td>\n",
              "      <td>122</td>\n",
              "      <td>alfa-romero</td>\n",
              "      <td>std</td>\n",
              "      <td>two</td>\n",
              "      <td>convertible</td>\n",
              "      <td>rwd</td>\n",
              "      <td>front</td>\n",
              "      <td>88.6</td>\n",
              "      <td>0.811148</td>\n",
              "      <td>0.890278</td>\n",
              "      <td>48.8</td>\n",
              "      <td>2548</td>\n",
              "      <td>dohc</td>\n",
              "      <td>four</td>\n",
              "      <td>130</td>\n",
              "      <td>mpfi</td>\n",
              "      <td>3.47</td>\n",
              "      <td>2.68</td>\n",
              "      <td>9.0</td>\n",
              "      <td>111.0</td>\n",
              "      <td>5000.0</td>\n",
              "      <td>21</td>\n",
              "      <td>27</td>\n",
              "      <td>16500.0</td>\n",
              "      <td>11.190476</td>\n",
              "      <td>Medium</td>\n",
              "      <td>0</td>\n",
              "      <td>1</td>\n",
              "    </tr>\n",
              "    <tr>\n",
              "      <th>2</th>\n",
              "      <td>1</td>\n",
              "      <td>122</td>\n",
              "      <td>alfa-romero</td>\n",
              "      <td>std</td>\n",
              "      <td>two</td>\n",
              "      <td>hatchback</td>\n",
              "      <td>rwd</td>\n",
              "      <td>front</td>\n",
              "      <td>94.5</td>\n",
              "      <td>0.822681</td>\n",
              "      <td>0.909722</td>\n",
              "      <td>52.4</td>\n",
              "      <td>2823</td>\n",
              "      <td>ohcv</td>\n",
              "      <td>six</td>\n",
              "      <td>152</td>\n",
              "      <td>mpfi</td>\n",
              "      <td>2.68</td>\n",
              "      <td>3.47</td>\n",
              "      <td>9.0</td>\n",
              "      <td>154.0</td>\n",
              "      <td>5000.0</td>\n",
              "      <td>19</td>\n",
              "      <td>26</td>\n",
              "      <td>16500.0</td>\n",
              "      <td>12.368421</td>\n",
              "      <td>Medium</td>\n",
              "      <td>0</td>\n",
              "      <td>1</td>\n",
              "    </tr>\n",
              "    <tr>\n",
              "      <th>3</th>\n",
              "      <td>2</td>\n",
              "      <td>164</td>\n",
              "      <td>audi</td>\n",
              "      <td>std</td>\n",
              "      <td>four</td>\n",
              "      <td>sedan</td>\n",
              "      <td>fwd</td>\n",
              "      <td>front</td>\n",
              "      <td>99.8</td>\n",
              "      <td>0.848630</td>\n",
              "      <td>0.919444</td>\n",
              "      <td>54.3</td>\n",
              "      <td>2337</td>\n",
              "      <td>ohc</td>\n",
              "      <td>four</td>\n",
              "      <td>109</td>\n",
              "      <td>mpfi</td>\n",
              "      <td>3.19</td>\n",
              "      <td>3.40</td>\n",
              "      <td>10.0</td>\n",
              "      <td>102.0</td>\n",
              "      <td>5500.0</td>\n",
              "      <td>24</td>\n",
              "      <td>30</td>\n",
              "      <td>13950.0</td>\n",
              "      <td>9.791667</td>\n",
              "      <td>Medium</td>\n",
              "      <td>0</td>\n",
              "      <td>1</td>\n",
              "    </tr>\n",
              "    <tr>\n",
              "      <th>4</th>\n",
              "      <td>2</td>\n",
              "      <td>164</td>\n",
              "      <td>audi</td>\n",
              "      <td>std</td>\n",
              "      <td>four</td>\n",
              "      <td>sedan</td>\n",
              "      <td>4wd</td>\n",
              "      <td>front</td>\n",
              "      <td>99.4</td>\n",
              "      <td>0.848630</td>\n",
              "      <td>0.922222</td>\n",
              "      <td>54.3</td>\n",
              "      <td>2824</td>\n",
              "      <td>ohc</td>\n",
              "      <td>five</td>\n",
              "      <td>136</td>\n",
              "      <td>mpfi</td>\n",
              "      <td>3.19</td>\n",
              "      <td>3.40</td>\n",
              "      <td>8.0</td>\n",
              "      <td>115.0</td>\n",
              "      <td>5500.0</td>\n",
              "      <td>18</td>\n",
              "      <td>22</td>\n",
              "      <td>17450.0</td>\n",
              "      <td>13.055556</td>\n",
              "      <td>Medium</td>\n",
              "      <td>0</td>\n",
              "      <td>1</td>\n",
              "    </tr>\n",
              "  </tbody>\n",
              "</table>\n",
              "</div>"
            ],
            "text/plain": [
              "   symboling  normalized-losses         make  ... horsepower-binned diesel gas\n",
              "0          3                122  alfa-romero  ...            Medium      0   1\n",
              "1          3                122  alfa-romero  ...            Medium      0   1\n",
              "2          1                122  alfa-romero  ...            Medium      0   1\n",
              "3          2                164         audi  ...            Medium      0   1\n",
              "4          2                164         audi  ...            Medium      0   1\n",
              "\n",
              "[5 rows x 29 columns]"
            ]
          },
          "metadata": {
            "tags": []
          },
          "execution_count": 2
        }
      ]
    },
    {
      "cell_type": "markdown",
      "metadata": {
        "id": "ltNm7zi6SoY-"
      },
      "source": [
        "Para examinar los valores nulos en el conjunto de datos, podemos utilizar el método `isna`:"
      ]
    },
    {
      "cell_type": "code",
      "metadata": {
        "id": "YBjfhYJoSlHQ",
        "colab": {
          "base_uri": "https://localhost:8080/"
        },
        "outputId": "40efe04b-d5e4-4a2e-f10a-fb29bea09ac8"
      },
      "source": [
        "df.isna().any()"
      ],
      "execution_count": null,
      "outputs": [
        {
          "output_type": "execute_result",
          "data": {
            "text/plain": [
              "symboling            False\n",
              "normalized-losses    False\n",
              "make                 False\n",
              "aspiration           False\n",
              "num-of-doors         False\n",
              "body-style           False\n",
              "drive-wheels         False\n",
              "engine-location      False\n",
              "wheel-base           False\n",
              "length               False\n",
              "width                False\n",
              "height               False\n",
              "curb-weight          False\n",
              "engine-type          False\n",
              "num-of-cylinders     False\n",
              "engine-size          False\n",
              "fuel-system          False\n",
              "bore                 False\n",
              "stroke                True\n",
              "compression-ratio    False\n",
              "horsepower           False\n",
              "peak-rpm             False\n",
              "city-mpg             False\n",
              "highway-mpg          False\n",
              "price                False\n",
              "city-L/100km         False\n",
              "horsepower-binned     True\n",
              "diesel               False\n",
              "gas                  False\n",
              "dtype: bool"
            ]
          },
          "metadata": {
            "tags": []
          },
          "execution_count": 4
        }
      ]
    },
    {
      "cell_type": "markdown",
      "metadata": {
        "id": "hC0BW9DsSruN"
      },
      "source": [
        "Para examinar el número de valores nulos por característica aplicamos la función de agreagación `sum`"
      ]
    },
    {
      "cell_type": "code",
      "metadata": {
        "id": "4hzRAtrQSqR9",
        "colab": {
          "base_uri": "https://localhost:8080/"
        },
        "outputId": "35fc454c-061c-4823-8ccd-2b2d5ca583f8"
      },
      "source": [
        "df.isna().sum()"
      ],
      "execution_count": null,
      "outputs": [
        {
          "output_type": "execute_result",
          "data": {
            "text/plain": [
              "symboling            0\n",
              "normalized-losses    0\n",
              "make                 0\n",
              "aspiration           0\n",
              "num-of-doors         0\n",
              "body-style           0\n",
              "drive-wheels         0\n",
              "engine-location      0\n",
              "wheel-base           0\n",
              "length               0\n",
              "width                0\n",
              "height               0\n",
              "curb-weight          0\n",
              "engine-type          0\n",
              "num-of-cylinders     0\n",
              "engine-size          0\n",
              "fuel-system          0\n",
              "bore                 0\n",
              "stroke               4\n",
              "compression-ratio    0\n",
              "horsepower           0\n",
              "peak-rpm             0\n",
              "city-mpg             0\n",
              "highway-mpg          0\n",
              "price                0\n",
              "city-L/100km         0\n",
              "horsepower-binned    1\n",
              "diesel               0\n",
              "gas                  0\n",
              "dtype: int64"
            ]
          },
          "metadata": {
            "tags": []
          },
          "execution_count": 5
        }
      ]
    },
    {
      "cell_type": "markdown",
      "metadata": {
        "id": "pyYaX0iDSvfR"
      },
      "source": [
        "Más que el número de valores nulos, estamos interesados en saber qué porcentaje de los datos son valores nulos"
      ]
    },
    {
      "cell_type": "code",
      "metadata": {
        "id": "FLqbELaRSuO0",
        "colab": {
          "base_uri": "https://localhost:8080/"
        },
        "outputId": "45a71372-1d71-4d11-dd78-4984564b4c46"
      },
      "source": [
        "df.isna().sum()/len(df)"
      ],
      "execution_count": null,
      "outputs": [
        {
          "output_type": "execute_result",
          "data": {
            "text/plain": [
              "symboling            0.000000\n",
              "normalized-losses    0.000000\n",
              "make                 0.000000\n",
              "aspiration           0.000000\n",
              "num-of-doors         0.000000\n",
              "body-style           0.000000\n",
              "drive-wheels         0.000000\n",
              "engine-location      0.000000\n",
              "wheel-base           0.000000\n",
              "length               0.000000\n",
              "width                0.000000\n",
              "height               0.000000\n",
              "curb-weight          0.000000\n",
              "engine-type          0.000000\n",
              "num-of-cylinders     0.000000\n",
              "engine-size          0.000000\n",
              "fuel-system          0.000000\n",
              "bore                 0.000000\n",
              "stroke               0.019900\n",
              "compression-ratio    0.000000\n",
              "horsepower           0.000000\n",
              "peak-rpm             0.000000\n",
              "city-mpg             0.000000\n",
              "highway-mpg          0.000000\n",
              "price                0.000000\n",
              "city-L/100km         0.000000\n",
              "horsepower-binned    0.004975\n",
              "diesel               0.000000\n",
              "gas                  0.000000\n",
              "dtype: float64"
            ]
          },
          "metadata": {
            "tags": []
          },
          "execution_count": 6
        }
      ]
    },
    {
      "cell_type": "markdown",
      "metadata": {
        "id": "hnqOCDZfS0v2"
      },
      "source": [
        "Debemos tener en cuenta que eliminar una característica completa porque tiene un único valor nulo puede ser una mala decisión y hacer que perdamos información que podría ser relevante. Si por el contrario, el porcentaje de valores faltantes es muy elevado y los mantenemos, esto podría hacer que el modelo no tenga el mejor rendimiento. En este caso se debe buscar una forma de obtener dichos datos faltantes, y si esto no es posible lo mejor será eliminar la característica"
      ]
    },
    {
      "cell_type": "markdown",
      "metadata": {
        "id": "11u6aPBwngeh"
      },
      "source": [
        "## **Eliminando valores nulos**\n",
        "\n",
        "Para eliminar valores nulos podemos utilizar la función `dropna` de Pandas."
      ]
    },
    {
      "cell_type": "code",
      "metadata": {
        "id": "orsiObkfnvWI"
      },
      "source": [
        "df.dropna();"
      ],
      "execution_count": null,
      "outputs": []
    },
    {
      "cell_type": "markdown",
      "metadata": {
        "id": "pUNNTmWpo0T3"
      },
      "source": [
        "Si deseamos específicar la eliminación por filas o columnas, utilizamos el kwarg `axis`. Por defecto se eliminan instancias. Si por ejemplo quisieramos eliminar una columna con valores nulos escribimos\n"
      ]
    },
    {
      "cell_type": "code",
      "metadata": {
        "id": "BYkqp_yaoH7X"
      },
      "source": [
        "df.dropna(axis=\"columns\");"
      ],
      "execution_count": null,
      "outputs": []
    },
    {
      "cell_type": "markdown",
      "metadata": {
        "id": "AmMdl9uapZcd"
      },
      "source": [
        "Sin embargo, esto puede provocar la pérdida de datos que podrían ser útiles a pesar de que contienen valores nulos"
      ]
    },
    {
      "cell_type": "markdown",
      "metadata": {
        "id": "LIUKnjtMqm1c"
      },
      "source": [
        "## **Reemplazando valores nulos**\n",
        "\n",
        "La elección de la mejor estrategia para reemplazar los valores nulos nos ayudará a proporcionar información precisa y evitará que comuniquemos información incorrecta.\n",
        "\n",
        "Esta tarea de llenado de valores nulos se puede realizar de forma simple utilizando el método `fillna` de Pandas. Esta implementación de Pandas proporciona opciones para rellenar hacia adelante (`ffill`) o rellenar hacia atrás (`bfill`), muy útil cuando los datos están ordenados."
      ]
    },
    {
      "cell_type": "code",
      "metadata": {
        "id": "X8hBsQTyrsY_"
      },
      "source": [
        "df.fillna(0);"
      ],
      "execution_count": null,
      "outputs": []
    },
    {
      "cell_type": "markdown",
      "metadata": {
        "id": "m0nmRH5RmxO8"
      },
      "source": [
        "Generalemnte vamos a utilizar estrategias más complejas. La estrategia que utilicemos para tratar los valores nulos dependerá de varios elementos.\n",
        "\n",
        "**Naturaleza de la variable y su distribución:** Si la variable es de tipo numérica y tiene una distribución normal, la mejor estrategia será reemplazar por la media de la variable. \n",
        "\n",
        "Por ejemplo, en nuestro caso, la variable `stroke` es numérica, tiene un bajo porcentaje de valores nulos \n"
      ]
    },
    {
      "cell_type": "code",
      "metadata": {
        "id": "5Ut19LCuSyKD",
        "colab": {
          "base_uri": "https://localhost:8080/",
          "height": 369
        },
        "outputId": "dc48c635-3339-437c-8369-e7fe5d42463b"
      },
      "source": [
        "sns.displot(df.stroke);"
      ],
      "execution_count": null,
      "outputs": [
        {
          "output_type": "display_data",
          "data": {
            "image/png": "[encoded data removed]",
            "text/plain": [
              "<Figure size 360x360 with 1 Axes>"
            ]
          },
          "metadata": {
            "tags": [],
            "needs_background": "light"
          }
        }
      ]
    },
    {
      "cell_type": "markdown",
      "metadata": {
        "id": "OVt9uLnHk5TG"
      },
      "source": [
        "esta tiene una distribución más o menos normal, por lo que la mejor estrategia será reemplazar los valores nulos por la media. Si se tienen datos atípicos que afecten significativamente la media, lo mejor será reemplazar por la mediana. Si la variable es de tipo categórica, se puede pensar en reemplazar por el valor más frecuente en la variable."
      ]
    },
    {
      "cell_type": "markdown",
      "metadata": {
        "id": "jWHfDN4tS8nY"
      },
      "source": [
        "Para reemplazar los valores faltantes con estrategias comunes, Sklearn proporciona el transformador `SimpleImputer`"
      ]
    },
    {
      "cell_type": "code",
      "metadata": {
        "id": "vmtCwgJWS54j",
        "colab": {
          "base_uri": "https://localhost:8080/"
        },
        "outputId": "2c51e4d8-6700-414c-cd29-811e59c1e6bc"
      },
      "source": [
        "from sklearn.impute import SimpleImputer\n",
        "\n",
        "imputer = SimpleImputer()\n",
        "imputer"
      ],
      "execution_count": null,
      "outputs": [
        {
          "output_type": "execute_result",
          "data": {
            "text/plain": [
              "SimpleImputer(add_indicator=False, copy=True, fill_value=None,\n",
              "              missing_values=nan, strategy='mean', verbose=0)"
            ]
          },
          "metadata": {
            "tags": []
          },
          "execution_count": 13
        }
      ]
    },
    {
      "cell_type": "markdown",
      "metadata": {
        "id": "hEzmAQ5PTCiD"
      },
      "source": [
        "Note que por defecto se utiliza la estrategia de llenado con la media de la característica (`strategy=\"mean\"`)"
      ]
    },
    {
      "cell_type": "code",
      "metadata": {
        "id": "p18Lh-TETGWT",
        "colab": {
          "base_uri": "https://localhost:8080/"
        },
        "outputId": "9528cbe3-6924-488e-aff2-f3c1c4e26cbf"
      },
      "source": [
        "# reemplazamos los valores faltantes\n",
        "df.stroke = imputer.fit_transform(df[[\"stroke\"]])\n",
        "\n",
        "# examinamos si hay valores faltantes\n",
        "df.stroke.isna().any()"
      ],
      "execution_count": null,
      "outputs": [
        {
          "output_type": "execute_result",
          "data": {
            "text/plain": [
              "False"
            ]
          },
          "metadata": {
            "tags": []
          },
          "execution_count": 14
        }
      ]
    },
    {
      "cell_type": "markdown",
      "metadata": {
        "id": "gOO3ImWhTFmr"
      },
      "source": [
        "Se pueden utilizar otras estrategias más complejas donde se agrupen los datos de acuerdo a algunas características particulares, y a partir de estos grupos  reemplazar los valores nulos."
      ]
    },
    {
      "cell_type": "markdown",
      "metadata": {
        "id": "yd8SYa2DTWuk"
      },
      "source": [
        "<p><a name=\"nor\"></a></p>\n",
        "\n",
        "# **Estandarización, escalamiento y normalización**\n",
        "\n",
        "Algunas características, como por ejemplo la latitud o la longitud, tienen valores limitados, mientras que otras características numéricas, como las de conteo, pueden aumentar sin límite. \n",
        "\n",
        "Los modelos que son funciones suaves de la entrada, como la regresión lineal, o la regresión logística, se ven afectados por la escala de la entrada. Los modelos basados ​​en árboles, por otro lado, no les importa nada la escala de las características. Entonces, Si el modelo es sensible a la escala de las características de entrada, el escalamiento de estas podría ayudar en el rendimiento del modelo, en su estabilidad, y en la eficiencia computacional asociada a los procesos de entrenamiento y predicción\n",
        "\n",
        "\n",
        "\n"
      ]
    },
    {
      "cell_type": "code",
      "metadata": {
        "id": "ZYqquHZlTT9i",
        "colab": {
          "base_uri": "https://localhost:8080/",
          "height": 204
        },
        "outputId": "e49b07f2-fb9e-494c-fd0f-aef544b6df4e"
      },
      "source": [
        "df = pd.read_csv(\"https://raw.githubusercontent.com/diplomadomludea/nivel_1/master/data/FuelConsumption.csv\")\n",
        "df.head()"
      ],
      "execution_count": null,
      "outputs": [
        {
          "output_type": "execute_result",
          "data": {
            "text/html": [
              "<div>\n",
              "<style scoped>\n",
              "    .dataframe tbody tr th:only-of-type {\n",
              "        vertical-align: middle;\n",
              "    }\n",
              "\n",
              "    .dataframe tbody tr th {\n",
              "        vertical-align: top;\n",
              "    }\n",
              "\n",
              "    .dataframe thead th {\n",
              "        text-align: right;\n",
              "    }\n",
              "</style>\n",
              "<table border=\"1\" class=\"dataframe\">\n",
              "  <thead>\n",
              "    <tr style=\"text-align: right;\">\n",
              "      <th></th>\n",
              "      <th>MODELYEAR</th>\n",
              "      <th>MAKE</th>\n",
              "      <th>MODEL</th>\n",
              "      <th>VEHICLECLASS</th>\n",
              "      <th>ENGINESIZE</th>\n",
              "      <th>CYLINDERS</th>\n",
              "      <th>TRANSMISSION</th>\n",
              "      <th>FUELTYPE</th>\n",
              "      <th>FUELCONSUMPTION_CITY</th>\n",
              "      <th>FUELCONSUMPTION_HWY</th>\n",
              "      <th>FUELCONSUMPTION_COMB</th>\n",
              "      <th>FUELCONSUMPTION_COMB_MPG</th>\n",
              "      <th>CO2EMISSIONS</th>\n",
              "    </tr>\n",
              "  </thead>\n",
              "  <tbody>\n",
              "    <tr>\n",
              "      <th>0</th>\n",
              "      <td>2014</td>\n",
              "      <td>ACURA</td>\n",
              "      <td>ILX</td>\n",
              "      <td>COMPACT</td>\n",
              "      <td>2.0</td>\n",
              "      <td>4</td>\n",
              "      <td>AS5</td>\n",
              "      <td>Z</td>\n",
              "      <td>9.9</td>\n",
              "      <td>6.7</td>\n",
              "      <td>8.5</td>\n",
              "      <td>33</td>\n",
              "      <td>196</td>\n",
              "    </tr>\n",
              "    <tr>\n",
              "      <th>1</th>\n",
              "      <td>2014</td>\n",
              "      <td>ACURA</td>\n",
              "      <td>ILX</td>\n",
              "      <td>COMPACT</td>\n",
              "      <td>2.4</td>\n",
              "      <td>4</td>\n",
              "      <td>M6</td>\n",
              "      <td>Z</td>\n",
              "      <td>11.2</td>\n",
              "      <td>7.7</td>\n",
              "      <td>9.6</td>\n",
              "      <td>29</td>\n",
              "      <td>221</td>\n",
              "    </tr>\n",
              "    <tr>\n",
              "      <th>2</th>\n",
              "      <td>2014</td>\n",
              "      <td>ACURA</td>\n",
              "      <td>ILX HYBRID</td>\n",
              "      <td>COMPACT</td>\n",
              "      <td>1.5</td>\n",
              "      <td>4</td>\n",
              "      <td>AV7</td>\n",
              "      <td>Z</td>\n",
              "      <td>6.0</td>\n",
              "      <td>5.8</td>\n",
              "      <td>5.9</td>\n",
              "      <td>48</td>\n",
              "      <td>136</td>\n",
              "    </tr>\n",
              "    <tr>\n",
              "      <th>3</th>\n",
              "      <td>2014</td>\n",
              "      <td>ACURA</td>\n",
              "      <td>MDX 4WD</td>\n",
              "      <td>SUV - SMALL</td>\n",
              "      <td>3.5</td>\n",
              "      <td>6</td>\n",
              "      <td>AS6</td>\n",
              "      <td>Z</td>\n",
              "      <td>12.7</td>\n",
              "      <td>9.1</td>\n",
              "      <td>11.1</td>\n",
              "      <td>25</td>\n",
              "      <td>255</td>\n",
              "    </tr>\n",
              "    <tr>\n",
              "      <th>4</th>\n",
              "      <td>2014</td>\n",
              "      <td>ACURA</td>\n",
              "      <td>RDX AWD</td>\n",
              "      <td>SUV - SMALL</td>\n",
              "      <td>3.5</td>\n",
              "      <td>6</td>\n",
              "      <td>AS6</td>\n",
              "      <td>Z</td>\n",
              "      <td>12.1</td>\n",
              "      <td>8.7</td>\n",
              "      <td>10.6</td>\n",
              "      <td>27</td>\n",
              "      <td>244</td>\n",
              "    </tr>\n",
              "  </tbody>\n",
              "</table>\n",
              "</div>"
            ],
            "text/plain": [
              "   MODELYEAR   MAKE  ... FUELCONSUMPTION_COMB_MPG CO2EMISSIONS\n",
              "0       2014  ACURA  ...                       33          196\n",
              "1       2014  ACURA  ...                       29          221\n",
              "2       2014  ACURA  ...                       48          136\n",
              "3       2014  ACURA  ...                       25          255\n",
              "4       2014  ACURA  ...                       27          244\n",
              "\n",
              "[5 rows x 13 columns]"
            ]
          },
          "metadata": {
            "tags": []
          },
          "execution_count": 15
        }
      ]
    },
    {
      "cell_type": "markdown",
      "metadata": {
        "id": "gPEMe5dlxC25"
      },
      "source": [
        "Antes de aplicar cualquier transformación de escala (en general cualquier transformación), es muy importante dividir los datos en los conjuntos de entrenamiento y prueba. Si escalamos los datos antes de este paso, el conjunto de prueba tendrá información del conjunto de entrenamiento, lo que añade un sesgo al modelo"
      ]
    },
    {
      "cell_type": "code",
      "metadata": {
        "id": "xBTeg14PTZrR"
      },
      "source": [
        "X = df[[\"ENGINESIZE\", \"FUELCONSUMPTION_CITY\"]]\n",
        "y = df[[\"CO2EMISSIONS\"]]\n",
        "\n",
        "X_train, X_test, y_train, y_test = train_test_split(X, y, test_size=0.2, random_state=42)"
      ],
      "execution_count": null,
      "outputs": []
    },
    {
      "cell_type": "markdown",
      "metadata": {
        "id": "rWE6pGkfTfPS"
      },
      "source": [
        "**Estandarización**\n",
        "\n",
        "La estandarización es una transformación que centra los datos eliminando el valor medio de cada característica y luego la escala dividiendo las características (no constantes) por su desviación estándar. Después de estandarizar los datos, la media será cero y la desviación estándar uno.\n",
        "\n",
        "\\begin{equation}\n",
        "x' = \\frac{x-\\mu}{\\sigma}\n",
        "\\end{equation}\n",
        "\n",
        "\n",
        "\n",
        "\n"
      ]
    },
    {
      "cell_type": "markdown",
      "metadata": {
        "id": "h8MkTHmY1YzZ"
      },
      "source": [
        "![](https://i.imgur.com/zFenksl.png)"
      ]
    },
    {
      "cell_type": "markdown",
      "metadata": {
        "id": "a6yTvYxa1aqy"
      },
      "source": [
        "La estandarización puede mejorar drásticamente el rendimiento de los modelos. Algunos modelos (por ejemplo SVM y Modelos lineales regularizados) asumen que todas las características se centran alrededor de cero y tienen una varianza del mismo orden. Si una característica tiene una escala o varianza que es órdenes de magnitud mayor que otras, podría dominar la función objetivo y hacer que el estimador no pueda aprender de otras características correctamente como se esperaba.\n",
        "\n",
        "Podemos estandarizar nuestros datos con el transformador `StandarScaler` de Sklearn."
      ]
    },
    {
      "cell_type": "code",
      "metadata": {
        "id": "8GQL2kCAxnN-"
      },
      "source": [
        "from sklearn.preprocessing import StandardScaler\n",
        "\n",
        "def LR(X, y, seed=42, scale=False):\n",
        "  \"\"\"\n",
        "  muestra el resultado de un modelo de regresion lineal\n",
        "  \"\"\"\n",
        "  X_train, X_test, y_train, y_test = train_test_split(X, y, test_size=0.2, random_state=seed)\n",
        "  model = LinearRegression()\n",
        "\n",
        "  if scale:\n",
        "    scaler = StandardScaler()\n",
        "    X_train_scaled = scaler.fit_transform(X_train)\n",
        "    X_test_scaled = scaler.fit_transform(X_test)\n",
        "\n",
        "    LR = model.fit(X_train_scaled, y_train)\n",
        "\n",
        "    print(f\"R2: {LR.score(X_test_scaled, y_test)}\")\n",
        "    print(f\"w0: {LR.intercept_}\")\n",
        "    print(f\"W: {LR.coef_}\")\n",
        "\n",
        "  else:\n",
        "    LR = model.fit(X_train, y_train)\n",
        "\n",
        "    print(f\"R2: {LR.score(X_test, y_test)}\")\n",
        "    print(f\"w0: {LR.intercept_}\")\n",
        "    print(f\"W: {LR.coef_}\")"
      ],
      "execution_count": null,
      "outputs": []
    },
    {
      "cell_type": "code",
      "metadata": {
        "colab": {
          "base_uri": "https://localhost:8080/"
        },
        "id": "jMZlaYs0xwq5",
        "outputId": "bd35e8a4-257b-4ce3-8c35-3d6a517d2d02"
      },
      "source": [
        "# sin estandarizacion\n",
        "LR(X, y)"
      ],
      "execution_count": null,
      "outputs": [
        {
          "output_type": "stream",
          "text": [
            "R2: 0.8714766559984765\n",
            "w0: [81.7328305]\n",
            "W: [[18.54175553  8.48132664]]\n"
          ],
          "name": "stdout"
        }
      ]
    },
    {
      "cell_type": "code",
      "metadata": {
        "id": "zKtC9TABTkxI",
        "colab": {
          "base_uri": "https://localhost:8080/"
        },
        "outputId": "db3b0cac-7157-48a1-f159-a6799ee28f02"
      },
      "source": [
        " # con estandarizacion\n",
        "LR(X, y, scale=True)"
      ],
      "execution_count": null,
      "outputs": [
        {
          "output_type": "stream",
          "text": [
            "R2: 0.8650514365673871\n",
            "w0: [257.25674091]\n",
            "W: [[26.21575663 34.59970351]]\n"
          ],
          "name": "stdout"
        }
      ]
    },
    {
      "cell_type": "markdown",
      "metadata": {
        "id": "CZUH_bpvTvDy"
      },
      "source": [
        "Además de mejorar el desempeño del modelo en términos computacionales, el proceso de estandarización nos permite tener una mejor interpretación del modelo: note cómo cambiaron los parámetros al estandarizar los datos. El resultado con estandarización es más confiable (desde el punto de vista de la interpretación)"
      ]
    },
    {
      "cell_type": "markdown",
      "metadata": {
        "id": "7uMEuxtSTwlX"
      },
      "source": [
        "**Normalización**\n",
        "\n",
        "La normalización es el proceso de escalar muestras individuales para tener una norma unitaria. \n",
        "\n",
        "$$x' = \\frac{x}{||x||}$$\n",
        "\n",
        "\n",
        "\n",
        "\n"
      ]
    },
    {
      "cell_type": "markdown",
      "metadata": {
        "id": "Dupy2uyt6Be6"
      },
      "source": [
        "![](https://i.imgur.com/ASvg1B0.png)"
      ]
    },
    {
      "cell_type": "markdown",
      "metadata": {
        "id": "UAGpjKc76JCT"
      },
      "source": [
        "La normalizacion es una operación común para la clasificación o agrupamiento de datos donde es importante la distancia entre las diferentes instancias. Además, algunos modelos como el PCA, asumen invarianza rotacional, por lo que una norma $l_2$ será útil. \n",
        "\n",
        "Esta se puede implementar para varios tipos de norma ($l_1$, $l_2$ and $\\text{max}$) utilizando la clase `Normalizer` de Sklearn"
      ]
    },
    {
      "cell_type": "code",
      "metadata": {
        "id": "r_y65jLZefII",
        "colab": {
          "base_uri": "https://localhost:8080/"
        },
        "outputId": "02a721cc-180d-4743-b020-36d49392e77d"
      },
      "source": [
        "from sklearn.preprocessing import Normalizer\n",
        "\n",
        "scaler = Normalizer()\n",
        "scaler"
      ],
      "execution_count": null,
      "outputs": [
        {
          "output_type": "execute_result",
          "data": {
            "text/plain": [
              "Normalizer(copy=True, norm='l2')"
            ]
          },
          "metadata": {
            "tags": []
          },
          "execution_count": 22
        }
      ]
    },
    {
      "cell_type": "markdown",
      "metadata": {
        "id": "hx3umKD8bmll"
      },
      "source": [
        "note que por defecto se usa la norma $l_2$"
      ]
    },
    {
      "cell_type": "code",
      "metadata": {
        "id": "i3zAAuOCgfBC",
        "colab": {
          "base_uri": "https://localhost:8080/"
        },
        "outputId": "d5a12975-ee1e-406f-9e66-550f4f4c686d"
      },
      "source": [
        "scaler.fit_transform(X_train)"
      ],
      "execution_count": null,
      "outputs": [
        {
          "output_type": "execute_result",
          "data": {
            "text/plain": [
              "array([[0.16251626, 0.98670587],\n",
              "       [0.28147357, 0.95956898],\n",
              "       [0.25873609, 0.96594805],\n",
              "       ...,\n",
              "       [0.26210915, 0.96503823],\n",
              "       [0.177153  , 0.98418332],\n",
              "       [0.27343111, 0.96189159]])"
            ]
          },
          "metadata": {
            "tags": []
          },
          "execution_count": 23
        }
      ]
    },
    {
      "cell_type": "markdown",
      "metadata": {
        "id": "j__ndvQ-eeIu"
      },
      "source": [
        "**Escalamiento**\n",
        "\n",
        "También podemos hacer que nuestros datos estén en un rango determinado ($a$,$\\;b$)\n",
        "\n",
        "\\begin{equation}\n",
        "x' = \\frac{x-a}{b-a}\n",
        "\\end{equation}\n",
        "\n",
        "Este escalador funciona mejor en casos en los que la distribución no es gaussiana o la desviación estándar es muy pequeña. Sin embargo, es sensible a valores atípicos, por lo que si hay valores atípicos en los datos, es mejor considerar otro escalador. \n",
        "\n",
        "Escalas drásticamente variables en las características de entrada pueden generar problemas de estabilidad para el algoritmo de entrenamiento del modelo. En esas situaciones, es una buena idea escalar los datos.\n",
        "\n",
        "Podemos escalar los datos utilizando el transformador `MinMaxScaler` de Sklearn."
      ]
    },
    {
      "cell_type": "code",
      "metadata": {
        "colab": {
          "base_uri": "https://localhost:8080/"
        },
        "id": "CfiZ9PLJvmj5",
        "outputId": "b9a7c180-1474-428d-c7c1-71aa810c6b76"
      },
      "source": [
        "from sklearn.preprocessing import MinMaxScaler\n",
        "\n",
        "scaler = MinMaxScaler(feature_range=(0,1))\n",
        "scaler"
      ],
      "execution_count": null,
      "outputs": [
        {
          "output_type": "execute_result",
          "data": {
            "text/plain": [
              "MinMaxScaler(copy=True, feature_range=(0, 1))"
            ]
          },
          "metadata": {
            "tags": []
          },
          "execution_count": 26
        }
      ]
    },
    {
      "cell_type": "markdown",
      "metadata": {
        "id": "GxqwPGibcRqA"
      },
      "source": [
        "note que por defecto se escala al rango (0,1)"
      ]
    },
    {
      "cell_type": "code",
      "metadata": {
        "colab": {
          "base_uri": "https://localhost:8080/"
        },
        "id": "SohM6afFcP6v",
        "outputId": "607394eb-2fbf-4430-cf27-17623a0db650"
      },
      "source": [
        "scaler.fit_transform(X_train)"
      ],
      "execution_count": null,
      "outputs": [
        {
          "output_type": "execute_result",
          "data": {
            "text/plain": [
              "array([[0.05405405, 0.14901961],\n",
              "       [0.45945946, 0.40392157],\n",
              "       [0.27027027, 0.25490196],\n",
              "       ...,\n",
              "       [0.45945946, 0.45098039],\n",
              "       [0.10810811, 0.20784314],\n",
              "       [0.62162162, 0.58823529]])"
            ]
          },
          "metadata": {
            "tags": []
          },
          "execution_count": 29
        }
      ]
    },
    {
      "cell_type": "markdown",
      "metadata": {
        "id": "NiWrTbGJT2VJ"
      },
      "source": [
        "<p><a name=\"cat\"></a></p>\n",
        "\n",
        "# **Codificación de variables categóricas**\n",
        "\n",
        "Algunos algoritmos solo reciben variables numéricas como entrada, por lo que necesitaremos transformar las variables categoricas a variables numericas para poder alimentar el algoritmo.\n",
        "\n",
        "Supongamos que vamos a alimentar un algoritmo que solo toma variables numericas. Supongamos además que transformamos una variable categorica nominal mediante una codificacion ordinal. Puede pasar que el algoritmo le dé más peso a un valor particular de acuerdo al valor numérico que se le ha asignado con la codificacion ordinal, pero este valor en realidad no tiene nada que ver con ese ordenamiento con el cual se hizo la codificacion ordinal. Por lo que la mejor opción sería realizar una codificación nominal para evitar este tipo de comportamiento del algoritmo. O en el caso contrario, si realizamos una codificación nominal a una variable categorica ordinal, podríamos perder capacidad de predicción ya que el algoritmo no es capaz de acceder a esa información ordinal intrinseca de la variable.\n",
        "\n",
        "Sin embargo, el esquema de codificación a utilizar en cada caso se resuelve experimentalmente. Es decir, más allá de las buenas prácticas que podamos seguir, vamos a encontrar casos en el que estas prácticas o el sentido común no son garantía para obtener el mejor rendimiento posible, y la última palabra para saber qué tipo de codificiación utilizar la dará el rendimiento del algoritmo."
      ]
    },
    {
      "cell_type": "code",
      "metadata": {
        "id": "G11AvOfeT0YI",
        "colab": {
          "base_uri": "https://localhost:8080/",
          "height": 309
        },
        "outputId": "03a507be-e1fe-4809-9bde-76d6aef0fa07"
      },
      "source": [
        "df = pd.read_csv(\"https://raw.githubusercontent.com/diplomadomludea/nivel_1/master/data/auto.csv\", index_col=[0])\n",
        "df.dropna(inplace=True)\n",
        "df.head()"
      ],
      "execution_count": null,
      "outputs": [
        {
          "output_type": "execute_result",
          "data": {
            "text/html": [
              "<div>\n",
              "<style scoped>\n",
              "    .dataframe tbody tr th:only-of-type {\n",
              "        vertical-align: middle;\n",
              "    }\n",
              "\n",
              "    .dataframe tbody tr th {\n",
              "        vertical-align: top;\n",
              "    }\n",
              "\n",
              "    .dataframe thead th {\n",
              "        text-align: right;\n",
              "    }\n",
              "</style>\n",
              "<table border=\"1\" class=\"dataframe\">\n",
              "  <thead>\n",
              "    <tr style=\"text-align: right;\">\n",
              "      <th></th>\n",
              "      <th>symboling</th>\n",
              "      <th>normalized-losses</th>\n",
              "      <th>make</th>\n",
              "      <th>aspiration</th>\n",
              "      <th>num-of-doors</th>\n",
              "      <th>body-style</th>\n",
              "      <th>drive-wheels</th>\n",
              "      <th>engine-location</th>\n",
              "      <th>wheel-base</th>\n",
              "      <th>length</th>\n",
              "      <th>width</th>\n",
              "      <th>height</th>\n",
              "      <th>curb-weight</th>\n",
              "      <th>engine-type</th>\n",
              "      <th>num-of-cylinders</th>\n",
              "      <th>engine-size</th>\n",
              "      <th>fuel-system</th>\n",
              "      <th>bore</th>\n",
              "      <th>stroke</th>\n",
              "      <th>compression-ratio</th>\n",
              "      <th>horsepower</th>\n",
              "      <th>peak-rpm</th>\n",
              "      <th>city-mpg</th>\n",
              "      <th>highway-mpg</th>\n",
              "      <th>price</th>\n",
              "      <th>city-L/100km</th>\n",
              "      <th>horsepower-binned</th>\n",
              "      <th>diesel</th>\n",
              "      <th>gas</th>\n",
              "    </tr>\n",
              "  </thead>\n",
              "  <tbody>\n",
              "    <tr>\n",
              "      <th>0</th>\n",
              "      <td>3</td>\n",
              "      <td>122</td>\n",
              "      <td>alfa-romero</td>\n",
              "      <td>std</td>\n",
              "      <td>two</td>\n",
              "      <td>convertible</td>\n",
              "      <td>rwd</td>\n",
              "      <td>front</td>\n",
              "      <td>88.6</td>\n",
              "      <td>0.811148</td>\n",
              "      <td>0.890278</td>\n",
              "      <td>48.8</td>\n",
              "      <td>2548</td>\n",
              "      <td>dohc</td>\n",
              "      <td>four</td>\n",
              "      <td>130</td>\n",
              "      <td>mpfi</td>\n",
              "      <td>3.47</td>\n",
              "      <td>2.68</td>\n",
              "      <td>9.0</td>\n",
              "      <td>111.0</td>\n",
              "      <td>5000.0</td>\n",
              "      <td>21</td>\n",
              "      <td>27</td>\n",
              "      <td>13495.0</td>\n",
              "      <td>11.190476</td>\n",
              "      <td>Medium</td>\n",
              "      <td>0</td>\n",
              "      <td>1</td>\n",
              "    </tr>\n",
              "    <tr>\n",
              "      <th>1</th>\n",
              "      <td>3</td>\n",
              "      <td>122</td>\n",
              "      <td>alfa-romero</td>\n",
              "      <td>std</td>\n",
              "      <td>two</td>\n",
              "      <td>convertible</td>\n",
              "      <td>rwd</td>\n",
              "      <td>front</td>\n",
              "      <td>88.6</td>\n",
              "      <td>0.811148</td>\n",
              "      <td>0.890278</td>\n",
              "      <td>48.8</td>\n",
              "      <td>2548</td>\n",
              "      <td>dohc</td>\n",
              "      <td>four</td>\n",
              "      <td>130</td>\n",
              "      <td>mpfi</td>\n",
              "      <td>3.47</td>\n",
              "      <td>2.68</td>\n",
              "      <td>9.0</td>\n",
              "      <td>111.0</td>\n",
              "      <td>5000.0</td>\n",
              "      <td>21</td>\n",
              "      <td>27</td>\n",
              "      <td>16500.0</td>\n",
              "      <td>11.190476</td>\n",
              "      <td>Medium</td>\n",
              "      <td>0</td>\n",
              "      <td>1</td>\n",
              "    </tr>\n",
              "    <tr>\n",
              "      <th>2</th>\n",
              "      <td>1</td>\n",
              "      <td>122</td>\n",
              "      <td>alfa-romero</td>\n",
              "      <td>std</td>\n",
              "      <td>two</td>\n",
              "      <td>hatchback</td>\n",
              "      <td>rwd</td>\n",
              "      <td>front</td>\n",
              "      <td>94.5</td>\n",
              "      <td>0.822681</td>\n",
              "      <td>0.909722</td>\n",
              "      <td>52.4</td>\n",
              "      <td>2823</td>\n",
              "      <td>ohcv</td>\n",
              "      <td>six</td>\n",
              "      <td>152</td>\n",
              "      <td>mpfi</td>\n",
              "      <td>2.68</td>\n",
              "      <td>3.47</td>\n",
              "      <td>9.0</td>\n",
              "      <td>154.0</td>\n",
              "      <td>5000.0</td>\n",
              "      <td>19</td>\n",
              "      <td>26</td>\n",
              "      <td>16500.0</td>\n",
              "      <td>12.368421</td>\n",
              "      <td>Medium</td>\n",
              "      <td>0</td>\n",
              "      <td>1</td>\n",
              "    </tr>\n",
              "    <tr>\n",
              "      <th>3</th>\n",
              "      <td>2</td>\n",
              "      <td>164</td>\n",
              "      <td>audi</td>\n",
              "      <td>std</td>\n",
              "      <td>four</td>\n",
              "      <td>sedan</td>\n",
              "      <td>fwd</td>\n",
              "      <td>front</td>\n",
              "      <td>99.8</td>\n",
              "      <td>0.848630</td>\n",
              "      <td>0.919444</td>\n",
              "      <td>54.3</td>\n",
              "      <td>2337</td>\n",
              "      <td>ohc</td>\n",
              "      <td>four</td>\n",
              "      <td>109</td>\n",
              "      <td>mpfi</td>\n",
              "      <td>3.19</td>\n",
              "      <td>3.40</td>\n",
              "      <td>10.0</td>\n",
              "      <td>102.0</td>\n",
              "      <td>5500.0</td>\n",
              "      <td>24</td>\n",
              "      <td>30</td>\n",
              "      <td>13950.0</td>\n",
              "      <td>9.791667</td>\n",
              "      <td>Medium</td>\n",
              "      <td>0</td>\n",
              "      <td>1</td>\n",
              "    </tr>\n",
              "    <tr>\n",
              "      <th>4</th>\n",
              "      <td>2</td>\n",
              "      <td>164</td>\n",
              "      <td>audi</td>\n",
              "      <td>std</td>\n",
              "      <td>four</td>\n",
              "      <td>sedan</td>\n",
              "      <td>4wd</td>\n",
              "      <td>front</td>\n",
              "      <td>99.4</td>\n",
              "      <td>0.848630</td>\n",
              "      <td>0.922222</td>\n",
              "      <td>54.3</td>\n",
              "      <td>2824</td>\n",
              "      <td>ohc</td>\n",
              "      <td>five</td>\n",
              "      <td>136</td>\n",
              "      <td>mpfi</td>\n",
              "      <td>3.19</td>\n",
              "      <td>3.40</td>\n",
              "      <td>8.0</td>\n",
              "      <td>115.0</td>\n",
              "      <td>5500.0</td>\n",
              "      <td>18</td>\n",
              "      <td>22</td>\n",
              "      <td>17450.0</td>\n",
              "      <td>13.055556</td>\n",
              "      <td>Medium</td>\n",
              "      <td>0</td>\n",
              "      <td>1</td>\n",
              "    </tr>\n",
              "  </tbody>\n",
              "</table>\n",
              "</div>"
            ],
            "text/plain": [
              "   symboling  normalized-losses         make  ... horsepower-binned diesel gas\n",
              "0          3                122  alfa-romero  ...            Medium      0   1\n",
              "1          3                122  alfa-romero  ...            Medium      0   1\n",
              "2          1                122  alfa-romero  ...            Medium      0   1\n",
              "3          2                164         audi  ...            Medium      0   1\n",
              "4          2                164         audi  ...            Medium      0   1\n",
              "\n",
              "[5 rows x 29 columns]"
            ]
          },
          "metadata": {
            "tags": []
          },
          "execution_count": 31
        }
      ]
    },
    {
      "cell_type": "code",
      "metadata": {
        "colab": {
          "base_uri": "https://localhost:8080/"
        },
        "id": "Od__zhMo9LMq",
        "outputId": "f855c1d4-c091-4d5d-e985-0b5393fcac78"
      },
      "source": [
        "df.dtypes"
      ],
      "execution_count": null,
      "outputs": [
        {
          "output_type": "execute_result",
          "data": {
            "text/plain": [
              "symboling              int64\n",
              "normalized-losses      int64\n",
              "make                  object\n",
              "aspiration            object\n",
              "num-of-doors          object\n",
              "body-style            object\n",
              "drive-wheels          object\n",
              "engine-location       object\n",
              "wheel-base           float64\n",
              "length               float64\n",
              "width                float64\n",
              "height               float64\n",
              "curb-weight            int64\n",
              "engine-type           object\n",
              "num-of-cylinders      object\n",
              "engine-size            int64\n",
              "fuel-system           object\n",
              "bore                 float64\n",
              "stroke               float64\n",
              "compression-ratio    float64\n",
              "horsepower           float64\n",
              "peak-rpm             float64\n",
              "city-mpg               int64\n",
              "highway-mpg            int64\n",
              "price                float64\n",
              "city-L/100km         float64\n",
              "horsepower-binned     object\n",
              "diesel                 int64\n",
              "gas                    int64\n",
              "dtype: object"
            ]
          },
          "metadata": {
            "tags": []
          },
          "execution_count": 33
        }
      ]
    },
    {
      "cell_type": "markdown",
      "metadata": {
        "id": "86pfqIS4T9VQ"
      },
      "source": [
        "**Codificación Ordinal**\n",
        "\n",
        "Comencemos por la codificacion de las variables categoricas ordinales. La codificación ordinal la podemos implementar mediante los transformadores `LabelEncoder` o `OrdinalEncoder`de Sklearn. Transformemos la característica `num-of-cylinders`"
      ]
    },
    {
      "cell_type": "code",
      "metadata": {
        "id": "oBzjTVEXT_4H",
        "colab": {
          "base_uri": "https://localhost:8080/"
        },
        "outputId": "bcd3b51e-6a5d-4f55-8350-1d9082bceb79"
      },
      "source": [
        "df[\"num-of-cylinders\"].unique()"
      ],
      "execution_count": null,
      "outputs": [
        {
          "output_type": "execute_result",
          "data": {
            "text/plain": [
              "array(['four', 'six', 'five', 'three', 'eight'], dtype=object)"
            ]
          },
          "metadata": {
            "tags": []
          },
          "execution_count": 35
        }
      ]
    },
    {
      "cell_type": "code",
      "metadata": {
        "id": "AIIAPmmKUCM3"
      },
      "source": [
        "from sklearn.preprocessing import LabelEncoder, OrdinalEncoder\n",
        "\n",
        "le = LabelEncoder()\n",
        "oe = OrdinalEncoder()"
      ],
      "execution_count": null,
      "outputs": []
    },
    {
      "cell_type": "code",
      "metadata": {
        "colab": {
          "base_uri": "https://localhost:8080/"
        },
        "id": "U9emxvLNdn3x",
        "outputId": "cb0cb3c7-99bc-4bee-fa9f-690d34d61303"
      },
      "source": [
        "# retorna un arreglo unidimensional\n",
        "le.fit_transform(df[\"num-of-cylinders\"])[:5]"
      ],
      "execution_count": null,
      "outputs": [
        {
          "output_type": "execute_result",
          "data": {
            "text/plain": [
              "array([2, 2, 3, 2, 1])"
            ]
          },
          "metadata": {
            "tags": []
          },
          "execution_count": 43
        }
      ]
    },
    {
      "cell_type": "code",
      "metadata": {
        "colab": {
          "base_uri": "https://localhost:8080/"
        },
        "id": "k8gm9UsadskQ",
        "outputId": "3cd5a5b0-4691-46de-93c0-f19daffa7eff"
      },
      "source": [
        "# retorna un arreglo bidimensional\n",
        "oe.fit_transform(df[[\"num-of-cylinders\"]])[:5]"
      ],
      "execution_count": null,
      "outputs": [
        {
          "output_type": "execute_result",
          "data": {
            "text/plain": [
              "array([[2.],\n",
              "       [2.],\n",
              "       [3.],\n",
              "       [2.],\n",
              "       [1.]])"
            ]
          },
          "metadata": {
            "tags": []
          },
          "execution_count": 44
        }
      ]
    },
    {
      "cell_type": "markdown",
      "metadata": {
        "id": "dHh94FFKcH6P"
      },
      "source": [
        "Veamos cómo se realizó la codificación"
      ]
    },
    {
      "cell_type": "code",
      "metadata": {
        "colab": {
          "base_uri": "https://localhost:8080/",
          "height": 204
        },
        "id": "RGpUnT4hLrIY",
        "outputId": "d40d9d9c-b9a9-44a9-aab1-0eaa23caf6fc"
      },
      "source": [
        "df[\"num-of-cylinders-num\"] = le.fit_transform(df[\"num-of-cylinders\"])\n",
        "\n",
        "df[[\"num-of-cylinders\",\"num-of-cylinders-num\"]].sort_values(by=[\"num-of-cylinders-num\"]).drop_duplicates()"
      ],
      "execution_count": null,
      "outputs": [
        {
          "output_type": "execute_result",
          "data": {
            "text/html": [
              "<div>\n",
              "<style scoped>\n",
              "    .dataframe tbody tr th:only-of-type {\n",
              "        vertical-align: middle;\n",
              "    }\n",
              "\n",
              "    .dataframe tbody tr th {\n",
              "        vertical-align: top;\n",
              "    }\n",
              "\n",
              "    .dataframe thead th {\n",
              "        text-align: right;\n",
              "    }\n",
              "</style>\n",
              "<table border=\"1\" class=\"dataframe\">\n",
              "  <thead>\n",
              "    <tr style=\"text-align: right;\">\n",
              "      <th></th>\n",
              "      <th>num-of-cylinders</th>\n",
              "      <th>num-of-cylinders-num</th>\n",
              "    </tr>\n",
              "  </thead>\n",
              "  <tbody>\n",
              "    <tr>\n",
              "      <th>70</th>\n",
              "      <td>eight</td>\n",
              "      <td>0</td>\n",
              "    </tr>\n",
              "    <tr>\n",
              "      <th>67</th>\n",
              "      <td>five</td>\n",
              "      <td>1</td>\n",
              "    </tr>\n",
              "    <tr>\n",
              "      <th>137</th>\n",
              "      <td>four</td>\n",
              "      <td>2</td>\n",
              "    </tr>\n",
              "    <tr>\n",
              "      <th>13</th>\n",
              "      <td>six</td>\n",
              "      <td>3</td>\n",
              "    </tr>\n",
              "    <tr>\n",
              "      <th>17</th>\n",
              "      <td>three</td>\n",
              "      <td>4</td>\n",
              "    </tr>\n",
              "  </tbody>\n",
              "</table>\n",
              "</div>"
            ],
            "text/plain": [
              "    num-of-cylinders  num-of-cylinders-num\n",
              "70             eight                     0\n",
              "67              five                     1\n",
              "137             four                     2\n",
              "13               six                     3\n",
              "17             three                     4"
            ]
          },
          "metadata": {
            "tags": []
          },
          "execution_count": 45
        }
      ]
    },
    {
      "cell_type": "markdown",
      "metadata": {
        "id": "tGwvSVPuUOb7"
      },
      "source": [
        "Note que la codificación no se hace en el orden esperado. Esto es debido a que no se ha hecho explícita la naturaleza de la variable. Podemos convertir la característica a una variable categórica con la función `Categorical` de Pandas, donde podemos especificar si la variables es ordinal y cual es el orden de las categorías"
      ]
    },
    {
      "cell_type": "code",
      "metadata": {
        "id": "txAwO5vVMluG",
        "colab": {
          "base_uri": "https://localhost:8080/"
        },
        "outputId": "6f2e7184-cae2-49f4-97e5-c9f183660c7e"
      },
      "source": [
        "df[\"num-of-cylinders-num\"] = pd.Categorical(df[\"num-of-cylinders\"], ordered=True, categories=[\"three\",\"four\",\"five\",\"six\",\"eight\"])\n",
        "df[\"num-of-cylinders-num\"]"
      ],
      "execution_count": null,
      "outputs": [
        {
          "output_type": "execute_result",
          "data": {
            "text/plain": [
              "0      four\n",
              "1      four\n",
              "2       six\n",
              "3      four\n",
              "4      five\n",
              "       ... \n",
              "196    four\n",
              "197    four\n",
              "198     six\n",
              "199     six\n",
              "200    four\n",
              "Name: num-of-cylinders-num, Length: 196, dtype: category\n",
              "Categories (5, object): ['three' < 'four' < 'five' < 'six' < 'eight']"
            ]
          },
          "metadata": {
            "tags": []
          },
          "execution_count": 46
        }
      ]
    },
    {
      "cell_type": "markdown",
      "metadata": {
        "id": "dCXXZaraeX_h"
      },
      "source": [
        "con el atributo de acceso `cat` podemos obtener una etiqueta asociada a cada categoria con el atributo `codes`"
      ]
    },
    {
      "cell_type": "code",
      "metadata": {
        "colab": {
          "base_uri": "https://localhost:8080/"
        },
        "id": "YsR34ljcNF0Y",
        "outputId": "b94e5f95-e23a-46fa-ed87-99b511f1b606"
      },
      "source": [
        "df[\"num-of-cylinders-num\"] = df[\"num-of-cylinders-num\"].cat.codes\n",
        "df[\"num-of-cylinders-num\"]"
      ],
      "execution_count": null,
      "outputs": [
        {
          "output_type": "execute_result",
          "data": {
            "text/plain": [
              "0      1\n",
              "1      1\n",
              "2      3\n",
              "3      1\n",
              "4      2\n",
              "      ..\n",
              "196    1\n",
              "197    1\n",
              "198    3\n",
              "199    3\n",
              "200    1\n",
              "Name: num-of-cylinders-num, Length: 196, dtype: int8"
            ]
          },
          "metadata": {
            "tags": []
          },
          "execution_count": 47
        }
      ]
    },
    {
      "cell_type": "code",
      "metadata": {
        "colab": {
          "base_uri": "https://localhost:8080/",
          "height": 204
        },
        "id": "KL8WATZIelKT",
        "outputId": "74b22499-5db1-4d40-d69f-aa475b916b75"
      },
      "source": [
        "df[[\"num-of-cylinders\",\"num-of-cylinders-num\"]].sort_values(by=[\"num-of-cylinders-num\"]).drop_duplicates()"
      ],
      "execution_count": null,
      "outputs": [
        {
          "output_type": "execute_result",
          "data": {
            "text/html": [
              "<div>\n",
              "<style scoped>\n",
              "    .dataframe tbody tr th:only-of-type {\n",
              "        vertical-align: middle;\n",
              "    }\n",
              "\n",
              "    .dataframe tbody tr th {\n",
              "        vertical-align: top;\n",
              "    }\n",
              "\n",
              "    .dataframe thead th {\n",
              "        text-align: right;\n",
              "    }\n",
              "</style>\n",
              "<table border=\"1\" class=\"dataframe\">\n",
              "  <thead>\n",
              "    <tr style=\"text-align: right;\">\n",
              "      <th></th>\n",
              "      <th>num-of-cylinders</th>\n",
              "      <th>num-of-cylinders-num</th>\n",
              "    </tr>\n",
              "  </thead>\n",
              "  <tbody>\n",
              "    <tr>\n",
              "      <th>17</th>\n",
              "      <td>three</td>\n",
              "      <td>0</td>\n",
              "    </tr>\n",
              "    <tr>\n",
              "      <th>0</th>\n",
              "      <td>four</td>\n",
              "      <td>1</td>\n",
              "    </tr>\n",
              "    <tr>\n",
              "      <th>187</th>\n",
              "      <td>five</td>\n",
              "      <td>2</td>\n",
              "    </tr>\n",
              "    <tr>\n",
              "      <th>13</th>\n",
              "      <td>six</td>\n",
              "      <td>3</td>\n",
              "    </tr>\n",
              "    <tr>\n",
              "      <th>70</th>\n",
              "      <td>eight</td>\n",
              "      <td>4</td>\n",
              "    </tr>\n",
              "  </tbody>\n",
              "</table>\n",
              "</div>"
            ],
            "text/plain": [
              "    num-of-cylinders  num-of-cylinders-num\n",
              "17             three                     0\n",
              "0               four                     1\n",
              "187             five                     2\n",
              "13               six                     3\n",
              "70             eight                     4"
            ]
          },
          "metadata": {
            "tags": []
          },
          "execution_count": 48
        }
      ]
    },
    {
      "cell_type": "markdown",
      "metadata": {
        "id": "vaqQBLU2Ntgx"
      },
      "source": [
        "Alternativamente podemos utilizar un mapeo directamente "
      ]
    },
    {
      "cell_type": "code",
      "metadata": {
        "id": "9Mmss16d9tsh"
      },
      "source": [
        "mapping = {\"two\":2, \"three\":3, \"four\":4, \"five\":5, \"six\":6, \"eight\":8, \"twelve\":12}\n",
        "\n",
        "df[\"num-of-cylinders-num\"] = df[\"num-of-cylinders\"].replace(mapping)"
      ],
      "execution_count": null,
      "outputs": []
    },
    {
      "cell_type": "code",
      "metadata": {
        "id": "t9c2ABBsUgXm",
        "colab": {
          "base_uri": "https://localhost:8080/",
          "height": 204
        },
        "outputId": "832448b5-c0c5-433c-a7c5-b501c414254d"
      },
      "source": [
        "df[[\"num-of-cylinders\",\"num-of-cylinders-num\"]].drop_duplicates()"
      ],
      "execution_count": null,
      "outputs": [
        {
          "output_type": "execute_result",
          "data": {
            "text/html": [
              "<div>\n",
              "<style scoped>\n",
              "    .dataframe tbody tr th:only-of-type {\n",
              "        vertical-align: middle;\n",
              "    }\n",
              "\n",
              "    .dataframe tbody tr th {\n",
              "        vertical-align: top;\n",
              "    }\n",
              "\n",
              "    .dataframe thead th {\n",
              "        text-align: right;\n",
              "    }\n",
              "</style>\n",
              "<table border=\"1\" class=\"dataframe\">\n",
              "  <thead>\n",
              "    <tr style=\"text-align: right;\">\n",
              "      <th></th>\n",
              "      <th>num-of-cylinders</th>\n",
              "      <th>num-of-cylinders-num</th>\n",
              "    </tr>\n",
              "  </thead>\n",
              "  <tbody>\n",
              "    <tr>\n",
              "      <th>0</th>\n",
              "      <td>four</td>\n",
              "      <td>4</td>\n",
              "    </tr>\n",
              "    <tr>\n",
              "      <th>2</th>\n",
              "      <td>six</td>\n",
              "      <td>6</td>\n",
              "    </tr>\n",
              "    <tr>\n",
              "      <th>4</th>\n",
              "      <td>five</td>\n",
              "      <td>5</td>\n",
              "    </tr>\n",
              "    <tr>\n",
              "      <th>17</th>\n",
              "      <td>three</td>\n",
              "      <td>3</td>\n",
              "    </tr>\n",
              "    <tr>\n",
              "      <th>68</th>\n",
              "      <td>eight</td>\n",
              "      <td>8</td>\n",
              "    </tr>\n",
              "  </tbody>\n",
              "</table>\n",
              "</div>"
            ],
            "text/plain": [
              "   num-of-cylinders  num-of-cylinders-num\n",
              "0              four                     4\n",
              "2               six                     6\n",
              "4              five                     5\n",
              "17            three                     3\n",
              "68            eight                     8"
            ]
          },
          "metadata": {
            "tags": []
          },
          "execution_count": 50
        }
      ]
    },
    {
      "cell_type": "markdown",
      "metadata": {
        "id": "4w5YhYooUxv8"
      },
      "source": [
        "**One-Hot Encoding**\n",
        "\n",
        "Para las variables categoricas nominales usaremos otro tipo de codificación, conocida como *one-hot encoding*. Esencialmente, cada característica categórica con $n$ categorías se transforma en $n$ características binarias (o variables *dummy*). \n",
        "\n",
        "Esta codificación se puede implementar mediante el transformador `OneHotEncoder` de Sklearn. Transformemos la característica `drive-wheels` con este esquema de codificación"
      ]
    },
    {
      "cell_type": "code",
      "metadata": {
        "id": "UF1JzcViUh9O",
        "colab": {
          "base_uri": "https://localhost:8080/"
        },
        "outputId": "1d330ad7-f728-4db4-a77f-4469bdbfca12"
      },
      "source": [
        "df[\"drive-wheels\"].unique()"
      ],
      "execution_count": null,
      "outputs": [
        {
          "output_type": "execute_result",
          "data": {
            "text/plain": [
              "array(['rwd', 'fwd', '4wd'], dtype=object)"
            ]
          },
          "metadata": {
            "tags": []
          },
          "execution_count": 51
        }
      ]
    },
    {
      "cell_type": "code",
      "metadata": {
        "id": "RN0gdIQoU0Vm",
        "colab": {
          "base_uri": "https://localhost:8080/"
        },
        "outputId": "ff93b11d-abbf-4176-a09c-a47a842d6a6a"
      },
      "source": [
        "from sklearn.preprocessing import OneHotEncoder\n",
        "\n",
        "ohe = OneHotEncoder()\n",
        "ohe"
      ],
      "execution_count": null,
      "outputs": [
        {
          "output_type": "execute_result",
          "data": {
            "text/plain": [
              "OneHotEncoder(categories='auto', drop=None, dtype=<class 'numpy.float64'>,\n",
              "              handle_unknown='error', sparse=True)"
            ]
          },
          "metadata": {
            "tags": []
          },
          "execution_count": 54
        }
      ]
    },
    {
      "cell_type": "code",
      "metadata": {
        "id": "qD02x7D2U08m",
        "colab": {
          "base_uri": "https://localhost:8080/"
        },
        "outputId": "ec7a8f0a-8efa-4f18-af7b-41a2a518f317"
      },
      "source": [
        "ohe.fit_transform(df[[\"drive-wheels\"]])"
      ],
      "execution_count": null,
      "outputs": [
        {
          "output_type": "execute_result",
          "data": {
            "text/plain": [
              "<196x3 sparse matrix of type '<class 'numpy.float64'>'\n",
              "\twith 196 stored elements in Compressed Sparse Row format>"
            ]
          },
          "metadata": {
            "tags": []
          },
          "execution_count": 55
        }
      ]
    },
    {
      "cell_type": "markdown",
      "metadata": {
        "id": "mmqNs3hxfFBF"
      },
      "source": [
        "Note que por defecto se retorna una matriz *dispersa* (sparse), en la cual no se utiliza espacio en memoria para almacenar todos los ceros que aparecen en este esquema de codificación. Sin embargo los métodos y funcionalidades de Sklearn, por ejemplo para construir modelos, aceptan este tipo de matrices. Ahora, si queremos visualizar el resultado, utilizamos el kwarg `sparse`"
      ]
    },
    {
      "cell_type": "code",
      "metadata": {
        "colab": {
          "base_uri": "https://localhost:8080/"
        },
        "id": "727BdPzJfg9G",
        "outputId": "f03fd3c3-1371-4325-ffbc-9e30e00c4d9a"
      },
      "source": [
        "ohe = OneHotEncoder(sparse=False)\n",
        "\n",
        "ohe.fit_transform(df[[\"drive-wheels\"]])[:5]"
      ],
      "execution_count": null,
      "outputs": [
        {
          "output_type": "execute_result",
          "data": {
            "text/plain": [
              "array([[0., 0., 1.],\n",
              "       [0., 0., 1.],\n",
              "       [0., 0., 1.],\n",
              "       [0., 1., 0.],\n",
              "       [1., 0., 0.]])"
            ]
          },
          "metadata": {
            "tags": []
          },
          "execution_count": 56
        }
      ]
    },
    {
      "cell_type": "markdown",
      "metadata": {
        "id": "ehhp99BLfmPm"
      },
      "source": [
        "como se había mencionado, las $n$ (tres) categorias ('rwd', 'fwd' y '4wd') se codificaron en $n$ (tres) características. Siempre es posible eliminar una de las características (y quedarnos con $2n - 1$ características), ya que contiene información redundante. Podemos eliminar esa columna adicional utilizando el kwarg `drop`"
      ]
    },
    {
      "cell_type": "code",
      "metadata": {
        "id": "rMLGxq0qU2hV",
        "colab": {
          "base_uri": "https://localhost:8080/"
        },
        "outputId": "822b98a1-3970-4192-abb3-b80cdd456d7f"
      },
      "source": [
        "ohe = OneHotEncoder(sparse=False, drop=\"first\")\n",
        "\n",
        "ohe.fit_transform(df[[\"drive-wheels\"]])[:5]"
      ],
      "execution_count": null,
      "outputs": [
        {
          "output_type": "execute_result",
          "data": {
            "text/plain": [
              "array([[0., 1.],\n",
              "       [0., 1.],\n",
              "       [0., 1.],\n",
              "       [1., 0.],\n",
              "       [0., 0.]])"
            ]
          },
          "metadata": {
            "tags": []
          },
          "execution_count": 58
        }
      ]
    },
    {
      "cell_type": "markdown",
      "metadata": {
        "id": "6nqUfWq4U94O"
      },
      "source": [
        "Esta codificación también la podemos implementar con Pandas mediante el método `get_dummies`:"
      ]
    },
    {
      "cell_type": "code",
      "metadata": {
        "id": "oSQHQGKoU8CO",
        "colab": {
          "base_uri": "https://localhost:8080/",
          "height": 419
        },
        "outputId": "b9895c8e-7d26-479c-cc86-394d4434088d"
      },
      "source": [
        "pd.get_dummies(df[[\"drive-wheels\"]], drop_first=True)"
      ],
      "execution_count": null,
      "outputs": [
        {
          "output_type": "execute_result",
          "data": {
            "text/html": [
              "<div>\n",
              "<style scoped>\n",
              "    .dataframe tbody tr th:only-of-type {\n",
              "        vertical-align: middle;\n",
              "    }\n",
              "\n",
              "    .dataframe tbody tr th {\n",
              "        vertical-align: top;\n",
              "    }\n",
              "\n",
              "    .dataframe thead th {\n",
              "        text-align: right;\n",
              "    }\n",
              "</style>\n",
              "<table border=\"1\" class=\"dataframe\">\n",
              "  <thead>\n",
              "    <tr style=\"text-align: right;\">\n",
              "      <th></th>\n",
              "      <th>drive-wheels_fwd</th>\n",
              "      <th>drive-wheels_rwd</th>\n",
              "    </tr>\n",
              "  </thead>\n",
              "  <tbody>\n",
              "    <tr>\n",
              "      <th>0</th>\n",
              "      <td>0</td>\n",
              "      <td>1</td>\n",
              "    </tr>\n",
              "    <tr>\n",
              "      <th>1</th>\n",
              "      <td>0</td>\n",
              "      <td>1</td>\n",
              "    </tr>\n",
              "    <tr>\n",
              "      <th>2</th>\n",
              "      <td>0</td>\n",
              "      <td>1</td>\n",
              "    </tr>\n",
              "    <tr>\n",
              "      <th>3</th>\n",
              "      <td>1</td>\n",
              "      <td>0</td>\n",
              "    </tr>\n",
              "    <tr>\n",
              "      <th>4</th>\n",
              "      <td>0</td>\n",
              "      <td>0</td>\n",
              "    </tr>\n",
              "    <tr>\n",
              "      <th>...</th>\n",
              "      <td>...</td>\n",
              "      <td>...</td>\n",
              "    </tr>\n",
              "    <tr>\n",
              "      <th>196</th>\n",
              "      <td>0</td>\n",
              "      <td>1</td>\n",
              "    </tr>\n",
              "    <tr>\n",
              "      <th>197</th>\n",
              "      <td>0</td>\n",
              "      <td>1</td>\n",
              "    </tr>\n",
              "    <tr>\n",
              "      <th>198</th>\n",
              "      <td>0</td>\n",
              "      <td>1</td>\n",
              "    </tr>\n",
              "    <tr>\n",
              "      <th>199</th>\n",
              "      <td>0</td>\n",
              "      <td>1</td>\n",
              "    </tr>\n",
              "    <tr>\n",
              "      <th>200</th>\n",
              "      <td>0</td>\n",
              "      <td>1</td>\n",
              "    </tr>\n",
              "  </tbody>\n",
              "</table>\n",
              "<p>196 rows × 2 columns</p>\n",
              "</div>"
            ],
            "text/plain": [
              "     drive-wheels_fwd  drive-wheels_rwd\n",
              "0                   0                 1\n",
              "1                   0                 1\n",
              "2                   0                 1\n",
              "3                   1                 0\n",
              "4                   0                 0\n",
              "..                ...               ...\n",
              "196                 0                 1\n",
              "197                 0                 1\n",
              "198                 0                 1\n",
              "199                 0                 1\n",
              "200                 0                 1\n",
              "\n",
              "[196 rows x 2 columns]"
            ]
          },
          "metadata": {
            "tags": []
          },
          "execution_count": 60
        }
      ]
    },
    {
      "cell_type": "code",
      "metadata": {
        "id": "UN63igbIU_fE"
      },
      "source": [
        ""
      ],
      "execution_count": null,
      "outputs": []
    }
  ]
}