{
  "nbformat": 4,
  "nbformat_minor": 0,
  "metadata": {
    "colab": {
      "name": "DipMLsesion6.ipynb",
      "provenance": [],
      "collapsed_sections": [],
      "include_colab_link": true
    },
    "kernelspec": {
      "name": "python3",
      "display_name": "Python 3"
    }
  },
  "cells": [
    {
      "cell_type": "markdown",
      "metadata": {
        "id": "view-in-github",
        "colab_type": "text"
      },
      "source": [
        "<a href=\"https://colab.research.google.com/github/solozano0725/diplomadoMLNivel1/blob/main/DipMLsesion6.ipynb\" target=\"_parent\"><img src=\"https://colab.research.google.com/assets/colab-badge.svg\" alt=\"Open In Colab\"/></a>"
      ]
    },
    {
      "cell_type": "markdown",
      "metadata": {
        "id": "guIPjdo3SHak"
      },
      "source": [
        "<p><img alt=\"Colaboratory logo\" height=\"140px\" src=\"https://upload.wikimedia.org/wikipedia/commons/archive/f/fb/20161010213812%21Escudo-UdeA.svg\" align=\"left\" hspace=\"10px\" vspace=\"0px\"></p>\n",
        "\n",
        "# **Diplomado de Análisis de datos y Machine Learning en Python**\n",
        "\n",
        "\n",
        "El presente diplomado hace parte del centro de Big Data de la facultad de ciencias exactas y naturales (FCEN) de la Universidad de Antioquia.\n",
        "\n",
        "## **Sesión 6**\n",
        "\n",
        "## **Contenido**\n",
        "\n",
        "- <a href=\"#num\"> NumPy</a><br>\n",
        "  - <a href=\"#ope\"> Operaciones vectorizadas</a><br>\n",
        "  - <a href=\"#ind\"> Indexación y segmentación</a><br>\n",
        "  - <a href=\"#enm\"> Enmascaramiento</a><br>\n",
        "  - <a href=\"#sof\"> Indexación sofisticada</a><br>\n",
        "\n",
        "\n",
        "\n",
        "\n",
        "\n"
      ]
    },
    {
      "cell_type": "markdown",
      "metadata": {
        "id": "X08O8GHfveZA"
      },
      "source": [
        "<p><a name=\"ope\"></a></p>\n",
        "\n",
        "# **Operaciones vectorizadas**\n",
        "\n",
        "Es importante mencionar que el uso de operaciones vectorizadas no solo significa la utilización de funciones universales para la realización de las operaciones elemento a elemento. En el contexto de lenguajes de alto nivel como Python, el término **vectorización** representa el uso de código optimizado y precompilado escrito en lenguajes de bajo nivel (por ejemplo C) para realizar operaciones matemáticas en una secuencia de datos. Esto se realiza en lugar de una iteración explicita escrita en código nativo, como ya vimos en el ejemplo de la multiplicacion, que hace que las operaciones sean más eficientes. \n",
        "\n",
        "Veamos un ejemplo con el cual se ilustra la eficiencia computacional que se alcanza con las operaciones vectorizadas de NumPy: Construyamos una función que calcule el recíproco de una lista"
      ]
    },
    {
      "cell_type": "code",
      "metadata": {
        "id": "mJr3Jhx9vtGp"
      },
      "source": [
        "def reciproco(lista):\n",
        "  \"\"\"retorna el reciproco de una lista\"\"\"\n",
        "  rec = []\n",
        "  for elemento in lista:\n",
        "    rec.append(1.0 / elemento)\n",
        "    \n",
        "  return rec"
      ],
      "execution_count": null,
      "outputs": []
    },
    {
      "cell_type": "code",
      "metadata": {
        "colab": {
          "base_uri": "https://localhost:8080/"
        },
        "id": "noWra9fBvzJ9",
        "outputId": "9e53c4f4-662e-4e18-df7b-639b009419da"
      },
      "source": [
        "%%timeit \n",
        "a = [*range(1,100000)]\n",
        "reciproco(a)"
      ],
      "execution_count": null,
      "outputs": [
        {
          "output_type": "stream",
          "text": [
            "100 loops, best of 5: 13.3 ms per loop\n"
          ],
          "name": "stdout"
        }
      ]
    },
    {
      "cell_type": "markdown",
      "metadata": {
        "id": "y1Oysyx0v9-Z"
      },
      "source": [
        "La operación equivalente en NumPy, utilizando ufuncs, será:"
      ]
    },
    {
      "cell_type": "code",
      "metadata": {
        "id": "N1FkwlrpwID0"
      },
      "source": [
        "import numpy as np"
      ],
      "execution_count": null,
      "outputs": []
    },
    {
      "cell_type": "code",
      "metadata": {
        "colab": {
          "base_uri": "https://localhost:8080/"
        },
        "id": "9TIOepP6wCGf",
        "outputId": "e9e8f028-fde2-430e-8f1f-eb088a8a9827"
      },
      "source": [
        "%%timeit\n",
        "a = np.arange(1,100000)\n",
        "1/a"
      ],
      "execution_count": null,
      "outputs": [
        {
          "output_type": "stream",
          "text": [
            "1000 loops, best of 5: 341 µs per loop\n"
          ],
          "name": "stdout"
        }
      ]
    },
    {
      "cell_type": "markdown",
      "metadata": {
        "id": "s-bBckRfwS6O"
      },
      "source": [
        "Note la diferencia en el orden de magnitud del tiempo de computo en ambas versiones. \n",
        "\n",
        "Resulta que el cuello de botella aquí no son las operaciones en sí mismas, sino la verificación de tipos y demás que Python debe hacer en cada ciclo. Cada vez que se calcula el recíproco, Python primero examina el tipo de objeto y realiza una búsqueda dinámica de la función correcta que se utilizará para ese tipo. Si estuviéramos trabajando en código compilado, esta especificación de tipo se conocería antes de que se ejecute el código y el resultado podría calcularse de manera mucho más eficiente.\n",
        "\n",
        "Los cálculos que usan vectorización a través de ufuncs son casi siempre más eficientes que su contraparte implementada a través de ciclos, especialmente a medida que los arreglos crecen en tamaño. \n",
        "\n",
        "Cada vez que se vea un ciclo en Python, debe considerarse si este puede reemplazarse con una expresión vectorizada."
      ]
    },
    {
      "cell_type": "markdown",
      "metadata": {
        "id": "nzJBR1odwqyu"
      },
      "source": [
        "**Ejercicio 1:**  La serie de Leibniz  \n",
        "\n",
        "$$\\frac{\\pi}{4}=1-\\frac{1}{3}+\\frac{1}{5}-\\frac{1}{7}+\\cdot \\cdot \\cdot=\\sum_{n=0}^{\\infty} \\frac{(-1)^n}{2n+1}$$ \n",
        "\n",
        "permite obtener un valor aproximado para el número $\\pi$. Escriba un programa en el que dado el número de términos de la sumatoria, se calcule y muestre el valor aproximado de $\\pi$. "
      ]
    },
    {
      "cell_type": "code",
      "metadata": {
        "id": "qhgq1CwRwuxF"
      },
      "source": [
        "# Python\n",
        "def python_pi(N):\n",
        "  return 4*sum([(-1)**n/(2*n+1) for n in range(N)])"
      ],
      "execution_count": null,
      "outputs": []
    },
    {
      "cell_type": "code",
      "metadata": {
        "id": "9jEAkO_uwwyN"
      },
      "source": [
        "# NumPy\n",
        "def numpy_pi(N):\n",
        "  n = np.arange(N)\n",
        "  return 4*np.sum((-1)**n/(2*n+1))"
      ],
      "execution_count": null,
      "outputs": []
    },
    {
      "cell_type": "markdown",
      "metadata": {
        "id": "5OoDp82DSLz7"
      },
      "source": [
        "<p><a name=\"ind\"></a></p>\n",
        "\n",
        "# **Indexación y segmentación**\n",
        "\n",
        "Los arreglos de NumPy tienen la misma semántica de indexación y segmentación que las listas de Python cuando se trata de acceder a elementos o subarreglos. \n",
        "\n",
        "\n"
      ]
    },
    {
      "cell_type": "code",
      "metadata": {
        "id": "_2_lSiHvR999",
        "colab": {
          "base_uri": "https://localhost:8080/"
        },
        "outputId": "523b9fb1-76d2-4df2-ae1f-aecbf979a643"
      },
      "source": [
        "a = np.arange(8)\n",
        "a"
      ],
      "execution_count": null,
      "outputs": [
        {
          "output_type": "execute_result",
          "data": {
            "text/plain": [
              "array([0, 1, 2, 3, 4, 5, 6, 7])"
            ]
          },
          "metadata": {
            "tags": []
          },
          "execution_count": 51
        }
      ]
    },
    {
      "cell_type": "code",
      "metadata": {
        "colab": {
          "base_uri": "https://localhost:8080/"
        },
        "id": "Tk-_l8cfNnnH",
        "outputId": "1238b21f-82b6-49d4-b4bb-c0d27cc3e2c7"
      },
      "source": [
        "# indexación\n",
        "a[3]"
      ],
      "execution_count": null,
      "outputs": [
        {
          "output_type": "execute_result",
          "data": {
            "text/plain": [
              "3"
            ]
          },
          "metadata": {
            "tags": []
          },
          "execution_count": 52
        }
      ]
    },
    {
      "cell_type": "code",
      "metadata": {
        "colab": {
          "base_uri": "https://localhost:8080/"
        },
        "id": "YSuBhGo8NrsH",
        "outputId": "f48959b3-1eb2-4d0c-8052-69653d09199d"
      },
      "source": [
        "# segmentacion\n",
        "a[2:6]"
      ],
      "execution_count": null,
      "outputs": [
        {
          "output_type": "execute_result",
          "data": {
            "text/plain": [
              "array([2, 3, 4, 5])"
            ]
          },
          "metadata": {
            "tags": []
          },
          "execution_count": 53
        }
      ]
    },
    {
      "cell_type": "markdown",
      "metadata": {
        "id": "-3pHD5tKTCLn"
      },
      "source": [
        "Adicionalmente, los arreglos de NumPy pueden ser segmentados a lo largo de cada uno de los ejes. Consideremos la siguiente lista de listas en Python"
      ]
    },
    {
      "cell_type": "code",
      "metadata": {
        "id": "1ytHY5PwTD4f"
      },
      "source": [
        "# definiendo una lista de listas de forma (3,3)\n",
        "L = [[1, 2, 3], \n",
        "     [4, 5, 6], \n",
        "     [7, 8, 9]]"
      ],
      "execution_count": null,
      "outputs": []
    },
    {
      "cell_type": "markdown",
      "metadata": {
        "id": "8z8_19cnTGlH"
      },
      "source": [
        "Por ejemplo, si queremos crear una lista de Python que contenga todas las filas y las primeras dos columnas de `L` podríamos escribir"
      ]
    },
    {
      "cell_type": "code",
      "metadata": {
        "id": "Qjkk0-MdTI6U",
        "colab": {
          "base_uri": "https://localhost:8080/"
        },
        "outputId": "0fa41360-4012-49c4-94ea-72bf122c5129"
      },
      "source": [
        "[fila[:2] for fila in L]"
      ],
      "execution_count": null,
      "outputs": [
        {
          "output_type": "execute_result",
          "data": {
            "text/plain": [
              "[[1, 2], [4, 5], [7, 8]]"
            ]
          },
          "metadata": {
            "tags": []
          },
          "execution_count": 55
        }
      ]
    },
    {
      "cell_type": "markdown",
      "metadata": {
        "id": "8_atGVc5TM__"
      },
      "source": [
        "El número de ciclos `for` anidados que se necesita para segmentar listas de listas es igual al número de dimensiones menos uno (en este caso $2-1=1$). \n",
        "\n",
        "En NumPy, en lugar de indexar por un segmento, podemos indexar por una tupla de segmentos, cada uno de los cuales actúa en sus propias dimensiones. \n",
        "\n",
        "Redefinamos el arreglo `L` como un arreglo de NumPy \n",
        "\n",
        "\n"
      ]
    },
    {
      "cell_type": "code",
      "metadata": {
        "id": "kqTeXNAuTNjD",
        "colab": {
          "base_uri": "https://localhost:8080/"
        },
        "outputId": "bc9d1051-c1f5-49e5-df3f-eb78500559cc"
      },
      "source": [
        "L = np.array(L)\n",
        "L"
      ],
      "execution_count": null,
      "outputs": [
        {
          "output_type": "execute_result",
          "data": {
            "text/plain": [
              "array([[1, 2, 3],\n",
              "       [4, 5, 6],\n",
              "       [7, 8, 9]])"
            ]
          },
          "metadata": {
            "tags": []
          },
          "execution_count": 56
        }
      ]
    },
    {
      "cell_type": "markdown",
      "metadata": {
        "id": "OMjO00AyN-BR"
      },
      "source": [
        "y realicemos la segmentación anterior:"
      ]
    },
    {
      "cell_type": "code",
      "metadata": {
        "id": "i2A0j-1GTO7t",
        "colab": {
          "base_uri": "https://localhost:8080/"
        },
        "outputId": "47fc5b71-a598-4a64-d23c-c6fc04ccd598"
      },
      "source": [
        "L[:, :2]"
      ],
      "execution_count": null,
      "outputs": [
        {
          "output_type": "execute_result",
          "data": {
            "text/plain": [
              "array([[1, 2],\n",
              "       [4, 5],\n",
              "       [7, 8]])"
            ]
          },
          "metadata": {
            "tags": []
          },
          "execution_count": 57
        }
      ]
    },
    {
      "cell_type": "markdown",
      "metadata": {
        "id": "1Yn9MMLfTkv2"
      },
      "source": [
        "Los ciclos `for` para la segmentación multidimensional son manejados implícitamente por NumPy, esto hace que realizar segmentaciones complejas sea mucho más rápido y simple que escribir los ciclos `for` explícitamente en Python. \n",
        "\n",
        "Veamos algunos ejemplos:"
      ]
    },
    {
      "cell_type": "code",
      "metadata": {
        "id": "_FI0H0UrTRUm",
        "colab": {
          "base_uri": "https://localhost:8080/"
        },
        "outputId": "e1a6af23-d80f-405a-9f3d-d73290eb55d0"
      },
      "source": [
        "#creamos un arreglo de forma (4,4)\n",
        "a = np.arange(16).reshape(4, 4)\n",
        "a"
      ],
      "execution_count": null,
      "outputs": [
        {
          "output_type": "execute_result",
          "data": {
            "text/plain": [
              "array([[ 0,  1,  2,  3],\n",
              "       [ 4,  5,  6,  7],\n",
              "       [ 8,  9, 10, 11],\n",
              "       [12, 13, 14, 15]])"
            ]
          },
          "metadata": {
            "tags": []
          },
          "execution_count": 58
        }
      ]
    },
    {
      "cell_type": "code",
      "metadata": {
        "id": "CpT39DIrTpYJ",
        "colab": {
          "base_uri": "https://localhost:8080/"
        },
        "outputId": "08f426a3-2990-4a64-baf5-1555f925a0c0"
      },
      "source": [
        "#seleccionar la primer fila (equivalente a a[0,:])\n",
        "a[0]"
      ],
      "execution_count": null,
      "outputs": [
        {
          "output_type": "execute_result",
          "data": {
            "text/plain": [
              "array([0, 1, 2, 3])"
            ]
          },
          "metadata": {
            "tags": []
          },
          "execution_count": 59
        }
      ]
    },
    {
      "cell_type": "code",
      "metadata": {
        "id": "Th1ugrBuTqzE",
        "colab": {
          "base_uri": "https://localhost:8080/"
        },
        "outputId": "26e7a418-7a46-4d68-fc03-dcd3c86ba8f2"
      },
      "source": [
        "# seleccionar la primera columna\n",
        "a[:,0]"
      ],
      "execution_count": null,
      "outputs": [
        {
          "output_type": "execute_result",
          "data": {
            "text/plain": [
              "array([ 0,  4,  8, 12])"
            ]
          },
          "metadata": {
            "tags": []
          },
          "execution_count": 60
        }
      ]
    },
    {
      "cell_type": "code",
      "metadata": {
        "id": "2StElYzbTrzk",
        "colab": {
          "base_uri": "https://localhost:8080/"
        },
        "outputId": "20ba5caf-8473-4dc5-c573-ce14ca675317"
      },
      "source": [
        "# segmentar las filas pares y las columnas impares.\n",
        "a[::2, 1::2]"
      ],
      "execution_count": null,
      "outputs": [
        {
          "output_type": "execute_result",
          "data": {
            "text/plain": [
              "array([[ 1,  3],\n",
              "       [ 9, 11]])"
            ]
          },
          "metadata": {
            "tags": []
          },
          "execution_count": 61
        }
      ]
    },
    {
      "cell_type": "code",
      "metadata": {
        "id": "eLuGgkGjTs8S",
        "colab": {
          "base_uri": "https://localhost:8080/"
        },
        "outputId": "64820ce5-f392-4fb2-b5fb-267e57898a68"
      },
      "source": [
        "# segmentar la matriz interna de 2x2.\n",
        "a[1:3, 1:3]"
      ],
      "execution_count": null,
      "outputs": [
        {
          "output_type": "execute_result",
          "data": {
            "text/plain": [
              "array([[ 5,  6],\n",
              "       [ 9, 10]])"
            ]
          },
          "metadata": {
            "tags": []
          },
          "execution_count": 62
        }
      ]
    },
    {
      "cell_type": "code",
      "metadata": {
        "id": "2jad8UutTueC",
        "colab": {
          "base_uri": "https://localhost:8080/"
        },
        "outputId": "3f68615d-a620-477b-8354-8f89bdf0446a"
      },
      "source": [
        "# invertir las primeras 3 filas, tomando las primeras 3 columnas\n",
        "a[2::-1, :3]"
      ],
      "execution_count": null,
      "outputs": [
        {
          "output_type": "execute_result",
          "data": {
            "text/plain": [
              "array([[ 8,  9, 10],\n",
              "       [ 4,  5,  6],\n",
              "       [ 0,  1,  2]])"
            ]
          },
          "metadata": {
            "tags": []
          },
          "execution_count": 63
        }
      ]
    },
    {
      "cell_type": "markdown",
      "metadata": {
        "id": "H_gSDAOvUPOO"
      },
      "source": [
        "<p><a name=\"enm\"></a></p>\n",
        "\n",
        "## **Enmascaramiento**\n",
        "\n",
        "El enmascaramiento aparece cuando deseamos extraer, modificar, o manipular valores en un arreglo de acuerdo con algún criterio o condición. Como es natural, estos se suelen expresar en términos de operadores de comparación. NumPy implementa también operadores de comparación como ufuncs. \n",
        "\n",
        "Consideremos el siguiente arreglo"
      ]
    },
    {
      "cell_type": "code",
      "metadata": {
        "id": "VVuxGalrTvjC",
        "colab": {
          "base_uri": "https://localhost:8080/"
        },
        "outputId": "d3f52683-b11d-4b5e-acf1-a4bf8cf9ae8c"
      },
      "source": [
        "x = np.arange(9).reshape(3,3)\n",
        "x"
      ],
      "execution_count": null,
      "outputs": [
        {
          "output_type": "execute_result",
          "data": {
            "text/plain": [
              "array([[0, 1, 2],\n",
              "       [3, 4, 5],\n",
              "       [6, 7, 8]])"
            ]
          },
          "metadata": {
            "tags": []
          },
          "execution_count": 64
        }
      ]
    },
    {
      "cell_type": "markdown",
      "metadata": {
        "id": "dzZycNMQ2Egg"
      },
      "source": [
        "Utilicemos un operador de comparacion. Por ejemplo, supongamos que queremos saber cuáles elementos del arreglo son menores a 6"
      ]
    },
    {
      "cell_type": "code",
      "metadata": {
        "id": "sWHELIYFUaZ8",
        "colab": {
          "base_uri": "https://localhost:8080/"
        },
        "outputId": "31b13ea2-957d-42da-ba1f-fb17b6f3a4e6"
      },
      "source": [
        "x < 6"
      ],
      "execution_count": null,
      "outputs": [
        {
          "output_type": "execute_result",
          "data": {
            "text/plain": [
              "array([[ True,  True,  True],\n",
              "       [ True,  True,  True],\n",
              "       [False, False, False]])"
            ]
          },
          "metadata": {
            "tags": []
          },
          "execution_count": 65
        }
      ]
    },
    {
      "cell_type": "markdown",
      "metadata": {
        "id": "vXHEYVLkUeBa"
      },
      "source": [
        "Vemos que el resultado es un arreglo booleano. Dado un arreglo booleano, hay una serie de operaciones útiles que podemos implementar. \n",
        "\n",
        "Por ejemplo, podemos utilizar la función de agregación `sum` sobre este arreglo booleano para realizar el conteo de elementos que cumplen la condición"
      ]
    },
    {
      "cell_type": "code",
      "metadata": {
        "id": "uozlXFWHUcdX",
        "colab": {
          "base_uri": "https://localhost:8080/"
        },
        "outputId": "8d9f1618-9635-4eda-b395-315c75b10d1a"
      },
      "source": [
        "# numero de elementos en x menores a 6\n",
        "np.sum(x < 6)"
      ],
      "execution_count": null,
      "outputs": [
        {
          "output_type": "execute_result",
          "data": {
            "text/plain": [
              "6"
            ]
          },
          "metadata": {
            "tags": []
          },
          "execution_count": 66
        }
      ]
    },
    {
      "cell_type": "markdown",
      "metadata": {
        "id": "oVPqEJ-JUhso"
      },
      "source": [
        "podemos realizar este tipo de conteos a lo largo de las filas o columnas, utilizando el argumento por palabra clave `axis` como ya hemos visto"
      ]
    },
    {
      "cell_type": "code",
      "metadata": {
        "id": "04aIRcFfUhQX",
        "colab": {
          "base_uri": "https://localhost:8080/"
        },
        "outputId": "d8f3739a-4464-4f28-f9ef-c6d4f7a2a478"
      },
      "source": [
        "# numero de elementos en x menores a 6 por columna\n",
        "np.sum(x < 6, axis=0)"
      ],
      "execution_count": null,
      "outputs": [
        {
          "output_type": "execute_result",
          "data": {
            "text/plain": [
              "array([2, 2, 2])"
            ]
          },
          "metadata": {
            "tags": []
          },
          "execution_count": 67
        }
      ]
    },
    {
      "cell_type": "code",
      "metadata": {
        "id": "QHUMFUXRUjnx",
        "colab": {
          "base_uri": "https://localhost:8080/"
        },
        "outputId": "57731815-cc33-4149-c90b-cd691f4b03c8"
      },
      "source": [
        "# numero de elementos en x menores a 6 por fila\n",
        "np.sum(x < 6, axis=1)"
      ],
      "execution_count": null,
      "outputs": [
        {
          "output_type": "execute_result",
          "data": {
            "text/plain": [
              "array([3, 3, 0])"
            ]
          },
          "metadata": {
            "tags": []
          },
          "execution_count": 68
        }
      ]
    },
    {
      "cell_type": "markdown",
      "metadata": {
        "id": "C-t07HoyUl_p"
      },
      "source": [
        "Podemos también tener múltiples condiciones en un conteo, utilizando los operadores lógicos `&` (and) y `|` (or)"
      ]
    },
    {
      "cell_type": "code",
      "metadata": {
        "id": "iB20HYRRYaHp",
        "colab": {
          "base_uri": "https://localhost:8080/"
        },
        "outputId": "524e64d6-063b-4e5a-b452-a4b6c88d5073"
      },
      "source": [
        "x"
      ],
      "execution_count": null,
      "outputs": [
        {
          "output_type": "execute_result",
          "data": {
            "text/plain": [
              "array([[0, 1, 2],\n",
              "       [3, 4, 5],\n",
              "       [6, 7, 8]])"
            ]
          },
          "metadata": {
            "tags": []
          },
          "execution_count": 69
        }
      ]
    },
    {
      "cell_type": "code",
      "metadata": {
        "id": "prKpmML_UkpK",
        "colab": {
          "base_uri": "https://localhost:8080/"
        },
        "outputId": "365e2382-d69c-43b5-e6ee-cf2f991dc531"
      },
      "source": [
        "# verdadero si ambos verdaderos\n",
        "np.sum((x > 1) & (x < 5))"
      ],
      "execution_count": null,
      "outputs": [
        {
          "output_type": "execute_result",
          "data": {
            "text/plain": [
              "3"
            ]
          },
          "metadata": {
            "tags": []
          },
          "execution_count": 70
        }
      ]
    },
    {
      "cell_type": "code",
      "metadata": {
        "id": "0U2206s0UpKm",
        "colab": {
          "base_uri": "https://localhost:8080/"
        },
        "outputId": "83eaa2da-3a1a-4af8-873f-ef335d25d480"
      },
      "source": [
        "# verdadero en caso en que alguno de los dos sea verdadero\n",
        "np.sum((x > 6) | (x < 2))"
      ],
      "execution_count": null,
      "outputs": [
        {
          "output_type": "execute_result",
          "data": {
            "text/plain": [
              "4"
            ]
          },
          "metadata": {
            "tags": []
          },
          "execution_count": 71
        }
      ]
    },
    {
      "cell_type": "markdown",
      "metadata": {
        "id": "jjAJOIelUt2w"
      },
      "source": [
        "Una herramienta muy poderosa en Numpy es la de usar arreglos booleanos como *máscaras*, para seleccionar subconjuntos particulares de los datos mismos. Esto es lo que se conoce como *enmascaramiento*. \n",
        "\n",
        "Volviendo a nuestra arreglo `x` anterior, supongamos que queremos un arreglo de todos los valores en `x` que sean menores que, digamos, 5. Para seleccionar estos valores del arreglo, simplemente podemos indexar con este arreglo booleano"
      ]
    },
    {
      "cell_type": "code",
      "metadata": {
        "colab": {
          "base_uri": "https://localhost:8080/"
        },
        "id": "lLCcBJPu4TD1",
        "outputId": "85475b71-4070-4c28-a3f2-5b7431b79fff"
      },
      "source": [
        "x"
      ],
      "execution_count": null,
      "outputs": [
        {
          "output_type": "execute_result",
          "data": {
            "text/plain": [
              "array([[0, 1, 2],\n",
              "       [3, 4, 5],\n",
              "       [6, 7, 8]])"
            ]
          },
          "metadata": {
            "tags": []
          },
          "execution_count": 72
        }
      ]
    },
    {
      "cell_type": "code",
      "metadata": {
        "id": "-liexEjCUpxO",
        "colab": {
          "base_uri": "https://localhost:8080/"
        },
        "outputId": "ce5b7f64-977e-42d4-e136-3d2fd8786b77"
      },
      "source": [
        "x[x < 5]"
      ],
      "execution_count": null,
      "outputs": [
        {
          "output_type": "execute_result",
          "data": {
            "text/plain": [
              "array([0, 1, 2, 3, 4])"
            ]
          },
          "metadata": {
            "tags": []
          },
          "execution_count": 73
        }
      ]
    },
    {
      "cell_type": "markdown",
      "metadata": {
        "id": "nA9nv0TWUxCI"
      },
      "source": [
        "Lo que obtenemos es un arreglo unidimensional con todos los valores del arreglo `x` que cumplen la condición; en otras palabras, todos los valores en las posiciones en las que el arreglo de máscara es `True`."
      ]
    },
    {
      "cell_type": "markdown",
      "metadata": {
        "id": "kY86aHmr5574"
      },
      "source": [
        "**Ejercicio 2:** Escriba una función que, dado un número entero $n$, retorne un arreglo con los primeros $n$ números múltiplos de tres."
      ]
    },
    {
      "cell_type": "code",
      "metadata": {
        "colab": {
          "base_uri": "https://localhost:8080/"
        },
        "id": "HMbew62j6Oi5",
        "outputId": "e27a0ea8-9975-49d1-e5cd-302da6cb7967"
      },
      "source": [
        "def multiplos_tres(n):\n",
        "  \"\"\"\n",
        "  retorna los primeros n numeros multiplos de tres\n",
        "  \"\"\"\n",
        "  a = np.arange(1, 3*n+1)\n",
        "  return a[a%3 == 0]\n",
        "\n",
        "multiplos_tres(3)"
      ],
      "execution_count": null,
      "outputs": [
        {
          "output_type": "execute_result",
          "data": {
            "text/plain": [
              "array([3, 6, 9])"
            ]
          },
          "metadata": {
            "tags": []
          },
          "execution_count": 74
        }
      ]
    },
    {
      "cell_type": "markdown",
      "metadata": {
        "id": "1W5g7B-kUzzY"
      },
      "source": [
        "**Ejercicio 3:** Escriba un programa que lea $n$ números enteros, calcule y muestre la suma de los pares y el producto de los impares."
      ]
    },
    {
      "cell_type": "code",
      "metadata": {
        "id": "7I65RO5YUvlo"
      },
      "source": [
        ""
      ],
      "execution_count": null,
      "outputs": []
    },
    {
      "cell_type": "markdown",
      "metadata": {
        "id": "hLAwh9cHWewl"
      },
      "source": [
        "<p><a name=\"sof\"></a></p>\n",
        "\n",
        "# **Indexación sofisticada**\n",
        "\n",
        "Ya vimos cómo acceder y modificar arreglos usando índices simples (por ejemplo, `arr[0]`), segmentos (por ejemplo, `arr[: 5]`) y máscaras booleanas (por ejemplo, `arr[arr> 0]`).\n",
        "\n",
        "La indexación sofisticada es conceptualmente simple: significa pasar una lista de índices en lugar de un entero, para acceder a múltiples elementos del arreglo a la vez.\n",
        "\n",
        "Consideremos el siguiente arreglo\n"
      ]
    },
    {
      "cell_type": "code",
      "metadata": {
        "id": "7jlRBNX1WoKL",
        "colab": {
          "base_uri": "https://localhost:8080/"
        },
        "outputId": "0ab828f5-3072-455a-8c9b-82169813a89d"
      },
      "source": [
        "a = np.arange(10,20)\n",
        "a"
      ],
      "execution_count": null,
      "outputs": [
        {
          "output_type": "execute_result",
          "data": {
            "text/plain": [
              "array([10, 11, 12, 13, 14, 15, 16, 17, 18, 19])"
            ]
          },
          "metadata": {
            "tags": []
          },
          "execution_count": 75
        }
      ]
    },
    {
      "cell_type": "markdown",
      "metadata": {
        "id": "5UW7YGJc9S75"
      },
      "source": [
        "Supongamos que queremos seleccionar los elementos correspondientes a los índices 1,3 y 7. Podríamos escribir"
      ]
    },
    {
      "cell_type": "code",
      "metadata": {
        "id": "6xTl6MX0Wt1a",
        "colab": {
          "base_uri": "https://localhost:8080/"
        },
        "outputId": "ee3c6380-8950-46c1-98d7-f026855d6d37"
      },
      "source": [
        "[a[1], a[3], a[7]]"
      ],
      "execution_count": null,
      "outputs": [
        {
          "output_type": "execute_result",
          "data": {
            "text/plain": [
              "[11, 13, 17]"
            ]
          },
          "metadata": {
            "tags": []
          },
          "execution_count": 76
        }
      ]
    },
    {
      "cell_type": "markdown",
      "metadata": {
        "id": "uoHFQmT4Zq_F"
      },
      "source": [
        "Utilizando indexación sofisticada escribiriamos"
      ]
    },
    {
      "cell_type": "code",
      "metadata": {
        "id": "L_2zmfWBWvQ_",
        "colab": {
          "base_uri": "https://localhost:8080/"
        },
        "outputId": "a0c37c95-5d63-4530-ded4-ab65f4836384"
      },
      "source": [
        "# creamos lista con los indices\n",
        "indices = [1, 3, 7]\n",
        "\n",
        "# accedemos a los valores del arreglo\n",
        "a[indices]"
      ],
      "execution_count": null,
      "outputs": [
        {
          "output_type": "execute_result",
          "data": {
            "text/plain": [
              "array([11, 13, 17])"
            ]
          },
          "metadata": {
            "tags": []
          },
          "execution_count": 77
        }
      ]
    },
    {
      "cell_type": "markdown",
      "metadata": {
        "id": "ZO2EuXhtWz7J"
      },
      "source": [
        "Con el indexado sofisticado, **la forma del resultado refleja la forma del arreglo de índices** más que la forma del arreglo que se está indexando:"
      ]
    },
    {
      "cell_type": "code",
      "metadata": {
        "id": "nOAWL1uxWxnA",
        "colab": {
          "base_uri": "https://localhost:8080/"
        },
        "outputId": "14849465-6009-4a30-81c6-799430f63bf8"
      },
      "source": [
        "a"
      ],
      "execution_count": null,
      "outputs": [
        {
          "output_type": "execute_result",
          "data": {
            "text/plain": [
              "array([10, 11, 12, 13, 14, 15, 16, 17, 18, 19])"
            ]
          },
          "metadata": {
            "tags": []
          },
          "execution_count": 78
        }
      ]
    },
    {
      "cell_type": "code",
      "metadata": {
        "id": "nyPpXUySW1sX",
        "colab": {
          "base_uri": "https://localhost:8080/"
        },
        "outputId": "443aa71e-953f-4ea1-8d8b-c7a07d03da15"
      },
      "source": [
        "# creamos arreglo de indices con forma (2,2)\n",
        "ind = np.array([[3, 7],\n",
        "                [4, 5]]) \n",
        "\n",
        "# seleccionamos los elementos del arreglo\n",
        "a[ind]"
      ],
      "execution_count": null,
      "outputs": [
        {
          "output_type": "execute_result",
          "data": {
            "text/plain": [
              "array([[13, 17],\n",
              "       [14, 15]])"
            ]
          },
          "metadata": {
            "tags": []
          },
          "execution_count": 79
        }
      ]
    },
    {
      "cell_type": "markdown",
      "metadata": {
        "id": "xDL95LxEW9Ga"
      },
      "source": [
        "El indexado sofisticado funciona también en múltiples dimensiones. Como en la indexación estándar, el primer índice hace referencia a las filas y el segundo a las columnas:\n",
        "\n",
        "Veámoslo en el siguiente ejemplo"
      ]
    },
    {
      "cell_type": "code",
      "metadata": {
        "id": "gxoO0ii-W3MX",
        "colab": {
          "base_uri": "https://localhost:8080/"
        },
        "outputId": "35160e05-2137-4cda-fe98-a0af75cb2ccd"
      },
      "source": [
        "a = np.arange(12).reshape((3, 4))\n",
        "a"
      ],
      "execution_count": null,
      "outputs": [
        {
          "output_type": "execute_result",
          "data": {
            "text/plain": [
              "array([[ 0,  1,  2,  3],\n",
              "       [ 4,  5,  6,  7],\n",
              "       [ 8,  9, 10, 11]])"
            ]
          },
          "metadata": {
            "tags": []
          },
          "execution_count": 80
        }
      ]
    },
    {
      "cell_type": "markdown",
      "metadata": {
        "id": "qjcf6cTeXEQj"
      },
      "source": [
        "Supongamos que queremos seleccionar los elementos con índices (0,2), (1,1) y (2,3)"
      ]
    },
    {
      "cell_type": "code",
      "metadata": {
        "colab": {
          "base_uri": "https://localhost:8080/"
        },
        "id": "NqsuaaFB-chQ",
        "outputId": "06760ec4-46e9-46bf-9406-e3adfc4ca5c3"
      },
      "source": [
        "[a[0,2], a[1,1], a[2,3]]"
      ],
      "execution_count": null,
      "outputs": [
        {
          "output_type": "execute_result",
          "data": {
            "text/plain": [
              "[2, 5, 11]"
            ]
          },
          "metadata": {
            "tags": []
          },
          "execution_count": 81
        }
      ]
    },
    {
      "cell_type": "markdown",
      "metadata": {
        "id": "MavBXhyAPqf6"
      },
      "source": [
        "Con el indexado sofisticado podemos pasar dos listas que correspondan a los indices de las filas y columnas"
      ]
    },
    {
      "cell_type": "code",
      "metadata": {
        "id": "pDNq6310XC3k",
        "colab": {
          "base_uri": "https://localhost:8080/"
        },
        "outputId": "878844e6-403b-45d8-e614-6da479de12b0"
      },
      "source": [
        "fil = [0, 1, 2]\n",
        "col = [2, 1, 3]\n",
        "\n",
        "a[fil, col] "
      ],
      "execution_count": null,
      "outputs": [
        {
          "output_type": "execute_result",
          "data": {
            "text/plain": [
              "array([ 2,  5, 11])"
            ]
          },
          "metadata": {
            "tags": []
          },
          "execution_count": 82
        }
      ]
    },
    {
      "cell_type": "markdown",
      "metadata": {
        "id": "xNTlR_eS_0OX"
      },
      "source": [
        "Podemos aprovecharnos de esta funcionalidad para intercambiar o añadir filas o columnas fácilmente:"
      ]
    },
    {
      "cell_type": "code",
      "metadata": {
        "colab": {
          "base_uri": "https://localhost:8080/"
        },
        "id": "OCTaVzuF_6S5",
        "outputId": "24c07c12-eb13-4994-b4a2-36303c4bd318"
      },
      "source": [
        "a"
      ],
      "execution_count": null,
      "outputs": [
        {
          "output_type": "execute_result",
          "data": {
            "text/plain": [
              "array([[ 0,  1,  2,  3],\n",
              "       [ 4,  5,  6,  7],\n",
              "       [ 8,  9, 10, 11]])"
            ]
          },
          "metadata": {
            "tags": []
          },
          "execution_count": 83
        }
      ]
    },
    {
      "cell_type": "code",
      "metadata": {
        "colab": {
          "base_uri": "https://localhost:8080/"
        },
        "id": "epow7SAf_7Zy",
        "outputId": "9eac236d-3ffd-4dee-f974-95d7409f3f9c"
      },
      "source": [
        "# intercambiando columnas (1 <-> 0)\n",
        "a[:,[1,0,2,3]]"
      ],
      "execution_count": null,
      "outputs": [
        {
          "output_type": "execute_result",
          "data": {
            "text/plain": [
              "array([[ 1,  0,  2,  3],\n",
              "       [ 5,  4,  6,  7],\n",
              "       [ 9,  8, 10, 11]])"
            ]
          },
          "metadata": {
            "tags": []
          },
          "execution_count": 84
        }
      ]
    },
    {
      "cell_type": "code",
      "metadata": {
        "colab": {
          "base_uri": "https://localhost:8080/"
        },
        "id": "ktmrxgPmAouV",
        "outputId": "e7fae5e1-1511-417f-a530-1ce43442bdc7"
      },
      "source": [
        "# intercambiando y añadiendo columnas\n",
        "a[:,[1,0,2,3,0]]"
      ],
      "execution_count": null,
      "outputs": [
        {
          "output_type": "execute_result",
          "data": {
            "text/plain": [
              "array([[ 1,  0,  2,  3,  0],\n",
              "       [ 5,  4,  6,  7,  4],\n",
              "       [ 9,  8, 10, 11,  8]])"
            ]
          },
          "metadata": {
            "tags": []
          },
          "execution_count": 85
        }
      ]
    },
    {
      "cell_type": "code",
      "metadata": {
        "colab": {
          "base_uri": "https://localhost:8080/"
        },
        "id": "5c7oV8i-ABtJ",
        "outputId": "99f468ab-5b48-4eab-a8b4-adf190e98b28"
      },
      "source": [
        "# intercambiando filas\n",
        "a[[2,1,0],:]"
      ],
      "execution_count": null,
      "outputs": [
        {
          "output_type": "execute_result",
          "data": {
            "text/plain": [
              "array([[ 8,  9, 10, 11],\n",
              "       [ 4,  5,  6,  7],\n",
              "       [ 0,  1,  2,  3]])"
            ]
          },
          "metadata": {
            "tags": []
          },
          "execution_count": 86
        }
      ]
    },
    {
      "cell_type": "markdown",
      "metadata": {
        "id": "svQbapXQXNwa"
      },
      "source": [
        "Note que podemos utilizar también valores booleanos para la selección con indexado sofisticado:\n",
        "\n"
      ]
    },
    {
      "cell_type": "code",
      "metadata": {
        "colab": {
          "base_uri": "https://localhost:8080/"
        },
        "id": "swkBgJ06_Qla",
        "outputId": "31b5f431-fec7-420c-fdd6-5a23f6cf61b1"
      },
      "source": [
        "mask = np.array([True, False, True, False])\n",
        "mask"
      ],
      "execution_count": null,
      "outputs": [
        {
          "output_type": "execute_result",
          "data": {
            "text/plain": [
              "array([ True, False,  True, False])"
            ]
          },
          "metadata": {
            "tags": []
          },
          "execution_count": 87
        }
      ]
    },
    {
      "cell_type": "code",
      "metadata": {
        "colab": {
          "base_uri": "https://localhost:8080/"
        },
        "id": "DJuNkgaZ_TXr",
        "outputId": "20899b88-864f-4b90-99c3-27f10a8afd34"
      },
      "source": [
        "a[:,mask]"
      ],
      "execution_count": null,
      "outputs": [
        {
          "output_type": "execute_result",
          "data": {
            "text/plain": [
              "array([[ 0,  2],\n",
              "       [ 4,  6],\n",
              "       [ 8, 10]])"
            ]
          },
          "metadata": {
            "tags": []
          },
          "execution_count": 88
        }
      ]
    },
    {
      "cell_type": "markdown",
      "metadata": {
        "id": "3PI3_Mah_F3W"
      },
      "source": [
        "Podemos combinar el indexado sofisticado con las otras técnicas de indexación que hemos visto para tener expresiones más complejas"
      ]
    }
  ]
}