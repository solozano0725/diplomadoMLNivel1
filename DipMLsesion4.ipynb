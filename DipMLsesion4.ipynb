{
  "nbformat": 4,
  "nbformat_minor": 0,
  "metadata": {
    "colab": {
      "name": "DipMLsesion4.ipynb",
      "provenance": [],
      "collapsed_sections": [],
      "include_colab_link": true
    },
    "kernelspec": {
      "name": "python3",
      "display_name": "Python 3"
    }
  },
  "cells": [
    {
      "cell_type": "markdown",
      "metadata": {
        "id": "view-in-github",
        "colab_type": "text"
      },
      "source": [
        "<a href=\"https://colab.research.google.com/github/solozano0725/diplomadoMLNivel1/blob/main/DipMLsesion4.ipynb\" target=\"_parent\"><img src=\"https://colab.research.google.com/assets/colab-badge.svg\" alt=\"Open In Colab\"/></a>"
      ]
    },
    {
      "cell_type": "markdown",
      "metadata": {
        "id": "kUkIpVtwGNZX"
      },
      "source": [
        "<p><img alt=\"Colaboratory logo\" height=\"140px\" src=\"https://upload.wikimedia.org/wikipedia/commons/archive/f/fb/20161010213812%21Escudo-UdeA.svg\" align=\"left\" hspace=\"10px\" vspace=\"0px\"></p>\n",
        "\n",
        "# **Diplomado de Análisis de datos y Machine Learning en Python**\n",
        "\n",
        "\n",
        "El presente diplomado hace parte del centro de Big Data de la facultad de ciencias exactas y naturales (FCEN) de la Universidad de Antioquia.\n",
        "\n",
        "## **Sesión 4**\n",
        "\n",
        "## **Contenido**\n",
        "\n",
        "- <a href=\"#est\"> Estructuras de datos</a><br>\n",
        "  - <a href=\"#list\"> Listas por comprensión</a><br>\n",
        "  - <a href=\"#tup\"> Tuplas</a><br>\n",
        "  - <a href=\"#dic\"> Diccionarios</a><br>\n",
        "- <a href=\"#fun\"> Funciones</a><br>\n",
        "  - <a href=\"#arg\"> Argumentos de la función</a><br>\n",
        "    - <a href=\"#req\"> Argumentos requeridos</a><br>\n",
        "    - <a href=\"#pre\"> Argumentos predeterminados</a><br>"
      ]
    },
    {
      "cell_type": "markdown",
      "metadata": {
        "id": "Uu2o8yq6KmFe"
      },
      "source": [
        "<p><a name=\"lpc\"></a></p>\n",
        "\n",
        "# **Estructuras de datos**\n",
        "\n",
        "# **Listas por comprensión**\n",
        "\n",
        "Las listas por comprensión son simplemente una forma de comprimir un ciclo de construcción de listas en una sola línea corta y legible. La sintáxis es de la forma\n",
        "\n",
        ">  \n",
        "\n",
        "    [expresion for var_iter in secuencia if cond] \n",
        "\n",
        "\n",
        "donde `expresion` es cualquier expresión válida dentro de python, `var_iter` es la variable de iteración, `secuencia` es cualquier objeto de Python iterable, y `cond` es alguna condición que, opcionalmente, se imponga sobre la variable de iteración.  \n",
        "\n",
        "Por ejemplo, para construir una lista con el cuadrado de los primeros 5 enteros podríamos escribir lo siguiente:"
      ]
    },
    {
      "cell_type": "code",
      "metadata": {
        "id": "6jqDLG_NKn9u",
        "colab": {
          "base_uri": "https://localhost:8080/"
        },
        "outputId": "64e5fa39-1eef-49ac-e9af-3821e3cc7f68"
      },
      "source": [
        "L = []\n",
        "\n",
        "for i in range(1,6):\n",
        "  L.append(i**2)\n",
        "\n",
        "L"
      ],
      "execution_count": null,
      "outputs": [
        {
          "output_type": "execute_result",
          "data": {
            "text/plain": [
              "[1, 4, 9, 16, 25]"
            ]
          },
          "metadata": {
            "tags": []
          },
          "execution_count": 1
        }
      ]
    },
    {
      "cell_type": "markdown",
      "metadata": {
        "id": "Aw28k3CyKpv_"
      },
      "source": [
        "La lista por comprensión equivalente es la siguiente:"
      ]
    },
    {
      "cell_type": "code",
      "metadata": {
        "id": "Gvn0dAASKrJ3",
        "colab": {
          "base_uri": "https://localhost:8080/"
        },
        "outputId": "631dac04-3d80-4c23-9e8c-4334386893b0"
      },
      "source": [
        "[i**2 for i in range(1,6)]"
      ],
      "execution_count": null,
      "outputs": [
        {
          "output_type": "execute_result",
          "data": {
            "text/plain": [
              "[1, 4, 9, 16, 25]"
            ]
          },
          "metadata": {
            "tags": []
          },
          "execution_count": 2
        }
      ]
    },
    {
      "cell_type": "markdown",
      "metadata": {
        "id": "nB5sU0BKKs5H"
      },
      "source": [
        "Observe las equivalencias entre ambos bloques de código. Al igual que con muchas sentencias de Python, casi podemos leer el significado de esta sentencia: \"construya una lista que consista en el cuadrado de `i` para cada `i` desde 1 hasta 5\". \n",
        "\n",
        "Adicionalmente, podemos controlar aún más la iteración agregando un condicional al final de la expresión. Por ejemplo, ya habíamos escrito el siguiente código:\n",
        "\n"
      ]
    },
    {
      "cell_type": "code",
      "metadata": {
        "colab": {
          "base_uri": "https://localhost:8080/"
        },
        "id": "ZsUsI9MULlJ6",
        "outputId": "eacc800c-6874-45fe-c7f1-90110cb28f43"
      },
      "source": [
        "l = []\n",
        "\n",
        "for elemento in range(1,11):\n",
        "  if elemento % 2 == 0:\n",
        "    l.append(elemento)\n",
        "\n",
        "l"
      ],
      "execution_count": null,
      "outputs": [
        {
          "output_type": "execute_result",
          "data": {
            "text/plain": [
              "[2, 4, 6, 8, 10]"
            ]
          },
          "metadata": {
            "tags": []
          },
          "execution_count": 2
        }
      ]
    },
    {
      "cell_type": "markdown",
      "metadata": {
        "id": "sFkdvUIiDUq9"
      },
      "source": [
        "Una lista por comprensión equivalente sería:"
      ]
    },
    {
      "cell_type": "code",
      "metadata": {
        "id": "ETl6udngK1z9",
        "colab": {
          "base_uri": "https://localhost:8080/"
        },
        "outputId": "fd663be1-648e-406e-b94d-58e10f824427"
      },
      "source": [
        "[elemento for elemento in range(1,11) if elemento % 2 == 0]"
      ],
      "execution_count": null,
      "outputs": [
        {
          "output_type": "execute_result",
          "data": {
            "text/plain": [
              "[2, 4, 6, 8, 10]"
            ]
          },
          "metadata": {
            "tags": []
          },
          "execution_count": 2
        }
      ]
    },
    {
      "cell_type": "markdown",
      "metadata": {
        "id": "rRDkfJlMK7BX"
      },
      "source": [
        "Incluso podemos añadir las sentencias `if` y `else` para tener mayor control sobre los elementos de la lista. Por ejemplo, construyamos una lista con 10 elementos, tal que sus primeros cinco elementos sean los primeros cinco números enteros, y que el resto de elementos sean el cuadrado de los enteros 6,7,8,9 y 10"
      ]
    },
    {
      "cell_type": "code",
      "metadata": {
        "id": "hbRletDNK9J4",
        "colab": {
          "base_uri": "https://localhost:8080/"
        },
        "outputId": "0cd7841c-9a70-4092-db82-38ed1d00e6c0"
      },
      "source": [
        "[i if i < 6 else i**2 for i in range(1,11)]"
      ],
      "execution_count": null,
      "outputs": [
        {
          "output_type": "execute_result",
          "data": {
            "text/plain": [
              "[1, 2, 3, 4, 5, 36, 49, 64, 81, 100]"
            ]
          },
          "metadata": {
            "tags": []
          },
          "execution_count": 3
        }
      ]
    },
    {
      "cell_type": "markdown",
      "metadata": {
        "id": "1nlgbADvK-48"
      },
      "source": [
        "**Ejercicio 1:** Dado el siguiente listado de alumnos de una clase\n",
        "\n",
        "> \n",
        "    alumnos = ['Ana', 'Luis', 'Pedro', 'Marta', 'Nerea', 'Pablo']\n",
        "\n",
        "Crear dos listas: una que contenga la primera letra de cada nombre y otra que contenga la última letra"
      ]
    },
    {
      "cell_type": "code",
      "metadata": {
        "colab": {
          "base_uri": "https://localhost:8080/"
        },
        "id": "-pkGqVbTOyPF",
        "outputId": "44394c11-157d-4cf6-d26a-67a0bd369d3c"
      },
      "source": [
        "alumnos = ['Ana', 'Luis', 'Pedro', 'Marta', 'Nerea', 'Pablo']\n",
        "\n",
        "primera_letra = []\n",
        "ultima_letra = []\n",
        "\n",
        "for nombre in alumnos:\n",
        "  primera_letra.append(nombre[0])\n",
        "  ultima_letra.append(nombre[1])\n",
        "\n",
        "print(primera_letra)\n",
        "print(ultima_letra)"
      ],
      "execution_count": null,
      "outputs": [
        {
          "output_type": "stream",
          "text": [
            "['A', 'L', 'P', 'M', 'N', 'P']\n",
            "['n', 'u', 'e', 'a', 'e', 'a']\n"
          ],
          "name": "stdout"
        }
      ]
    },
    {
      "cell_type": "code",
      "metadata": {
        "id": "_PB1bPc3LAy1",
        "colab": {
          "base_uri": "https://localhost:8080/"
        },
        "outputId": "701fd563-1a29-42a2-e4ea-9faaf4024b6a"
      },
      "source": [
        "primera_letra = [nombre[0] for nombre in alumnos]\n",
        "ultima_letra = [nombre[-1] for nombre in alumnos]\n",
        "\n",
        "print(primera_letra)\n",
        "print(ultima_letra)"
      ],
      "execution_count": null,
      "outputs": [
        {
          "output_type": "stream",
          "text": [
            "['A', 'L', 'P', 'M', 'N', 'P']\n",
            "['a', 's', 'o', 'a', 'a', 'o']\n"
          ],
          "name": "stdout"
        }
      ]
    },
    {
      "cell_type": "markdown",
      "metadata": {
        "id": "OcBSK6PALClY"
      },
      "source": [
        "<p><a name=\"tup\"></a></p>\n",
        "\n",
        "# **Tuplas**\n",
        "\n",
        "Las tuplas son en muchos aspectos similares a las listas, pero se definen entre paréntesis en lugar de corchetes, o separando los elementos por una coma:"
      ]
    },
    {
      "cell_type": "code",
      "metadata": {
        "id": "i4MYuRNcLERM",
        "colab": {
          "base_uri": "https://localhost:8080/"
        },
        "outputId": "7b2c92bc-2a14-4cac-b611-0f13c59aa8b2"
      },
      "source": [
        "t = (1, 2, 3)\n",
        "t"
      ],
      "execution_count": null,
      "outputs": [
        {
          "output_type": "execute_result",
          "data": {
            "text/plain": [
              "(1, 2, 3)"
            ]
          },
          "metadata": {
            "tags": []
          },
          "execution_count": 11
        }
      ]
    },
    {
      "cell_type": "code",
      "metadata": {
        "colab": {
          "base_uri": "https://localhost:8080/"
        },
        "id": "x5wPr_mRD6Sa",
        "outputId": "049e4367-f848-4b50-d8b5-5fcdebf14d9d"
      },
      "source": [
        "type(t)"
      ],
      "execution_count": null,
      "outputs": [
        {
          "output_type": "execute_result",
          "data": {
            "text/plain": [
              "tuple"
            ]
          },
          "metadata": {
            "tags": []
          },
          "execution_count": 12
        }
      ]
    },
    {
      "cell_type": "code",
      "metadata": {
        "id": "Nb38Q2pKLFs3",
        "colab": {
          "base_uri": "https://localhost:8080/"
        },
        "outputId": "4ab5c02c-1552-408d-8353-b28acecaab62"
      },
      "source": [
        "# equivalentemente\n",
        "t = 1,2,3 \n",
        "t"
      ],
      "execution_count": null,
      "outputs": [
        {
          "output_type": "execute_result",
          "data": {
            "text/plain": [
              "(1, 2, 3)"
            ]
          },
          "metadata": {
            "tags": []
          },
          "execution_count": 13
        }
      ]
    },
    {
      "cell_type": "markdown",
      "metadata": {
        "id": "93NojTCtLHNn"
      },
      "source": [
        "Vemos que en Python las tuplas son un objeto de tipo `tuple`. \n",
        "\n",
        "Al igual que las listas, las tuplas tienen una noción de longitud y de orden, por lo que podremos indexar y segmentar estos objetos:"
      ]
    },
    {
      "cell_type": "code",
      "metadata": {
        "id": "xSa55GSmLI1d",
        "colab": {
          "base_uri": "https://localhost:8080/"
        },
        "outputId": "0b1f0dcd-cac0-47c1-f2f9-b3622d32ae30"
      },
      "source": [
        "print(f\"indexación: {t[0]}\") \n",
        "print(f\"segmentación: {t[1:]}\")"
      ],
      "execution_count": null,
      "outputs": [
        {
          "output_type": "stream",
          "text": [
            "indexación: 1\n",
            "segmentación: (2, 3)\n"
          ],
          "name": "stdout"
        }
      ]
    },
    {
      "cell_type": "markdown",
      "metadata": {
        "id": "h79rqHkjLKwF"
      },
      "source": [
        "La principal característica distintiva de las tuplas es que son estructuras de datos inmutables, lo cual significa que una vez que se crean, no es posible modificar su tamaño y contenido. Si intentamos modificar un elemento de la tupla obtendremos un error:"
      ]
    },
    {
      "cell_type": "code",
      "metadata": {
        "id": "ExxMOiUwYrjq",
        "colab": {
          "base_uri": "https://localhost:8080/",
          "height": 163
        },
        "outputId": "52ca8e6e-4430-4648-bd43-b1ad576fddfd"
      },
      "source": [
        "t[0] = 1"
      ],
      "execution_count": null,
      "outputs": [
        {
          "output_type": "error",
          "ename": "TypeError",
          "evalue": "ignored",
          "traceback": [
            "\u001b[0;31m---------------------------------------------------------------------------\u001b[0m",
            "\u001b[0;31mTypeError\u001b[0m                                 Traceback (most recent call last)",
            "\u001b[0;32m<ipython-input-16-c8aeb8cd20ae>\u001b[0m in \u001b[0;36m<module>\u001b[0;34m()\u001b[0m\n\u001b[0;32m----> 1\u001b[0;31m \u001b[0mt\u001b[0m\u001b[0;34m[\u001b[0m\u001b[0;36m0\u001b[0m\u001b[0;34m]\u001b[0m \u001b[0;34m=\u001b[0m \u001b[0;36m1\u001b[0m\u001b[0;34m\u001b[0m\u001b[0;34m\u001b[0m\u001b[0m\n\u001b[0m",
            "\u001b[0;31mTypeError\u001b[0m: 'tuple' object does not support item assignment"
          ]
        }
      ]
    },
    {
      "cell_type": "markdown",
      "metadata": {
        "id": "R-sh9tf-ZB5j"
      },
      "source": [
        "Las tuplas cumplen una función doble: pueden usarse como listas inmutables y también para almacenar información sin una etiqueta explícita. Por ejemplo, supongamos que queremos almacenar la informacion de un punto en el plano cartesiano $(x,y)$. Podríamos tener esta información en una tupla, donde se usará la posición dentro de la tupla para referenciar los puntos"
      ]
    },
    {
      "cell_type": "code",
      "metadata": {
        "id": "fPO2sVzPLOlB"
      },
      "source": [
        "# coordenadas de un punto en el plano (x,y)\n",
        "coordenadas = (4, 3)"
      ],
      "execution_count": null,
      "outputs": []
    },
    {
      "cell_type": "markdown",
      "metadata": {
        "id": "oQI3DjfFZIj1"
      },
      "source": [
        "Note que en esta expresión, ordenar la tupla destruiría la información ya que el significado de cada elemento está dado por su posición en la tupla."
      ]
    },
    {
      "cell_type": "markdown",
      "metadata": {
        "id": "wmLTSzMfLM2M"
      },
      "source": [
        "**Mecanismo de *unpacking*:** En Python, hay una característica de asignación de tuplas muy poderosa que asigna \"el lado derecho de los valores al lado izquierdo\". Esto es, \"desempaquetamos\" los valores de una tupla en variables individuales. Veamos un ejemplo\n",
        "\n",
        "\n",
        "\n"
      ]
    },
    {
      "cell_type": "code",
      "metadata": {
        "id": "CBz88uMoanJt"
      },
      "source": [
        "tupla = (\"Carlos\", 45, \"Medellin\")"
      ],
      "execution_count": null,
      "outputs": []
    },
    {
      "cell_type": "code",
      "metadata": {
        "id": "3g8JM1qcLRrF"
      },
      "source": [
        "# unpacking\n",
        "nombre, edad, ciudad = (\"Carlos\", 45, \"Medellin\")"
      ],
      "execution_count": null,
      "outputs": []
    },
    {
      "cell_type": "markdown",
      "metadata": {
        "id": "RDzFBnJuLToF"
      },
      "source": [
        "Note que hemos asignado `\"Carlos\", 45, \"Medellin\"` a `nombre`, `edad` y `ciudad`, respectivamente, en una sola sentencia. A este tipo de procesos se hace referencia cuando se habla del mecanismo de *unpacking* de las tuplas. Por ejemplo, este es el mecanismo que nos permite definir múltiples variables en una sola sentencia (asignación paralela)\n",
        "\n",
        "\n",
        "   "
      ]
    },
    {
      "cell_type": "code",
      "metadata": {
        "id": "_-Ft1wMILUaz",
        "colab": {
          "base_uri": "https://localhost:8080/"
        },
        "outputId": "9ab8c937-b2df-4ccc-f1b5-a09ed4192d29"
      },
      "source": [
        "a, b = 1, 2\n",
        "\n",
        "print(f\"a: {a}\")\n",
        "print(f\"b: {b}\")"
      ],
      "execution_count": null,
      "outputs": [
        {
          "output_type": "stream",
          "text": [
            "a: 1\n",
            "b: 2\n"
          ],
          "name": "stdout"
        }
      ]
    },
    {
      "cell_type": "markdown",
      "metadata": {
        "id": "1_2hYW2sLf-4"
      },
      "source": [
        "Este mecanismo también permite \"desempaquetar\" listas:"
      ]
    },
    {
      "cell_type": "code",
      "metadata": {
        "colab": {
          "base_uri": "https://localhost:8080/"
        },
        "id": "Wl3Lp7OoQngW",
        "outputId": "893a809e-c0fd-4bca-f770-436a717362a3"
      },
      "source": [
        "data = \"carlos-45-medellin\"\n",
        "\n",
        "# el método split retorna una lista\n",
        "# a partir del str data\n",
        "nombre, edad, ciudad = data.split(\"-\")\n",
        "\n",
        "print(nombre)\n",
        "print(edad)\n",
        "print(ciudad)"
      ],
      "execution_count": null,
      "outputs": [
        {
          "output_type": "stream",
          "text": [
            "carlos\n",
            "45\n",
            "medellin\n"
          ],
          "name": "stdout"
        }
      ]
    },
    {
      "cell_type": "markdown",
      "metadata": {
        "id": "hKLPhKcuLjRN"
      },
      "source": [
        "Si, por ejemplo, solo queremos tomar una parte de la tupla, podemos utilizar una variable como `_` de la siguiente manera: "
      ]
    },
    {
      "cell_type": "code",
      "metadata": {
        "id": "5KRDqTWrLkzv",
        "colab": {
          "base_uri": "https://localhost:8080/",
          "height": 35
        },
        "outputId": "e59be178-c23d-48dd-b937-8eb29ae7d258"
      },
      "source": [
        "nombre, _, _ = data.split(\"-\")\n",
        "\n",
        "nombre"
      ],
      "execution_count": null,
      "outputs": [
        {
          "output_type": "execute_result",
          "data": {
            "application/vnd.google.colaboratory.intrinsic+json": {
              "type": "string"
            },
            "text/plain": [
              "'carlos'"
            ]
          },
          "metadata": {
            "tags": []
          },
          "execution_count": 23
        }
      ]
    },
    {
      "cell_type": "code",
      "metadata": {
        "id": "9Rw4sUWiLmaV",
        "colab": {
          "base_uri": "https://localhost:8080/"
        },
        "outputId": "cb26fb61-40d5-4b64-c169-05111b6a7705"
      },
      "source": [
        "# codigo postal de algunos paises\n",
        "codigo_postal = [(\"USA\", 32423), (\"COL\", 34234), (\"BRA\", 34232)]\n",
        "\n",
        "for pais, codigo in codigo_postal:\n",
        "  print(pais, codigo)"
      ],
      "execution_count": null,
      "outputs": [
        {
          "output_type": "stream",
          "text": [
            "USA 32423\n",
            "COL 34234\n",
            "BRA 34232\n"
          ],
          "name": "stdout"
        }
      ]
    },
    {
      "cell_type": "markdown",
      "metadata": {
        "id": "6owIH_pAIb1H"
      },
      "source": [
        "Este mecanismo también nos permite iterar sobre múltiples índices de forma independiente"
      ]
    },
    {
      "cell_type": "code",
      "metadata": {
        "colab": {
          "base_uri": "https://localhost:8080/"
        },
        "id": "Kdxuatf1bX5M",
        "outputId": "64f03a12-4261-4762-9187-58f2ead25a6e"
      },
      "source": [
        "# solo tomamos el primer valor (pais) de las tuplas\n",
        "for pais, _ in codigo_postal:\n",
        "  print(pais)"
      ],
      "execution_count": null,
      "outputs": [
        {
          "output_type": "stream",
          "text": [
            "USA\n",
            "COL\n",
            "BRA\n"
          ],
          "name": "stdout"
        }
      ]
    },
    {
      "cell_type": "markdown",
      "metadata": {
        "id": "BxncdiJUOId_"
      },
      "source": [
        "Para finalizar veamos otro ejemplo que involucra tuplas. En Python podemos tener mútiples ciclos. Por ejemplo:"
      ]
    },
    {
      "cell_type": "code",
      "metadata": {
        "colab": {
          "base_uri": "https://localhost:8080/"
        },
        "id": "Ky6PZxSqN4GI",
        "outputId": "f900ab45-9653-4263-93c1-a01690635295"
      },
      "source": [
        "l = []\n",
        "\n",
        "for i in range(2):\n",
        "  for j in range(2):\n",
        "    l.append((i,j))\n",
        "\n",
        "l"
      ],
      "execution_count": null,
      "outputs": [
        {
          "output_type": "execute_result",
          "data": {
            "text/plain": [
              "[(0, 0), (0, 1), (1, 0), (1, 1)]"
            ]
          },
          "metadata": {
            "tags": []
          },
          "execution_count": 26
        }
      ]
    },
    {
      "cell_type": "markdown",
      "metadata": {
        "id": "gIFHh5pMEzQw"
      },
      "source": [
        "Las listas por comprensión admiten este tipo de ciclos:"
      ]
    },
    {
      "cell_type": "code",
      "metadata": {
        "colab": {
          "base_uri": "https://localhost:8080/"
        },
        "id": "-YFgYTktNxtG",
        "outputId": "c6309d9b-f818-48a1-d8e4-4db10da8c8d4"
      },
      "source": [
        "[(i, j) for i in range(2) for j in range(2)]"
      ],
      "execution_count": null,
      "outputs": [
        {
          "output_type": "execute_result",
          "data": {
            "text/plain": [
              "[(0, 0), (0, 1), (1, 0), (1, 1)]"
            ]
          },
          "metadata": {
            "tags": []
          },
          "execution_count": 27
        }
      ]
    },
    {
      "cell_type": "markdown",
      "metadata": {
        "id": "IosKkP6pLtgw"
      },
      "source": [
        "<p><a name=\"dic\"></a></p>\n",
        "\n",
        "# **Diccionarios**\n",
        "\n",
        "Los diccionarios son mapeos extremadamente flexibles de claves a valores, y forman la base de gran parte de la implementación interna de Python. Se pueden crear mediante una lista separada por comas de pares `clave:valor` dentro de llaves:"
      ]
    },
    {
      "cell_type": "code",
      "metadata": {
        "id": "MsbyscoMLvIr",
        "colab": {
          "base_uri": "https://localhost:8080/"
        },
        "outputId": "82c99c27-eada-48da-ecad-1e45c8c82209"
      },
      "source": [
        "nums = {\"uno\":1, \"dos\":2, \"tres\":3}\n",
        "nums"
      ],
      "execution_count": null,
      "outputs": [
        {
          "output_type": "execute_result",
          "data": {
            "text/plain": [
              "{'dos': 2, 'tres': 3, 'uno': 1}"
            ]
          },
          "metadata": {
            "tags": []
          },
          "execution_count": 28
        }
      ]
    },
    {
      "cell_type": "code",
      "metadata": {
        "id": "YY81xiBXLwp0",
        "colab": {
          "base_uri": "https://localhost:8080/"
        },
        "outputId": "a40af314-dd08-49e5-e30a-96cfd300be16"
      },
      "source": [
        "type(nums)"
      ],
      "execution_count": null,
      "outputs": [
        {
          "output_type": "execute_result",
          "data": {
            "text/plain": [
              "dict"
            ]
          },
          "metadata": {
            "tags": []
          },
          "execution_count": 29
        }
      ]
    },
    {
      "cell_type": "markdown",
      "metadata": {
        "id": "bfWa3bBjLyKr"
      },
      "source": [
        "a cada par `clave:valor` se le conoce como un *item*. Alternativamente, podemos crear un objeto tipo `dict` directamente con el constructor `dict`"
      ]
    },
    {
      "cell_type": "code",
      "metadata": {
        "id": "1d8zJFcxLz8d",
        "colab": {
          "base_uri": "https://localhost:8080/"
        },
        "outputId": "e1aebb44-cff1-4c03-d04c-b01826c58dbb"
      },
      "source": [
        "# pasando los items en la forma clave=valor\n",
        "dict(uno=1, dos=2, tres=3)"
      ],
      "execution_count": null,
      "outputs": [
        {
          "output_type": "execute_result",
          "data": {
            "text/plain": [
              "{'dos': 2, 'tres': 3, 'uno': 1}"
            ]
          },
          "metadata": {
            "tags": []
          },
          "execution_count": 30
        }
      ]
    },
    {
      "cell_type": "markdown",
      "metadata": {
        "id": "ipyZ1rUnL8_q"
      },
      "source": [
        "Supongamos que queremos construir un diccionario a partir de "
      ]
    },
    {
      "cell_type": "code",
      "metadata": {
        "id": "iRSokfgML-fe"
      },
      "source": [
        "codigos = [(86, 'China'), (91, 'India'), (62, 'Indonesia')]"
      ],
      "execution_count": null,
      "outputs": []
    },
    {
      "cell_type": "markdown",
      "metadata": {
        "id": "ApYN4mORMAW0"
      },
      "source": [
        "donde las claves sean el país y los valores los códigos asociados. Esto no será posible debido a que que las posiciones de país y código están intercambiadas"
      ]
    },
    {
      "cell_type": "code",
      "metadata": {
        "id": "3iyA0WWnMCxt",
        "colab": {
          "base_uri": "https://localhost:8080/"
        },
        "outputId": "d4c056b4-0fdf-4d0c-cc1e-a955f995a05e"
      },
      "source": [
        "dict(codigos)"
      ],
      "execution_count": null,
      "outputs": [
        {
          "output_type": "execute_result",
          "data": {
            "text/plain": [
              "{62: 'Indonesia', 86: 'China', 91: 'India'}"
            ]
          },
          "metadata": {
            "tags": []
          },
          "execution_count": 32
        }
      ]
    },
    {
      "cell_type": "markdown",
      "metadata": {
        "id": "0ZAbpZWQMLcc"
      },
      "source": [
        "Para construir el diccionario en la forma requerida, podemos construirlo como un diccionario por comprensión "
      ]
    },
    {
      "cell_type": "code",
      "metadata": {
        "id": "rteNJXvmMNFK",
        "colab": {
          "base_uri": "https://localhost:8080/"
        },
        "outputId": "57076afc-5333-4390-f36e-2bf24e4267fb"
      },
      "source": [
        "{pais:codigo for codigo, pais in codigos}"
      ],
      "execution_count": null,
      "outputs": [
        {
          "output_type": "execute_result",
          "data": {
            "text/plain": [
              "{'China': 86, 'India': 91, 'Indonesia': 62}"
            ]
          },
          "metadata": {
            "tags": []
          },
          "execution_count": 33
        }
      ]
    },
    {
      "cell_type": "markdown",
      "metadata": {
        "id": "Sx1ZfomhMO2x"
      },
      "source": [
        "otro ejemplo:"
      ]
    },
    {
      "cell_type": "code",
      "metadata": {
        "id": "7i0O5m2pMQba",
        "colab": {
          "base_uri": "https://localhost:8080/"
        },
        "outputId": "f469951b-53cc-4f4b-b04b-87ae1a415d13"
      },
      "source": [
        "{f\"clave{i}\":i for i in range(4)}"
      ],
      "execution_count": null,
      "outputs": [
        {
          "output_type": "execute_result",
          "data": {
            "text/plain": [
              "{'clave0': 0, 'clave1': 1, 'clave2': 2, 'clave3': 3}"
            ]
          },
          "metadata": {
            "tags": []
          },
          "execution_count": 34
        }
      ]
    },
    {
      "cell_type": "markdown",
      "metadata": {
        "id": "HniIHaVHMSDJ"
      },
      "source": [
        "A diferencia de los elementos dentro de una lista o tupla, los items del diccionario no tienen una noción de orden o posición. \n",
        "\n",
        "Podemos acceder o definir un item del diccionario mediante la sintaxis de indexación utilizada para las listas y tuplas, excepto que el índice no es numérico sino una clave válida dentro del diccionario\n"
      ]
    },
    {
      "cell_type": "code",
      "metadata": {
        "id": "Smie3mKIMXmk",
        "colab": {
          "base_uri": "https://localhost:8080/"
        },
        "outputId": "1230601a-9427-47fa-c875-ae14fd1ffc92"
      },
      "source": [
        "# accediendo a un elemento del diccionario\n",
        "nums[\"uno\"]"
      ],
      "execution_count": null,
      "outputs": [
        {
          "output_type": "execute_result",
          "data": {
            "text/plain": [
              "1"
            ]
          },
          "metadata": {
            "tags": []
          },
          "execution_count": 35
        }
      ]
    },
    {
      "cell_type": "markdown",
      "metadata": {
        "id": "rluKw4WAcdB0"
      },
      "source": [
        "Como los diccionarios son objetos mutables, podemos crear nuevos items o modificar items existentes:"
      ]
    },
    {
      "cell_type": "code",
      "metadata": {
        "id": "rtF3kMXrMcGg",
        "colab": {
          "base_uri": "https://localhost:8080/"
        },
        "outputId": "fc2e574f-aef3-42ee-94d2-a8e4418eda86"
      },
      "source": [
        "# definiendo diccionarios vacios\n",
        "dic = {}\n",
        "\n",
        "# añadiendo un elemento al diccionario vacio\n",
        "dic[\"c1\"] = 1\n",
        "\n",
        "dic"
      ],
      "execution_count": null,
      "outputs": [
        {
          "output_type": "execute_result",
          "data": {
            "text/plain": [
              "{'c1': 1}"
            ]
          },
          "metadata": {
            "tags": []
          },
          "execution_count": 36
        }
      ]
    },
    {
      "cell_type": "code",
      "metadata": {
        "id": "WOJeuNiHMYzl",
        "colab": {
          "base_uri": "https://localhost:8080/"
        },
        "outputId": "b8f2578f-2d49-49c4-ddda-5a71977d9e33"
      },
      "source": [
        "# definiendo un nuevo elemento del diccionario\n",
        "dic[\"c2\"] = 2\n",
        "dic"
      ],
      "execution_count": null,
      "outputs": [
        {
          "output_type": "execute_result",
          "data": {
            "text/plain": [
              "{'c1': 1, 'c2': 2}"
            ]
          },
          "metadata": {
            "tags": []
          },
          "execution_count": 37
        }
      ]
    },
    {
      "cell_type": "markdown",
      "metadata": {
        "id": "w3qI3hG4MeDF"
      },
      "source": [
        "Tenga en cuenta que las claves son únicas dentro de un diccionario, mientras que los valores pueden no serlo. Los valores de un diccionario pueden ser de cualquier tipo, pero las claves deben ser de un tipo de dato inmutable, como cadenas, números o tuplas, de manera que podemos construir estructuras más complejas como la siguiente:"
      ]
    },
    {
      "cell_type": "code",
      "metadata": {
        "id": "rRc-MLVHMgBU"
      },
      "source": [
        "dic = {\"nombres\": [\"daniel\", \"carlos\", \"camila\", \"maria\"], \"edades\":[23, 26, 17, 23]}"
      ],
      "execution_count": null,
      "outputs": []
    },
    {
      "cell_type": "markdown",
      "metadata": {
        "id": "9iDKOqpGMhlZ"
      },
      "source": [
        "Podemos acceder a los diferentes elementos del diccionario individualmente o al *item* completo si así lo necesitamos. Esto se puede realizar utilizando los métodos `keys`, `values` y `items`, respectivamente. "
      ]
    },
    {
      "cell_type": "code",
      "metadata": {
        "id": "ZG1vcWIPMjKa",
        "colab": {
          "base_uri": "https://localhost:8080/"
        },
        "outputId": "7d2f878b-eb0c-4e3e-fe92-c48e26d39887"
      },
      "source": [
        "# accediendo a las claves\n",
        "dic.keys()"
      ],
      "execution_count": null,
      "outputs": [
        {
          "output_type": "execute_result",
          "data": {
            "text/plain": [
              "dict_keys(['nombres', 'edades'])"
            ]
          },
          "metadata": {
            "tags": []
          },
          "execution_count": 39
        }
      ]
    },
    {
      "cell_type": "code",
      "metadata": {
        "id": "84YKLdiFMkb7",
        "colab": {
          "base_uri": "https://localhost:8080/"
        },
        "outputId": "5ec55a23-09ff-4b1e-ecdd-324c73c021ab"
      },
      "source": [
        "# accediendo a los valores\n",
        "dic.values()"
      ],
      "execution_count": null,
      "outputs": [
        {
          "output_type": "execute_result",
          "data": {
            "text/plain": [
              "dict_values([['daniel', 'carlos', 'camila', 'maria'], [23, 26, 17, 23]])"
            ]
          },
          "metadata": {
            "tags": []
          },
          "execution_count": 40
        }
      ]
    },
    {
      "cell_type": "code",
      "metadata": {
        "id": "h6ke5NPIMmCC",
        "colab": {
          "base_uri": "https://localhost:8080/"
        },
        "outputId": "b92f63bc-15c2-4388-e189-d55410592e7d"
      },
      "source": [
        "# accediendo a los items\n",
        "dic.items()"
      ],
      "execution_count": null,
      "outputs": [
        {
          "output_type": "execute_result",
          "data": {
            "text/plain": [
              "dict_items([('nombres', ['daniel', 'carlos', 'camila', 'maria']), ('edades', [23, 26, 17, 23])])"
            ]
          },
          "metadata": {
            "tags": []
          },
          "execution_count": 41
        }
      ]
    },
    {
      "cell_type": "markdown",
      "metadata": {
        "id": "M50F6HeJMn-T"
      },
      "source": [
        "Podemos utilizar estos métodos para iterar sobre alguno de los elementos"
      ]
    },
    {
      "cell_type": "code",
      "metadata": {
        "id": "yaOBp7MyMpYf",
        "colab": {
          "base_uri": "https://localhost:8080/"
        },
        "outputId": "b352d653-a721-4f0d-d1c3-0886cd7b96ec"
      },
      "source": [
        "# iterando sobre las claves\n",
        "for clave in dic.keys():\n",
        "  print(clave)"
      ],
      "execution_count": null,
      "outputs": [
        {
          "output_type": "stream",
          "text": [
            "nombres\n",
            "edades\n"
          ],
          "name": "stdout"
        }
      ]
    },
    {
      "cell_type": "markdown",
      "metadata": {
        "id": "k5FcL_H9Mrcr"
      },
      "source": [
        "Note que por defecto, si iteramos sobre el diccionario, estaremos iterando sobre las claves, por lo que en este caso no hay necesidad de utilizar el método `keys`"
      ]
    },
    {
      "cell_type": "code",
      "metadata": {
        "id": "SY-xvKqdMtL0",
        "colab": {
          "base_uri": "https://localhost:8080/"
        },
        "outputId": "43c27b0b-9744-42ca-bbae-bebc939b864b"
      },
      "source": [
        "# iterando sobre las claves\n",
        "for clave in dic:\n",
        "  print(clave)"
      ],
      "execution_count": null,
      "outputs": [
        {
          "output_type": "stream",
          "text": [
            "nombres\n",
            "edades\n"
          ],
          "name": "stdout"
        }
      ]
    },
    {
      "cell_type": "code",
      "metadata": {
        "id": "Y2DTUaQqMu1j",
        "colab": {
          "base_uri": "https://localhost:8080/"
        },
        "outputId": "fa234025-d3aa-465d-c0df-2f2467bdb351"
      },
      "source": [
        "# iterando sobre los valores\n",
        "for valor in dic.values():\n",
        "  print(valor)"
      ],
      "execution_count": null,
      "outputs": [
        {
          "output_type": "stream",
          "text": [
            "['daniel', 'carlos', 'camila', 'maria']\n",
            "[23, 26, 17, 23]\n"
          ],
          "name": "stdout"
        }
      ]
    },
    {
      "cell_type": "code",
      "metadata": {
        "id": "I9O2JbOiMwOR",
        "colab": {
          "base_uri": "https://localhost:8080/"
        },
        "outputId": "388fbac5-3a83-4e9e-aa9b-fe3e208df4a0"
      },
      "source": [
        "# iterando sobre las tuplas clave:valor\n",
        "for clave, valor in dic.items():\n",
        "  print(clave, valor)"
      ],
      "execution_count": null,
      "outputs": [
        {
          "output_type": "stream",
          "text": [
            "nombres ['daniel', 'carlos', 'camila', 'maria']\n",
            "edades [23, 26, 17, 23]\n"
          ],
          "name": "stdout"
        }
      ]
    },
    {
      "cell_type": "markdown",
      "metadata": {
        "id": "3p6J7ZlXMx-2"
      },
      "source": [
        "**Ejercicio 2:** Dado el diccionario\n",
        "\n",
        "> \n",
        "    notas = {'Ana':9, 'Luis':7, 'Pedro':2, 'Marta':5, 'Nerea':4, 'Pablo':6}\n",
        "\n",
        "  1) cree una lista que contenga notas mayores o iguales a 5.\n",
        "\n",
        "  2) cree una lista que contenga los nombres de los estudiantes que contengan la letra \"a\".\n",
        "\n",
        "  3) cree una lista que contenga los nombres de los estudiantes que aprobaron (nota $\\geq$ 5) "
      ]
    },
    {
      "cell_type": "code",
      "metadata": {
        "id": "BwGsyFzBMy8W"
      },
      "source": [
        ""
      ],
      "execution_count": null,
      "outputs": []
    },
    {
      "cell_type": "markdown",
      "metadata": {
        "id": "Zdi0s0WEM0md"
      },
      "source": [
        "**Ejercicio 3:** Dada la siguiente lista, itere sobre ella y cuente la aparición de cada elemento y cree un diccionario para mostrar el recuento de cada elemento\n",
        "\n",
        "> \n",
        "    Lista = [11, 45, 8, 11, 23, 45, 23, 45, 89]"
      ]
    },
    {
      "cell_type": "code",
      "metadata": {
        "id": "2y4IkYD0NSMI"
      },
      "source": [
        ""
      ],
      "execution_count": null,
      "outputs": []
    },
    {
      "cell_type": "markdown",
      "metadata": {
        "id": "_UpboY60e292"
      },
      "source": [
        "<p><a name=\"fun\"></a></p>\n",
        "\n",
        "# **Funciones**\n",
        "\n",
        "Hasta ahora, nuestros programas han sido bloques de código simples y de un solo uso. Una forma de organizar nuestro código de Python y hacerlo más legible y reutilizable es descomponer piezas útiles en funciones reutilizables. \n",
        "\n",
        "Ya hemos visto funciones antes. Por ejemplo, `print()` es una función:"
      ]
    },
    {
      "cell_type": "code",
      "metadata": {
        "colab": {
          "base_uri": "https://localhost:8080/"
        },
        "id": "Ujr6sau-e5BH",
        "outputId": "b493acc2-6b23-4989-a2c6-2a43beff97a4"
      },
      "source": [
        "print(\"abc\")"
      ],
      "execution_count": null,
      "outputs": [
        {
          "output_type": "stream",
          "text": [
            "abc\n"
          ],
          "name": "stdout"
        }
      ]
    },
    {
      "cell_type": "markdown",
      "metadata": {
        "id": "STNZUiKdGkvw"
      },
      "source": [
        "aquí `print` es el nombre de la función, y `\"abc\"` es el *argumento* de la función, en este caso un argumento *requerido*.\n",
        "\n",
        "Adicional a los argumentos requeridos, existen los argumentos predeterminados o *argumentos por palabra clave* (keyword arguments o kwargs) que se especifican por el nombre o palabra clave Por ejemplo, un kwarg disponible para la función `print` es `end` que controla qué caracter añadir al final del último valor \n",
        "\n"
      ]
    },
    {
      "cell_type": "code",
      "metadata": {
        "colab": {
          "base_uri": "https://localhost:8080/"
        },
        "id": "Gya2VuQcG0Sx",
        "outputId": "1ff869e1-6750-443e-b743-04dde1083605"
      },
      "source": [
        "print(1, 2, 3, end=\".\")"
      ],
      "execution_count": null,
      "outputs": [
        {
          "output_type": "stream",
          "text": [
            "1 2 3."
          ],
          "name": "stdout"
        }
      ]
    },
    {
      "cell_type": "markdown",
      "metadata": {
        "id": "PE9p64ZMG2XU"
      },
      "source": [
        "o el kwarg `sep`, que controla qué caracter utilizar para separar los diferentes valores\n",
        "\n"
      ]
    },
    {
      "cell_type": "code",
      "metadata": {
        "colab": {
          "base_uri": "https://localhost:8080/"
        },
        "id": "1FO2WHR8G2HA",
        "outputId": "e97c471d-2294-4dbc-ba8b-8d4687e9b648"
      },
      "source": [
        "print(1, 2, 3, sep=\",\")"
      ],
      "execution_count": null,
      "outputs": [
        {
          "output_type": "stream",
          "text": [
            "1,2,3\n"
          ],
          "name": "stdout"
        }
      ]
    },
    {
      "cell_type": "markdown",
      "metadata": {
        "id": "TSWryYG4fAgV"
      },
      "source": [
        "Las funciones se vuelven aún más útiles cuando comenzamos a definir las nuestras. La sintáxis general para crear una función es la siguiente\n",
        "\n",
        ">  \n",
        "\n",
        "    def Nombre( argumento(s) ):\n",
        "\n",
        "      sentencia(s) \n",
        "            \n",
        "      return expresion\n",
        "    \n",
        "     \n",
        "* Los bloques de funciones comienzan con la palabra clave `def` seguida del nombre de la función y paréntesis ().\n",
        "* Cualquier parámetro o argumento de entrada debe colocarse entre los paréntesis.\n",
        "* El bloque de código dentro de cada función comienza con dos puntos (:) y está indentado.\n",
        "* La declaración final `return expresion` es opcional. Al incluirla, una vez se llame la función, esta tomará el valor definido en `expresion`.\n",
        "\n",
        "Por ejemplo, podemos definir la función $f(x)=x^2$ en Python como:"
      ]
    },
    {
      "cell_type": "code",
      "metadata": {
        "id": "G6-3ow39fCqT"
      },
      "source": [
        "# definicion\n",
        "def f(x):\n",
        "  return x**2"
      ],
      "execution_count": null,
      "outputs": []
    },
    {
      "cell_type": "markdown",
      "metadata": {
        "id": "dHJHmLXifEFi"
      },
      "source": [
        "y la podemos *llamar* de la siguiente manera"
      ]
    },
    {
      "cell_type": "code",
      "metadata": {
        "colab": {
          "base_uri": "https://localhost:8080/"
        },
        "id": "G8RrEiQFfClJ",
        "outputId": "292dd455-10fe-40bf-9404-a7896b676890"
      },
      "source": [
        "# llamada de la funcion\n",
        "f(2)"
      ],
      "execution_count": null,
      "outputs": [
        {
          "output_type": "execute_result",
          "data": {
            "text/plain": [
              "4"
            ]
          },
          "metadata": {
            "tags": []
          },
          "execution_count": 47
        }
      ]
    },
    {
      "cell_type": "markdown",
      "metadata": {
        "id": "C73q6CbvfIcZ"
      },
      "source": [
        "La posibilidad de definir nuestras propias funciones nos ayudará de diversas maneras:\n",
        "\n",
        "* Cuando estemos escribiendo un programa y veamos que estamos escribiendo el mismo código más de una vez, probablemente sea mejor definir una función con el código repetido. Luego podremos llamar a la función tantas veces como sea necesario en lugar de reescribir el código una y otra vez. Es importante que evitemos escribir el mismo código más de una vez en nuestros programas.\n",
        "\n",
        "* Si escribimos el mismo código más de una vez y cometemos un error, debemos corregir ese error en cada lugar donde copiamos el código. Si por el contrario, tenemos el código en un solo lugar, definido en una función, podremos resolver el error solo en este lugar y olvidarnos del resto de lugares. \n",
        "\n",
        "* Si cometemos un error al escribir una función, y luego corregimos el código en la función, habremos corregido automáticamente el código en cada lugar que utiliza la función. Este principio de programación modular es un concepto muy importante.\n",
        "\n",
        "* Las funciones también ayudan a que nuestro código sea más fácil de leer. Cuando usamos buenos nombres para las variables y funciones en nuestros programas, podemos leer el código y comprender lo que hemos escrito, no solo mientras lo escribimos, sino tiempo después, cuando necesitemos mirar el código que escribimos nuevamente. \n",
        "\n",
        "Las funciones son pues una forma de organizar nuestro código y hacerlo más legible y reutilizable. \n",
        "\n",
        "\n"
      ]
    },
    {
      "cell_type": "markdown",
      "metadata": {
        "id": "5CyoBvADfLCA"
      },
      "source": [
        "<p><a name=\"arg\"></a></p>\n",
        "\n",
        "# **Argumentos de la función**\n",
        "\n",
        "Podemos llamar una función utilizando los siguientes tipos de argumentos formales:\n",
        "\n",
        "* Argumentos requeridos.\n",
        "* Argumentos predeterminados.\n",
        "* Argumentos de longitud variable."
      ]
    },
    {
      "cell_type": "markdown",
      "metadata": {
        "id": "9j0rBiGifM3_"
      },
      "source": [
        "<p><a name=\"req\"></a></p>\n",
        "\n",
        "## **Argumentos requeridos**\n",
        "\n",
        "Los argumentos requeridos son argumentos pasados a una función, que tienen un carácter obligatorio y se dan en el **orden posicional correcto**. Veamos un ejemplo: creemos una función que, dados dos parámetros, nos devuelva la resta de estos:"
      ]
    },
    {
      "cell_type": "code",
      "metadata": {
        "id": "0KKdLcI8fGN6"
      },
      "source": [
        "def resta(a,b):\n",
        "  return a-b"
      ],
      "execution_count": null,
      "outputs": []
    },
    {
      "cell_type": "markdown",
      "metadata": {
        "id": "KFBnKDhlfPwH"
      },
      "source": [
        "Aquí, el número de argumentos en la llamada a la función debe coincidir exactamente con el número de argumentos definidos en la función. En este caso, para llamar la función `resta`, debemos pasar obligatoriamente los dos argumentos `a` y `b` con los que se ha definido:"
      ]
    },
    {
      "cell_type": "code",
      "metadata": {
        "id": "MUeA-PGcfOox",
        "colab": {
          "base_uri": "https://localhost:8080/"
        },
        "outputId": "93a81ee0-52f3-4b40-b5ed-596a9c1fff0d"
      },
      "source": [
        "resta(2,1)"
      ],
      "execution_count": null,
      "outputs": [
        {
          "output_type": "execute_result",
          "data": {
            "text/plain": [
              "1"
            ]
          },
          "metadata": {
            "tags": []
          },
          "execution_count": 50
        }
      ]
    },
    {
      "cell_type": "markdown",
      "metadata": {
        "id": "FGZeCYGtfSTa"
      },
      "source": [
        "Si cambiamos el orden en el que pasamos los parámetros naturalmente cambiará la salida:"
      ]
    },
    {
      "cell_type": "code",
      "metadata": {
        "colab": {
          "base_uri": "https://localhost:8080/"
        },
        "id": "gvENRiAVfTVv",
        "outputId": "4a5fd963-6b75-4134-e79a-37bf41bc35da"
      },
      "source": [
        "resta(1,2)"
      ],
      "execution_count": null,
      "outputs": [
        {
          "output_type": "execute_result",
          "data": {
            "text/plain": [
              "-1"
            ]
          },
          "metadata": {
            "tags": []
          },
          "execution_count": 51
        }
      ]
    },
    {
      "cell_type": "markdown",
      "metadata": {
        "id": "9dW4i2X-fVNk"
      },
      "source": [
        "Si los parámetros los pasamos de forma explícita no importará el orden"
      ]
    },
    {
      "cell_type": "code",
      "metadata": {
        "colab": {
          "base_uri": "https://localhost:8080/"
        },
        "id": "4rnxVdgAfTj_",
        "outputId": "dab236cd-af7e-4fe6-933e-e8ec0f8aa6ad"
      },
      "source": [
        "resta(b=1, a=2)"
      ],
      "execution_count": null,
      "outputs": [
        {
          "output_type": "execute_result",
          "data": {
            "text/plain": [
              "1"
            ]
          },
          "metadata": {
            "tags": []
          },
          "execution_count": 52
        }
      ]
    },
    {
      "cell_type": "markdown",
      "metadata": {
        "id": "ar2E0hJZfdz2"
      },
      "source": [
        "Recuerde que a la hora de llamar la función esta toma el valor definido en el `return` con el tipo de dato correspondiente:"
      ]
    },
    {
      "cell_type": "code",
      "metadata": {
        "colab": {
          "base_uri": "https://localhost:8080/"
        },
        "id": "8pVOxzTmfboo",
        "outputId": "a823af78-53ab-4680-e9b6-a5071297c3a3"
      },
      "source": [
        "type(resta(1,2))"
      ],
      "execution_count": null,
      "outputs": [
        {
          "output_type": "execute_result",
          "data": {
            "text/plain": [
              "int"
            ]
          },
          "metadata": {
            "tags": []
          },
          "execution_count": 53
        }
      ]
    },
    {
      "cell_type": "markdown",
      "metadata": {
        "id": "e17WXzhnfgqq"
      },
      "source": [
        "Por lo que podremos tratar la llamada de la función como si fuera del tipo que se ha definido en el `return`. Por ejemplo, si definimos una función que nos devuelva un dato de tipo `str`, podremos aplicar métodos de este objeto a la hora de llamar la función:"
      ]
    },
    {
      "cell_type": "code",
      "metadata": {
        "id": "Hdb9oC7yfhm2"
      },
      "source": [
        "def saludo(nombre):\n",
        "  return f\"Hola {nombre}, ¿cómo estás?\""
      ],
      "execution_count": null,
      "outputs": []
    },
    {
      "cell_type": "code",
      "metadata": {
        "colab": {
          "base_uri": "https://localhost:8080/",
          "height": 35
        },
        "id": "K7OAWCMsfkFq",
        "outputId": "19e85c0b-46d1-4c86-a27e-76b2b3af5ed3"
      },
      "source": [
        "# aplicando un metodo del objeto str\n",
        "saludo(\"Carlos\").upper()"
      ],
      "execution_count": null,
      "outputs": [
        {
          "output_type": "execute_result",
          "data": {
            "application/vnd.google.colaboratory.intrinsic+json": {
              "type": "string"
            },
            "text/plain": [
              "'HOLA CARLOS, ¿CÓMO ESTÁS?'"
            ]
          },
          "metadata": {
            "tags": []
          },
          "execution_count": 64
        }
      ]
    },
    {
      "cell_type": "markdown",
      "metadata": {
        "id": "5FJ9dGgZfYyw"
      },
      "source": [
        "Ahora, ¿recuerda la descripción de las funciones que obtuvimos mediante la función propia de Python `help` o mediante el caractér `?`? Esta descripción  se define mediante lo que se conoce como el *Docstring*, que se puede definir dentro de una función encerrando el texto descriptivo entre tres comillas:"
      ]
    },
    {
      "cell_type": "code",
      "metadata": {
        "id": "Mk-4O02UjUxd"
      },
      "source": [
        "def resta(a,b):\n",
        "  \"\"\"\n",
        "  función que devuelve la resta de a y b\n",
        "  \"\"\"\n",
        "  return a-b"
      ],
      "execution_count": null,
      "outputs": []
    },
    {
      "cell_type": "code",
      "metadata": {
        "id": "zjBsMr2WfbSR"
      },
      "source": [
        "resta?"
      ],
      "execution_count": null,
      "outputs": []
    },
    {
      "cell_type": "markdown",
      "metadata": {
        "id": "N_jZiZA5S9yy"
      },
      "source": [
        "debemos tener en cuenta que las funciones definen su propio entorno. Es decir, si definimos una variable dentro de la función, esta no estará definida en el entorno global"
      ]
    },
    {
      "cell_type": "markdown",
      "metadata": {
        "id": "MQWWd_OQfn_K"
      },
      "source": [
        "<p><a name=\"pre\"></a></p>\n",
        "\n",
        "## **Argumentos predeterminados (*kwarg*)**\n",
        "\n",
        "A menudo, al definir una función, hay ciertos valores que queremos que la función use la mayor parte del tiempo, pero también nos gustaría tener cierta flexibilidad en la elección de estos valores. En tal caso, podemos usar valores predeterminados para los argumentos. Veamos cómo definirlos:\n",
        "\n",
        "Redefinamos, por ejemplo, la función `saludo` de manera que el argumento `nombre` tome un valor predeterminado\n",
        "\n"
      ]
    },
    {
      "cell_type": "code",
      "metadata": {
        "id": "uhts4jWXfliQ"
      },
      "source": [
        "def saludo(nombre=\"Carlos\"):\n",
        "  \"\"\"\n",
        "  Función que devuelve un string con un saludo \n",
        "  \"\"\"\n",
        "  return f\"Hola {nombre}, ¿cómo estás?\""
      ],
      "execution_count": null,
      "outputs": []
    },
    {
      "cell_type": "markdown",
      "metadata": {
        "id": "neP9wHp0frY5"
      },
      "source": [
        "De esta manera, el parámetro `nombre` no es requerido al momento de llamar la función"
      ]
    },
    {
      "cell_type": "code",
      "metadata": {
        "colab": {
          "base_uri": "https://localhost:8080/",
          "height": 35
        },
        "id": "iM6uCYx2fpof",
        "outputId": "4b10a066-c1af-4660-f294-8ce250a32deb"
      },
      "source": [
        "saludo()"
      ],
      "execution_count": null,
      "outputs": [
        {
          "output_type": "execute_result",
          "data": {
            "application/vnd.google.colaboratory.intrinsic+json": {
              "type": "string"
            },
            "text/plain": [
              "'Hola Carlos, ¿cómo estás?'"
            ]
          },
          "metadata": {
            "tags": []
          },
          "execution_count": 68
        }
      ]
    },
    {
      "cell_type": "markdown",
      "metadata": {
        "id": "bH__AEnGfueO"
      },
      "source": [
        "Cuando en una función uno de sus argumentos lleva un valor por defecto, éste se convierte automáticamente en un *kwarg*. Por lo tanto, puede ser especificado indicando su nombre al momento de llamar la función o utilizando simplemente la posición del argumento"
      ]
    },
    {
      "cell_type": "code",
      "metadata": {
        "colab": {
          "base_uri": "https://localhost:8080/",
          "height": 35
        },
        "id": "8bnsX4bbfsv_",
        "outputId": "af6d55f9-dd30-4d51-d648-8dee85def2ea"
      },
      "source": [
        "# utilizando la palabra clave\n",
        "saludo(nombre=\"Camila\")"
      ],
      "execution_count": null,
      "outputs": [
        {
          "output_type": "execute_result",
          "data": {
            "application/vnd.google.colaboratory.intrinsic+json": {
              "type": "string"
            },
            "text/plain": [
              "'Hola Camila, ¿cómo estás?'"
            ]
          },
          "metadata": {
            "tags": []
          },
          "execution_count": 71
        }
      ]
    },
    {
      "cell_type": "code",
      "metadata": {
        "colab": {
          "base_uri": "https://localhost:8080/",
          "height": 35
        },
        "id": "fl7UPHi3fvrn",
        "outputId": "d48aa0e7-dde3-45e3-ca75-5f3b8c740c28"
      },
      "source": [
        "# utilizando la posicion del arg\n",
        "saludo(\"Camila\")"
      ],
      "execution_count": null,
      "outputs": [
        {
          "output_type": "execute_result",
          "data": {
            "application/vnd.google.colaboratory.intrinsic+json": {
              "type": "string"
            },
            "text/plain": [
              "'Hola Camila, ¿cómo estás?'"
            ]
          },
          "metadata": {
            "tags": []
          },
          "execution_count": 72
        }
      ]
    },
    {
      "cell_type": "markdown",
      "metadata": {
        "id": "WZ1IU278f0KK"
      },
      "source": [
        "Debemos tener en cuenta que a la hora de definir los argumentos de la función y de la llamada de esta, todos los argumentos requeridos deben definirse antes de los kwargs\n"
      ]
    },
    {
      "cell_type": "code",
      "metadata": {
        "id": "j_vEmsn2fyK3"
      },
      "source": [
        "# forma correcta\n",
        "def PrintInfo(nombre, año=2019):\n",
        "  pass\n",
        "\n",
        "PrintInfo(\"Carlos\", año=2020)\n",
        "\n",
        "# forma incorrecta\n",
        "def PrintInfo(año=2019, nombre):\n",
        "  pass\n",
        "\n",
        "PrintInfo(año=2020, \"Carlos\")"
      ],
      "execution_count": null,
      "outputs": []
    },
    {
      "cell_type": "markdown",
      "metadata": {
        "id": "BDdKKaRef21y"
      },
      "source": [
        "**Ejercicio 4:** Escriba una función que devuelva `True` si una palabra dada es un palíndromo o `False` si no lo es"
      ]
    },
    {
      "cell_type": "code",
      "metadata": {
        "id": "Unxo8y_GHb2q"
      },
      "source": [
        "def mod_str(cadena):\n",
        "  \"\"\"\n",
        "  retorna una version modificada de una cadena\n",
        "  eliminando los espacios en blanco y con todas\n",
        "  las letras en minúscula\n",
        "  \"\"\"\n",
        "  return cadena.lower().replace(\" \",\"\")"
      ],
      "execution_count": null,
      "outputs": []
    },
    {
      "cell_type": "code",
      "metadata": {
        "id": "oKhxmZSvf39R",
        "colab": {
          "base_uri": "https://localhost:8080/"
        },
        "outputId": "b12a347f-578d-4631-fb2a-c8f62a7b0dec"
      },
      "source": [
        "def es_palindromo(cadena):\n",
        "  \"\"\"funcion que evalua si una cadena es un palindromo\"\"\"\n",
        "  if mod_str(cadena) == mod_str(cadena[::-1]):\n",
        "    return True\n",
        "  else:\n",
        "    return False\n",
        "\n",
        "es_palindromo(\"Ala\")"
      ],
      "execution_count": null,
      "outputs": [
        {
          "output_type": "execute_result",
          "data": {
            "text/plain": [
              "True"
            ]
          },
          "metadata": {
            "tags": []
          },
          "execution_count": 78
        }
      ]
    },
    {
      "cell_type": "markdown",
      "metadata": {
        "id": "FQVRmwydf5ax"
      },
      "source": [
        "**Ejercicio 5:** Escriba una función que tome como argumento una lista y devuelva el conteo del número de vocales en dicha lista."
      ]
    },
    {
      "cell_type": "code",
      "metadata": {
        "id": "5lm6SbMpf65j"
      },
      "source": [
        ""
      ],
      "execution_count": null,
      "outputs": []
    }
  ]
}