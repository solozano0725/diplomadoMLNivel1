{
  "nbformat": 4,
  "nbformat_minor": 0,
  "metadata": {
    "colab": {
      "name": "DipMLsesion19.ipynb",
      "provenance": [],
      "collapsed_sections": [],
      "include_colab_link": true
    },
    "kernelspec": {
      "name": "python3",
      "display_name": "Python 3"
    },
    "language_info": {
      "name": "python"
    }
  },
  "cells": [
    {
      "cell_type": "markdown",
      "metadata": {
        "id": "view-in-github",
        "colab_type": "text"
      },
      "source": [
        "<a href=\"https://colab.research.google.com/github/solozano0725/diplomadoMLNivel1/blob/main/DipMLsesion19.ipynb\" target=\"_parent\"><img src=\"https://colab.research.google.com/assets/colab-badge.svg\" alt=\"Open In Colab\"/></a>"
      ]
    },
    {
      "cell_type": "markdown",
      "metadata": {
        "id": "7znh9Qj3KMzz"
      },
      "source": [
        "<p><img alt=\"Colaboratory logo\" height=\"140px\" src=\"https://upload.wikimedia.org/wikipedia/commons/archive/f/fb/20161010213812%21Escudo-UdeA.svg\" align=\"left\" hspace=\"10px\" vspace=\"0px\"></p>\n",
        "\n",
        "# **Diplomado de Análisis de datos y Machine Learning en Python**\n",
        "\n",
        "\n",
        "El presente diplomado hace parte del centro de Big Data de la facultad de ciencias exactas y naturales (FCEN) de la Universidad de Antioquia.\n",
        "\n",
        "## **Sesión 19**\n",
        "\n",
        "## **Contenido**\n",
        "\n",
        "- <a href=\"#mod\"> Modelos probabilísticos</a><br>\n",
        "- <a href=\"#nai\"> Naive Bayes</a><br> \n",
        "  - <a href=\"#gau\"> Naive Bayes Gausiano</a><br>\n",
        "  - <a href=\"#mul\"> Naive Bayes Multinomial</a><br>\n",
        "\n",
        "\n",
        "\n"
      ]
    },
    {
      "cell_type": "code",
      "metadata": {
        "id": "j9WXDMkSVfuT"
      },
      "source": [
        "import numpy as np\n",
        "import pandas as pd\n",
        "import matplotlib.pyplot as plt\n",
        "import seaborn as sns; sns.set()\n",
        "\n",
        "from sklearn.model_selection import train_test_split, cross_val_score\n",
        "from sklearn.preprocessing import StandardScaler\n",
        "from sklearn.linear_model import LogisticRegression\n",
        "from sklearn.svm import SVC\n",
        "from sklearn.datasets import make_blobs\n",
        "from sklearn.pipeline import make_pipeline\n",
        "\n",
        "from mlxtend.plotting import plot_decision_regions"
      ],
      "execution_count": null,
      "outputs": []
    },
    {
      "cell_type": "markdown",
      "metadata": {
        "id": "_u5bVqR4tMBg"
      },
      "source": [
        "<p><a name=\"mod\"></a></p>\n",
        "\n",
        "# **Modelos probabilísticos**\n",
        "\n",
        "\n",
        "El ML, al igual que la estadística, tiene que lidiar con la incertidumbre, por lo que muchos de sus métodos se formulan en un leguaje probabilístico o como modelos probabilísticos. \n",
        "\n",
        "Los modelos probabilísticos entienden los datos de entrada $(x, y)$ y los parámetros $\\mathbf{w}$ como variables aleatorias extraídas de una distribución de probabilidad subyacente $p(x, y)$ (*ground truth*)\n",
        "\n",
        "\n",
        "\n",
        "\n",
        "\n",
        "\n",
        "\n",
        "\n",
        "\n"
      ]
    },
    {
      "cell_type": "markdown",
      "metadata": {
        "id": "iVXSTqfD5NmK"
      },
      "source": [
        "![](https://i.imgur.com/Vld2H57.png)"
      ]
    },
    {
      "cell_type": "markdown",
      "metadata": {
        "id": "hmINAIDY6DLX"
      },
      "source": [
        "De aquí, se puede calcular la probabilidad de una determinada etiqueta $y$ dada una observación $x$\n",
        "\n",
        "$$p(y|x) = \\frac{p(x,y)}{p(x)},$$ \n",
        "\n",
        "o la probabilidad de una observación $x$ dada una etiqueta $y$\n",
        "\n",
        "$$p(x|y) = \\frac{p(x,y)}{p(y)}$$\n"
      ]
    },
    {
      "cell_type": "markdown",
      "metadata": {
        "id": "MPOnRwgC6DzV"
      },
      "source": [
        "![](https://i.imgur.com/zdNjaDa.png)"
      ]
    },
    {
      "cell_type": "markdown",
      "metadata": {
        "id": "P_CPBGeZ0mh6"
      },
      "source": [
        "Note que las distribuciones de probabilidad condicional $p(x|y = y_0)$ son simplemente \"cortes\" unidimensionales a través de la imagen bidimensional $p(x, y)$ para valores dados de $y_0$, que luego se dividen (renormalizan) por el valor de la distribución marginal $p(y)$ en $y = y_0$.\n",
        "\n",
        "A partir de las expresiones anteriores se puede formular el teorema de Bayes:\n",
        "\n",
        "$$\n",
        "p(y|x) = \\frac{p(x|y)\\;p(y)}{p(x)} \n",
        "$$ \n",
        "\n",
        "que puede aplicarse también al caso de una variable discreta $y$ con $K$ posibles valores. La regla de Bayes relaciona las probabilidades condicionales y marginales entre sí.\n",
        "\n",
        "\n",
        "\n",
        "\n"
      ]
    },
    {
      "cell_type": "markdown",
      "metadata": {
        "id": "6qqAfTyA94hL"
      },
      "source": [
        "Un modelo probabilístico se puede referir tanto a un *modelo generativo* como a un modelo *discriminativo*\n",
        "\n",
        "* **Generativo**: Estos modelan cómo se generaron los datos para categorizar una instancia, o en otras palabras, intentan aprender explícitamente cómo se genera una instancia de una clase determinada. Formalmente, los algoritmos generativos intentan aprender la distribución de probabilidad conjunta\n",
        "  \n",
        "  $$p(x,y)$$\n",
        "  \n",
        "  a partir de la cual se puede obtener la probabilidad condicionada $p(y|x)$ con la cual se harán predicciones posteriormente. Una de las ventajas de los modelos generativos es que se puede usar $p(x,y)$ para generar nuevos datos similares a los datos existentes.\n",
        "\n",
        "* **Discriminativo:** A un modelo discriminativo no le \"importa\" cómo se generaron los datos, simplemente categoriza una instancia determinada. Formalmente, estos modelos estiman cuál es la probabilidad de obtener una etiqueta $y$ dada una instancia $x$ (probabilidad condicionada)\n",
        "\n",
        "  $$p(y|x)$$\n",
        "\n",
        "  a partir de la cual se puede realizar una predicción.\n",
        "\n",
        "Los modelos discriminativos intentan trazar fronteras de decisión en el espacio de las características, mientras que los modelos generativos intentan modelar cómo se disponen los datos en este espacio. \n",
        "\n",
        "No existe un paradigma de modelado intrínsecamente mejor, las dos clases se ven como complementarias o como visiones diferentes del mismo procedimiento, y solo la experimentación decidirá cuál usar.\n",
        "\n",
        "Un ejemplo de modelo discriminativo es la regresión logística, y un ejemplo de modelo generativo es el de Naive Bayes.\n"
      ]
    },
    {
      "cell_type": "markdown",
      "metadata": {
        "id": "_ITfERvVKDZQ"
      },
      "source": [
        "<p><a name=\"nai\"></a></p>\n",
        "\n",
        "# **Naive Bayes**\n",
        "\n",
        "Los clasificadores *Naive Bayes* se construyen sobre métodos de clasificación bayesianos, los cuales se dan en términos del teorema de Bayes. En la clasificación bayesiana, estamos interesados en encontrar la probabilidad de una etiqueta $y_k$ dada una observación $\\mathbf{x}_i$ $p(y_k|\\mathbf{x}_i)$(*probabilidad posterior*)\n",
        "\n",
        "$$\n",
        "p(y_k|\\mathbf{x}_i) = \\frac{p(\\mathbf{x}_i|y_k)\\;p(y_k)}{p(\\mathbf{x}_i)},\n",
        "$$\n",
        "\n",
        "donde $\\mathbf{x}_i$ es la instancia i-ésima y $y_k$ la etiqueta $k$ (de $K$ clases). En este contexto, se conoce a $p(y_k)$ como la *probabilidad a priori*, que contiene la información que tenemos de la etiqueta $y_k$. $p(\\mathbf{x}_i|y_k)$ es la verosimilitud (*likelihood*) de obtener $\\mathbf{x_i}$ observada la etiqueta $y_k$. \n",
        "\n",
        "\n",
        "Los datos $\\mathbf{x}$ pueden tener muchas dimensiones y tener distribuciones de probabilidad muy complicadas. Se puede reducir significativamente la complejidad del problema si se asume que todas las características son independientes, lo cual significa que \n",
        "\n",
        "$$p(x^1, x^2,...,x^n|y_k)=p(x^1|y_k)\\;p(x^2|y_k)\\cdots p(x^n|y_k)=\\prod_j p(x^j|y_k),$$\n",
        "\n",
        "donde $x^j$ es la característica j-éisma de la instancia $\\mathbf{x}_i$. De esta manera se encuentra que \n",
        "\n",
        "$$\n",
        "p(y_k|\\mathbf{x}_i) \\propto p(y_k)\\prod_j p(x^j|y_k)\n",
        "$$\n",
        "\n",
        "Usando esta expresión, podemos calcular el valor más probable de $y$ maximizando sobre $y_k$\n",
        "\n",
        "$$\n",
        "\\hat y \\approx \\arg \\max_{y_k} \\; p(y_k|\\mathbf{x}_i)  = \\arg \\max_{y_k} \\; p(y_k)\\prod_j p(x^j|y_k)\n",
        "$$\n",
        "\n",
        "El problema, entonces, es determinar $p(x^j|y_k)$ y $p(y_k)$. Normalmente, esto se hace a partir del conjunto de entrenamiento. Todo lo que necesitamos ahora es algún modelo mediante el cual podamos calcular $p(x^j|y_k)$ para cada etiqueta. Dicho modelo es un modelo generativo porque especifica el proceso aleatorio hipotético que genera los datos. Especificar este modelo generativo para cada etiqueta es la pieza principal del entrenamiento de un clasificador bayesiano. \n",
        "\n",
        "Generalmente esto es una tarea muy difícil, pero podemos simplificarla mediante el uso de algunos supuestos sobre la forma del modelo. Aquí es donde entra en juego lo *naive* (ingenuo) del algoritmo: si hacemos suposiciones ingenuas sobre el modelo generativo para cada etiqueta, podemos encontrar una aproximación del modelo generativo para cada clase y luego proceder con la clasificación bayesiana. Los diferentes tipos de clasificadores de Naive Bayes se basan entonces en diferentes suposiciones \"ingenuas\" sobre los datos."
      ]
    },
    {
      "cell_type": "markdown",
      "metadata": {
        "id": "mhNV3q82eWLK"
      },
      "source": [
        "<p><a name=\"gau\"></a></p>\n",
        "\n",
        "## **Naive Bayes Gausiano**\n",
        "\n",
        "Quizás el clasificador Bayesiano más fácil de entender es el gaussiano, que se puede aplicar a datos continuos. En este caso, la suposición \"ingenua\" es que los datos de cada etiqueta se extraen de una distribución gaussiana simple"
      ]
    },
    {
      "cell_type": "code",
      "metadata": {
        "id": "3uCjokWAs7X-",
        "colab": {
          "base_uri": "https://localhost:8080/",
          "height": 431
        },
        "outputId": "b2c94561-a0b8-439c-f8c0-2cc3742bef00"
      },
      "source": [
        "X, y = make_blobs(100, 2, centers=2, random_state=42, cluster_std=1.5)\n",
        "\n",
        "plt.figure(figsize=(10,7))\n",
        "sns.scatterplot(x=X[:,0], y=X[:,1], hue=y);"
      ],
      "execution_count": null,
      "outputs": [
        {
          "output_type": "display_data",
          "data": {
            "image/png": "[encoded data removed]",
            "text/plain": [
              "<Figure size 720x504 with 1 Axes>"
            ]
          },
          "metadata": {
            "tags": [],
            "needs_background": "light"
          }
        }
      ]
    },
    {
      "cell_type": "markdown",
      "metadata": {
        "id": "7PrNKHRWgq2c"
      },
      "source": [
        "Podemos ajustar este modelo simplemente encontrando la desviación estándar y la media de los datos para cada etiqueta que son los parámetros que definen la distribución gausiana"
      ]
    },
    {
      "cell_type": "markdown",
      "metadata": {
        "id": "pHN5CjrEHlnd"
      },
      "source": [
        "![](https://i.imgur.com/BYWWJ54.png)"
      ]
    },
    {
      "cell_type": "markdown",
      "metadata": {
        "id": "pMEq4SmdHpig"
      },
      "source": [
        "Las elipses representan el modelo generativo gaussiano para cada etiqueta, con mayor probabilidad hacia el centro de las elipses. \n",
        "\n",
        "Con este modelo generativo implementado para cada clase, tenemos una receta simple para calcular las probabilidades $p(\\mathbf{x}_i|y_k)$, y así podemos calcular rápidamente la probabilidad posterior y determinar qué etiqueta es la más probable para un punto dado.\n",
        "\n",
        "Veamos esto por cada característica:"
      ]
    },
    {
      "cell_type": "markdown",
      "metadata": {
        "id": "ad9gc5AxyLg5"
      },
      "source": [
        "![](https://i.imgur.com/AVkDx3I.png)"
      ]
    },
    {
      "cell_type": "markdown",
      "metadata": {
        "id": "CsQhtQnbyhnU"
      },
      "source": [
        "![](https://i.imgur.com/q6Cwj9h.png)"
      ]
    },
    {
      "cell_type": "markdown",
      "metadata": {
        "id": "dnAE8LDqzfxd"
      },
      "source": [
        "Entrenemos el modelo utilizando el estimador `GaussianNB` de Sklearn:"
      ]
    },
    {
      "cell_type": "code",
      "metadata": {
        "id": "RJruiw9GX39t"
      },
      "source": [
        "from sklearn.naive_bayes import GaussianNB\n",
        "\n",
        "nb_clf = GaussianNB().fit(X, y)"
      ],
      "execution_count": null,
      "outputs": []
    },
    {
      "cell_type": "markdown",
      "metadata": {
        "id": "CQuifZK4itwK"
      },
      "source": [
        "Veamos entonces cómo se da la clasificación con este modelo: Dada una nueva instancia\n",
        "\n",
        "$$x = (x^1, x^2)$$\n",
        "\n",
        "se calculan las probabilidades posteriores\n",
        "\n",
        "$$p(y=0|x^1,x^2) = p(y=0)\\; p(x^1|y=0) \\; p(x^2|y=0)$$\n",
        "\n",
        "$$p(y=1|x^1,x^2) = p(y=1)\\; p(x^1|y=1) \\; p(x^2|y=1)$$\n",
        "\n",
        "\n",
        "\n"
      ]
    },
    {
      "cell_type": "markdown",
      "metadata": {
        "id": "TnAOtC90IN_h"
      },
      "source": [
        "donde $p(y=0)$ y $p(y=1)$ se calculan como el número de instancias de la clase negativa y positiva, respectivamente (información previa que tenemos de las clases). Por ejemplo, para la instancia (5, 2), las probabilidades posteriores de la primera y segunda etiqueta serán, respectivamente"
      ]
    },
    {
      "cell_type": "code",
      "metadata": {
        "colab": {
          "base_uri": "https://localhost:8080/"
        },
        "id": "9Khls7T0lbyw",
        "outputId": "8bbe32f3-52bd-45c9-9977-d3e4d7fe27c5"
      },
      "source": [
        "nb_clf.predict_proba([[5, 2]])"
      ],
      "execution_count": null,
      "outputs": [
        {
          "output_type": "execute_result",
          "data": {
            "text/plain": [
              "array([[4.29886086e-14, 1.00000000e+00]])"
            ]
          },
          "metadata": {
            "tags": []
          },
          "execution_count": 12
        }
      ]
    },
    {
      "cell_type": "markdown",
      "metadata": {
        "id": "1WO79I2esI6F"
      },
      "source": [
        "a partir de las cuales se realiza la predicción:\n",
        "\n",
        "$$\\hat y = \\arg \\max \\big[p(y=0|x^1,x^2), \\; p(y=1|x^1,x^2)\\big]$$\n"
      ]
    },
    {
      "cell_type": "code",
      "metadata": {
        "colab": {
          "base_uri": "https://localhost:8080/"
        },
        "id": "Kk5qc7M5YaIV",
        "outputId": "3811b213-64fa-4637-c8a5-6a7472744fa1"
      },
      "source": [
        "nb_clf.predict([[5, 2]])"
      ],
      "execution_count": null,
      "outputs": [
        {
          "output_type": "execute_result",
          "data": {
            "text/plain": [
              "array([1])"
            ]
          },
          "metadata": {
            "tags": []
          },
          "execution_count": 13
        }
      ]
    },
    {
      "cell_type": "markdown",
      "metadata": {
        "id": "3seCpsjrzwm0"
      },
      "source": [
        "Veamos las regiones de decisión"
      ]
    },
    {
      "cell_type": "code",
      "metadata": {
        "colab": {
          "base_uri": "https://localhost:8080/",
          "height": 504
        },
        "id": "J_5VQkcicO5w",
        "outputId": "e0ea2167-cd6a-4ab0-bd48-520f7a94dcc2"
      },
      "source": [
        "plt.figure(figsize=(10,7))\n",
        "plot_decision_regions(X, y, nb_clf)"
      ],
      "execution_count": null,
      "outputs": [
        {
          "output_type": "stream",
          "text": [
            "/usr/local/lib/python3.7/dist-packages/mlxtend/plotting/decision_regions.py:244: MatplotlibDeprecationWarning: Passing unsupported keyword arguments to axis() will raise a TypeError in 3.3.\n",
            "  ax.axis(xmin=xx.min(), xmax=xx.max(), y_min=yy.min(), y_max=yy.max())\n"
          ],
          "name": "stderr"
        },
        {
          "output_type": "execute_result",
          "data": {
            "text/plain": [
              "<matplotlib.axes._subplots.AxesSubplot at 0x7efc5a735450>"
            ]
          },
          "metadata": {
            "tags": []
          },
          "execution_count": 14
        },
        {
          "output_type": "display_data",
          "data": {
            "image/png": "[encoded data removed]",
            "text/plain": [
              "<Figure size 720x504 with 1 Axes>"
            ]
          },
          "metadata": {
            "tags": [],
            "needs_background": "light"
          }
        }
      ]
    },
    {
      "cell_type": "markdown",
      "metadata": {
        "id": "2zcjI8TDsKx9"
      },
      "source": [
        "Entonces, si nuestro interés es el de estimar la incertidumbre en la clasificación, los enfoques bayesianos como este pueden ser útiles (al igual que la regresión logística).\n"
      ]
    },
    {
      "cell_type": "markdown",
      "metadata": {
        "id": "D7VcKENYsUYV"
      },
      "source": [
        "<p><a name=\"mul\"></a></p>\n",
        "\n",
        "## **Naive Bayes Multinomial**\n",
        "\n",
        "La suposición gausiana no es de ninguna manera la única suposición \"ingenua\" que podría usarse para especificar la distribución generativa para cada etiqueta. \n",
        "\n",
        "Otro ejemplo útil es el clasificador de Naive Bayes multinomial, donde se supone que las características se generan a partir de una distribución multinomial simple. La distribución multinomial describe la probabilidad de observar cierto conteo entre varias categorías y, por lo tanto, el NB multinomial es más apropiado para características que representan conteos. \n",
        "\n",
        "Un caso típico de uso del NB multinomial es en la clasificación de texto, donde las características están relacionadas con el recuento o frecuencia de las palabras dentro de los documentos que se van a clasificar.\n",
        "\n",
        "Veamos un ejemplo de clasificación de texto: vamos a utilizar un conjunto de datos que contiene documentos con 20 grupos de noticias que vamos a querer clasificar según algunas categorias. "
      ]
    },
    {
      "cell_type": "code",
      "metadata": {
        "id": "eYzwa0N9sCN-"
      },
      "source": [
        "from sklearn.datasets import fetch_20newsgroups\n",
        "\n",
        "data = fetch_20newsgroups()"
      ],
      "execution_count": null,
      "outputs": []
    },
    {
      "cell_type": "markdown",
      "metadata": {
        "id": "2rNWoJ220b2d"
      },
      "source": [
        "Veamos las etiquetas del conjunto de datos"
      ]
    },
    {
      "cell_type": "code",
      "metadata": {
        "id": "m_uXvr6pLPtD",
        "colab": {
          "base_uri": "https://localhost:8080/"
        },
        "outputId": "2720b622-13fd-4355-fa30-73ca22d862d9"
      },
      "source": [
        "data.target_names"
      ],
      "execution_count": null,
      "outputs": [
        {
          "output_type": "execute_result",
          "data": {
            "text/plain": [
              "['alt.atheism',\n",
              " 'comp.graphics',\n",
              " 'comp.os.ms-windows.misc',\n",
              " 'comp.sys.ibm.pc.hardware',\n",
              " 'comp.sys.mac.hardware',\n",
              " 'comp.windows.x',\n",
              " 'misc.forsale',\n",
              " 'rec.autos',\n",
              " 'rec.motorcycles',\n",
              " 'rec.sport.baseball',\n",
              " 'rec.sport.hockey',\n",
              " 'sci.crypt',\n",
              " 'sci.electronics',\n",
              " 'sci.med',\n",
              " 'sci.space',\n",
              " 'soc.religion.christian',\n",
              " 'talk.politics.guns',\n",
              " 'talk.politics.mideast',\n",
              " 'talk.politics.misc',\n",
              " 'talk.religion.misc']"
            ]
          },
          "metadata": {
            "tags": []
          },
          "execution_count": 17
        }
      ]
    },
    {
      "cell_type": "markdown",
      "metadata": {
        "id": "o7O1JenW0gOI"
      },
      "source": [
        "veamos un ejemplo de dato"
      ]
    },
    {
      "cell_type": "code",
      "metadata": {
        "id": "fbjC86zftMzy",
        "colab": {
          "base_uri": "https://localhost:8080/"
        },
        "outputId": "d2bd5ba7-568c-4ca7-a7fc-5727bcecaf77"
      },
      "source": [
        "print(data.data[5])"
      ],
      "execution_count": null,
      "outputs": [
        {
          "output_type": "stream",
          "text": [
            "From: dfo@vttoulu.tko.vtt.fi (Foxvog Douglas)\n",
            "Subject: Re: Rewording the Second Amendment (ideas)\n",
            "Organization: VTT\n",
            "Lines: 58\n",
            "\n",
            "In article <1r1eu1$4t@transfer.stratus.com> cdt@sw.stratus.com (C. D. Tavares) writes:\n",
            ">In article <1993Apr20.083057.16899@ousrvr.oulu.fi>, dfo@vttoulu.tko.vtt.fi (Foxvog Douglas) writes:\n",
            ">> In article <1qv87v$4j3@transfer.stratus.com> cdt@sw.stratus.com (C. D. Tavares) writes:\n",
            ">> >In article <C5n3GI.F8F@ulowell.ulowell.edu>, jrutledg@cs.ulowell.edu (John Lawrence Rutledge) writes:\n",
            ">\n",
            ">> >> The massive destructive power of many modern weapons, makes the\n",
            ">> >> cost of an accidental or crimial usage of these weapons to great.\n",
            ">> >> The weapons of mass destruction need to be in the control of\n",
            ">> >> the government only.  Individual access would result in the\n",
            ">> >> needless deaths of millions.  This makes the right of the people\n",
            ">> >> to keep and bear many modern weapons non-existant.\n",
            "\n",
            ">> >Thanks for stating where you're coming from.  Needless to say, I\n",
            ">> >disagree on every count.\n",
            "\n",
            ">> You believe that individuals should have the right to own weapons of\n",
            ">> mass destruction?  I find it hard to believe that you would support a \n",
            ">> neighbor's right to keep nuclear weapons, biological weapons, and nerve\n",
            ">> gas on his/her property.  \n",
            "\n",
            ">> If we cannot even agree on keeping weapons of mass destruction out of\n",
            ">> the hands of individuals, can there be any hope for us?\n",
            "\n",
            ">I don't sign any blank checks.\n",
            "\n",
            "Of course.  The term must be rigidly defined in any bill.\n",
            "\n",
            ">When Doug Foxvog says \"weapons of mass destruction,\" he means CBW and\n",
            ">nukes.  When Sarah Brady says \"weapons of mass destruction\" she means\n",
            ">Street Sweeper shotguns and semi-automatic SKS rifles.  \n",
            "\n",
            "I doubt she uses this term for that.  You are using a quote allegedly\n",
            "from her, can you back it up?\n",
            "\n",
            ">When John\n",
            ">Lawrence Rutledge says \"weapons of mass destruction,\" and then immediately\n",
            ">follows it with:\n",
            "\n",
            ">>> The US has thousands of people killed each year by handguns,\n",
            ">>> this number can easily be reduced by putting reasonable restrictions\n",
            ">>> on them.\n",
            "\n",
            ">...what does Rutledge mean by the term?\n",
            "\n",
            "I read the article as presenting first an argument about weapons of mass\n",
            "destruction (as commonly understood) and then switching to other topics.\n",
            "The first point evidently was to show that not all weapons should be\n",
            "allowed, and then the later analysis was, given this understanding, to\n",
            "consider another class.\n",
            "\n",
            ">cdt@rocket.sw.stratus.com   --If you believe that I speak for my company,\n",
            ">OR cdt@vos.stratus.com        write today for my special Investors' Packet...\n",
            "\n",
            "\n",
            "\n",
            "-- \n",
            "doug foxvog\n",
            "douglas.foxvog@vtt.fi\n",
            "\n"
          ],
          "name": "stdout"
        }
      ]
    },
    {
      "cell_type": "markdown",
      "metadata": {
        "id": "PzD642Nh0lHD"
      },
      "source": [
        "correspondiente a la clase"
      ]
    },
    {
      "cell_type": "code",
      "metadata": {
        "colab": {
          "base_uri": "https://localhost:8080/",
          "height": 35
        },
        "id": "5eSkOe3ktfRZ",
        "outputId": "b8c43f31-1326-4ca9-88a6-cedba32f28df"
      },
      "source": [
        "data.target_names[data.target[5]]"
      ],
      "execution_count": null,
      "outputs": [
        {
          "output_type": "execute_result",
          "data": {
            "application/vnd.google.colaboratory.intrinsic+json": {
              "type": "string"
            },
            "text/plain": [
              "'talk.politics.guns'"
            ]
          },
          "metadata": {
            "tags": []
          },
          "execution_count": 20
        }
      ]
    },
    {
      "cell_type": "markdown",
      "metadata": {
        "id": "azur30CBpUgj"
      },
      "source": [
        "El problema ahora es que los datos están en formato de texto. El algoritmo de clasificación necesita algún tipo de vector de características numéricas para realizar la tarea de clasificación. El enfoque más simple para esta tarea es el modelo de *bolsa de palabras* (bag of words), que nos permite representar datos de texto como características numéricas.\n",
        "\n",
        "Para construir un modelo de bolsa de palabras basado en el recuento de palabras en los documentos, podemos usar el transformador `CountVectorizer` de Sklearn, que nos permite generar vectores con el conteo de palabras para cada documento:\n",
        "\n"
      ]
    },
    {
      "cell_type": "code",
      "metadata": {
        "id": "d_r-9FTXrW5x"
      },
      "source": [
        "from sklearn.feature_extraction.text import CountVectorizer\n",
        "\n",
        "count = CountVectorizer()\n",
        "\n",
        "corpus = np.array(['this is the first document',\n",
        "                 'this document is the second document',\n",
        "                 'and this is the third one',\n",
        "                 'is this the first document'])\n",
        "\n",
        "bag = count.fit_transform(corpus)"
      ],
      "execution_count": null,
      "outputs": []
    },
    {
      "cell_type": "markdown",
      "metadata": {
        "id": "LzGHaJAaMjfT"
      },
      "source": [
        "en el atributo `vocabulary_` encontramos el mapeo que realiza el contador para cada palabra"
      ]
    },
    {
      "cell_type": "code",
      "metadata": {
        "colab": {
          "base_uri": "https://localhost:8080/"
        },
        "id": "oAhYzL_PvEW3",
        "outputId": "0933cf0d-6b83-4a0f-b624-48d5e0510c62"
      },
      "source": [
        "count.vocabulary_"
      ],
      "execution_count": null,
      "outputs": [
        {
          "output_type": "execute_result",
          "data": {
            "text/plain": [
              "{'and': 0,\n",
              " 'document': 1,\n",
              " 'first': 2,\n",
              " 'is': 3,\n",
              " 'one': 4,\n",
              " 'second': 5,\n",
              " 'the': 6,\n",
              " 'third': 7,\n",
              " 'this': 8}"
            ]
          },
          "metadata": {
            "tags": []
          },
          "execution_count": 22
        }
      ]
    },
    {
      "cell_type": "markdown",
      "metadata": {
        "id": "HFSFwi4QNBWj"
      },
      "source": [
        "Esto genera una bolsa de palabras \"dispersa\" (*sparse*), un objeto similar a lo que se obtiene con la codificación *one hot*"
      ]
    },
    {
      "cell_type": "code",
      "metadata": {
        "colab": {
          "base_uri": "https://localhost:8080/"
        },
        "id": "SSdLTqBjzojq",
        "outputId": "46f3ebce-afa8-4200-e371-19e1dc396e4e"
      },
      "source": [
        "bag"
      ],
      "execution_count": null,
      "outputs": [
        {
          "output_type": "execute_result",
          "data": {
            "text/plain": [
              "<4x9 sparse matrix of type '<class 'numpy.int64'>'\n",
              "\twith 21 stored elements in Compressed Sparse Row format>"
            ]
          },
          "metadata": {
            "tags": []
          },
          "execution_count": 23
        }
      ]
    },
    {
      "cell_type": "markdown",
      "metadata": {
        "id": "bkFB2XG7NMmt"
      },
      "source": [
        "podemos convertirlo a un arreglo para visualizar los vectores de conteo"
      ]
    },
    {
      "cell_type": "code",
      "metadata": {
        "colab": {
          "base_uri": "https://localhost:8080/"
        },
        "id": "KyIclAIuzphA",
        "outputId": "7765bb84-9f2d-49cd-92fa-3e701f7a4c97"
      },
      "source": [
        "print(bag.toarray())"
      ],
      "execution_count": null,
      "outputs": [
        {
          "output_type": "stream",
          "text": [
            "[[0 1 1 1 0 0 1 0 1]\n",
            " [0 2 0 1 0 1 1 0 1]\n",
            " [1 0 0 1 1 0 1 1 1]\n",
            " [0 1 1 1 0 0 1 0 1]]\n"
          ],
          "name": "stdout"
        }
      ]
    },
    {
      "cell_type": "markdown",
      "metadata": {
        "id": "1DlRVqoW1gZz"
      },
      "source": [
        "El primer vector `[0 1 1 1 0 0 1 0 1]` corresponde al primer texto `'this is the first document'`. Aquí, el índice del vector (la posición de sus elementos), corresponde con el mapeo que obtuvimos con `count.vocabulary_`. \n",
        "\n",
        "La primera posición es `0`, lo que nos dice que la palabra \"and\" aparece cero veces en el texto; La segunda posición es `1`, lo que nos dice que la palabra \"document\" aparece una vez; etc. \n",
        "\n",
        "Si utilizamos la función `print` sobre `bag` obtenemos esta misma información para los elementos que aparecen al menos una vez:"
      ]
    },
    {
      "cell_type": "code",
      "metadata": {
        "colab": {
          "base_uri": "https://localhost:8080/"
        },
        "id": "c98kuxg1vHDN",
        "outputId": "268de613-d206-4ca3-cc7e-11d36885b5a7"
      },
      "source": [
        "print(bag)"
      ],
      "execution_count": null,
      "outputs": [
        {
          "output_type": "stream",
          "text": [
            "  (0, 8)\t1\n",
            "  (0, 3)\t1\n",
            "  (0, 6)\t1\n",
            "  (0, 2)\t1\n",
            "  (0, 1)\t1\n",
            "  (1, 8)\t1\n",
            "  (1, 3)\t1\n",
            "  (1, 6)\t1\n",
            "  (1, 1)\t2\n",
            "  (1, 5)\t1\n",
            "  (2, 8)\t1\n",
            "  (2, 3)\t1\n",
            "  (2, 6)\t1\n",
            "  (2, 0)\t1\n",
            "  (2, 7)\t1\n",
            "  (2, 4)\t1\n",
            "  (3, 8)\t1\n",
            "  (3, 3)\t1\n",
            "  (3, 6)\t1\n",
            "  (3, 2)\t1\n",
            "  (3, 1)\t1\n"
          ],
          "name": "stdout"
        }
      ]
    },
    {
      "cell_type": "markdown",
      "metadata": {
        "id": "tSRNdHPn2pLP"
      },
      "source": [
        "La salida\n",
        "\n",
        ">\n",
        "    (0,8)    1\n",
        "\n",
        "tiene la siguiente interpretación: Para el texto cero o primer texto (`'this is the first document'`), la palabra 8 (\"this\") aparece una vez.\n",
        "\n",
        "Ahora, muchas veces nos vamos a encontrar con palabras que aparecen en varios documentos de cada clase con mucha frecuencia, por ejemplo (\"is\", \"the\" y \"that\"), y que normalmente no contienen información útil o discriminatoria. \n",
        "\n",
        "Podemos usar una técnica conocida como *term frequency-inverse document frequency* (Tfidf) para reducir el impacto de estas palabras (o tokens) con el transformador `TfidfTransformer` de Sklearn. \n",
        "\n",
        "Este agrega un peso adicional a los conteos, que se utiliza para evaluar la importancia de una palabra para un documento en un conjunto de documentos. La importancia aumenta proporcionalmente al número de veces que aparece una palabra en el documento, pero se compensa con la frecuencia de la palabra en el corpus."
      ]
    },
    {
      "cell_type": "code",
      "metadata": {
        "id": "LoH4wOXzyidq"
      },
      "source": [
        "from sklearn.feature_extraction.text import TfidfTransformer\n",
        "\n",
        "tfidf = TfidfTransformer()"
      ],
      "execution_count": null,
      "outputs": []
    },
    {
      "cell_type": "markdown",
      "metadata": {
        "id": "tXfeERVo3rhv"
      },
      "source": [
        "Apliquemos el transformador sobre la bolsa de palabras que ya tenemos"
      ]
    },
    {
      "cell_type": "code",
      "metadata": {
        "id": "SpwOG2FqOEjX",
        "colab": {
          "base_uri": "https://localhost:8080/"
        },
        "outputId": "bb605134-7da0-4c2d-f962-14841e16e5ce"
      },
      "source": [
        "print(tfidf.fit_transform(bag))"
      ],
      "execution_count": null,
      "outputs": [
        {
          "output_type": "stream",
          "text": [
            "  (0, 8)\t0.38408524091481483\n",
            "  (0, 6)\t0.38408524091481483\n",
            "  (0, 3)\t0.38408524091481483\n",
            "  (0, 2)\t0.5802858236844359\n",
            "  (0, 1)\t0.46979138557992045\n",
            "  (1, 8)\t0.281088674033753\n",
            "  (1, 6)\t0.281088674033753\n",
            "  (1, 5)\t0.5386476208856763\n",
            "  (1, 3)\t0.281088674033753\n",
            "  (1, 1)\t0.6876235979836938\n",
            "  (2, 8)\t0.267103787642168\n",
            "  (2, 7)\t0.511848512707169\n",
            "  (2, 6)\t0.267103787642168\n",
            "  (2, 4)\t0.511848512707169\n",
            "  (2, 3)\t0.267103787642168\n",
            "  (2, 0)\t0.511848512707169\n",
            "  (3, 8)\t0.38408524091481483\n",
            "  (3, 6)\t0.38408524091481483\n",
            "  (3, 3)\t0.38408524091481483\n",
            "  (3, 2)\t0.5802858236844359\n",
            "  (3, 1)\t0.46979138557992045\n"
          ],
          "name": "stdout"
        }
      ]
    },
    {
      "cell_type": "markdown",
      "metadata": {
        "id": "Y65KAcbUz0Tm"
      },
      "source": [
        "Sklearn implementa el transformador `TfidfVectorizer` que realiza las dos tareas descritas anteriormente. Utilicemos este junto con el estimador `MultinomialNB` para construir el modelo NB Multinomial"
      ]
    },
    {
      "cell_type": "code",
      "metadata": {
        "id": "4C8n7AljuUUN"
      },
      "source": [
        "from sklearn.naive_bayes import MultinomialNB\n",
        "from sklearn.feature_extraction.text import TfidfVectorizer\n",
        "\n",
        "nb_clf = make_pipeline(TfidfVectorizer(), MultinomialNB()).fit(data.data, data.target)"
      ],
      "execution_count": null,
      "outputs": []
    },
    {
      "cell_type": "markdown",
      "metadata": {
        "id": "DEj7Y8Qo095o"
      },
      "source": [
        "¿Cómo se da la predicción? La idea es exactamente la misma que en el caso gausiano, excepto que en lugar de modelar la distribución de datos con un ajuste gaussiano, modelamos la distribución de datos con una distribución multinomial.\n",
        "\n",
        "dada una palabra $s$, calculamos su *likelihood* dada una clase $y_k$ de la siguiente manera\n",
        "\n",
        "$$p(s|y_k) = \\frac{\\text{frequencia de la palabra s en la clase}\\; y_k}{\\text{numero total de palabras en la clase}\\; y_k}$$\n",
        "\n",
        "La probabilidad *a priori* la podemos calcular de los datos como: \n",
        "\n",
        "$$p(y_k) = \\frac{\\text{numero de documentos de la clase}\\; y_k}{\\text{numero total de documentos}}$$\n",
        "\n",
        "por ejemplo, para la frase *hola mundo*, se calculan las probabilidades posteriores\n",
        "\n",
        "$$p(y_k| \\text{hola mundo}) = p(\\text{hola, mundo}|y_k)\\; p(y_k)=p(\\text{hola}|y_k)\\;p(\\text{mundo}|y_k)\\; p(y_k)$$\n",
        "\n",
        "para cada clase $y_k$ y se elige el que tenga mayor probabilidad posterior para la predicción final.\n",
        "\n",
        "Veamos la predicción del modelo para la frase `islam vs christians`"
      ]
    },
    {
      "cell_type": "code",
      "metadata": {
        "colab": {
          "base_uri": "https://localhost:8080/",
          "height": 35
        },
        "id": "flmjahjn6RH_",
        "outputId": "672a91c0-d9d9-40f9-95f1-7841ac4c1ed2"
      },
      "source": [
        "pred = nb_clf.predict([\"islam vs christians\"])\n",
        "data.target_names[pred[0]]"
      ],
      "execution_count": null,
      "outputs": [
        {
          "output_type": "execute_result",
          "data": {
            "application/vnd.google.colaboratory.intrinsic+json": {
              "type": "string"
            },
            "text/plain": [
              "'soc.religion.christian'"
            ]
          },
          "metadata": {
            "tags": []
          },
          "execution_count": 38
        }
      ]
    },
    {
      "cell_type": "markdown",
      "metadata": {
        "id": "pLhGcQov2Qo4"
      },
      "source": [
        "Ambos estimadores de Naive Bayes tienen un hiperparámetro, `var_smoothing` y `alpha` respectivamente, que controlan la complejidad del modelo. Con estos valores que definen estos hiperparámetros (generalmente valores pequeños), el algoritmo agrega a los datos *puntos de datos virtuales* que tienen valores positivos para todas las características, de tal manera que si se utiliza un valor de característica que no estuvo en el dominio del conjunto de entrenamiento, la predicción no sea cero. Esto da como resultado un \"suavizado\" de las probabilidades. Un valor grande del hiperparámetro significa más suavizado, lo que resulta en modelos menos complejos. \n",
        "\n",
        "Los modelos de Naive Bayes comparten muchas de las fortalezas y debilidades de los modelos lineales: Son muy rápidos en el entrenamiento y en predección, y el procedimiento de entrenamiento es fácil de entender. \n",
        "\n",
        "Estos son excelentes modelos base. Particularmente, el modelo gausiano se usa normalmente en conjuntos de datos muy grandes, donde incluso el entrenamiento de un modelo lineal puede llevar demasiado tiempo."
      ]
    },
    {
      "cell_type": "code",
      "metadata": {
        "id": "FahlTWh188Rr"
      },
      "source": [
        ""
      ],
      "execution_count": null,
      "outputs": []
    }
  ]
}